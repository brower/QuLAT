{
 "cells": [
  {
   "cell_type": "code",
   "execution_count": 19,
   "metadata": {},
   "outputs": [],
   "source": [
    "import os, time, itertools\n",
    "import sys\n",
    "module_path = os.path.abspath(os.path.join('..'))\n",
    "if module_path not in sys.path:\n",
    "    sys.path.append(module_path)\n",
    "import numpy as np\n",
    "from scipy.linalg import expm, eig, logm\n",
    "from scipy import sparse\n",
    "from scipy.sparse.linalg import inv\n",
    "from qiskit import QuantumCircuit, QuantumRegister, ClassicalRegister, Aer, execute, IBMQ\n",
    "from qiskit.providers.ibmq.managed import IBMQJobManager\n",
    "from qiskit.compiler import transpile, assemble\n",
    "from qiskit.quantum_info import DensityMatrix\n",
    "from operators.triangle_plaquette_hamiltonian import TrianglePlaquetteHamiltonian\n",
    "from operators.pauli_hamiltonian import PauliHamiltonian\n",
    "from quantum_circuit.trotterization import trotter_electric, trotter_coupling, trotter_plaquette\n",
    "import matplotlib.pyplot as plt\n",
    "np.set_printoptions(threshold=sys.maxsize)\n",
    "from qiskit.providers.jobstatus import JobStatus\n",
    "from qiskit.visualization import plot_histogram\n",
    "from qiskit.providers.aer.noise import NoiseModel\n",
    "from utils.matrix_operations import *\n",
    "from utils.circuits import *\n",
    "from quantum_info.mitigation_gate import noise_mitigation_gate"
   ]
  },
  {
   "cell_type": "code",
   "execution_count": 2,
   "metadata": {},
   "outputs": [],
   "source": [
    "sig = []\n",
    "sig.append(np.eye(2))\n",
    "sig.append(np.array([[0, 1], [1, 0]]))\n",
    "sig.append(np.array([[0, -1j], [1j, 0]]))\n",
    "sig.append(np.array([[1, 0], [0, -1]]))"
   ]
  },
  {
   "cell_type": "code",
   "execution_count": 3,
   "metadata": {},
   "outputs": [],
   "source": [
    "# 2 triangle plaquettes\n",
    "T = 0.1\n",
    "n_steps = 1\n",
    "g = 0.5\n",
    "alpha = 1\n",
    "n_layers = 2\n",
    "coef_doubler = 2 if n_layers == 2 else 1\n",
    "H = TrianglePlaquetteHamiltonian(g, alpha, n_layers)"
   ]
  },
  {
   "cell_type": "code",
   "execution_count": 4,
   "metadata": {},
   "outputs": [],
   "source": [
    "backend = Aer.get_backend('qasm_simulator')"
   ]
  },
  {
   "cell_type": "code",
   "execution_count": 5,
   "metadata": {},
   "outputs": [
    {
     "name": "stdout",
     "output_type": "stream",
     "text": [
      "[<AccountProvider for IBMQ(hub='ibm-q', group='open', project='main')>, <AccountProvider for IBMQ(hub='ibm-q-ornl', group='hep-qis', project='brookhaven')>]\n",
      "[<IBMQSimulator('ibmq_qasm_simulator') from IBMQ(hub='ibm-q-ornl', group='hep-qis', project='brookhaven')>, <IBMQBackend('ibmqx2') from IBMQ(hub='ibm-q-ornl', group='hep-qis', project='brookhaven')>, <IBMQBackend('ibmq_16_melbourne') from IBMQ(hub='ibm-q-ornl', group='hep-qis', project='brookhaven')>, <IBMQBackend('ibmq_poughkeepsie') from IBMQ(hub='ibm-q-ornl', group='hep-qis', project='brookhaven')>, <IBMQBackend('ibmq_vigo') from IBMQ(hub='ibm-q-ornl', group='hep-qis', project='brookhaven')>, <IBMQBackend('ibmq_ourense') from IBMQ(hub='ibm-q-ornl', group='hep-qis', project='brookhaven')>, <IBMQBackend('ibmq_london') from IBMQ(hub='ibm-q-ornl', group='hep-qis', project='brookhaven')>, <IBMQBackend('ibmq_burlington') from IBMQ(hub='ibm-q-ornl', group='hep-qis', project='brookhaven')>, <IBMQBackend('ibmq_johannesburg') from IBMQ(hub='ibm-q-ornl', group='hep-qis', project='brookhaven')>, <IBMQBackend('ibmq_rochester') from IBMQ(hub='ibm-q-ornl', group='hep-qis', project='brookhaven')>, <IBMQBackend('ibmq_essex') from IBMQ(hub='ibm-q-ornl', group='hep-qis', project='brookhaven')>, <IBMQBackend('ibmq_armonk') from IBMQ(hub='ibm-q-ornl', group='hep-qis', project='brookhaven')>, <IBMQBackend('ibmq_cambridge') from IBMQ(hub='ibm-q-ornl', group='hep-qis', project='brookhaven')>, <IBMQBackend('ibmq_paris') from IBMQ(hub='ibm-q-ornl', group='hep-qis', project='brookhaven')>]\n"
     ]
    },
    {
     "data": {
      "text/plain": [
       "<IBMQBackend('ibmq_johannesburg') from IBMQ(hub='ibm-q-ornl', group='hep-qis', project='brookhaven')>"
      ]
     },
     "execution_count": 5,
     "metadata": {},
     "output_type": "execute_result"
    }
   ],
   "source": [
    "# Load IBMQ account\n",
    "IBMQ.load_account() # Load account from disk\n",
    "print(IBMQ.providers())    # List all available providers\n",
    "provider = IBMQ.get_provider(hub='ibm-q-ornl', project='brookhaven')\n",
    "print(provider.backends())\n",
    "#device_backend = provider.get_backend('ibmq_16_melbourne')\n",
    "device_backend = provider.get_backend('ibmq_johannesburg')\n",
    "coupling_map = device_backend.configuration().coupling_map\n",
    "noise_model = NoiseModel.from_backend(device_backend)\n",
    "basis_gates = noise_model.basis_gates\n",
    "device_backend"
   ]
  },
  {
   "cell_type": "code",
   "execution_count": 110,
   "metadata": {},
   "outputs": [],
   "source": [
    "def physical_trotter_plaquette(circ, target_indices, coef, deltaT):\n",
    "    \"\"\"\n",
    "    Trotter step for one plaquette term\n",
    "    S^+ otimes S^+ otimes S^+ + h.c.\n",
    "    \n",
    "    Assume the lattice structure is 0 - 1 - 2\n",
    "    \n",
    "    \n",
    "    Arguments:\n",
    "    circ: qiskit.QuantumCircuit, the target circuit\n",
    "    qr: qiskit.QunatumRegister, the input qubit state\n",
    "    target_inidices: list of int, the target indices of the plaquette\n",
    "    coef: float, coefficient corresponding to the plaquette term\n",
    "    deltaT: small time step\n",
    "    Return:\n",
    "    qiskit.QuantumCircuit, the circuit after added the trotterization step.\n",
    "    \"\"\" \n",
    "    assert(len(target_indices)==3), \"List of target indices for a plaquette term with invalid length is given.\"\n",
    "    # Add cnot gates to target qubits\n",
    "    for i in range(2):\n",
    "        circ.cx(target_indices[i+1], target_indices[i])\n",
    "        circ.u3(np.pi, 0, np.pi, target_indices[i])    \n",
    "    # Add CCRX gate\n",
    "    circ = add_crx(circ, coef*deltaT/2, target_indices[1], target_indices[2])\n",
    "    circ.cx(target_indices[0], target_indices[1])\n",
    "    circ = add_crx(circ, -coef*deltaT/2, target_indices[1], target_indices[2])\n",
    "    circ.cx(target_indices[0], target_indices[1])\n",
    "    circ = add_swap(circ, target_indices[0], target_indices[1]) # Swap 0 and 1\n",
    "    circ = add_crx(circ, coef*deltaT/2, target_indices[1], target_indices[2])\n",
    "    circ = add_swap(circ, target_indices[0], target_indices[1]) # Swap back\n",
    "    \n",
    "    # Add cnot gates to target qubits\n",
    "    for i in range(2)[::-1]:\n",
    "        circ.u3(np.pi, 0, np.pi, target_indices[i])\n",
    "        circ.cx(target_indices[i+1], target_indices[i])\n",
    "    \n",
    "    return circ\n",
    "\n",
    "def physical_trotter_circ(circ, target_indices, g, alpha, T, n_steps, mitigation_dict, unitary_sim = False):\n",
    "    \"\"\"\n",
    "    For a device with the lattice substructure of six qubits as\n",
    "    0 - 3 - 1\n",
    "    |       |\n",
    "    2 - 5 - 4\n",
    "    (the indices are those of target_indices)\n",
    "    \n",
    "    E, XY interactions between 0-3, 1-4, 2-5\n",
    "    SWAP 1 and 3\n",
    "    Plaquette interactions between 2-0-3, 5-4-1 \n",
    "    Arguments:\n",
    "    circ: qiskit.QuantumCircuit, the target circuit\n",
    "    target_inidices: list of int, the target indices of qubits. target_indices[logical_q] = physical_qr\n",
    "    g: float, the value of g\n",
    "    alpha: float, the value of alpha\n",
    "    T: float, the evolution time\n",
    "    n_steps: int, the number of Trotter steps\n",
    "    mitigation_dict: dict, dictionary specifying the pauli gate for mitigation. E.g. {'0E03' : 'XY', '1XY14': 'YZ', 1B012': 'ZXX'} the first integer specifies the target step\n",
    "    \n",
    "    \"\"\"\n",
    "    deltaT = T/n_steps\n",
    "    for stp in range(n_steps):\n",
    "        for j in range(3):\n",
    "            circ = trotter_electric(circ, [target_indices[j], target_indices[j+3]], 2*g**2/2, deltaT, unitary_sim, further_opt=True)\n",
    "            mit = mitigation_dict.get('%dE%d'%(stp, j), 'II')\n",
    "            for i in range(2):\n",
    "                if mit[i] == 'X':\n",
    "                    circ.x(target_indices[3*i+j])\n",
    "                elif mit[i] == 'Y':\n",
    "                    circ.y(target_indices[3*i+j])\n",
    "                elif mit[i] == 'Z':\n",
    "                    circ.z(target_indices[3*i+j])\n",
    "                \n",
    "            circ = trotter_coupling(circ, [target_indices[j+3], target_indices[j]], 2*alpha/(2*g**2), deltaT, further_opt=True)\n",
    "            mit = mitigation_dict.get('%dXY%d'%(stp, j), 'II')\n",
    "            for i in range(2):\n",
    "                if mit[i] == 'X':\n",
    "                    circ.x(target_indices[3*i+j])\n",
    "                elif mit[i] == 'Y':\n",
    "                    circ.y(target_indices[3*i+j])\n",
    "                elif mit[i] == 'Z':\n",
    "                    circ.z(target_indices[3*i+j])\n",
    "                \n",
    "            mit = mitigation_dict.get('%dEXY%d'%(stp, j), 'II')\n",
    "            for i in range(2):\n",
    "                if mit[i] == 'X':\n",
    "                    circ.x(target_indices[3*i+j])\n",
    "                elif mit[i] == 'Y':\n",
    "                    circ.y(target_indices[3*i+j])\n",
    "                elif mit[i] == 'Z':\n",
    "                    circ.z(target_indices[3*i+j])\n",
    "    \n",
    "        circ = add_swap(circ, target_indices[1], target_indices[3]) # Swap 1 and 3\n",
    "        circ = physical_trotter_plaquette(circ, [target_indices[2], target_indices[0], target_indices[3]], -1/(2*g**2), deltaT)\n",
    "        mit = mitigation_dict.get('%dB0'%stp, 'III')\n",
    "        for i in range(3):\n",
    "            if mit[i] == 'X':\n",
    "                circ.x(target_indices[i])\n",
    "            elif mit[i] == 'Y':\n",
    "                circ.y(target_indices[i])\n",
    "            elif mit[i] == 'Z':\n",
    "                circ.z(target_indices[i])\n",
    "        circ = physical_trotter_plaquette(circ, [target_indices[5], target_indices[4], target_indices[1]], -1/(2*g**2), deltaT)\n",
    "        mit = mitigation_dict.get('%dB1'%stp, 'III')\n",
    "        for i in range(3):\n",
    "            if mit[i] == 'X':\n",
    "                circ.x(target_indices[3+i])\n",
    "            elif mit[i] == 'Y':\n",
    "                circ.y(target_indices[3+i])\n",
    "            elif mit[i] == 'Z':\n",
    "                circ.z(target_indices[3+i])\n",
    "        circ = add_swap(circ, target_indices[1], target_indices[3]) # Swap back\n",
    "    return circ\n",
    "    "
   ]
  },
  {
   "cell_type": "markdown",
   "metadata": {},
   "source": [
    "# Circuit Components"
   ]
  },
  {
   "cell_type": "code",
   "execution_count": 112,
   "metadata": {},
   "outputs": [],
   "source": [
    "def electric_circ(circ, input_mapping, unitary_sim = False):\n",
    "    circ = trotter_electric(q_circuit=circ, target_indices=input_mapping, coef=coef_doubler*g**2/2, deltaT=T/n_steps, unitary_sim=unitary_sim, further_opt = True)\n",
    "    return circ\n",
    "\n",
    "def coupling_circ(circ, input_mapping, unitary_sim = False):\n",
    "    circ = trotter_coupling(q_circuit=circ, target_indices=input_mapping, coef=coef_doubler*alpha/(2*g**2), deltaT=T/n_steps, further_opt = True)\n",
    "    return circ\n",
    "\n",
    "def exy_circ(circ, input_mapping, unitary_sim = False):\n",
    "    circ = trotter_electric(q_circuit=circ, target_indices=input_mapping, coef=coef_doubler*g**2/2, deltaT=T/n_steps, unitary_sim=unitary_sim, further_opt = True)\n",
    "    circ = trotter_coupling(q_circuit=circ, target_indices=input_mapping, coef=coef_doubler*alpha/(2*g**2), deltaT=T/n_steps, further_opt = True)\n",
    "    return circ\n",
    "\n",
    "def plaquette_circ(circ, input_mapping, unitary_sim = False):\n",
    "    circ = physical_trotter_plaquette(circ=circ, target_indices=input_mapping, coef=-1/(2*g**2), deltaT=T/n_steps)\n",
    "    return circ\n",
    "\n",
    "def trotter_circ(circ, input_mapping, unitary_sim = False):\n",
    "    circ = physical_trotter_circ(circ, input_mapping, g, alpha, 1, 10, {}, unitary_sim = False)\n",
    "    return circ"
   ]
  },
  {
   "cell_type": "markdown",
   "metadata": {},
   "source": [
    "# Noise Mitigation"
   ]
  },
  {
   "cell_type": "markdown",
   "metadata": {},
   "source": [
    "## Electric term 0-3"
   ]
  },
  {
   "cell_type": "code",
   "execution_count": null,
   "metadata": {},
   "outputs": [
    {
     "name": "stdout",
     "output_type": "stream",
     "text": [
      "Job set name: 2020-04-05T07:33:33.379080\n",
      "          ID: c0aed9aaacd140409be6e614dc5ef1e3-15860720133790803\n",
      "        tags: []\n",
      "Summary report:\n",
      "       Total jobs: 1\n",
      "  Successful jobs: 0\n",
      "      Failed jobs: 0\n",
      "   Cancelled jobs: 0\n",
      "     Running jobs: 0\n",
      "     Pending jobs: 1\n",
      "\n",
      "Detail report:\n",
      "  experiments: 0-539\n",
      "    job index: 0\n",
      "    status: job is being initialized\n"
     ]
    }
   ],
   "source": [
    "chi_eps_inv_electric = noise_mitigation_gate(electric_circ, 2, device_backend, input_mapping=[5, 6], simulation=False)\n",
    "print(np.sum(chi_eps_inv_electric))\n",
    "print(chi_eps_inv_electric)"
   ]
  },
  {
   "cell_type": "code",
   "execution_count": 50,
   "metadata": {},
   "outputs": [],
   "source": [
    "chi_eps_inv_electric = np.array([[ 1.09124066e+00-1.25846675e-20j],\n",
    " [-9.10717578e-03-8.31964275e-21j],\n",
    " [-1.22078192e-02-6.15576996e-21j],\n",
    " [-1.35281630e-02-9.86775221e-21j],\n",
    " [-1.24115224e-02+3.94503504e-21j],\n",
    " [ 7.25276047e-05+1.27601271e-20j],\n",
    " [-1.96858228e-03+1.35842655e-20j],\n",
    " [-1.79975331e-04+4.07344594e-21j],\n",
    " [-1.18548579e-02+6.64085914e-22j],\n",
    " [ 2.49047430e-03+9.65997179e-21j],\n",
    " [ 8.39370114e-04+1.18667882e-20j],\n",
    " [-1.00354272e-02+2.90250770e-21j],\n",
    " [-1.55408218e-02-8.41852989e-21j],\n",
    " [-2.84109124e-03-3.43978514e-21j],\n",
    " [ 3.91880454e-04-2.67926302e-21j],\n",
    " [-5.35947661e-03-7.99081680e-21j]])"
   ]
  },
  {
   "cell_type": "markdown",
   "metadata": {},
   "source": [
    "## Electric term 1-4"
   ]
  },
  {
   "cell_type": "code",
   "execution_count": null,
   "metadata": {},
   "outputs": [],
   "source": [
    "chi_eps_inv_electric1 = noise_mitigation_gate(electric_circ, 2, device_backend, input_mapping=[7, 12], simulation=False)\n",
    "print(np.sum(chi_eps_inv_electric1))\n",
    "print(chi_eps_inv_electric1)"
   ]
  },
  {
   "cell_type": "code",
   "execution_count": null,
   "metadata": {},
   "outputs": [],
   "source": [
    "chi_eps_inv_electric1 = np.array([[ 1.08401867e+00-4.22797927e-21j],\n",
    " [-9.49608277e-03+9.98519598e-21j],\n",
    " [-9.70545031e-03+9.48017550e-21j],\n",
    " [-1.56822638e-02-4.65509605e-21j],\n",
    " [-1.55895054e-02-6.00361470e-21j],\n",
    " [-1.88885204e-03+6.91544804e-22j],\n",
    " [-3.85959323e-03+1.08024304e-21j],\n",
    " [-2.36559118e-03-5.56166990e-21j],\n",
    " [-9.86471375e-03-5.54679606e-21j],\n",
    " [-3.56972681e-03+1.23476591e-21j],\n",
    " [ 1.56703804e-04+5.29276868e-22j],\n",
    " [-4.17844126e-03-6.24004321e-21j],\n",
    " [-8.70691512e-03-5.48181477e-21j],\n",
    " [ 2.04214301e-03+9.48060127e-21j],\n",
    " [ 7.15115192e-04+1.00971016e-20j],\n",
    " [-2.02549799e-03-4.86189096e-21j]])"
   ]
  },
  {
   "cell_type": "markdown",
   "metadata": {},
   "source": [
    "## Electric term 2-5"
   ]
  },
  {
   "cell_type": "code",
   "execution_count": null,
   "metadata": {},
   "outputs": [],
   "source": [
    "chi_eps_inv_electric2 = noise_mitigation_gate(electric_circ, 2, device_backend, input_mapping=[10, 11], simulation=False)\n",
    "print(np.sum(chi_eps_inv_electric2))\n",
    "print(chi_eps_inv_electric2)"
   ]
  },
  {
   "cell_type": "code",
   "execution_count": null,
   "metadata": {},
   "outputs": [],
   "source": [
    "chi_eps_inv_electric2 = np.array([[ 1.09307105e+00-2.26752716e-21j],\n",
    " [-1.29001139e-02+2.62456071e-21j],\n",
    " [-8.26271215e-03-2.17850681e-21j],\n",
    " [-1.73048273e-02-6.73299582e-21j],\n",
    " [-1.49946535e-02-1.33253633e-21j],\n",
    " [ 1.31141817e-04+1.37625198e-21j],\n",
    " [-1.42528318e-02+5.86328509e-21j],\n",
    " [ 1.94879606e-03+3.22962718e-21j],\n",
    " [-1.50571312e-02+3.17470670e-21j],\n",
    " [ 1.23301362e-03+5.80440648e-21j],\n",
    " [ 1.32802055e-03+1.32210843e-21j],\n",
    " [ 1.85318190e-03-1.27410157e-21j],\n",
    " [-1.17043451e-02-6.63242013e-21j],\n",
    " [-4.64214529e-04-2.48316212e-21j],\n",
    " [-9.02146872e-04+1.94041443e-21j],\n",
    " [-3.72222782e-03-2.43411106e-21j]])"
   ]
  },
  {
   "cell_type": "markdown",
   "metadata": {},
   "source": [
    "## Coupling term 0-3"
   ]
  },
  {
   "cell_type": "code",
   "execution_count": null,
   "metadata": {},
   "outputs": [],
   "source": [
    "chi_eps_inv_coupling = noise_mitigation_gate(coupling_circ, 2, device_backend, input_mapping=[5, 6], simulation=False)\n",
    "print(np.sum(chi_eps_inv_coupling))\n",
    "print(chi_eps_inv_coupling)"
   ]
  },
  {
   "cell_type": "code",
   "execution_count": null,
   "metadata": {},
   "outputs": [],
   "source": [
    "chi_eps_inv_coupling = np.array([[ 1.10863784e+00-7.22700753e-20j],\n",
    " [-8.51835588e-03+9.10445954e-19j],\n",
    " [-1.40777325e-02-2.88432713e-19j],\n",
    " [-1.49704265e-02-1.30285754e-19j],\n",
    " [-1.54430111e-02+8.78163129e-19j],\n",
    " [-4.42404747e-03-1.24579114e-19j],\n",
    " [-1.52537052e-03-1.02911856e-19j],\n",
    " [ 6.25843566e-04-3.15407163e-19j],\n",
    " [-1.35648643e-02-3.30208041e-19j],\n",
    " [-3.96287642e-03-1.21507470e-19j],\n",
    " [-4.04911493e-03-1.15560986e-19j],\n",
    " [-1.04514157e-03+8.35757524e-19j],\n",
    " [-1.53633954e-02-1.73123629e-19j],\n",
    " [-3.61731465e-03-2.89246921e-19j],\n",
    " [ 3.55004300e-03+8.51441967e-19j],\n",
    " [-1.22520766e-02-5.30300796e-20j]])"
   ]
  },
  {
   "cell_type": "markdown",
   "metadata": {},
   "source": [
    "## Coupling term 1-4"
   ]
  },
  {
   "cell_type": "code",
   "execution_count": null,
   "metadata": {},
   "outputs": [],
   "source": [
    "chi_eps_inv_coupling1 = noise_mitigation_gate(coupling_circ, 2, device_backend, input_mapping=[7, 12], simulation=False)\n",
    "print(np.sum(chi_eps_inv_coupling1))\n",
    "print(chi_eps_inv_coupling1)"
   ]
  },
  {
   "cell_type": "code",
   "execution_count": null,
   "metadata": {},
   "outputs": [],
   "source": [
    "chi_eps_inv_coupling1 = np.array([[ 1.10112653-3.32176922e-19j],\n",
    " [-0.00912275+7.44658629e-19j],\n",
    " [-0.0094082 -2.39813357e-19j],\n",
    " [-0.01064158+1.76638546e-19j],\n",
    " [-0.00834341+6.83516244e-19j],\n",
    " [-0.00330374-3.75914211e-19j],\n",
    " [-0.00135276+9.70449900e-20j],\n",
    " [ 0.00201786-2.23918528e-19j],\n",
    " [-0.01633133-2.36198475e-19j],\n",
    " [-0.0050146 +1.07443330e-19j],\n",
    " [-0.002402  -3.64679214e-19j],\n",
    " [-0.00311682+6.81600799e-19j],\n",
    " [-0.01446512+1.83718838e-19j],\n",
    " [-0.00229869-2.35061145e-19j],\n",
    " [-0.00453625+7.54516585e-19j],\n",
    " [-0.01280714-3.22611843e-19j]])"
   ]
  },
  {
   "cell_type": "markdown",
   "metadata": {},
   "source": [
    "## Coupling term 2-5"
   ]
  },
  {
   "cell_type": "code",
   "execution_count": null,
   "metadata": {},
   "outputs": [],
   "source": [
    "chi_eps_inv_coupling2 = noise_mitigation_gate(coupling_circ, 2, device_backend, input_mapping=[10, 11], simulation=False)\n",
    "print(np.sum(chi_eps_inv_coupling2))\n",
    "print(chi_eps_inv_coupling2)"
   ]
  },
  {
   "cell_type": "code",
   "execution_count": null,
   "metadata": {},
   "outputs": [],
   "source": [
    "chi_eps_inv_coupling2 = np.array([[ 1.19639812-1.86017889e-19j],\n",
    " [-0.01999357+6.42261800e-19j],\n",
    " [-0.01448874-2.11141677e-19j],\n",
    " [-0.02510675+6.35332416e-20j],\n",
    " [-0.01169747+5.83460601e-19j],\n",
    " [-0.00518013-2.78617550e-19j],\n",
    " [-0.00796772-3.48880400e-20j],\n",
    " [-0.01074926-2.39658167e-19j],\n",
    " [-0.01767707-2.23220641e-19j],\n",
    " [-0.01646541-4.16405181e-20j],\n",
    " [-0.00235958-3.15083672e-19j],\n",
    " [-0.0028978 +5.78771722e-19j],\n",
    " [-0.01224916+3.59223564e-20j],\n",
    " [-0.00621589-1.76061140e-19j],\n",
    " [-0.02436371+6.41657872e-19j],\n",
    " [-0.01898587-2.13804565e-19j]])"
   ]
  },
  {
   "cell_type": "markdown",
   "metadata": {},
   "source": [
    "## Plaquette term 0-1-2"
   ]
  },
  {
   "cell_type": "code",
   "execution_count": null,
   "metadata": {
    "scrolled": false
   },
   "outputs": [],
   "source": [
    "chi_eps_inv_plaquette = noise_mitigation_gate(plaquette_circ, 3, device_backend, input_mapping=[10, 5, 6], simulation=False)\n",
    "print(np.sum(chi_eps_inv_plaquette))\n",
    "print(chi_eps_inv_plaquette)"
   ]
  },
  {
   "cell_type": "code",
   "execution_count": 30,
   "metadata": {},
   "outputs": [],
   "source": [
    "chi_eps_inv_plaquette = np.array([[1.22631054-8.40175009e-21j] ,\n",
    "[-0.04585796-6.01761299e-19j] ,\n",
    "[-0.04845319+1.49976885e-19j] ,\n",
    "[-0.0469879+8.52588355e-20j] ,\n",
    "[-0.03340243-1.8519752e-19j] ,\n",
    "[-0.04484125+8.06876777e-20j] ,\n",
    "[-0.00675863-2.85590347e-21j] ,\n",
    "[-0.00291143-5.74607207e-20j] ,\n",
    "[-0.01662736-7.97199142e-21j] ,\n",
    "[-0.01670473-8.81238541e-20j] ,\n",
    "[0.00400338+1.90548773e-19j] ,\n",
    "[-0.01341668-9.78827095e-20j] ,\n",
    "[-0.01309329-3.46823593e-19j] ,\n",
    "[0.00169178+4.71093336e-19j] ,\n",
    "[-0.01751788-1.40287819e-19j] ,\n",
    "[-0.01568514+2.00303428e-19j] ,\n",
    "[-0.05703623+4.2322157e-19j] ,\n",
    "[0.00547501+5.82372021e-20j] ,\n",
    "[0.01365077+1.34526826e-19j] ,\n",
    "[-0.01179331-2.97197018e-19j] ,\n",
    "[0.01328033+6.32044772e-20j] ,\n",
    "[-0.08949034-4.07418011e-19j] ,\n",
    "[0.00198964+1.02449034e-19j] ,\n",
    "[0.01340912+1.05454345e-19j] ,\n",
    "[0.00163757-1.5633875e-19j] ,\n",
    "[-0.00230039+2.16718475e-19j] ,\n",
    "[-0.00609884-7.98060843e-20j] ,\n",
    "[0.00616305+2.631609e-20j] ,\n",
    "[-0.0158668-4.88532296e-20j] ,\n",
    "[0.01182118+1.86659698e-20j] ,\n",
    "[0.00635416-2.28539998e-19j] ,\n",
    "[-0.00289071-2.53396166e-20j] ,\n",
    "[0.0120999-3.14076211e-19j] ,\n",
    "[0.00401246+1.97697697e-19j] ,\n",
    "[-0.00181039-1.13104744e-19j] ,\n",
    "[0.01084102+1.78649314e-19j] ,\n",
    "[-0.02723109+6.54137008e-20j] ,\n",
    "[-0.08042126+3.2692679e-19j] ,\n",
    "[-0.00890767+2.30372851e-21j] ,\n",
    "[-0.00163787-1.5609299e-19j] ,\n",
    "[-0.00232125+8.32109557e-20j] ,\n",
    "[0.00023828-3.91281764e-19j] ,\n",
    "[0.01700273+3.24024077e-19j] ,\n",
    "[-0.003222-8.43630602e-20j] ,\n",
    "[0.0254317-7.87086876e-20j] ,\n",
    "[-0.0094007-8.51947729e-20j] ,\n",
    "[-0.01066968+2.25715075e-20j] ,\n",
    "[0.00202538-1.07915807e-19j] ,\n",
    "[0.44537321-2.06667166e-19j] ,\n",
    "[-0.01417864+3.75893604e-19j] ,\n",
    "[-0.01562511-3.12300116e-19j] ,\n",
    "[-0.0276692-1.06284734e-20j] ,\n",
    "[-0.01483173-4.25494683e-22j] ,\n",
    "[0.01222178+2.47715399e-20j] ,\n",
    "[-0.00457021-4.83868478e-20j] ,\n",
    "[-0.00202436-1.09069009e-19j] ,\n",
    "[0.00768182-3.76045468e-20j] ,\n",
    "[-0.02508802-4.37571691e-21j] ,\n",
    "[-0.00078127-3.68517915e-20j] ,\n",
    "[-0.00012058+2.30514846e-19j] ,\n",
    "[-0.05148733+2.66727271e-19j] ,\n",
    "[0.00410812-1.85914706e-19j] ,\n",
    "[-0.00739817-4.63502188e-20j] ,\n",
    "[-0.02969191-2.79997996e-20j]])"
   ]
  },
  {
   "cell_type": "markdown",
   "metadata": {},
   "source": [
    "## Plaquette term 3-4-5"
   ]
  },
  {
   "cell_type": "code",
   "execution_count": null,
   "metadata": {
    "scrolled": false
   },
   "outputs": [],
   "source": [
    "chi_eps_inv_plaquette1 = noise_mitigation_gate(plaquette_circ, 3, device_backend, input_mapping=[11, 12, 7], simulation=False)\n",
    "print(np.sum(chi_eps_inv_plaquette1))\n",
    "print(chi_eps_inv_plaquette1)"
   ]
  },
  {
   "cell_type": "code",
   "execution_count": 31,
   "metadata": {},
   "outputs": [],
   "source": [
    "chi_eps_inv_plaquette1 = np.array([[1.61814161-7.93626476e-19j] ,\n",
    "[-0.05964177+7.9451865e-20j] ,\n",
    "[-0.01210093-8.76432691e-20j] ,\n",
    "[-0.02308933+6.28186074e-19j] ,\n",
    "[-0.04673354-1.10458292e-19j] ,\n",
    "[-0.02649118+5.05697991e-20j] ,\n",
    "[-0.00225655-2.42639039e-20j] ,\n",
    "[-0.0001361+3.40189001e-20j] ,\n",
    "[-0.01058447+7.89738594e-20j] ,\n",
    "[-0.01067872-1.35513105e-19j] ,\n",
    "[-0.0015792-4.22837225e-20j] ,\n",
    "[-0.00936266-5.08979202e-20j] ,\n",
    "[-0.01378417+7.82945842e-19j] ,\n",
    "[0.00606253+6.19475438e-21j] ,\n",
    "[-0.0322971+2.9306002e-21j] ,\n",
    "[-0.03026749-5.85459606e-19j] ,\n",
    "[-0.03144925+2.81356324e-20j] ,\n",
    "[0.00136342+1.31088931e-20j] ,\n",
    "[-0.00372972+9.46707404e-20j] ,\n",
    "[-0.00480984+1.15082959e-19j] ,\n",
    "[0.02437564+6.77864083e-20j] ,\n",
    "[-0.05210382-7.48084251e-19j] ,\n",
    "[-0.00313742+7.45777246e-19j] ,\n",
    "[0.00260305-7.30664278e-20j] ,\n",
    "[-0.02401988+1.30423798e-20j] ,\n",
    "[0.01116066+5.43882391e-19j] ,\n",
    "[-0.00910419-7.83389047e-19j] ,\n",
    "[0.00498536+2.34290492e-20j] ,\n",
    "[0.00177392-4.24946846e-20j] ,\n",
    "[-0.00029376-1.72794557e-20j] ,\n",
    "[0.00480525-1.01213805e-19j] ,\n",
    "[0.00218312-5.63141236e-20j] ,\n",
    "[0.0014178-1.10560112e-19j] ,\n",
    "[-0.00438893+6.05814785e-20j] ,\n",
    "[0.00275644-3.8839927e-20j] ,\n",
    "[-0.00112918+5.91216873e-21j] ,\n",
    "[-0.01690939+2.46133327e-20j] ,\n",
    "[-0.05342199+6.85786958e-19j] ,\n",
    "[-0.00044588-6.73332279e-19j] ,\n",
    "[-0.00332123-3.07814543e-21j] ,\n",
    "[0.01853239-7.26152267e-20j] ,\n",
    "[-0.00489035-6.66526771e-19j] ,\n",
    "[0.00675139+7.5245804e-19j] ,\n",
    "[-0.00498042-6.44762549e-20j] ,\n",
    "[-0.00374191+3.28302231e-20j] ,\n",
    "[0.00349024-1.04431304e-19j] ,\n",
    "[-0.00016032-3.21482181e-20j] ,\n",
    "[0.00055941-7.46227477e-20j] ,\n",
    "[-0.14156055+5.9316834e-19j] ,\n",
    "[0.01541292+4.03739415e-20j] ,\n",
    "[-0.00748034-4.83623486e-20j] ,\n",
    "[-0.01810783-7.29812975e-19j] ,\n",
    "[0.02306678-6.35378698e-20j] ,\n",
    "[0.00281404-1.13684808e-20j] ,\n",
    "[-0.00703334+4.22464683e-21j] ,\n",
    "[-0.0001995-1.11095887e-19j] ,\n",
    "[-0.00492481+2.82501466e-20j] ,\n",
    "[-0.02116633+1.19872756e-20j] ,\n",
    "[-0.00473749+1.18190152e-20j] ,\n",
    "[-0.00643841+1.70574225e-19j] ,\n",
    "[-0.04525122-5.51160863e-19j] ,\n",
    "[-0.00181333-5.86784248e-20j] ,\n",
    "[0.00283223-6.36942239e-20j] ,\n",
    "[0.00466564+7.20538464e-19j]])"
   ]
  },
  {
   "cell_type": "markdown",
   "metadata": {},
   "source": [
    "## EXY term 0-3"
   ]
  },
  {
   "cell_type": "code",
   "execution_count": null,
   "metadata": {},
   "outputs": [
    {
     "name": "stdout",
     "output_type": "stream",
     "text": [
      "Job set name: 2020-04-07T06:06:01.533957\n",
      "          ID: d8e8d54397c743eb97bb8a3cc6fe3656-15862395615339577\n",
      "        tags: []\n",
      "Summary report:\n",
      "       Total jobs: 1\n",
      "  Successful jobs: 0\n",
      "      Failed jobs: 0\n",
      "   Cancelled jobs: 0\n",
      "     Running jobs: 0\n",
      "     Pending jobs: 1\n",
      "\n",
      "Detail report:\n",
      "  experiments: 0-539\n",
      "    job index: 0\n",
      "    status: job is being initialized\n"
     ]
    }
   ],
   "source": [
    "chi_eps_inv_exy = noise_mitigation_gate(exy_circ, 2, device_backend, input_mapping=[5, 6], simulation=False)\n",
    "print(np.sum(chi_eps_inv_exy))\n",
    "print(chi_eps_inv_exy)"
   ]
  },
  {
   "cell_type": "code",
   "execution_count": 53,
   "metadata": {},
   "outputs": [],
   "source": [
    "chi_eps_inv_exy = np.array([[ 1.12247738e+00-2.35676161e-19j],\n",
    " [-6.69116892e-03+1.12671864e-18j],\n",
    " [-7.76218317e-03-2.43861859e-19j],\n",
    " [-1.59030025e-02+1.27267724e-18j],\n",
    " [-1.15111288e-02+7.03200621e-19j],\n",
    " [-1.26458838e-02-3.10648110e-18j],\n",
    " [-6.70245586e-03+2.60595866e-19j],\n",
    " [ 2.27609383e-03-7.21649247e-19j],\n",
    " [-1.55284641e-02-5.81979375e-19j],\n",
    " [-5.97986403e-03+2.50712209e-18j],\n",
    " [-4.25776499e-03+4.67047340e-19j],\n",
    " [-2.20191547e-03+3.47460025e-19j],\n",
    " [-1.79764375e-02+2.02756282e-18j],\n",
    " [ 1.40535838e-05-1.02960729e-18j],\n",
    " [-5.56198099e-03+1.12674612e-18j],\n",
    " [-1.20452795e-02-1.80628219e-18j]])"
   ]
  },
  {
   "cell_type": "markdown",
   "metadata": {},
   "source": [
    "## EXY term 1-4"
   ]
  },
  {
   "cell_type": "code",
   "execution_count": 10,
   "metadata": {},
   "outputs": [
    {
     "name": "stdout",
     "output_type": "stream",
     "text": [
      "Job set name: 2020-04-05T08:52:58.214775\n",
      "          ID: 8ae9bc39b64c49cfaf0a6d28cfb8f9bd-15860767782147758\n",
      "        tags: []\n",
      "Summary report:\n",
      "       Total jobs: 1\n",
      "  Successful jobs: 0\n",
      "      Failed jobs: 0\n",
      "   Cancelled jobs: 0\n",
      "     Running jobs: 0\n",
      "     Pending jobs: 1\n",
      "\n",
      "Detail report:\n",
      "  experiments: 0-539\n",
      "    job index: 0\n",
      "    status: job is being initialized\n",
      "None\n",
      "(0.9999999999999994+1.965103088165508e-18j)\n",
      "[[ 1.12531981e+00-5.21881548e-19j]\n",
      " [-1.93456235e-02+5.59807578e-19j]\n",
      " [-4.82024489e-03-7.47514025e-19j]\n",
      " [-9.55579588e-03+1.82364911e-18j]\n",
      " [-1.64091466e-02+1.25519814e-18j]\n",
      " [-6.14265995e-03-2.41701034e-18j]\n",
      " [-7.27097018e-03-8.09581653e-20j]\n",
      " [-5.32956225e-03-4.88971729e-19j]\n",
      " [-7.42959104e-03-6.93702925e-19j]\n",
      " [-4.89823855e-03+2.86299315e-18j]\n",
      " [-1.03318940e-03+3.81512729e-19j]\n",
      " [-1.45251446e-03+2.35229611e-19j]\n",
      " [-1.91799441e-02+1.45229863e-18j]\n",
      " [-8.99155745e-03-4.43270167e-19j]\n",
      " [-5.19334521e-03+1.15745691e-18j]\n",
      " [-8.26742248e-03-2.36973387e-18j]]\n"
     ]
    }
   ],
   "source": [
    "chi_eps_inv_exy1 = noise_mitigation_gate(exy_circ, 2, device_backend, input_mapping=[7, 12], simulation=False)\n",
    "print(np.sum(chi_eps_inv_exy1))\n",
    "print(chi_eps_inv_exy1)"
   ]
  },
  {
   "cell_type": "code",
   "execution_count": 13,
   "metadata": {},
   "outputs": [],
   "source": [
    "chi_eps_inv_exy1 = np.array([[ 1.12531981e+00-5.21881548e-19j],\n",
    " [-1.93456235e-02+5.59807578e-19j],\n",
    " [-4.82024489e-03-7.47514025e-19j],\n",
    " [-9.55579588e-03+1.82364911e-18j],\n",
    " [-1.64091466e-02+1.25519814e-18j],\n",
    " [-6.14265995e-03-2.41701034e-18j],\n",
    " [-7.27097018e-03-8.09581653e-20j],\n",
    " [-5.32956225e-03-4.88971729e-19j],\n",
    " [-7.42959104e-03-6.93702925e-19j],\n",
    " [-4.89823855e-03+2.86299315e-18j],\n",
    " [-1.03318940e-03+3.81512729e-19j],\n",
    " [-1.45251446e-03+2.35229611e-19j],\n",
    " [-1.91799441e-02+1.45229863e-18j],\n",
    " [-8.99155745e-03-4.43270167e-19j],\n",
    " [-5.19334521e-03+1.15745691e-18j],\n",
    " [-8.26742248e-03-2.36973387e-18j]])"
   ]
  },
  {
   "cell_type": "markdown",
   "metadata": {},
   "source": [
    "## EXY term 2-5"
   ]
  },
  {
   "cell_type": "code",
   "execution_count": 11,
   "metadata": {},
   "outputs": [
    {
     "name": "stdout",
     "output_type": "stream",
     "text": [
      "Job set name: 2020-04-05T09:25:19.286053\n",
      "          ID: e5e8b0a779f942eda986541a613fa014-15860787192860532\n",
      "        tags: []\n",
      "Summary report:\n",
      "       Total jobs: 1\n",
      "  Successful jobs: 0\n",
      "      Failed jobs: 0\n",
      "   Cancelled jobs: 0\n",
      "     Running jobs: 0\n",
      "     Pending jobs: 1\n",
      "\n",
      "Detail report:\n",
      "  experiments: 0-539\n",
      "    job index: 0\n",
      "    status: job is being initialized\n",
      "None\n",
      "(0.9999999999999991+1.2891557948617763e-18j)\n",
      "[[ 1.16459506+1.32309037e-18j]\n",
      " [-0.02108588+4.87786592e-19j]\n",
      " [-0.02013501-7.98486173e-19j]\n",
      " [-0.01900528+2.24766742e-18j]\n",
      " [-0.00685957+1.64612388e-18j]\n",
      " [-0.01208797-3.31792988e-18j]\n",
      " [-0.00565129+1.19979586e-19j]\n",
      " [ 0.00567409-4.02779207e-19j]\n",
      " [-0.02740089-8.90314554e-20j]\n",
      " [-0.00658686+3.00604234e-18j]\n",
      " [-0.00346467+8.54437236e-19j]\n",
      " [-0.01031032-3.12045383e-19j]\n",
      " [-0.01521482+4.97139848e-19j]\n",
      " [ 0.00284618-4.57720684e-19j]\n",
      " [-0.00852907+8.16924138e-19j]\n",
      " [-0.01678371-4.33204284e-18j]]\n"
     ]
    }
   ],
   "source": [
    "chi_eps_inv_exy2 = noise_mitigation_gate(exy_circ, 2, device_backend, input_mapping=[10, 11], simulation=False)\n",
    "print(np.sum(chi_eps_inv_exy2))\n",
    "print(chi_eps_inv_exy2)"
   ]
  },
  {
   "cell_type": "code",
   "execution_count": 14,
   "metadata": {},
   "outputs": [],
   "source": [
    "chi_eps_inv_exy2 = np.array([[ 1.16459506+1.32309037e-18j],\n",
    " [-0.02108588+4.87786592e-19j],\n",
    " [-0.02013501-7.98486173e-19j],\n",
    " [-0.01900528+2.24766742e-18j],\n",
    " [-0.00685957+1.64612388e-18j],\n",
    " [-0.01208797-3.31792988e-18j],\n",
    " [-0.00565129+1.19979586e-19j],\n",
    " [ 0.00567409-4.02779207e-19j],\n",
    " [-0.02740089-8.90314554e-20j],\n",
    " [-0.00658686+3.00604234e-18j],\n",
    " [-0.00346467+8.54437236e-19j],\n",
    " [-0.01031032-3.12045383e-19j],\n",
    " [-0.01521482+4.97139848e-19j],\n",
    " [ 0.00284618-4.57720684e-19j],\n",
    " [-0.00852907+8.16924138e-19j],\n",
    " [-0.01678371-4.33204284e-18j]]\n",
    ")"
   ]
  },
  {
   "cell_type": "markdown",
   "metadata": {},
   "source": [
    "# No mitigation"
   ]
  },
  {
   "cell_type": "code",
   "execution_count": 26,
   "metadata": {},
   "outputs": [
    {
     "name": "stdout",
     "output_type": "stream",
     "text": [
      "Job set name: 2020-04-07T00:05:16.566573\n",
      "          ID: b75a516247fa48d9b76f3622ac41d889-15862179165665734\n",
      "        tags: []\n",
      "Summary report:\n",
      "       Total jobs: 1\n",
      "  Successful jobs: 0\n",
      "      Failed jobs: 0\n",
      "   Cancelled jobs: 0\n",
      "     Running jobs: 0\n",
      "     Pending jobs: 1\n",
      "\n",
      "Detail report:\n",
      "  experiments: 0-0\n",
      "    job index: 0\n",
      "    status: job is being initialized\n",
      "None\n"
     ]
    },
    {
     "data": {
      "image/png": "[encoded data removed]",
      "text/plain": [
       "<matplotlib.figure.Figure at 0x1e64848bb70>"
      ]
     },
     "execution_count": 26,
     "metadata": {},
     "output_type": "execute_result"
    }
   ],
   "source": [
    "job_manager = IBMQJobManager()\n",
    "circ = QuantumCircuit(device_backend.configuration().n_qubits, 6)\n",
    "trotter_circ(circ, [5, 7, 10, 6, 12, 11], unitary_sim = False)\n",
    "circ.measure([5, 7, 10, 6, 12, 11], list(range(6)))\n",
    "jobs = job_manager.run([circ], backend=device_backend)\n",
    "print(jobs.report())\n",
    "while any(stat != JobStatus.DONE for stat in jobs.statuses()):\n",
    "    time.sleep(60)\n",
    "results = jobs.results()\n",
    "print(jobs.error_messages())\n",
    "counts = results.get_counts(0)\n",
    "plot_histogram(counts)"
   ]
  },
  {
   "cell_type": "markdown",
   "metadata": {},
   "source": [
    "# With Mitigation"
   ]
  },
  {
   "cell_type": "code",
   "execution_count": 117,
   "metadata": {},
   "outputs": [
    {
     "name": "stdout",
     "output_type": "stream",
     "text": [
      "[{'0EXY0': 'II', '0EXY1': 'II', '0EXY2': 'II', '0B0': 'III', '0B1': 'III'}, {'0EXY0': 'IZ', '0EXY1': 'II', '0EXY2': 'II', '0B0': 'III', '0B1': 'III'}, {'0EXY0': 'XI', '0EXY1': 'II', '0EXY2': 'II', '0B0': 'III', '0B1': 'III'}, {'0EXY0': 'XX', '0EXY1': 'II', '0EXY2': 'II', '0B0': 'III', '0B1': 'III'}, {'0EXY0': 'YI', '0EXY1': 'II', '0EXY2': 'II', '0B0': 'III', '0B1': 'III'}, {'0EXY0': 'ZI', '0EXY1': 'II', '0EXY2': 'II', '0B0': 'III', '0B1': 'III'}, {'0EXY0': 'ZZ', '0EXY1': 'II', '0EXY2': 'II', '0B0': 'III', '0B1': 'III'}, {'0EXY0': 'II', '0EXY1': 'IX', '0EXY2': 'II', '0B0': 'III', '0B1': 'III'}, {'0EXY0': 'II', '0EXY1': 'XI', '0EXY2': 'II', '0B0': 'III', '0B1': 'III'}, {'0EXY0': 'II', '0EXY1': 'ZI', '0EXY2': 'II', '0B0': 'III', '0B1': 'III'}, {'0EXY0': 'II', '0EXY1': 'II', '0EXY2': 'II', '0B0': 'IIX', '0B1': 'III'}, {'0EXY0': 'II', '0EXY1': 'II', '0EXY2': 'II', '0B0': 'IIY', '0B1': 'III'}, {'0EXY0': 'II', '0EXY1': 'II', '0EXY2': 'II', '0B0': 'IIZ', '0B1': 'III'}, {'0EXY0': 'II', '0EXY1': 'II', '0EXY2': 'II', '0B0': 'IXI', '0B1': 'III'}, {'0EXY0': 'II', '0EXY1': 'II', '0EXY2': 'II', '0B0': 'IXX', '0B1': 'III'}, {'0EXY0': 'II', '0EXY1': 'II', '0EXY2': 'II', '0B0': 'IYI', '0B1': 'III'}, {'0EXY0': 'II', '0EXY1': 'II', '0EXY2': 'II', '0B0': 'IYX', '0B1': 'III'}, {'0EXY0': 'II', '0EXY1': 'II', '0EXY2': 'II', '0B0': 'IYZ', '0B1': 'III'}, {'0EXY0': 'II', '0EXY1': 'II', '0EXY2': 'II', '0B0': 'IZI', '0B1': 'III'}, {'0EXY0': 'II', '0EXY1': 'II', '0EXY2': 'II', '0B0': 'IZY', '0B1': 'III'}, {'0EXY0': 'II', '0EXY1': 'II', '0EXY2': 'II', '0B0': 'IZZ', '0B1': 'III'}, {'0EXY0': 'II', '0EXY1': 'II', '0EXY2': 'II', '0B0': 'XII', '0B1': 'III'}, {'0EXY0': 'II', '0EXY1': 'II', '0EXY2': 'II', '0B0': 'XIY', '0B1': 'III'}, {'0EXY0': 'II', '0EXY1': 'II', '0EXY2': 'II', '0B0': 'XIZ', '0B1': 'III'}, {'0EXY0': 'II', '0EXY1': 'II', '0EXY2': 'II', '0B0': 'XXI', '0B1': 'III'}, {'0EXY0': 'II', '0EXY1': 'II', '0EXY2': 'II', '0B0': 'XXX', '0B1': 'III'}, {'0EXY0': 'II', '0EXY1': 'II', '0EXY2': 'II', '0B0': 'XXZ', '0B1': 'III'}, {'0EXY0': 'II', '0EXY1': 'II', '0EXY2': 'II', '0B0': 'XZI', '0B1': 'III'}, {'0EXY0': 'II', '0EXY1': 'II', '0EXY2': 'II', '0B0': 'XZX', '0B1': 'III'}, {'0EXY0': 'II', '0EXY1': 'II', '0EXY2': 'II', '0B0': 'YII', '0B1': 'III'}, {'0EXY0': 'II', '0EXY1': 'II', '0EXY2': 'II', '0B0': 'YIZ', '0B1': 'III'}, {'0EXY0': 'II', '0EXY1': 'II', '0EXY2': 'II', '0B0': 'YXI', '0B1': 'III'}, {'0EXY0': 'II', '0EXY1': 'II', '0EXY2': 'II', '0B0': 'YXX', '0B1': 'III'}, {'0EXY0': 'II', '0EXY1': 'II', '0EXY2': 'II', '0B0': 'YYY', '0B1': 'III'}, {'0EXY0': 'II', '0EXY1': 'II', '0EXY2': 'II', '0B0': 'YZI', '0B1': 'III'}, {'0EXY0': 'II', '0EXY1': 'II', '0EXY2': 'II', '0B0': 'YZY', '0B1': 'III'}, {'0EXY0': 'II', '0EXY1': 'II', '0EXY2': 'II', '0B0': 'ZII', '0B1': 'III'}, {'0EXY0': 'II', '0EXY1': 'II', '0EXY2': 'II', '0B0': 'ZIX', '0B1': 'III'}, {'0EXY0': 'II', '0EXY1': 'II', '0EXY2': 'II', '0B0': 'ZIY', '0B1': 'III'}, {'0EXY0': 'II', '0EXY1': 'II', '0EXY2': 'II', '0B0': 'ZIZ', '0B1': 'III'}, {'0EXY0': 'II', '0EXY1': 'II', '0EXY2': 'II', '0B0': 'ZXI', '0B1': 'III'}, {'0EXY0': 'II', '0EXY1': 'II', '0EXY2': 'II', '0B0': 'ZXX', '0B1': 'III'}, {'0EXY0': 'II', '0EXY1': 'II', '0EXY2': 'II', '0B0': 'ZYX', '0B1': 'III'}, {'0EXY0': 'II', '0EXY1': 'II', '0EXY2': 'II', '0B0': 'ZZI', '0B1': 'III'}, {'0EXY0': 'II', '0EXY1': 'II', '0EXY2': 'II', '0B0': 'ZZZ', '0B1': 'III'}, {'0EXY0': 'II', '0EXY1': 'II', '0EXY2': 'II', '0B0': 'III', '0B1': 'IIX'}, {'0EXY0': 'II', '0EXY1': 'II', '0EXY2': 'II', '0B0': 'III', '0B1': 'IIY'}, {'0EXY0': 'II', '0EXY1': 'II', '0EXY2': 'II', '0B0': 'III', '0B1': 'IIZ'}, {'0EXY0': 'II', '0EXY1': 'II', '0EXY2': 'II', '0B0': 'III', '0B1': 'IXI'}, {'0EXY0': 'II', '0EXY1': 'II', '0EXY2': 'II', '0B0': 'III', '0B1': 'IXX'}, {'0EXY0': 'II', '0EXY1': 'II', '0EXY2': 'II', '0B0': 'III', '0B1': 'IYI'}, {'0EXY0': 'II', '0EXY1': 'II', '0EXY2': 'II', '0B0': 'III', '0B1': 'IYX'}, {'0EXY0': 'II', '0EXY1': 'II', '0EXY2': 'II', '0B0': 'III', '0B1': 'IZI'}, {'0EXY0': 'II', '0EXY1': 'II', '0EXY2': 'II', '0B0': 'III', '0B1': 'IZY'}, {'0EXY0': 'II', '0EXY1': 'II', '0EXY2': 'II', '0B0': 'III', '0B1': 'IZZ'}, {'0EXY0': 'II', '0EXY1': 'II', '0EXY2': 'II', '0B0': 'III', '0B1': 'XII'}, {'0EXY0': 'II', '0EXY1': 'II', '0EXY2': 'II', '0B0': 'III', '0B1': 'XXI'}, {'0EXY0': 'II', '0EXY1': 'II', '0EXY2': 'II', '0B0': 'III', '0B1': 'XXX'}, {'0EXY0': 'II', '0EXY1': 'II', '0EXY2': 'II', '0B0': 'III', '0B1': 'XYI'}, {'0EXY0': 'II', '0EXY1': 'II', '0EXY2': 'II', '0B0': 'III', '0B1': 'XYX'}, {'0EXY0': 'II', '0EXY1': 'II', '0EXY2': 'II', '0B0': 'III', '0B1': 'YXI'}, {'0EXY0': 'II', '0EXY1': 'II', '0EXY2': 'II', '0B0': 'III', '0B1': 'YXX'}, {'0EXY0': 'II', '0EXY1': 'II', '0EXY2': 'II', '0B0': 'III', '0B1': 'YYI'}, {'0EXY0': 'II', '0EXY1': 'II', '0EXY2': 'II', '0B0': 'III', '0B1': 'ZII'}, {'0EXY0': 'II', '0EXY1': 'II', '0EXY2': 'II', '0B0': 'III', '0B1': 'ZIX'}, {'0EXY0': 'II', '0EXY1': 'II', '0EXY2': 'II', '0B0': 'III', '0B1': 'ZIZ'}, {'0EXY0': 'II', '0EXY1': 'II', '0EXY2': 'II', '0B0': 'III', '0B1': 'ZXI'}, {'0EXY0': 'II', '0EXY1': 'II', '0EXY2': 'II', '0B0': 'III', '0B1': 'ZYX'}, {'0EXY0': 'II', '0EXY1': 'II', '0EXY2': 'II', '0B0': 'III', '0B1': 'ZZI'}]\n",
      "69\n",
      "[array([2.91907661-1.01979605e-19j]), array([-0.04135681+3.30244279e-18j]), array([-0.02993545+1.82348023e-18j]), array([-0.03288646-8.08436535e-18j]), array([-0.0403828-1.52054383e-18j]), array([-0.04674891+5.26462887e-18j]), array([-0.03132455-4.70283879e-18j]), array([-0.0501825+1.43061975e-18j]), array([-0.04256528+3.23772749e-18j]), array([-0.04975272+3.74592347e-18j]), array([-0.10915905-1.42935074e-18j]), array([-0.11533667+3.60240094e-19j]), array([-0.11184873+2.06089034e-19j]), array([-0.07951025-4.38606201e-19j]), array([-0.1067389+1.95064467e-19j]), array([-0.03957932-1.78647552e-20j]), array([-0.03976349-2.0865092e-19j]), array([-0.0319367-2.32100447e-19j]), array([-0.03116692-8.24694245e-19j]), array([-0.04169909-3.32766258e-19j]), array([-0.03733649+4.77845459e-19j]), array([-0.13576751+1.01123817e-18j]), array([0.03249393+3.19311466e-19j]), array([-0.02807248-7.06651387e-19j]), array([0.03161214+1.49562431e-19j]), array([-0.2130204-9.63824334e-19j]), array([0.03191871+2.50124269e-19j]), array([-0.0377689-1.15228199e-19j]), array([0.02813882+4.36417123e-20j]), array([0.02880228-7.48427453e-19j]), array([0.02580567+4.24527284e-19j]), array([-0.06482015+1.57529443e-19j]), array([-0.1914326+7.83583989e-19j]), array([0.04047284+7.7016154e-19j]), array([0.06053693-1.89056181e-19j]), array([-0.02539782+5.44418897e-20j]), array([1.0601544-5.21718684e-19j]), array([-0.03375045+8.95714878e-19j]), array([-0.03719359-7.42346234e-19j]), array([-0.06586302-2.34500134e-20j]), array([-0.03530505-2.13174603e-23j]), array([0.0290924+5.81484665e-20j]), array([-0.05971885-8.73867506e-21j]), array([-0.12255905+6.38352406e-19j]), array([-0.07067782-6.46650302e-20j]), array([-0.10759188+9.43184207e-20j]), array([-0.0218297-1.68049565e-19j]), array([-0.04165243+1.11425442e-18j]), array([-0.08430584-2.37666277e-19j]), array([-0.04778926+6.94573689e-20j]), array([-0.01909405+1.33768639e-19j]), array([-0.01926408-2.53236553e-19j]), array([-0.02486621+1.40108264e-18j]), array([-0.05826295-2.12532266e-20j]), array([-0.0546016-1.08102285e-18j]), array([-0.05673346+2.49125746e-20j]), array([0.04397289+1.42315078e-19j]), array([-0.09399365-1.39233646e-18j]), array([-0.04333111+3.78985906e-21j]), array([0.02013348+9.90317941e-19j]), array([-0.03050401+3.05064945e-20j]), array([-0.09637159+1.19323894e-18j]), array([0.03343185-1.15766713e-19j]), array([-0.25537078+9.53730557e-19j]), array([0.02780442+8.54987909e-20j]), array([-0.03266596-1.33143966e-18j]), array([0.04161175-9.56653398e-20j]), array([-0.03818339+4.23137087e-21j]), array([-0.08163178-1.03146178e-18j])]\n",
      "(1.016456604616451+4.136035626057877e-18j)\n"
     ]
    }
   ],
   "source": [
    "def error_mitigated_circuits_two_layers(target_indices, g, alpha, T, n_steps, device_backend, process_mat_dict, max_nonid, trhd = 1e-2):\n",
    "    \n",
    "    deltaT = T/n_steps\n",
    "    \n",
    "    sig_str = [\"I\", \"X\", \"Y\", \"Z\"]\n",
    "    mitigation_list = []\n",
    "    p_list = [] # The (quasi-)probability that the circuit occurs\n",
    "    for stp in range(n_steps):\n",
    "        for itr, (key, val) in enumerate(process_mat_dict.items()):\n",
    "            temp_list = []\n",
    "            temp_p = []\n",
    "            index = np.where(np.abs(np.real(val)) > trhd)[0]\n",
    "            for i in index:\n",
    "                if len(mitigation_list) == 0:\n",
    "                    temp_p.append(val[i])\n",
    "                    if key[0] != 'B':\n",
    "                        temp_list.append({'%d'%stp + key: '%s%s'%(sig_str[(i// 4)%4], sig_str[i%4])})\n",
    "                    else:\n",
    "                        temp_list.append({'%d'%stp + key: '%s%s%s'%(sig_str[i//16], sig_str[(i// 4)%4], sig_str[i%4])})\n",
    "                else:\n",
    "                    for j, d in enumerate(mitigation_list):\n",
    "                        dic = d.copy()\n",
    "                        if key[0] != 'B':\n",
    "                            dic['%d'%stp + key] = '%s%s'%(sig_str[(i// 4)%4], sig_str[i%4])\n",
    "                        else:\n",
    "                            dic['%d'%stp + key] = '%s%s%s'%(sig_str[i//16], sig_str[(i// 4)%4], sig_str[i%4])\n",
    "                        if len([val for val in dic.values() if val != 'II' and val != 'III']) <= max_nonid:\n",
    "                            temp_list.append(dic)\n",
    "                            temp_p.append(p_list[j]*val[i])\n",
    "            p_list = temp_p             \n",
    "            mitigation_list = temp_list\n",
    "    \n",
    "    \n",
    "    # Execute circuits\n",
    "    job_manager = IBMQJobManager()\n",
    "    circs = []\n",
    "    for mit_dict in mitigation_list:\n",
    "        circ = QuantumCircuit(device_backend.configuration().n_qubits, 6)\n",
    "        circ = physical_trotter_step(circ, target_indices, g, alpha, T, n_steps, mit_dict, unitary_sim = False)\n",
    "        circ.measure([5, 7, 10, 6, 12, 11], list(range(6)))\n",
    "        circs.append(circ)\n",
    "    jobs = job_manager.run([circ], backend=device_backend)\n",
    "    print(jobs.report())\n",
    "    while any(stat != JobStatus.DONE for stat in jobs.statuses()):\n",
    "        time.sleep(60)\n",
    "    results = jobs.results()\n",
    "    print(jobs.error_messages())\n",
    "    \n",
    "    \n",
    "    # Compute the true distribution\n",
    "    dist = {dec_to_binary_str(i, 2): 0. for i in range(2**6)}\n",
    "    for i, p in enumerate(p_list):\n",
    "        counts = results.get_counts(i)\n",
    "        for key in counts.keys():\n",
    "            dist[key] += np.real(chi_eps_inv_coupling)[i]*counts[key]\n",
    "    \n",
    "    return dist\n",
    "\n",
    "mit_list, p_list = error_mitigated_circuits_two_layers([0, 1, 2, 3, 4, 5], g, alpha, 0.1, 1, device_backend, \n",
    "                        {\"EXY0\": chi_eps_inv_exy, \"EXY1\": chi_eps_inv_exy1, \"EXY2\": chi_eps_inv_exy2, \"B0\":chi_eps_inv_plaquette, \"B1\":chi_eps_inv_plaquette1\n",
    "                        }, 1, 1e-2)\n",
    "print(mit_list)\n",
    "print(len(mit_list))\n",
    "print(p_list)\n",
    "print(np.sum(p_list))"
   ]
  },
  {
   "cell_type": "markdown",
   "metadata": {},
   "source": [
    "# Mitigation (Coupling)"
   ]
  },
  {
   "cell_type": "code",
   "execution_count": null,
   "metadata": {},
   "outputs": [],
   "source": [
    "noise_model = NoiseModel.from_backend(device_backend)\n",
    "basis_gates = noise_model.basis_gates\n",
    "shots = 1024\n",
    "def dec_to_binary_str(dec, n_dig):\n",
    "    s = bin(dec).replace(\"0b\", \"\")\n",
    "    return '0'*(n_dig - len(s)) +s \n",
    "dist = {dec_to_binary_str(i, 2): 0. for i in range(4)}\n",
    "\n",
    "index = np.where(np.abs(np.real(chi_eps_inv_coupling)) > 1e-2)[0]\n",
    "backend = Aer.get_backend('qasm_simulator')\n",
    "for i in index:\n",
    "    i_list = [(i// 4)%4, i%4]\n",
    "    cr = ClassicalRegister(2, 'cr')\n",
    "    qr = QuantumRegister(2, 'qr')\n",
    "    circ = QuantumCircuit(qr, cr)\n",
    "    circ.h(0)\n",
    "    coupling_circ(circ)\n",
    "    for j in range(2):\n",
    "        if i_list[j] == 1:\n",
    "            circ.x(1-j)\n",
    "        elif i_list[j] == 2:\n",
    "            circ.y(1-j)\n",
    "        elif i_list[j] == 3:\n",
    "            circ.z(1-j)\n",
    "    \n",
    "    circ.measure(qr, cr)\n",
    "    job = execute(circ, backend, \n",
    "                       noise_model=noise_model,\n",
    "                       coupling_map=coupling_map,\n",
    "                       basis_gates=basis_gates,\n",
    "                       shots = shots)\n",
    "    counts = job.result().get_counts(circ)\n",
    "    for key in counts.keys():\n",
    "        dist[key] += np.real(chi_eps_inv_coupling)[i]*counts[key]\n",
    "        \n",
    "plot_histogram(dist)"
   ]
  },
  {
   "cell_type": "code",
   "execution_count": null,
   "metadata": {},
   "outputs": [],
   "source": [
    "cr = ClassicalRegister(2, 'cr')\n",
    "qr = QuantumRegister(2, 'qr')\n",
    "circ = QuantumCircuit(qr, cr)\n",
    "circ.h(0)\n",
    "coupling_circ(circ)\n",
    "circ.measure(qr, cr)\n",
    "job = execute(circ, backend, shots = shots)\n",
    "counts = job.result().get_counts(circ)\n",
    "plot_histogram(counts)"
   ]
  },
  {
   "cell_type": "markdown",
   "metadata": {},
   "source": [
    "# Mitigation (Plaquette)"
   ]
  },
  {
   "cell_type": "code",
   "execution_count": null,
   "metadata": {},
   "outputs": [],
   "source": [
    "noise_model = NoiseModel.from_backend(device_backend)\n",
    "basis_gates = noise_model.basis_gates\n",
    "shots = 1024\n",
    "def dec_to_binary_str(dec, n_dig):\n",
    "    s = bin(dec).replace(\"0b\", \"\")\n",
    "    return '0'*(n_dig - len(s)) +s \n",
    "dist = {dec_to_binary_str(i, 3): 0. for i in range(8)}\n",
    "\n",
    "index = np.where(np.abs(np.real(chi_eps_inv_plaquette)) > 1e-2)[0]\n",
    "for i in index:\n",
    "    i_list = [i//16, (i// 4)%4, i%4]\n",
    "    cr = ClassicalRegister(3, 'cr')\n",
    "    qr = QuantumRegister(3, 'qr')\n",
    "    circ = QuantumCircuit(qr, cr)\n",
    "    plaquette_circ(circ)\n",
    "    \n",
    "    for j in range(3):\n",
    "        if i_list[j] == 1:\n",
    "            circ.x(2-j)\n",
    "        elif i_list[j] == 2:\n",
    "            circ.y(2-j)\n",
    "        elif i_list[j] == 3:\n",
    "            circ.z(2-j)\n",
    "    \n",
    "    circ.measure(qr, cr)\n",
    "    job = execute(circ, backend, \n",
    "                       noise_model=noise_model,\n",
    "                       coupling_map=coupling_map,\n",
    "                       basis_gates=basis_gates,\n",
    "                       shots = shots)\n",
    "    counts = job.result().get_counts(circ)\n",
    "    for key in counts.keys():\n",
    "        dist[key] += np.real(chi_eps_inv_plaquette)[i, 0]*counts[key]\n",
    "plot_histogram({key: val for key, val in dist.items() if val > 0})"
   ]
  },
  {
   "cell_type": "code",
   "execution_count": null,
   "metadata": {},
   "outputs": [],
   "source": [
    "cr = ClassicalRegister(3, 'cr')\n",
    "qr = QuantumRegister(3, 'qr')\n",
    "circ = QuantumCircuit(qr, cr)\n",
    "circ = trotter_plaquette(q_circuit=circ, target_indices=[0, 1, 2], coef=-1/(2*0.25**2), deltaT=0.1)\n",
    "circ.measure(qr, cr)\n",
    "job = execute(circ, backend, shots = 1024)\n",
    "counts = job.result().get_counts(circ)\n",
    "plot_histogram(counts)"
   ]
  },
  {
   "cell_type": "code",
   "execution_count": null,
   "metadata": {},
   "outputs": [],
   "source": [
    "chi_eps_inv_electric = noise_mitigation_gate(electric_circ, 2, device_backend, simulation=False)\n",
    "print(np.sum(chi_eps_inv_electric))\n",
    "print(chi_eps_inv_electric)"
   ]
  },
  {
   "cell_type": "code",
   "execution_count": null,
   "metadata": {},
   "outputs": [],
   "source": [
    "chi_eps_inv_plaquette = noise_mitigation_gate(plaquette_circ, 3, device_backend, simulation=False)\n",
    "print(np.sum(chi_eps_inv_plaquette))\n",
    "print(chi_eps_inv_plaquette)"
   ]
  },
  {
   "cell_type": "code",
   "execution_count": null,
   "metadata": {},
   "outputs": [],
   "source": [
    "from qiskit.providers.ibmq import api\n",
    "print(device_backend.jobs())\n",
    "for job in device_backend.jobs():\n",
    "    job.cancel()"
   ]
  },
  {
   "cell_type": "code",
   "execution_count": 114,
   "metadata": {},
   "outputs": [
    {
     "data": {
      "image/png": "[encoded data removed]",
      "text/plain": [
       "<matplotlib.figure.Figure at 0x1e6476af630>"
      ]
     },
     "execution_count": 114,
     "metadata": {},
     "output_type": "execute_result"
    }
   ],
   "source": [
    "circ = QuantumCircuit(6, 6)\n",
    "trotter_circ(circ, [0, 1, 2, 3, 4, 5], unitary_sim = False)\n",
    "circ.measure([0, 1, 2, 3, 4, 5], list(range(6)))\n",
    "job = execute(circ, backend=backend)\n",
    "result = job.result()\n",
    "counts = result.get_counts(0)\n",
    "plot_histogram(counts)"
   ]
  },
  {
   "cell_type": "code",
   "execution_count": null,
   "metadata": {},
   "outputs": [],
   "source": []
  }
 ],
 "metadata": {
  "kernelspec": {
   "display_name": "Python 3",
   "language": "python",
   "name": "python3"
  },
  "language_info": {
   "codemirror_mode": {
    "name": "ipython",
    "version": 3
   },
   "file_extension": ".py",
   "mimetype": "text/x-python",
   "name": "python",
   "nbconvert_exporter": "python",
   "pygments_lexer": "ipython3",
   "version": "3.6.3"
  }
 },
 "nbformat": 4,
 "nbformat_minor": 2
}
