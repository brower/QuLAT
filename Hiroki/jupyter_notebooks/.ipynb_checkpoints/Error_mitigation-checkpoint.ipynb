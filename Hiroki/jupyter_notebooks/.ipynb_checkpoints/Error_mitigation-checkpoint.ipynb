{
 "cells": [
  {
   "cell_type": "code",
   "execution_count": 2,
   "metadata": {},
   "outputs": [],
   "source": [
    "import os, time, itertools, tqdm\n",
    "import sys\n",
    "module_path = os.path.abspath(os.path.join('..'))\n",
    "if module_path not in sys.path:\n",
    "    sys.path.append(module_path)\n",
    "import numpy as np\n",
    "from scipy.linalg import expm, eig, logm\n",
    "from scipy import sparse\n",
    "from scipy.sparse.linalg import inv\n",
    "from scipy.optimize import minimize\n",
    "from qiskit import QuantumCircuit, QuantumRegister, ClassicalRegister, Aer, execute, IBMQ\n",
    "from qiskit.quantum_info import DensityMatrix\n",
    "from operators.triangle_plaquette_hamiltonian import TrianglePlaquetteHamiltonian\n",
    "from operators.pauli_hamiltonian import PauliHamiltonian\n",
    "from quantum_circuit.trotterization import trotter_electric, trotter_coupling, trotter_plaquette\n",
    "import matplotlib.pyplot as plt\n",
    "np.set_printoptions(threshold=sys.maxsize)\n",
    "from qiskit.providers.jobstatus import JobStatus\n",
    "from qiskit.visualization import plot_histogram\n",
    "from qiskit.providers.aer.noise import NoiseModel\n",
    "from utils.matrix_operations import *\n",
    "from utils.operations import *"
   ]
  },
  {
   "cell_type": "code",
   "execution_count": 2,
   "metadata": {},
   "outputs": [],
   "source": [
    "# Initialize Simulator|\n",
    "backend = Aer.get_backend('statevector_simulator')"
   ]
  },
  {
   "cell_type": "code",
   "execution_count": 3,
   "metadata": {},
   "outputs": [],
   "source": [
    "sig = []\n",
    "sig.append(np.eye(2))\n",
    "sig.append(np.array([[0, 1], [1, 0]]))\n",
    "sig.append(np.array([[0, -1j], [1j, 0]]))\n",
    "sig.append(np.array([[1, 0], [0, -1]]))"
   ]
  },
  {
   "cell_type": "code",
   "execution_count": 4,
   "metadata": {},
   "outputs": [],
   "source": [
    "def change_basis_measurement(circ, i, trg):\n",
    "    if i == 1:\n",
    "        circ.h(trg)\n",
    "    elif i == 2:\n",
    "        circ.rx(np.pi/2, trg)\n",
    "        \n",
    "def change_basis_input(circ, i, trg):\n",
    "    if i == 0:\n",
    "        circ.h(trg)\n",
    "    elif i == 1:\n",
    "        circ.ry(-np.pi/2, trg)\n",
    "    elif i == 2:\n",
    "        circ.rx(np.pi/2, trg)\n",
    "    elif i == 3:\n",
    "        circ.rx(-np.pi/2, trg)\n",
    "    elif i == 5:\n",
    "        circ.x(trg)"
   ]
  },
  {
   "cell_type": "code",
   "execution_count": 30,
   "metadata": {},
   "outputs": [
    {
     "name": "stdout",
     "output_type": "stream",
     "text": [
      "[<AccountProvider for IBMQ(hub='ibm-q', group='open', project='main')>, <AccountProvider for IBMQ(hub='ibm-q-ornl', group='hep-qis', project='brookhaven')>]\n",
      "[<IBMQSimulator('ibmq_qasm_simulator') from IBMQ(hub='ibm-q-ornl', group='hep-qis', project='brookhaven')>, <IBMQBackend('ibmqx2') from IBMQ(hub='ibm-q-ornl', group='hep-qis', project='brookhaven')>, <IBMQBackend('ibmq_16_melbourne') from IBMQ(hub='ibm-q-ornl', group='hep-qis', project='brookhaven')>, <IBMQBackend('ibmq_poughkeepsie') from IBMQ(hub='ibm-q-ornl', group='hep-qis', project='brookhaven')>, <IBMQBackend('ibmq_boeblingen') from IBMQ(hub='ibm-q-ornl', group='hep-qis', project='brookhaven')>, <IBMQBackend('ibmq_vigo') from IBMQ(hub='ibm-q-ornl', group='hep-qis', project='brookhaven')>, <IBMQBackend('ibmq_ourense') from IBMQ(hub='ibm-q-ornl', group='hep-qis', project='brookhaven')>, <IBMQBackend('ibmq_london') from IBMQ(hub='ibm-q-ornl', group='hep-qis', project='brookhaven')>, <IBMQBackend('ibmq_burlington') from IBMQ(hub='ibm-q-ornl', group='hep-qis', project='brookhaven')>, <IBMQBackend('ibmq_johannesburg') from IBMQ(hub='ibm-q-ornl', group='hep-qis', project='brookhaven')>, <IBMQBackend('ibmq_rochester') from IBMQ(hub='ibm-q-ornl', group='hep-qis', project='brookhaven')>, <IBMQBackend('ibmq_essex') from IBMQ(hub='ibm-q-ornl', group='hep-qis', project='brookhaven')>, <IBMQBackend('ibmq_armonk') from IBMQ(hub='ibm-q-ornl', group='hep-qis', project='brookhaven')>, <IBMQBackend('ibmq_cambridge') from IBMQ(hub='ibm-q-ornl', group='hep-qis', project='brookhaven')>]\n"
     ]
    },
    {
     "data": {
      "text/plain": [
       "<IBMQBackend('ibmq_johannesburg') from IBMQ(hub='ibm-q-ornl', group='hep-qis', project='brookhaven')>"
      ]
     },
     "execution_count": 30,
     "metadata": {},
     "output_type": "execute_result"
    }
   ],
   "source": [
    "# Load IBMQ account\n",
    "IBMQ.load_account() # Load account from disk\n",
    "print(IBMQ.providers())    # List all available providers\n",
    "provider = IBMQ.get_provider(hub='ibm-q-ornl', project='brookhaven')\n",
    "print(provider.backends())\n",
    "device_backend = provider.get_backend('ibmq_johannesburg')\n",
    "coupling_map = device_backend.configuration().coupling_map\n",
    "device_backend"
   ]
  },
  {
   "cell_type": "code",
   "execution_count": 32,
   "metadata": {},
   "outputs": [
    {
     "name": "stdout",
     "output_type": "stream",
     "text": [
      "NoiseModel:\n",
      "  Basis gates: ['cx', 'id', 'u2', 'u3']\n",
      "  Instructions with noise: ['u2', 'u3', 'cx', 'id', 'measure']\n",
      "  Qubits with noise: [0, 1, 2, 3, 4, 5, 6, 7, 8, 9, 10, 11, 12, 13, 14, 15, 16, 17, 18, 19]\n",
      "  Specific qubit errors: [('id', [0]), ('id', [1]), ('id', [2]), ('id', [3]), ('id', [4]), ('id', [5]), ('id', [6]), ('id', [7]), ('id', [8]), ('id', [9]), ('id', [10]), ('id', [11]), ('id', [12]), ('id', [13]), ('id', [14]), ('id', [15]), ('id', [16]), ('id', [17]), ('id', [18]), ('id', [19]), ('u2', [0]), ('u2', [1]), ('u2', [2]), ('u2', [3]), ('u2', [4]), ('u2', [5]), ('u2', [6]), ('u2', [7]), ('u2', [8]), ('u2', [9]), ('u2', [10]), ('u2', [11]), ('u2', [12]), ('u2', [13]), ('u2', [14]), ('u2', [15]), ('u2', [16]), ('u2', [17]), ('u2', [18]), ('u2', [19]), ('u3', [0]), ('u3', [1]), ('u3', [2]), ('u3', [3]), ('u3', [4]), ('u3', [5]), ('u3', [6]), ('u3', [7]), ('u3', [8]), ('u3', [9]), ('u3', [10]), ('u3', [11]), ('u3', [12]), ('u3', [13]), ('u3', [14]), ('u3', [15]), ('u3', [16]), ('u3', [17]), ('u3', [18]), ('u3', [19]), ('cx', [0, 1]), ('cx', [0, 5]), ('cx', [1, 0]), ('cx', [1, 2]), ('cx', [2, 1]), ('cx', [2, 3]), ('cx', [3, 2]), ('cx', [3, 4]), ('cx', [4, 3]), ('cx', [4, 9]), ('cx', [5, 0]), ('cx', [5, 6]), ('cx', [5, 10]), ('cx', [6, 5]), ('cx', [6, 7]), ('cx', [7, 6]), ('cx', [7, 8]), ('cx', [7, 12]), ('cx', [8, 7]), ('cx', [8, 9]), ('cx', [9, 4]), ('cx', [9, 8]), ('cx', [9, 14]), ('cx', [10, 5]), ('cx', [10, 11]), ('cx', [10, 15]), ('cx', [11, 10]), ('cx', [11, 12]), ('cx', [12, 7]), ('cx', [12, 11]), ('cx', [12, 13]), ('cx', [13, 12]), ('cx', [13, 14]), ('cx', [14, 9]), ('cx', [14, 13]), ('cx', [14, 19]), ('cx', [15, 10]), ('cx', [15, 16]), ('cx', [16, 15]), ('cx', [16, 17]), ('cx', [17, 16]), ('cx', [17, 18]), ('cx', [18, 17]), ('cx', [18, 19]), ('cx', [19, 14]), ('cx', [19, 18]), ('measure', [0]), ('measure', [1]), ('measure', [2]), ('measure', [3]), ('measure', [4]), ('measure', [5]), ('measure', [6]), ('measure', [7]), ('measure', [8]), ('measure', [9]), ('measure', [10]), ('measure', [11]), ('measure', [12]), ('measure', [13]), ('measure', [14]), ('measure', [15]), ('measure', [16]), ('measure', [17]), ('measure', [18]), ('measure', [19])]\n"
     ]
    }
   ],
   "source": [
    "# Construct the noise model from backend properties\n",
    "noise_model = NoiseModel.from_backend(device_backend)\n",
    "print(noise_model)"
   ]
  },
  {
   "cell_type": "markdown",
   "metadata": {},
   "source": [
    "# 1-Qubit Tomography"
   ]
  },
  {
   "cell_type": "markdown",
   "metadata": {},
   "source": [
    "## Measurement Simulations"
   ]
  },
  {
   "cell_type": "code",
   "execution_count": 28,
   "metadata": {},
   "outputs": [],
   "source": [
    "def example_circ(circ):\n",
    "    circ.ry(-np.pi/2, 0)"
   ]
  },
  {
   "cell_type": "code",
   "execution_count": 340,
   "metadata": {},
   "outputs": [
    {
     "name": "stdout",
     "output_type": "stream",
     "text": [
      "[[ 0.70710678+0.00000000e+00j  0.70710678+8.65956056e-17j]\n",
      " [-0.70710678+8.65956056e-17j  0.70710678+0.00000000e+00j]]\n"
     ]
    }
   ],
   "source": [
    "backend = Aer.get_backend('unitary_simulator')\n",
    "cr = ClassicalRegister(1, 'cr')\n",
    "qr = QuantumRegister(1, 'qr')\n",
    "circ = QuantumCircuit(qr, cr)\n",
    "example_circ(circ)\n",
    "print(execute(circ, backend).result().get_unitary())"
   ]
  },
  {
   "cell_type": "code",
   "execution_count": 331,
   "metadata": {},
   "outputs": [
    {
     "name": "stdout",
     "output_type": "stream",
     "text": [
      "<X> =  1.0\n",
      "<Y> =  -0.0390625\n",
      "<Z> =  -0.052734375\n"
     ]
    }
   ],
   "source": [
    "u = np.zeros((4))\n",
    "u[0] = 1.0\n",
    "\n",
    "\n",
    "backend = Aer.get_backend('qasm_simulator')\n",
    "\n",
    "cr = ClassicalRegister(1, 'cr')\n",
    "qr = QuantumRegister(1, 'qr')\n",
    "circ = QuantumCircuit(qr, cr)\n",
    "example_circ(circ)\n",
    "circ.h(qr[0])\n",
    "circ.measure(qr, cr)\n",
    "job = execute(circ, backend, shots=1024)\n",
    "u[1] =job.result().get_counts(circ).get('0', 0)/1024*(1)+job.result().get_counts(circ).get('1', 0)/1024*(-1)\n",
    "print(\"<X> = \", u[1])\n",
    "\n",
    "cr = ClassicalRegister(1, 'cr')\n",
    "qr = QuantumRegister(1, 'qr')\n",
    "circ = QuantumCircuit(qr, cr)\n",
    "example_circ(circ)\n",
    "circ.rx(np.pi/2, qr[0])\n",
    "circ.measure(qr, cr)\n",
    "job = execute(circ, backend, shots=1024)\n",
    "u[2] =job.result().get_counts(circ).get('0', 0)/1024*(1)+job.result().get_counts(circ).get('1', 0)/1024*(-1)\n",
    "print(\"<Y> = \", u[2])\n",
    "\n",
    "cr = ClassicalRegister(1, 'cr')\n",
    "qr = QuantumRegister(1, 'qr')\n",
    "circ = QuantumCircuit(qr, cr)\n",
    "example_circ(circ)\n",
    "circ.measure(qr, cr)\n",
    "job = execute(circ, backend, shots=1024)\n",
    "u[3] =job.result().get_counts(circ).get('0', 0)/1024*(1)+job.result().get_counts(circ).get('1', 0)/1024*(-1)\n",
    "print(\"<Z> = \", u[3])"
   ]
  },
  {
   "cell_type": "markdown",
   "metadata": {},
   "source": [
    "## Recover the Density Matrix $\\rho$"
   ]
  },
  {
   "cell_type": "code",
   "execution_count": 6,
   "metadata": {},
   "outputs": [
    {
     "name": "stdout",
     "output_type": "stream",
     "text": [
      "[[0.50683594+0.j         0.5       +0.01074219j]\n",
      " [0.5       -0.01074219j 0.49316406+0.j        ]]\n"
     ]
    }
   ],
   "source": [
    "rho = sum([sig[i]*u[i] for i in range(4)])/2\n",
    "print(rho)"
   ]
  },
  {
   "cell_type": "markdown",
   "metadata": {},
   "source": [
    "## Exact Density Matrix"
   ]
  },
  {
   "cell_type": "code",
   "execution_count": 7,
   "metadata": {},
   "outputs": [
    {
     "name": "stdout",
     "output_type": "stream",
     "text": [
      "[[0.5+0.j 0.5+0.j]\n",
      " [0.5+0.j 0.5+0.j]]\n"
     ]
    }
   ],
   "source": [
    "backend = Aer.get_backend('statevector_simulator')\n",
    "cr = ClassicalRegister(1, 'cr')\n",
    "qr = QuantumRegister(1, 'qr')\n",
    "circ = QuantumCircuit(qr, cr)\n",
    "example_circ(circ)\n",
    "job = execute(circ, backend)\n",
    "state = job.result().get_statevector(circ)\n",
    "print(DensityMatrix(state).data)"
   ]
  },
  {
   "cell_type": "markdown",
   "metadata": {},
   "source": [
    "# Multi-qubit Tomography"
   ]
  },
  {
   "cell_type": "code",
   "execution_count": 102,
   "metadata": {},
   "outputs": [],
   "source": [
    "def example_two_qubit_circ(circ, qr):\n",
    "    circ.h(0)\n",
    "    circ = trotter_coupling(circ, qr, [0, 1], 1.0, 1.0)\n",
    "    return circ"
   ]
  },
  {
   "cell_type": "markdown",
   "metadata": {},
   "source": [
    "## 2-qubit"
   ]
  },
  {
   "cell_type": "code",
   "execution_count": 185,
   "metadata": {
    "scrolled": true
   },
   "outputs": [
    {
     "name": "stdout",
     "output_type": "stream",
     "text": [
      "[ 1.          0.51953125 -0.03710938  0.73828125 -0.01757812  0.03515625\n",
      "  0.4765625  -0.00390625 -0.84765625 -0.47265625  0.04101562 -0.81445312\n",
      "  0.28320312  0.58007812 -0.00976562 -0.03125   ]\n"
     ]
    }
   ],
   "source": [
    "u = np.zeros(4**2)\n",
    "u[0] = 1.0\n",
    "shots = 1024\n",
    "\n",
    "backend = Aer.get_backend('qasm_simulator')\n",
    "for itr, (i, j) in enumerate([p for p in itertools.product(list(range(4)), repeat=2)]):\n",
    "    # Due to the indexing convension of qiskit, i corresponds to 1-th qubit and j corresponds to 0-th qubit\n",
    "    if i == 0 and j == 0:\n",
    "        continue\n",
    "    else:\n",
    "        cr = ClassicalRegister(2, 'cr')\n",
    "        qr = QuantumRegister(2, 'qr')\n",
    "        circ = QuantumCircuit(qr, cr)\n",
    "        circ = example_two_qubit_circ(circ, qr)\n",
    "        if i == 0:\n",
    "            # Measure only the 0-th qubit with the basis specified with j\n",
    "            change_basis_measurement(circ, j, 0)\n",
    "            circ.measure(qr[0], cr[0])\n",
    "        else:\n",
    "            if j == 0:\n",
    "                # Measure only the 1-th qubit with the basis specified with i\n",
    "                change_basis_measurement(circ, i, 1)\n",
    "                circ.measure(qr[1], cr[1])\n",
    "            else:\n",
    "                # Measure both of the two qubits with the bases specified with i and j\n",
    "                change_basis_measurement(circ, i, 1)\n",
    "                change_basis_measurement(circ, j, 0)\n",
    "                circ.measure(qr, cr)\n",
    "        job = execute(circ, backend, shots=shots)\n",
    "        u[itr] =job.result().get_counts(circ).get('00', 0)/shots*(1)+job.result().get_counts(circ).get('11', 0)/shots*(1) \\\n",
    "                        +job.result().get_counts(circ).get('01', 0)/shots*(-1)+job.result().get_counts(circ).get('10', 0)/shots*(-1)\n",
    "print(u)"
   ]
  },
  {
   "cell_type": "markdown",
   "metadata": {},
   "source": [
    "## Tomography"
   ]
  },
  {
   "cell_type": "code",
   "execution_count": 84,
   "metadata": {},
   "outputs": [
    {
     "name": "stdout",
     "output_type": "stream",
     "text": [
      "[[ 5.03417969e-01+0.j          2.76367188e-01-0.00683594j\n",
      "  -4.88281250e-03+0.42822266j -4.39453125e-03+0.00537109j]\n",
      " [ 2.76367188e-01+0.00683594j  1.26464844e-01+0.j\n",
      "  -4.88281250e-04+0.21435547j  1.95312500e-03+0.00048828j]\n",
      " [-4.88281250e-03-0.42822266j -4.88281250e-04-0.21435547j\n",
      "   3.74511719e-01+0.j         -1.17187500e-02+0.j        ]\n",
      " [-4.39453125e-03-0.00537109j  1.95312500e-03-0.00048828j\n",
      "  -1.17187500e-02+0.j         -4.39453125e-03+0.j        ]]\n"
     ]
    }
   ],
   "source": [
    "rho = sum([np.kron(sig[i], sig[j])*u[itr] for itr, (i, j) in enumerate([p for p in itertools.product(list(range(4)), repeat=2)])])/2**2\n",
    "print(rho)"
   ]
  },
  {
   "cell_type": "markdown",
   "metadata": {},
   "source": [
    "## Exact Density Matrix"
   ]
  },
  {
   "cell_type": "code",
   "execution_count": 81,
   "metadata": {},
   "outputs": [
    {
     "name": "stdout",
     "output_type": "stream",
     "text": [
      "[[5.00000000e-01+0.j         2.70151153e-01+0.j\n",
      "  2.57626187e-17+0.42073549j 0.00000000e+00+0.j        ]\n",
      " [2.70151153e-01+0.j         1.45963291e-01+0.j\n",
      "  1.39196023e-17+0.22732436j 0.00000000e+00+0.j        ]\n",
      " [2.57626187e-17-0.42073549j 1.39196023e-17-0.22732436j\n",
      "  3.54036709e-01+0.j         0.00000000e+00-0.j        ]\n",
      " [0.00000000e+00+0.j         0.00000000e+00+0.j\n",
      "  0.00000000e+00+0.j         0.00000000e+00+0.j        ]]\n"
     ]
    }
   ],
   "source": [
    "backend = Aer.get_backend('statevector_simulator')\n",
    "cr = ClassicalRegister(2, 'cr')\n",
    "qr = QuantumRegister(2, 'qr')\n",
    "circ = QuantumCircuit(qr, cr)\n",
    "circ = example_two_qubit_circ(circ, qr)\n",
    "job = execute(circ, backend)\n",
    "state = job.result().get_statevector(circ)\n",
    "print(DensityMatrix(state).data)"
   ]
  },
  {
   "cell_type": "markdown",
   "metadata": {},
   "source": [
    "## Compare"
   ]
  },
  {
   "cell_type": "code",
   "execution_count": 85,
   "metadata": {},
   "outputs": [
    {
     "name": "stdout",
     "output_type": "stream",
     "text": [
      "[[0.00341797 0.00923954 0.00893865 0.00693978]\n",
      " [0.00923954 0.01949845 0.01297808 0.00201324]\n",
      " [0.00893865 0.01297808 0.02047501 0.01171875]\n",
      " [0.00693978 0.00201324 0.01171875 0.00439453]]\n"
     ]
    }
   ],
   "source": [
    "print(np.abs(DensityMatrix(state).data - rho))"
   ]
  },
  {
   "cell_type": "markdown",
   "metadata": {},
   "source": [
    "# Construct Noise Model Based on the Machine"
   ]
  },
  {
   "cell_type": "code",
   "execution_count": 105,
   "metadata": {},
   "outputs": [
    {
     "data": {
      "image/png": "[encoded data removed]",
      "text/plain": [
       "<matplotlib.figure.Figure at 0x1b023d8ddd8>"
      ]
     },
     "execution_count": 105,
     "metadata": {},
     "output_type": "execute_result"
    }
   ],
   "source": [
    "# Get the basis gates for the noise model\n",
    "basis_gates = noise_model.basis_gates\n",
    "\n",
    "# Execute noisy simulation and get counts\n",
    "backend = Aer.get_backend('qasm_simulator')\n",
    "cr = ClassicalRegister(2, 'cr')\n",
    "qr = QuantumRegister(2, 'qr')\n",
    "circ = QuantumCircuit(qr, cr)\n",
    "circ = example_two_qubit_circ(circ, qr)\n",
    "circ.measure(qr, cr)\n",
    "result_noise = execute(circ, backend, \n",
    "                       noise_model=noise_model,\n",
    "                       coupling_map=coupling_map,\n",
    "                       basis_gates=basis_gates).result()\n",
    "counts_noise = result_noise.get_counts(circ)\n",
    "plot_histogram(counts_noise)"
   ]
  },
  {
   "cell_type": "code",
   "execution_count": 104,
   "metadata": {},
   "outputs": [
    {
     "data": {
      "image/png": "[encoded data removed]",
      "text/plain": [
       "<matplotlib.figure.Figure at 0x1b0519b8320>"
      ]
     },
     "execution_count": 104,
     "metadata": {},
     "output_type": "execute_result"
    }
   ],
   "source": [
    "result_noise = execute(circ, backend).result()\n",
    "counts_noise = result_noise.get_counts(circ)\n",
    "plot_histogram(counts_noise)"
   ]
  },
  {
   "cell_type": "code",
   "execution_count": 108,
   "metadata": {},
   "outputs": [
    {
     "name": "stdout",
     "output_type": "stream",
     "text": [
      "Status @ 0 seconds\n",
      "JobStatus.INITIALIZING\n",
      "Status @ 30 seconds\n",
      "JobStatus.QUEUED\n",
      "Status @ 60 seconds\n",
      "JobStatus.QUEUED\n",
      "Status @ 90 seconds\n",
      "JobStatus.QUEUED\n",
      "Status @ 120 seconds\n",
      "JobStatus.QUEUED\n",
      "Status @ 150 seconds\n",
      "JobStatus.QUEUED\n",
      "Status @ 180 seconds\n",
      "JobStatus.QUEUED\n",
      "Status @ 210 seconds\n",
      "JobStatus.QUEUED\n",
      "Status @ 240 seconds\n",
      "JobStatus.QUEUED\n",
      "Status @ 270 seconds\n",
      "JobStatus.QUEUED\n",
      "Status @ 300 seconds\n",
      "JobStatus.QUEUED\n",
      "Status @ 330 seconds\n",
      "JobStatus.QUEUED\n",
      "Status @ 360 seconds\n",
      "JobStatus.QUEUED\n",
      "Status @ 390 seconds\n",
      "JobStatus.QUEUED\n",
      "Status @ 420 seconds\n",
      "JobStatus.QUEUED\n",
      "Status @ 450 seconds\n",
      "JobStatus.QUEUED\n",
      "Status @ 480 seconds\n",
      "JobStatus.QUEUED\n",
      "Status @ 510 seconds\n",
      "JobStatus.QUEUED\n",
      "Status @ 540 seconds\n",
      "JobStatus.QUEUED\n",
      "Status @ 570 seconds\n",
      "JobStatus.QUEUED\n",
      "Status @ 600 seconds\n",
      "JobStatus.QUEUED\n",
      "Status @ 630 seconds\n",
      "JobStatus.RUNNING\n",
      "Status @ 660 seconds\n",
      "JobStatus.RUNNING\n",
      "Status @ 690 seconds\n",
      "JobStatus.RUNNING\n",
      "JobStatus.DONE\n"
     ]
    },
    {
     "data": {
      "image/png": "[encoded data removed]",
      "text/plain": [
       "<matplotlib.figure.Figure at 0x188099ffe10>"
      ]
     },
     "execution_count": 108,
     "metadata": {},
     "output_type": "execute_result"
    }
   ],
   "source": [
    "job = execute(circ, device_backend, shots=1024)\n",
    "lapse = 0\n",
    "interval = 30\n",
    "while job.status() != JobStatus.DONE:\n",
    "    print('Status @ {} seconds'.format(interval * lapse))\n",
    "    print(job.status())\n",
    "    time.sleep(interval)\n",
    "    lapse += 1\n",
    "print(job.status())\n",
    "result_device = job_device.result()\n",
    "counts_device = result_noise.get_counts(circ)\n",
    "plot_histogram(counts_device)"
   ]
  },
  {
   "cell_type": "code",
   "execution_count": 112,
   "metadata": {},
   "outputs": [
    {
     "data": {
      "image/png": "[encoded data removed]",
      "text/plain": [
       "<matplotlib.figure.Figure at 0x1880983b588>"
      ]
     },
     "execution_count": 112,
     "metadata": {},
     "output_type": "execute_result"
    }
   ],
   "source": [
    "result_device = job.result()\n",
    "counts_device = result_device.get_counts(circ)\n",
    "plot_histogram(counts_device)"
   ]
  },
  {
   "cell_type": "markdown",
   "metadata": {},
   "source": [
    "# Noise Mitigation"
   ]
  },
  {
   "cell_type": "code",
   "execution_count": 6,
   "metadata": {},
   "outputs": [],
   "source": [
    "def example_circ(circ):\n",
    "    #circ.h(0)\n",
    "    circ = trotter_electric(circ, [0, 1], 1.0, 1.0, unitary_sim = True, further_opt = False)\n",
    "    return circ"
   ]
  },
  {
   "cell_type": "markdown",
   "metadata": {},
   "source": [
    "# Compute the matrix $S$\n",
    "\n",
    "The matrix $S$ is equivalent to the expectation values of measurements of the exact output state $\\Gamma_U(\\rho)=U\\rho U^\\dagger$ in the Pauli basis.\n",
    "\\begin{align}\n",
    "S_{i, k} = \\langle\\langle{k|R_{\\Gamma_U}|\\rho_i}\\rangle\\rangle = \\langle\\langle{k|U\\rho_iU^\\dagger}\\rangle\\rangle = Tr(P_k U\\rho_iU^\\dagger)\n",
    "\\end{align}"
   ]
  },
  {
   "cell_type": "code",
   "execution_count": 7,
   "metadata": {},
   "outputs": [
    {
     "data": {
      "image/png": "[encoded data removed]",
      "text/plain": [
       "<matplotlib.figure.Figure at 0x1f76a581208>"
      ]
     },
     "metadata": {
      "needs_background": "light"
     },
     "output_type": "display_data"
    }
   ],
   "source": [
    "backend = Aer.get_backend('unitary_simulator')\n",
    "\n",
    "cr = ClassicalRegister(2, 'cr')\n",
    "qr = QuantumRegister(2, 'qr')\n",
    "circ = QuantumCircuit(qr, cr)\n",
    "circ = example_circ(circ)\n",
    "job = execute(circ, backend)\n",
    "U = job.result().get_unitary()\n",
    "plt.matshow(np.abs(U))\n",
    "plt.show()\n"
   ]
  },
  {
   "cell_type": "code",
   "execution_count": 10,
   "metadata": {
    "scrolled": true
   },
   "outputs": [
    {
     "data": {
      "image/png": "[encoded data removed]",
      "text/plain": [
       "<matplotlib.figure.Figure at 0x1f7195b0a90>"
      ]
     },
     "metadata": {
      "needs_background": "light"
     },
     "output_type": "display_data"
    },
    {
     "data": {
      "image/png": "[encoded data removed]",
      "text/plain": [
       "<matplotlib.figure.Figure at 0x1f71c658fd0>"
      ]
     },
     "metadata": {
      "needs_background": "light"
     },
     "output_type": "display_data"
    }
   ],
   "source": [
    "# Compute the 1-qubit states that are bases of X, Y, Z\n",
    "ref1 = [\n",
    "    np.array([1/np.sqrt(2), 1/np.sqrt(2)], dtype=complex),\n",
    "    np.array([1/np.sqrt(2), -1/np.sqrt(2)], dtype=complex),\n",
    "    np.array([1/np.sqrt(2), 1j/np.sqrt(2)], dtype=complex),\n",
    "    np.array([1/np.sqrt(2), -1j/np.sqrt(2)], dtype=complex),\n",
    "    np.array([1, 0], dtype=complex),\n",
    "    np.array([0, 1], dtype=complex)\n",
    "]\n",
    "\n",
    "\n",
    "# Compute the 2-qubit reference states\n",
    "ref = []\n",
    "for itr, (i, j) in enumerate([p for p in itertools.product(list(range(6)), repeat=2)]):\n",
    "    state = np.kron(ref1[i], ref1[j])\n",
    "    ref.append(np.outer(np.conjugate(state), state))\n",
    "\n",
    "S = np.zeros((36, 16), complex)\n",
    "for k, (k1, k2) in enumerate([p for p in itertools.product(list(range(4)), repeat=2)]):\n",
    "    for i in range(36):\n",
    "        S[i, k] = np.trace(matmul([np.kron(sig[k1], sig[k2]), U, ref[i], np.conjugate(U).T]))/np.sqrt(4)\n",
    "plt.matshow(np.abs(S))\n",
    "plt.show()\n",
    "S_H = np.conjugate(S).T\n",
    "SS = np.matmul(S_H, S)\n",
    "SS_inv = np.linalg.inv(SS)\n",
    "plt.matshow(np.abs(SS_inv))\n",
    "plt.show()"
   ]
  },
  {
   "cell_type": "markdown",
   "metadata": {},
   "source": [
    "## Compute the PTM of $\\epsilon$\n",
    "\\begin{equation}\n",
    "\\langle\\langle{k|R_\\epsilon|l}\\rangle\\rangle = ((S^\\dagger S)^{-1}S^\\dagger P)^T_{k, l}\n",
    "\\end{equation}"
   ]
  },
  {
   "cell_type": "code",
   "execution_count": 610,
   "metadata": {
    "scrolled": true
   },
   "outputs": [
    {
     "name": "stdout",
     "output_type": "stream",
     "text": [
      "[[ 0.5         0.01367188 -0.37792969  0.14550781  0.24023438 -0.00878906\n",
      "  -0.20410156  0.22949219 -0.02539062  0.17285156 -0.00195312 -0.00683594\n",
      "   0.33984375  0.03222656 -0.35253906 -0.01269531]\n",
      " [ 0.5         0.01171875  0.40136719 -0.10742188  0.23535156  0.00585938\n",
      "   0.23144531 -0.23242188  0.00878906 -0.19238281  0.00195312 -0.00292969\n",
      "  -0.29589844 -0.0078125  -0.3515625   0.00585938]\n",
      " [ 0.5        -0.00488281  0.24316406  0.2421875   0.24511719 -0.02148438\n",
      "   0.11328125  0.359375    0.02148438  0.30664062 -0.00097656 -0.00488281\n",
      "  -0.1953125  -0.00878906 -0.35449219 -0.01953125]\n",
      " [ 0.5         0.00488281 -0.24804688 -0.20019531  0.21582031  0.\n",
      "  -0.12792969 -0.34667969  0.00292969 -0.29199219  0.00292969 -0.04785156\n",
      "   0.22265625  0.01269531 -0.36328125 -0.00878906]\n",
      " [ 0.5         0.26269531  0.00488281  0.04003906  0.25390625  0.43164062\n",
      "   0.00390625 -0.00488281  0.01464844  0.00488281 -0.00976562 -0.36816406\n",
      "   0.02441406  0.02929688 -0.328125   -0.0078125 ]\n",
      " [ 0.5        -0.25878906  0.00195312  0.01269531  0.22949219 -0.44140625\n",
      "   0.00097656  0.00390625  0.03515625 -0.01367188 -0.02148438  0.36328125\n",
      "   0.02929688 -0.00488281 -0.33886719  0.        ]\n",
      " [ 0.5        -0.00195312  0.3828125   0.14648438 -0.24023438 -0.00390625\n",
      "  -0.19921875 -0.20898438 -0.0234375   0.18945312  0.00683594 -0.00195312\n",
      "   0.33300781  0.01464844  0.375       0.04394531]\n",
      " [ 0.5        -0.00585938 -0.3828125  -0.13867188 -0.22460938 -0.02441406\n",
      "   0.16113281  0.20898438  0.01855469 -0.18945312 -0.00585938 -0.00390625\n",
      "  -0.30175781 -0.02636719  0.34863281 -0.0078125 ]\n",
      " [ 0.5         0.01855469  0.25390625 -0.18554688 -0.22363281 -0.03222656\n",
      "  -0.11816406  0.36230469  0.00585938 -0.31933594 -0.00097656 -0.00878906\n",
      "   0.23730469 -0.01464844  0.35839844 -0.00683594]\n",
      " [ 0.5         0.00585938 -0.23339844  0.24121094 -0.22265625 -0.015625\n",
      "   0.11914062 -0.34472656  0.03417969  0.30761719 -0.0078125  -0.00976562\n",
      "  -0.19238281 -0.00976562  0.34667969  0.01855469]\n",
      " [ 0.5         0.26464844  0.01367188 -0.02636719 -0.23535156 -0.41699219\n",
      "  -0.03222656  0.0078125   0.00292969  0.00097656  0.00488281 -0.36132812\n",
      "   0.02246094  0.02246094  0.34570312  0.01367188]\n",
      " [ 0.5        -0.2421875   0.00683594  0.03808594 -0.24414062  0.41113281\n",
      "  -0.00976562 -0.01660156  0.         -0.00585938 -0.015625    0.34863281\n",
      "   0.00097656 -0.02050781  0.3671875  -0.00292969]\n",
      " [ 0.5        -0.37890625  0.00292969  0.16601562  0.01367188 -0.01757812\n",
      "  -0.1875      0.01171875 -0.21386719  0.18945312 -0.00683594 -0.22070312\n",
      "   0.33300781 -0.35742188  0.03515625 -0.00390625]\n",
      " [ 0.5         0.37304688  0.02734375 -0.14746094  0.02832031  0.02636719\n",
      "   0.19824219 -0.0078125  -0.26660156 -0.18554688  0.00195312  0.24414062\n",
      "  -0.328125   -0.34179688  0.01367188 -0.00878906]\n",
      " [ 0.5        -0.01269531  0.24609375  0.01953125 -0.0234375   0.01660156\n",
      "  -0.0078125   0.36230469 -0.24316406 -0.00292969 -0.41503906 -0.02929688\n",
      "   0.01269531 -0.36132812 -0.00292969 -0.0078125 ]\n",
      " [ 0.5         0.01464844 -0.24414062 -0.02734375  0.00390625  0.00390625\n",
      "   0.00292969 -0.37304688 -0.22363281  0.          0.40917969  0.01757812\n",
      "  -0.0078125  -0.36523438 -0.01464844 -0.00488281]\n",
      " [ 0.5         0.24609375  0.015625    0.23632812 -0.02148438  0.01171875\n",
      "  -0.31738281 -0.03222656 -0.24804688 -0.14355469  0.0078125  -0.34863281\n",
      "  -0.19042969 -0.35449219  0.00976562  0.0078125 ]\n",
      " [ 0.5        -0.21972656  0.00488281 -0.203125   -0.01953125 -0.01660156\n",
      "   0.30957031  0.02734375 -0.22460938  0.1015625  -0.00976562  0.34179688\n",
      "   0.19628906 -0.35253906  0.02050781  0.015625  ]\n",
      " [ 0.5         0.38769531  0.00292969  0.1484375   0.00390625  0.01074219\n",
      "  -0.17285156 -0.01171875  0.2578125   0.17871094 -0.00292969  0.21972656\n",
      "   0.34179688  0.35839844  0.01757812  0.00976562]\n",
      " [ 0.5        -0.39257812  0.046875   -0.14160156  0.03222656  0.\n",
      "   0.21679688 -0.015625    0.25097656 -0.19628906 -0.02441406 -0.20800781\n",
      "  -0.32910156  0.33398438  0.00488281  0.0078125 ]\n",
      " [ 0.5         0.00488281  0.26269531 -0.00878906  0.01367188 -0.00097656\n",
      "   0.015625    0.33789062  0.23339844 -0.01367188  0.43359375 -0.00683594\n",
      "   0.01171875  0.3515625  -0.0078125   0.00390625]\n",
      " [ 0.5         0.02148438 -0.22949219  0.02441406  0.0234375   0.00683594\n",
      "  -0.0234375  -0.359375    0.25195312  0.02246094 -0.42578125 -0.00976562\n",
      "  -0.00390625  0.36230469 -0.01464844  0.015625  ]\n",
      " [ 0.5         0.24511719 -0.00195312 -0.20800781  0.0078125   0.01855469\n",
      "   0.29492188 -0.00097656  0.23730469  0.12109375  0.02148438 -0.35546875\n",
      "   0.22949219  0.37402344  0.02246094  0.00292969]\n",
      " [ 0.5        -0.25585938 -0.01464844  0.19433594  0.01171875  0.00683594\n",
      "  -0.28613281 -0.00195312  0.23339844 -0.13574219 -0.02050781  0.36132812\n",
      "  -0.1875      0.32519531  0.01367188 -0.00683594]\n",
      " [ 0.5         0.00097656  0.00292969  0.47265625  0.02050781  0.00683594\n",
      "  -0.00292969  0.015625    0.01660156  0.01464844 -0.00390625  0.00292969\n",
      "   0.46679688  0.01953125  0.01171875  0.43554688]\n",
      " [ 0.5        -0.01171875 -0.0390625   0.20019531  0.01660156 -0.00195312\n",
      "   0.38476562  0.01074219 -0.00292969 -0.3671875   0.00976562  0.00878906\n",
      "  -0.19921875  0.00585938 -0.00488281 -0.44238281]\n",
      " [ 0.5        -0.00683594  0.25683594  0.34277344  0.40332031  0.00878906\n",
      "   0.1953125   0.37304688  0.00488281 -0.20703125  0.00878906  0.03125\n",
      "   0.14550781 -0.00585938  0.23242188  0.01074219]\n",
      " [ 0.5        -0.01464844 -0.2421875   0.32617188 -0.37695312  0.01074219\n",
      "   0.18066406 -0.37597656 -0.0078125  -0.18554688  0.0078125   0.00488281\n",
      "   0.14257812  0.02441406 -0.23242188  0.01269531]\n",
      " [ 0.5         0.25976562 -0.00195312  0.34570312  0.00976562  0.02050781\n",
      "   0.22167969 -0.01464844 -0.36425781 -0.18847656 -0.0234375  -0.33984375\n",
      "   0.16796875  0.24609375 -0.00390625  0.01757812]\n",
      " [ 0.5        -0.25        0.00683594  0.32324219  0.00097656  0.00585938\n",
      "   0.20019531  0.02050781  0.39941406 -0.19921875 -0.00195312  0.37109375\n",
      "   0.14453125 -0.22070312 -0.00976562  0.00976562]\n",
      " [ 0.5         0.00585938  0.00683594 -0.20800781  0.02636719 -0.00878906\n",
      "  -0.36425781  0.03027344  0.03320312  0.37109375  0.00878906 -0.00195312\n",
      "   0.20605469 -0.00585938  0.01757812 -0.44140625]\n",
      " [ 0.5        -0.00683594  0.00878906 -0.44921875  0.0078125   0.00683594\n",
      "   0.01171875 -0.00097656  0.00097656 -0.03808594 -0.00292969 -0.015625\n",
      "  -0.43359375 -0.00683594 -0.02441406  0.43164062]\n",
      " [ 0.5         0.00683594  0.23339844 -0.32324219 -0.36621094 -0.00488281\n",
      "  -0.18945312  0.3203125   0.02246094  0.15625     0.00488281 -0.01171875\n",
      "  -0.12597656  0.00292969 -0.21582031 -0.02539062]\n",
      " [ 0.5        -0.00390625 -0.25976562 -0.3125      0.40234375  0.00390625\n",
      "  -0.19824219 -0.36230469  0.01074219  0.19335938 -0.01660156  0.00195312\n",
      "  -0.10058594 -0.00878906  0.22167969 -0.00488281]\n",
      " [ 0.5         0.23632812  0.02734375 -0.32421875  0.0078125   0.02050781\n",
      "  -0.22070312 -0.00097656  0.375       0.19042969  0.02441406 -0.36035156\n",
      "  -0.10839844 -0.24511719  0.0078125   0.00878906]\n",
      " [ 0.5        -0.26171875  0.01757812 -0.31640625 -0.02246094  0.015625\n",
      "  -0.20703125  0.00683594 -0.34570312  0.18652344  0.00097656  0.328125\n",
      "  -0.13574219  0.22949219  0.01757812 -0.00683594]]\n"
     ]
    }
   ],
   "source": [
    "def expectation(counts, shots):\n",
    "    return counts.get('00', 0)/shots*(1)+counts.get('11', 0)/shots*(1) \\\n",
    "                    +counts.get('01', 0)/shots*(-1)+counts.get('10', 0)/shots*(-1)\n",
    "noise_model = NoiseModel.from_backend(device_backend)\n",
    "shots = 1024\n",
    "backend = Aer.get_backend('qasm_simulator')\n",
    "P_S = np.zeros((36, 16))\n",
    "for i, (i1, i2) in enumerate([p for p in itertools.product(list(range(6)), repeat=2)]): \n",
    "    # the input state rho_i = |i1>|i2> where |i1>, |i2> \\in {|0>, |1>, |+>, |->, |R>, |L>}\n",
    "    for j, (j1, j2) in enumerate([p for p in itertools.product(list(range(4)), repeat=2)]):\n",
    "        if j == 0:\n",
    "            P_S[i, j] = 1.0\n",
    "            continue\n",
    "        else:\n",
    "            cr = ClassicalRegister(2, 'cr')\n",
    "            qr = QuantumRegister(2, 'qr')\n",
    "            circ = QuantumCircuit(qr, cr)\n",
    "            change_basis_input(circ, i1, 1)\n",
    "            change_basis_input(circ, i2, 0)\n",
    "            circ = example_circ(circ)\n",
    "            if j1 == 0:\n",
    "                # Measure only the 0-th  with the basis specified with j\n",
    "                change_basis_measurement(circ, j2, 0)\n",
    "                circ.measure(qr[0], cr[0])\n",
    "            else:\n",
    "                if j2 == 0:\n",
    "                    # Measure only the 1-th qubit with the basis specified with i\n",
    "                    change_basis_measurement(circ, j1, 1)\n",
    "                    circ.measure(qr[1], cr[1])\n",
    "                else:\n",
    "                    # Measure both of the two qubits with the bases specified with i and j\n",
    "                    change_basis_measurement(circ, j1, 1)\n",
    "                    change_basis_measurement(circ, j2, 0)\n",
    "                    circ.measure(qr, cr)\n",
    "            job = execute(circ, backend, \n",
    "                       noise_model=noise_model,\n",
    "                       coupling_map=coupling_map,\n",
    "                       basis_gates=basis_gates,\n",
    "                       shots = shots)\n",
    "            P_S[i, j] =expectation(job.result().get_counts(circ), shots)\n",
    "    \n",
    "P_S /= np.sqrt(4)\n",
    "print(P_S)"
   ]
  },
  {
   "cell_type": "code",
   "execution_count": 611,
   "metadata": {},
   "outputs": [
    {
     "name": "stdout",
     "output_type": "stream",
     "text": [
      "(1+1.1441131272319532e-18j)\n"
     ]
    },
    {
     "data": {
      "image/png": "[encoded data removed]",
      "text/plain": [
       "<matplotlib.figure.Figure at 0x1b052e95160>"
      ]
     },
     "metadata": {
      "needs_background": "light"
     },
     "output_type": "display_data"
    }
   ],
   "source": [
    "ptm_eps = matmul([SS_inv, S_H, P_S]).T\n",
    "print(ptm_eps[0, 0])\n",
    "plt.matshow(np.abs(ptm_eps))\n",
    "plt.show()"
   ]
  },
  {
   "cell_type": "markdown",
   "metadata": {},
   "source": [
    "## The inner product between Paulis and reference states \n",
    "\\begin{align}\n",
    "\\langle\\langle l|\\rho_i \\rangle\\rangle = \\frac{1}{\\sqrt{d}}Tr(P_l \\rho_i)\n",
    "\\end{align}\n",
    "For the reference state $\\rho_i$, which must be some physical states of at least 16, we choose $\\{|0\\rangle, |1\\rangle, |+\\rangle, |-\\rangle, |R\\rangle, |L\\rangle\\}^{\\otimes 2}$.  "
   ]
  },
  {
   "cell_type": "code",
   "execution_count": 399,
   "metadata": {
    "scrolled": true
   },
   "outputs": [
    {
     "data": {
      "image/png": "[encoded data removed]",
      "text/plain": [
       "<matplotlib.figure.Figure at 0x1b05328d518>"
      ]
     },
     "metadata": {
      "needs_background": "light"
     },
     "output_type": "display_data"
    }
   ],
   "source": [
    "inn_mrho = np.zeros((16, 36), dtype=complex)\n",
    "for l, (l1, l2) in enumerate([p for p in itertools.product(list(range(4)), repeat=2)]):\n",
    "    for i in range(36):\n",
    "        inn_mrho[l, i] = np.trace(np.matmul(np.kron(sig[l1], sig[l2]), ref[i]))/np.sqrt(4)\n",
    "plt.matshow(np.abs(inn_mrho))\n",
    "plt.show()"
   ]
  },
  {
   "cell_type": "markdown",
   "metadata": {},
   "source": [
    "## Compute the matrix $T$\n",
    "The matrix $T$ is given as \n",
    "\\begin{align}\n",
    "T_{i, k} = \\sum_l \\langle\\langle{k|R_\\epsilon|l}\\rangle\\rangle\\langle\\langle{l|\\rho_i}\\rangle\\rangle\n",
    "\\end{align}"
   ]
  },
  {
   "cell_type": "code",
   "execution_count": 612,
   "metadata": {},
   "outputs": [
    {
     "data": {
      "image/png": "[encoded data removed]",
      "text/plain": [
       "<matplotlib.figure.Figure at 0x1b0530282e8>"
      ]
     },
     "metadata": {
      "needs_background": "light"
     },
     "output_type": "display_data"
    }
   ],
   "source": [
    "T = matmul([ptm_eps, inn_mrho]).T\n",
    "T_H = np.conjugate(T).T\n",
    "TT = np.matmul(T_H, T)\n",
    "TT_inv = np.linalg.inv(TT)#+1e-12*np.eye(16))\n",
    "plt.matshow(np.abs(TT_inv))\n",
    "plt.show()"
   ]
  },
  {
   "cell_type": "markdown",
   "metadata": {},
   "source": [
    "## Compute the PTM of $\\epsilon^{-1}$\n",
    "\\begin{equation}\n",
    "\\langle\\langle{j|R_{\\epsilon^{-1}}|k}\\rangle\\rangle = ((T^\\dagger T)^{-1}T^\\dagger P)^T_{j, k}\n",
    "\\end{equation}"
   ]
  },
  {
   "cell_type": "code",
   "execution_count": 613,
   "metadata": {
    "scrolled": true
   },
   "outputs": [
    {
     "name": "stdout",
     "output_type": "stream",
     "text": [
      "[[ 1.00000000e+00-1.19547769e-18j -5.21501245e-17-2.24728558e-19j\n",
      "  -4.25007252e-17+9.21234530e-18j -5.55111512e-17+1.25985359e-18j\n",
      "  -8.63024929e-17-1.33494742e-18j  1.04083409e-16-1.66048693e-17j\n",
      "   1.73472348e-18+1.48514447e-18j -8.32667268e-17+9.84937607e-19j\n",
      "  -1.83013327e-16+1.79154067e-18j -1.17093835e-16+5.32518224e-18j\n",
      "  -7.41594286e-17-1.65839537e-17j -2.24158799e-16+2.31321230e-18j\n",
      "  -2.77555756e-17-4.45483270e-18j -2.46655994e-18+2.17852959e-18j\n",
      "  -1.08420217e-16+6.74565835e-18j  5.55111512e-17+2.20106052e-20j]\n",
      " [-3.11380558e-03+1.41472172e-19j  1.09413661e+00+3.03825614e-18j\n",
      "   1.70001007e-03-3.78557254e-17j  1.14988290e-02-1.02491973e-17j\n",
      "   2.50601508e-03-3.18402223e-17j -1.00172056e-02-1.46355496e-17j\n",
      "  -6.79694022e-03-1.00071178e-17j  4.63203128e-03+2.42980022e-17j\n",
      "   7.54818457e-03+5.71015105e-19j -2.84511547e-03-1.78325840e-17j\n",
      "  -6.69824223e-03-1.58991452e-17j  9.24070398e-03-5.70552418e-18j\n",
      "  -2.40006883e-02+1.46390702e-17j -1.66096351e-03+6.60034184e-19j\n",
      "  -1.18096895e-03-3.39500139e-18j  3.09586064e-04-2.33950646e-19j]\n",
      " [-1.24186193e-02+1.53301519e-18j  5.79425239e-03+1.78289204e-18j\n",
      "   1.09221873e+00-4.36906483e-18j  8.87634903e-03-6.52264855e-18j\n",
      "  -1.86519760e-03+3.02038026e-18j  1.94783526e-03-1.45319964e-17j\n",
      "  -3.72567919e-04-2.67161905e-18j  3.24039182e-03+7.22451348e-19j\n",
      "  -1.09013662e-02-3.23252520e-17j -2.49826270e-03-1.57739200e-17j\n",
      "  -1.28015010e-03-4.10674565e-17j  1.31483803e-02+4.95142069e-19j\n",
      "   9.59506092e-03+1.19583381e-17j  4.18027036e-03-4.68188357e-17j\n",
      "  -4.48427560e-03-9.75967044e-18j -2.77967244e-02-5.78855631e-19j]\n",
      " [-1.97606270e-02+3.71448312e-18j  1.15906426e-02-3.45945495e-18j\n",
      "  -1.92683068e-02+5.24600139e-18j  1.07056906e+00+4.50272780e-18j\n",
      "  -1.89190000e-02+2.83467637e-19j -5.71706015e-02+3.24520385e-19j\n",
      "  -2.93773298e-03+2.17409272e-18j  2.58271616e-03-7.35781844e-18j\n",
      "   1.86434301e-02-9.56506025e-19j -1.54964376e-02+8.78876407e-18j\n",
      "   4.97860560e-02+8.73119965e-18j  1.03765040e-02+7.29110425e-18j\n",
      "   8.37532042e-04-4.52730996e-18j -2.63852455e-03+2.50561522e-19j\n",
      "   1.58083496e-03-7.15853773e-18j -1.72046596e-02-9.42062961e-19j]\n",
      " [-1.39673565e-02-4.73429038e-18j -4.65094981e-04-1.67236632e-17j\n",
      "   1.11333417e-02+2.80521412e-18j -1.01360259e-02+2.91834665e-18j\n",
      "   1.10521610e+00-5.00412119e-18j -8.84294845e-03-1.60197518e-17j\n",
      "  -9.07511016e-03+5.08252469e-18j -8.13312502e-03-2.56566115e-19j\n",
      "  -2.47989052e-02+7.90753351e-19j -7.18538664e-03+3.58845844e-18j\n",
      "  -1.28176270e-02-2.01467342e-18j  1.73388258e-02+3.26715950e-17j\n",
      "   1.38440814e-02-1.79716144e-18j -1.26043157e-02+1.57572187e-19j\n",
      "  -3.31112637e-02-1.02094226e-17j  8.20596016e-03-4.72597533e-17j]\n",
      " [-1.81338989e-03-1.46776085e-17j -4.15986695e-02-3.45382955e-18j\n",
      "  -1.44040540e-02+2.23559912e-18j -4.02148834e-03-1.97639759e-18j\n",
      "  -1.01772486e-02-6.52049772e-18j  1.17642071e+00+1.52708616e-18j\n",
      "   3.80728742e-03+2.10664721e-18j  2.14408354e-02+7.79239916e-18j\n",
      "   2.96502437e-03+1.57188524e-18j  1.10629502e-02-2.92734427e-18j\n",
      "   1.50511398e-02+5.59528056e-18j -9.84282709e-04+4.42628169e-18j\n",
      "   7.65629733e-03-4.21100166e-18j -6.51350790e-03-1.33951125e-19j\n",
      "   6.99576235e-03+1.09411455e-17j -1.52715667e-02+3.29239277e-17j]\n",
      " [ 8.75196256e-04-2.81636804e-19j  1.13611315e-02+1.07223253e-18j\n",
      "  -4.71672560e-02-1.37864609e-17j  2.78592446e-03+2.19838296e-18j\n",
      "  -1.52773715e-02+2.34612810e-18j -1.79467672e-02+1.14745514e-18j\n",
      "   1.17304091e+00-2.30749942e-19j  1.77784918e-02+7.82692201e-18j\n",
      "   1.53498600e-02+7.17069797e-19j  1.16248210e-02+4.25999266e-18j\n",
      "  -3.38185274e-02+1.03695624e-18j -1.09391187e-02+5.35983943e-19j\n",
      "  -6.61449267e-03+9.95585641e-19j -2.25855532e-02-2.96750257e-19j\n",
      "   1.61510166e-02+3.22343577e-19j  9.55298644e-03+5.23363784e-19j]\n",
      " [ 3.17795670e-03+2.17591685e-18j  1.64714067e-02-1.72628438e-18j\n",
      "  -1.96401424e-02-6.65632617e-18j  6.84898510e-03-1.03263419e-17j\n",
      "  -3.53987697e-02+2.71184678e-18j  2.36412266e-02-1.70587550e-17j\n",
      "  -2.33634708e-02+3.70179227e-18j  1.19468240e+00-1.27831154e-17j\n",
      "  -9.98211209e-03+1.51812409e-18j -1.88233158e-02-1.80328583e-17j\n",
      "   2.86844499e-02+2.19152625e-17j -1.18294025e-02+5.83082832e-18j\n",
      "  -3.81842828e-02-4.66186334e-18j  1.95761322e-02+7.64408632e-18j\n",
      "  -2.39525838e-02-7.97251651e-18j  1.75821505e-02+1.23166892e-18j]\n",
      " [-1.84315062e-02-6.00736241e-18j  3.24962753e-02-6.27444682e-18j\n",
      "   6.48909319e-03-1.42090342e-17j  6.82314965e-04-3.45575552e-17j\n",
      "  -2.50258557e-03+4.32170479e-18j  1.58445197e-02+3.58588948e-18j\n",
      "  -1.26349358e-02-2.31160161e-17j  1.15278678e-03-2.92097517e-17j\n",
      "   1.13077312e+00+8.25639862e-19j -3.63293929e-02-2.37388402e-17j\n",
      "  -9.71223132e-04-1.43260091e-18j  1.73433534e-03+9.52333003e-18j\n",
      "   2.85731298e-03+1.60843388e-17j -4.46307519e-03-1.77233869e-18j\n",
      "   3.07655552e-03-4.48092163e-18j  7.18635603e-03-5.68236705e-19j]\n",
      " [ 1.16288353e-02+2.00681878e-18j -6.13064636e-03-9.08763830e-19j\n",
      "   7.33858066e-03+6.25310588e-19j -2.15665678e-02+6.59529908e-20j\n",
      "  -9.08894729e-03-2.28775661e-19j -5.20968864e-03-4.79785850e-19j\n",
      "  -2.48229089e-02+2.03703359e-18j  3.01475089e-02+7.41593583e-19j\n",
      "  -4.34827083e-05-1.53346750e-18j  1.18090299e+00+4.80261233e-19j\n",
      "   2.34886141e-02-1.70356471e-17j  1.01013130e-02-7.86707634e-19j\n",
      "   1.13505128e-03-3.71923592e-18j -4.43974494e-03+1.94512634e-19j\n",
      "  -6.83317214e-03+7.59363385e-19j  1.92954637e-02-3.66978475e-19j]\n",
      " [ 4.57484573e-03-9.93251203e-18j -2.88336784e-02-3.10425160e-18j\n",
      "  -1.66411183e-02+3.10000543e-18j  1.13160926e-02-1.66664066e-18j\n",
      "   1.29361779e-02-5.98756344e-18j  5.43316965e-03-4.40929450e-20j\n",
      "  -5.76223595e-03+1.86048222e-18j -5.22089310e-03+8.00462669e-18j\n",
      "  -2.45759325e-02-1.57932683e-18j -3.70565205e-03-2.72194918e-18j\n",
      "   1.18862262e+00+1.12573032e-17j  7.02961536e-03+4.21062491e-18j\n",
      "  -1.20322857e-02-4.53739380e-18j  1.81347279e-02+8.71237886e-19j\n",
      "   5.50573215e-03+5.30230556e-18j  1.73388968e-02+3.21717620e-17j]\n",
      " [ 6.02798483e-03-1.17102295e-17j  7.84329256e-03+3.66498657e-18j\n",
      "  -3.28893864e-03-2.94294153e-19j -3.93738989e-02-2.82181636e-19j\n",
      "  -1.84470528e-02+2.91738518e-17j  1.80141882e-02+1.18956682e-18j\n",
      "  -1.31894399e-02+7.18674928e-19j  5.88311822e-04-1.27376417e-18j\n",
      "  -1.21307692e-02+4.63766931e-18j  4.17033381e-03-1.76206226e-17j\n",
      "  -3.62205409e-02+1.65924625e-17j  1.19449802e+00-2.75568552e-18j\n",
      "   1.62986856e-02+1.04868392e-17j  9.14538781e-03+4.16331787e-18j\n",
      "  -2.14176301e-02+1.24260274e-17j  1.24539880e-02+1.50621089e-19j]\n",
      " [-2.81548290e-02-3.37238817e-18j -1.59416018e-02+5.28127833e-18j\n",
      "  -3.03950489e-03-7.80325228e-18j  2.17214553e-05-8.35488300e-18j\n",
      "  -1.78435772e-02-3.35392586e-18j  1.67155924e-02+1.04014664e-18j\n",
      "   2.18603060e-02-5.68522967e-18j -4.77539641e-03+5.06646907e-18j\n",
      "  -6.83734743e-03-1.59996760e-19j  7.98616759e-03-5.77160452e-18j\n",
      "   2.51192727e-03-7.76806304e-18j  1.38113147e-02-6.87152408e-18j\n",
      "   1.09645709e+00+2.25734943e-18j -7.30115144e-03+3.83757189e-19j\n",
      "  -4.42218758e-03+5.14426081e-18j -1.64886852e-02+1.62533408e-21j]\n",
      " [-1.25710831e-03+8.38641542e-19j -3.42584471e-02-1.30480913e-18j\n",
      "   5.81558672e-03+1.24005879e-17j -2.84382081e-03-1.37709629e-17j\n",
      "   1.33960162e-02+1.04345201e-17j  6.01588648e-03-1.50816690e-17j\n",
      "  -2.23184538e-02-1.11994657e-17j  9.87044576e-03-1.39293097e-17j\n",
      "   1.86178952e-02+7.34782432e-19j -3.94583592e-03-4.00795566e-17j\n",
      "   1.07859763e-02-1.92133816e-17j  7.22711445e-03+5.78913439e-18j\n",
      "  -4.19335230e-02+3.07968498e-17j  1.17915465e+00-5.60660931e-19j\n",
      "   3.26274433e-02-1.78455885e-17j -7.20214183e-03-1.05890533e-18j]\n",
      " [-1.07727764e-02+2.35145983e-18j  8.20878646e-03-5.26089601e-17j\n",
      "  -2.32718222e-02-4.84107742e-18j  4.00782946e-03-7.97026612e-18j\n",
      "   2.43156013e-03+9.42997607e-18j -2.29367715e-02+1.78753427e-17j\n",
      "   6.25408243e-03-5.07723691e-18j -2.88234570e-03-4.90277716e-18j\n",
      "   1.22435081e-02+4.03314832e-18j -1.93228474e-02-1.40696584e-17j\n",
      "   2.71820863e-03-6.10894240e-18j -4.17114027e-04-2.94475376e-17j\n",
      "  -2.35718119e-02+1.05369067e-17j -9.19651960e-04+6.97195181e-19j\n",
      "   1.19450230e+00-3.07434473e-18j  1.83558343e-02-4.68939523e-18j]\n",
      " [-2.01958683e-03-4.41533212e-18j -2.97012592e-03+9.26197500e-19j\n",
      "  -2.83396302e-02-8.53149520e-18j -1.39885008e-02-1.12642322e-18j\n",
      "   9.69283396e-04-7.26451055e-18j  1.84599390e-02+1.71099464e-17j\n",
      "  -1.58452236e-02-1.42469311e-18j  3.97538624e-02-1.05025520e-18j\n",
      "  -9.28077903e-03-1.95909933e-18j -6.40503835e-03-5.19751624e-18j\n",
      "   6.47834315e-03+1.69646492e-17j  6.67385159e-03-1.35007528e-18j\n",
      "  -1.30785289e-02+4.24156437e-18j -2.72739278e-03-1.55812549e-18j\n",
      "  -2.72807228e-02-1.25280096e-17j  1.14324616e+00+3.72413801e-19j]]\n"
     ]
    }
   ],
   "source": [
    "ptm_eps_inv = matmul([TT_inv, T_H, inn_mrho.T]).T\n",
    "print(ptm_eps_inv)"
   ]
  },
  {
   "cell_type": "markdown",
   "metadata": {},
   "source": [
    "## Compute the matrix $\\Sigma = Tr[P_k P_i P_l P_j]$ to recover the process matrix from the PTM\n",
    "One may recover the process matrix by\n",
    "\\begin{align}\n",
    "\\vec{\\chi} = \\Sigma^{-1}\\vec{m}\n",
    "\\end{align}\n",
    "where $\\vec{\\chi}_{i+j(d-1)} = \\chi_{ij}$ and $\\vec{m}_{k+l(d-1)} = \\langle\\langle k|R_{\\epsilon^{-1}}|l \\rangle\\rangle$. "
   ]
  },
  {
   "cell_type": "code",
   "execution_count": 15,
   "metadata": {
    "scrolled": true
   },
   "outputs": [
    {
     "data": {
      "image/png": "[encoded data removed]",
      "text/plain": [
       "<matplotlib.figure.Figure at 0x1f553f74278>"
      ]
     },
     "metadata": {
      "needs_background": "light"
     },
     "output_type": "display_data"
    }
   ],
   "source": [
    "SigMat = np.zeros([256, 256], dtype=complex)\n",
    "sig_list = [np.kron(sig[i1], sig[i2]) for (i1, i2)  in itertools.product(list(range(4)), repeat=2)]\n",
    "for i in range(16):\n",
    "    for j in range(16):\n",
    "        for k in range(16):\n",
    "            for l in range(16):\n",
    "                P_i = sig_list[i]\n",
    "                P_j = sig_list[j]\n",
    "                P_k = sig_list[k]\n",
    "                P_l = sig_list[l]\n",
    "                SigMat[i+j*16, k+l*16] = np.trace(np.matmul(P_k, np.matmul(P_i, np.matmul(P_l, P_j))))/4\n",
    "plt.matshow(np.abs(SigMat))\n",
    "plt.show()"
   ]
  },
  {
   "cell_type": "code",
   "execution_count": 614,
   "metadata": {},
   "outputs": [
    {
     "name": "stdout",
     "output_type": "stream",
     "text": [
      "(1-1.1954776906219578e-18j)\n",
      "[ 1.13840259e+00-3.57011415e-19j -1.80199339e-02+5.28053042e-19j\n",
      " -1.57987344e-02+4.15328176e-19j -2.14723471e-02-1.36552220e-18j\n",
      " -2.51170263e-02-1.45729596e-18j -1.32227697e-03+8.77690185e-19j\n",
      " -4.86789642e-03-1.30087422e-18j  8.03672553e-04-4.40167053e-19j\n",
      " -1.94374471e-02+1.83000644e-18j  5.07968731e-04-1.21387818e-18j\n",
      " -2.62792787e-04-2.58723067e-19j  1.46725492e-03+2.36828291e-19j\n",
      " -2.96170163e-02+4.78411288e-19j  1.67144441e-03+2.35413823e-19j\n",
      "  2.80768891e-03-2.13211251e-18j -9.74514860e-03+2.72837566e-18j]\n"
     ]
    },
    {
     "data": {
      "image/png": "[encoded data removed]",
      "text/plain": [
       "<matplotlib.figure.Figure at 0x1b053049f60>"
      ]
     },
     "metadata": {
      "needs_background": "light"
     },
     "output_type": "display_data"
    }
   ],
   "source": [
    "ptm_eps_inv_vec = np.reshape(ptm_eps_inv, [-1, 1])\n",
    "chi_eps_inv_vec = np.dot(np.linalg.inv(SigMat), ptm_eps_inv_vec)\n",
    "chi_eps_inv = np.reshape(chi_eps_inv_vec, [16, 16])\n",
    "print(np.trace(chi_eps_inv))\n",
    "print(np.diagonal(chi_eps_inv))\n",
    "plt.matshow(np.abs(chi_eps_inv))\n",
    "plt.colorbar()\n",
    "plt.show()"
   ]
  },
  {
   "cell_type": "code",
   "execution_count": 615,
   "metadata": {},
   "outputs": [
    {
     "data": {
      "image/png": "[encoded data removed]",
      "text/plain": [
       "<matplotlib.figure.Figure at 0x1b053049710>"
      ]
     },
     "metadata": {
      "needs_background": "light"
     },
     "output_type": "display_data"
    }
   ],
   "source": [
    "plt.bar(range(16), np.real(np.diagonal(chi_eps_inv)))\n",
    "plt.show()"
   ]
  },
  {
   "cell_type": "markdown",
   "metadata": {},
   "source": [
    "## Check if $\\chi_{\\epsilon^{-1}}$ is correct"
   ]
  },
  {
   "cell_type": "code",
   "execution_count": 438,
   "metadata": {},
   "outputs": [
    {
     "name": "stdout",
     "output_type": "stream",
     "text": [
      "[[5.00000000e-01+0.j         2.70151153e-01+0.j\n",
      "  2.57626187e-17+0.42073549j 0.00000000e+00+0.j        ]\n",
      " [2.70151153e-01+0.j         1.45963291e-01+0.j\n",
      "  1.39196023e-17+0.22732436j 0.00000000e+00+0.j        ]\n",
      " [2.57626187e-17-0.42073549j 1.39196023e-17-0.22732436j\n",
      "  3.54036709e-01+0.j         0.00000000e+00-0.j        ]\n",
      " [0.00000000e+00+0.j         0.00000000e+00+0.j\n",
      "  0.00000000e+00+0.j         0.00000000e+00+0.j        ]]\n"
     ]
    }
   ],
   "source": [
    "backend = Aer.get_backend('statevector_simulator')\n",
    "cr = ClassicalRegister(2, 'cr')\n",
    "qr = QuantumRegister(2, 'qr')\n",
    "circ = QuantumCircuit(qr, cr)\n",
    "circ = example_circ(circ)\n",
    "job = execute(circ, backend)\n",
    "state = job.result().get_statevector(circ)\n",
    "exact_rho = DensityMatrix(state).data\n",
    "print(exact_rho)"
   ]
  },
  {
   "cell_type": "markdown",
   "metadata": {},
   "source": [
    "## Tomography the noisy output state"
   ]
  },
  {
   "cell_type": "code",
   "execution_count": 445,
   "metadata": {},
   "outputs": [
    {
     "name": "stdout",
     "output_type": "stream",
     "text": [
      "[[0.48730469+0.j         0.24609375+0.00146484j 0.        +0.37207031j\n",
      "  0.00585938-0.00390625j]\n",
      " [0.24609375-0.00146484j 0.15625   +0.j         0.00292969+0.19824219j\n",
      "  0.015625  +0.00097656j]\n",
      " [0.        -0.37207031j 0.00292969-0.19824219j 0.34472656+0.j\n",
      "  0.00488281+0.00341797j]\n",
      " [0.00585938+0.00390625j 0.015625  -0.00097656j 0.00488281-0.00341797j\n",
      "  0.01171875+0.j        ]]\n",
      "MAE =  0.019082471559673655\n"
     ]
    }
   ],
   "source": [
    "u = np.zeros(4**2)\n",
    "u[0] = 1.0\n",
    "shots = 1024\n",
    "\n",
    "backend = Aer.get_backend('qasm_simulator')\n",
    "for itr, (i, j) in enumerate([p for p in itertools.product(list(range(4)), repeat=2)]):\n",
    "    # Due to the indexing convension of qiskit, i corresponds to 1-th qubit and j corresponds to 0-th qubit\n",
    "    if i == 0 and j == 0:\n",
    "        continue\n",
    "    else:\n",
    "        cr = ClassicalRegister(2, 'cr')\n",
    "        qr = QuantumRegister(2, 'qr')\n",
    "        circ = QuantumCircuit(qr, cr)\n",
    "        circ = example_circ(circ)\n",
    "        if i == 0:\n",
    "            # Measure only the 0-th qubit with the basis specified with j\n",
    "            change_basis_measurement(circ, j, 0)\n",
    "            circ.measure(qr[0], cr[0])\n",
    "        else:\n",
    "            if j == 0:\n",
    "                # Measure only the 1-th qubit with the basis specified with i\n",
    "                change_basis_measurement(circ, i, 1)\n",
    "                circ.measure(qr[1], cr[1])\n",
    "            else:\n",
    "                # Measure both of the two qubits with the bases specified with i and j\n",
    "                change_basis_measurement(circ, i, 1)\n",
    "                change_basis_measurement(circ, j, 0)\n",
    "                circ.measure(qr, cr)\n",
    "        job = execute(circ, backend, \n",
    "                       noise_model=noise_model,\n",
    "                       coupling_map=coupling_map,\n",
    "                       basis_gates=basis_gates,\n",
    "                       shots = shots)\n",
    "        u[itr] =job.result().get_counts(circ).get('00', 0)/shots*(1)+job.result().get_counts(circ).get('11', 0)/shots*(1) \\\n",
    "                        +job.result().get_counts(circ).get('01', 0)/shots*(-1)+job.result().get_counts(circ).get('10', 0)/shots*(-1)\n",
    "noisy_rho = sum([np.kron(sig[i], sig[j])*u[itr] for itr, (i, j) in enumerate([p for p in itertools.product(list(range(4)), repeat=2)])])/2**2\n",
    "print(noisy_rho)\n",
    "print(\"MAE = \", np.mean(np.abs(noisy_rho - exact_rho)))"
   ]
  },
  {
   "cell_type": "code",
   "execution_count": 446,
   "metadata": {},
   "outputs": [
    {
     "name": "stdout",
     "output_type": "stream",
     "text": [
      "[[ 0.49220087+1.33222826e-17j  0.27353946-1.65800677e-03j\n",
      "  -0.02497164+4.23876346e-01j -0.00318432-1.86492549e-03j]\n",
      " [ 0.27353946+1.65800677e-03j  0.16529115+2.16136332e-18j\n",
      "   0.00372331+2.33913830e-01j  0.02122703-1.19835297e-03j]\n",
      " [-0.02497164-4.23876346e-01j  0.00372331-2.33913830e-01j\n",
      "   0.34653495+6.74353455e-18j -0.0194957 -1.08578076e-02j]\n",
      " [-0.00318432+1.86492549e-03j  0.02122703+1.19835297e-03j\n",
      "  -0.0194957 +1.08578076e-02j -0.029928  +3.60985585e-19j]]\n"
     ]
    },
    {
     "data": {
      "image/png": "[encoded data removed]",
      "text/plain": [
       "<matplotlib.figure.Figure at 0x1b051aefb00>"
      ]
     },
     "metadata": {
      "needs_background": "light"
     },
     "output_type": "display_data"
    },
    {
     "name": "stdout",
     "output_type": "stream",
     "text": [
      "MAE =  0.014506750320892095\n"
     ]
    }
   ],
   "source": [
    "mitigated_rho = np.zeros((4, 4), dtype=complex)\n",
    "for i, (i1, i2) in enumerate([p for p in itertools.product(list(range(4)), repeat=2)]):\n",
    "    for j, (j1, j2) in enumerate([p for p in itertools.product(list(range(4)), repeat=2)]):\n",
    "        mitigated_rho += chi_eps_inv[i, j]*np.matmul(np.matmul(np.kron(sig[i1], sig[i2]), noisy_rho), np.kron(sig[j1], sig[j2]))\n",
    "        \n",
    "print(mitigated_rho)\n",
    "plt.matshow(np.abs(mitigated_rho-exact_rho))\n",
    "plt.colorbar()\n",
    "plt.show()\n",
    "print(\"MAE = \", np.mean(np.abs(mitigated_rho - exact_rho)))"
   ]
  },
  {
   "cell_type": "code",
   "execution_count": 579,
   "metadata": {},
   "outputs": [
    {
     "name": "stdout",
     "output_type": "stream",
     "text": [
      "[[ 0.50648209+7.53179804e-19j  0.28104474+1.53598458e-03j\n",
      "  -0.00071838+4.31950266e-01j  0.00693247-2.02426219e-03j]\n",
      " [ 0.28104474-1.53598458e-03j  0.15177948-6.98501755e-19j\n",
      "   0.00347058+2.36429028e-01j  0.01816303-7.36474878e-03j]\n",
      " [-0.00071838-4.31950266e-01j  0.00347058-2.36429028e-01j\n",
      "   0.34935297+2.04423566e-19j -0.00888023+3.87518067e-03j]\n",
      " [ 0.00693247+2.02426219e-03j  0.01816303+7.36474878e-03j\n",
      "  -0.00888023-3.87518067e-03j -0.00761455-1.24891799e-18j]]\n"
     ]
    },
    {
     "data": {
      "image/png": "[encoded data removed]",
      "text/plain": [
       "<matplotlib.figure.Figure at 0x1b052fe1ac8>"
      ]
     },
     "metadata": {
      "needs_background": "light"
     },
     "output_type": "display_data"
    },
    {
     "name": "stdout",
     "output_type": "stream",
     "text": [
      "MAE =  0.010098921099509287\n"
     ]
    }
   ],
   "source": [
    "mitigated_rho_diag = np.zeros((4, 4), dtype=complex)\n",
    "for i, (i1, i2) in enumerate([p for p in itertools.product(list(range(4)), repeat=2)]):\n",
    "    mitigated_rho_diag += chi_eps_inv[i, i]*np.matmul(np.matmul(np.kron(sig[i1], sig[i2]), noisy_rho), np.kron(sig[i1], sig[i2]))\n",
    "        \n",
    "print(mitigated_rho_diag)\n",
    "plt.matshow(np.abs(mitigated_rho_diag-exact_rho))\n",
    "plt.colorbar()\n",
    "plt.show()\n",
    "print(\"MAE = \", np.mean(np.abs(mitigated_rho_diag - exact_rho)))"
   ]
  },
  {
   "cell_type": "code",
   "execution_count": 585,
   "metadata": {},
   "outputs": [
    {
     "name": "stdout",
     "output_type": "stream",
     "text": [
      "[[ 0.51033649-3.79340585e-19j  0.28019489+1.49616696e-03j\n",
      "  -0.00052054+4.29630969e-01j  0.00701144-3.91398444e-03j]\n",
      " [ 0.28019489-1.49616696e-03j  0.15397828-7.90292521e-20j\n",
      "   0.00349876+2.37362180e-01j  0.0179587 -1.12675222e-02j]\n",
      " [-0.00052054-4.29630969e-01j  0.00349876-2.37362180e-01j\n",
      "   0.35221902-1.32773089e-19j -0.00666011+3.81445161e-03j]\n",
      " [ 0.00701144+3.91398444e-03j  0.0179587 +1.12675222e-02j\n",
      "  -0.00666011-3.81445161e-03j -0.00643621+1.71882907e-19j]]\n"
     ]
    },
    {
     "data": {
      "image/png": "[encoded data removed]",
      "text/plain": [
       "<matplotlib.figure.Figure at 0x1b051ae0c88>"
      ]
     },
     "metadata": {
      "needs_background": "light"
     },
     "output_type": "display_data"
    },
    {
     "name": "stdout",
     "output_type": "stream",
     "text": [
      "MAE =  0.00998797644999926\n"
     ]
    }
   ],
   "source": [
    "mitigated_rho_diag = np.zeros((4, 4), dtype=complex)\n",
    "for i, (i1, i2) in enumerate([p for p in itertools.product(list(range(4)), repeat=2)]):\n",
    "    if i in [ 0,  1,  2,  3,  4,  8, 12]:\n",
    "        mitigated_rho_diag += chi_eps_inv[i, i]*np.matmul(np.matmul(np.kron(sig[i1], sig[i2]), noisy_rho), np.kron(sig[i1], sig[i2]))\n",
    "        \n",
    "print(mitigated_rho_diag)\n",
    "plt.matshow(np.abs(mitigated_rho_diag-exact_rho))\n",
    "plt.colorbar()\n",
    "plt.show()\n",
    "print(\"MAE = \", np.mean(np.abs(mitigated_rho_diag - exact_rho)))"
   ]
  },
  {
   "cell_type": "markdown",
   "metadata": {},
   "source": [
    "# Quasi-probability"
   ]
  },
  {
   "cell_type": "markdown",
   "metadata": {},
   "source": [
    "## Ideal"
   ]
  },
  {
   "cell_type": "code",
   "execution_count": 618,
   "metadata": {},
   "outputs": [
    {
     "data": {
      "image/png": "[encoded data removed]",
      "text/plain": [
       "<matplotlib.figure.Figure at 0x1b0530040b8>"
      ]
     },
     "execution_count": 618,
     "metadata": {},
     "output_type": "execute_result"
    }
   ],
   "source": [
    "cr = ClassicalRegister(2, 'cr')\n",
    "qr = QuantumRegister(2, 'qr')\n",
    "circ = QuantumCircuit(qr, cr)\n",
    "example_circ(circ)\n",
    "circ.measure(qr, cr)\n",
    "job = execute(circ, backend, \n",
    "                       shots = shots)\n",
    "counts = job.result().get_counts(circ)\n",
    "plot_histogram(counts)"
   ]
  },
  {
   "cell_type": "markdown",
   "metadata": {},
   "source": [
    "## No mitigation"
   ]
  },
  {
   "cell_type": "code",
   "execution_count": 616,
   "metadata": {},
   "outputs": [
    {
     "data": {
      "image/png": "[encoded data removed]",
      "text/plain": [
       "<matplotlib.figure.Figure at 0x1b051afa7b8>"
      ]
     },
     "execution_count": 616,
     "metadata": {},
     "output_type": "execute_result"
    }
   ],
   "source": [
    "cr = ClassicalRegister(2, 'cr')\n",
    "qr = QuantumRegister(2, 'qr')\n",
    "circ = QuantumCircuit(qr, cr)\n",
    "example_circ(circ)\n",
    "circ.measure(qr, cr)\n",
    "job = execute(circ, backend, \n",
    "                       noise_model=noise_model,\n",
    "                       coupling_map=coupling_map,\n",
    "                       basis_gates=basis_gates,\n",
    "                       shots = shots)\n",
    "counts = job.result().get_counts(circ)\n",
    "plot_histogram(counts)"
   ]
  },
  {
   "cell_type": "markdown",
   "metadata": {},
   "source": [
    "## With mitigation"
   ]
  },
  {
   "cell_type": "code",
   "execution_count": 619,
   "metadata": {},
   "outputs": [
    {
     "name": "stdout",
     "output_type": "stream",
     "text": [
      "1.138402590400645\n",
      "-0.018019933910877445\n",
      "-0.01579873436245882\n",
      "-0.021472347148809134\n",
      "-0.025117026339482137\n",
      "-0.01943744707914323\n",
      "-0.029617016300017077\n"
     ]
    },
    {
     "data": {
      "image/png": "[encoded data removed]",
      "text/plain": [
       "<matplotlib.figure.Figure at 0x1b053004e48>"
      ]
     },
     "execution_count": 619,
     "metadata": {},
     "output_type": "execute_result"
    }
   ],
   "source": [
    "def dec_to_binary_str(dec, n_dig):\n",
    "    s = bin(dec).replace(\"0b\", \"\")\n",
    "    return '0'*(n_dig - len(s)) +s \n",
    "dist = {dec_to_binary_str(i, 2): 0. for i in range(4)}\n",
    "\n",
    "index = np.where(np.abs(np.real(np.diagonal(chi_eps_inv))) > 1e-2)[0]\n",
    "backend = Aer.get_backend('qasm_simulator')\n",
    "for i in index:\n",
    "    print(np.real(np.diagonal(chi_eps_inv))[i])\n",
    "    i1 = i//4\n",
    "    i2 = i%4\n",
    "    cr = ClassicalRegister(2, 'cr')\n",
    "    qr = QuantumRegister(2, 'qr')\n",
    "    circ = QuantumCircuit(qr, cr)\n",
    "    example_circ(circ)\n",
    "    if i1 == 1:\n",
    "        circ.x(1)\n",
    "    elif i1 == 2:\n",
    "        circ.y(1)\n",
    "    elif i1 == 3:\n",
    "        circ.z(1)\n",
    "    if i2 == 1:\n",
    "        circ.x(0)\n",
    "    elif i2 == 2:\n",
    "        circ.y(0)\n",
    "    elif i2 == 3:\n",
    "        circ.z(0)\n",
    "    \n",
    "    circ.measure(qr, cr)\n",
    "    job = execute(circ, backend, \n",
    "                       noise_model=noise_model,\n",
    "                       coupling_map=coupling_map,\n",
    "                       basis_gates=basis_gates,\n",
    "                       shots = shots)\n",
    "    counts = job.result().get_counts(circ)\n",
    "    for key in counts.keys():\n",
    "        dist[key] += np.real(np.diagonal(chi_eps_inv))[i]*counts[key]\n",
    "        \n",
    "plot_histogram(dist)"
   ]
  },
  {
   "cell_type": "code",
   "execution_count": null,
   "metadata": {},
   "outputs": [],
   "source": []
  }
 ],
 "metadata": {
  "kernelspec": {
   "display_name": "Python 3",
   "language": "python",
   "name": "python3"
  },
  "language_info": {
   "codemirror_mode": {
    "name": "ipython",
    "version": 3
   },
   "file_extension": ".py",
   "mimetype": "text/x-python",
   "name": "python",
   "nbconvert_exporter": "python",
   "pygments_lexer": "ipython3",
   "version": "3.6.3"
  }
 },
 "nbformat": 4,
 "nbformat_minor": 2
}
