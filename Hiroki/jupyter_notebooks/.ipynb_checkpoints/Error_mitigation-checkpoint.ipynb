{
 "cells": [
  {
   "cell_type": "code",
   "execution_count": 2,
   "metadata": {},
   "outputs": [],
   "source": [
    "import os, time, itertools, tqdm\n",
    "import sys\n",
    "module_path = os.path.abspath(os.path.join('..'))\n",
    "if module_path not in sys.path:\n",
    "    sys.path.append(module_path)\n",
    "import numpy as np\n",
    "from scipy.linalg import expm, eig, logm\n",
    "from scipy import sparse\n",
    "from scipy.sparse.linalg import inv\n",
    "from scipy.optimize import minimize\n",
    "from qiskit import QuantumCircuit, QuantumRegister, ClassicalRegister, Aer, execute, IBMQ\n",
    "from qiskit.quantum_info import DensityMatrix\n",
    "from operators.triangle_plaquette_hamiltonian import TrianglePlaquetteHamiltonian\n",
    "from operators.pauli_hamiltonian import PauliHamiltonian\n",
    "from quantum_circuit.trotterization import trotter_electric, trotter_coupling, trotter_plaquette\n",
    "import matplotlib.pyplot as plt\n",
    "np.set_printoptions(threshold=sys.maxsize)\n",
    "from qiskit.providers.jobstatus import JobStatus\n",
    "from qiskit.visualization import plot_histogram\n",
    "from qiskit.providers.aer.noise import NoiseModel\n",
    "from utils.matrix_operations import *\n",
    "from utils.operations import *"
   ]
  },
  {
   "cell_type": "code",
   "execution_count": 2,
   "metadata": {},
   "outputs": [],
   "source": [
    "# Initialize Simulator|\n",
    "backend = Aer.get_backend('statevector_simulator')"
   ]
  },
  {
   "cell_type": "code",
   "execution_count": 3,
   "metadata": {},
   "outputs": [],
   "source": [
    "sig = []\n",
    "sig.append(np.eye(2))\n",
    "sig.append(np.array([[0, 1], [1, 0]]))\n",
    "sig.append(np.array([[0, -1j], [1j, 0]]))\n",
    "sig.append(np.array([[1, 0], [0, -1]]))"
   ]
  },
  {
   "cell_type": "code",
   "execution_count": 4,
   "metadata": {},
   "outputs": [],
   "source": [
    "def change_basis_measurement(circ, i, trg):\n",
    "    if i == 1:\n",
    "        circ.h(trg)\n",
    "    elif i == 2:\n",
    "        circ.rx(np.pi/2, trg)\n",
    "        \n",
    "def change_basis_input(circ, i, trg):\n",
    "    if i == 0:\n",
    "        circ.h(trg)\n",
    "    elif i == 1:\n",
    "        circ.ry(-np.pi/2, trg)\n",
    "    elif i == 2:\n",
    "        circ.rx(np.pi/2, trg)\n",
    "    elif i == 3:\n",
    "        circ.rx(-np.pi/2, trg)\n",
    "    elif i == 5:\n",
    "        circ.x(trg)"
   ]
  },
  {
   "cell_type": "code",
   "execution_count": 18,
   "metadata": {},
   "outputs": [
    {
     "name": "stdout",
     "output_type": "stream",
     "text": [
      "[<AccountProvider for IBMQ(hub='ibm-q', group='open', project='main')>, <AccountProvider for IBMQ(hub='ibm-q-ornl', group='hep-qis', project='brookhaven')>]\n",
      "[<IBMQSimulator('ibmq_qasm_simulator') from IBMQ(hub='ibm-q-ornl', group='hep-qis', project='brookhaven')>, <IBMQBackend('ibmqx2') from IBMQ(hub='ibm-q-ornl', group='hep-qis', project='brookhaven')>, <IBMQBackend('ibmq_16_melbourne') from IBMQ(hub='ibm-q-ornl', group='hep-qis', project='brookhaven')>, <IBMQBackend('ibmq_poughkeepsie') from IBMQ(hub='ibm-q-ornl', group='hep-qis', project='brookhaven')>, <IBMQBackend('ibmq_vigo') from IBMQ(hub='ibm-q-ornl', group='hep-qis', project='brookhaven')>, <IBMQBackend('ibmq_ourense') from IBMQ(hub='ibm-q-ornl', group='hep-qis', project='brookhaven')>, <IBMQBackend('ibmq_london') from IBMQ(hub='ibm-q-ornl', group='hep-qis', project='brookhaven')>, <IBMQBackend('ibmq_burlington') from IBMQ(hub='ibm-q-ornl', group='hep-qis', project='brookhaven')>, <IBMQBackend('ibmq_johannesburg') from IBMQ(hub='ibm-q-ornl', group='hep-qis', project='brookhaven')>, <IBMQBackend('ibmq_rochester') from IBMQ(hub='ibm-q-ornl', group='hep-qis', project='brookhaven')>, <IBMQBackend('ibmq_essex') from IBMQ(hub='ibm-q-ornl', group='hep-qis', project='brookhaven')>, <IBMQBackend('ibmq_armonk') from IBMQ(hub='ibm-q-ornl', group='hep-qis', project='brookhaven')>, <IBMQBackend('ibmq_cambridge') from IBMQ(hub='ibm-q-ornl', group='hep-qis', project='brookhaven')>, <IBMQBackend('ibmq_paris') from IBMQ(hub='ibm-q-ornl', group='hep-qis', project='brookhaven')>]\n"
     ]
    },
    {
     "data": {
      "text/plain": [
       "<IBMQBackend('ibmq_johannesburg') from IBMQ(hub='ibm-q-ornl', group='hep-qis', project='brookhaven')>"
      ]
     },
     "execution_count": 18,
     "metadata": {},
     "output_type": "execute_result"
    }
   ],
   "source": [
    "# Load IBMQ account\n",
    "IBMQ.load_account() # Load account from disk\n",
    "print(IBMQ.providers())    # List all available providers\n",
    "provider = IBMQ.get_provider(hub='ibm-q-ornl', project='brookhaven')\n",
    "print(provider.backends())\n",
    "device_backend = provider.get_backend('ibmq_johannesburg')\n",
    "coupling_map = device_backend.configuration().coupling_map\n",
    "device_backend"
   ]
  },
  {
   "cell_type": "code",
   "execution_count": 32,
   "metadata": {},
   "outputs": [
    {
     "name": "stdout",
     "output_type": "stream",
     "text": [
      "NoiseModel:\n",
      "  Basis gates: ['cx', 'id', 'u2', 'u3']\n",
      "  Instructions with noise: ['u2', 'u3', 'cx', 'id', 'measure']\n",
      "  Qubits with noise: [0, 1, 2, 3, 4, 5, 6, 7, 8, 9, 10, 11, 12, 13, 14, 15, 16, 17, 18, 19]\n",
      "  Specific qubit errors: [('id', [0]), ('id', [1]), ('id', [2]), ('id', [3]), ('id', [4]), ('id', [5]), ('id', [6]), ('id', [7]), ('id', [8]), ('id', [9]), ('id', [10]), ('id', [11]), ('id', [12]), ('id', [13]), ('id', [14]), ('id', [15]), ('id', [16]), ('id', [17]), ('id', [18]), ('id', [19]), ('u2', [0]), ('u2', [1]), ('u2', [2]), ('u2', [3]), ('u2', [4]), ('u2', [5]), ('u2', [6]), ('u2', [7]), ('u2', [8]), ('u2', [9]), ('u2', [10]), ('u2', [11]), ('u2', [12]), ('u2', [13]), ('u2', [14]), ('u2', [15]), ('u2', [16]), ('u2', [17]), ('u2', [18]), ('u2', [19]), ('u3', [0]), ('u3', [1]), ('u3', [2]), ('u3', [3]), ('u3', [4]), ('u3', [5]), ('u3', [6]), ('u3', [7]), ('u3', [8]), ('u3', [9]), ('u3', [10]), ('u3', [11]), ('u3', [12]), ('u3', [13]), ('u3', [14]), ('u3', [15]), ('u3', [16]), ('u3', [17]), ('u3', [18]), ('u3', [19]), ('cx', [0, 1]), ('cx', [0, 5]), ('cx', [1, 0]), ('cx', [1, 2]), ('cx', [2, 1]), ('cx', [2, 3]), ('cx', [3, 2]), ('cx', [3, 4]), ('cx', [4, 3]), ('cx', [4, 9]), ('cx', [5, 0]), ('cx', [5, 6]), ('cx', [5, 10]), ('cx', [6, 5]), ('cx', [6, 7]), ('cx', [7, 6]), ('cx', [7, 8]), ('cx', [7, 12]), ('cx', [8, 7]), ('cx', [8, 9]), ('cx', [9, 4]), ('cx', [9, 8]), ('cx', [9, 14]), ('cx', [10, 5]), ('cx', [10, 11]), ('cx', [10, 15]), ('cx', [11, 10]), ('cx', [11, 12]), ('cx', [12, 7]), ('cx', [12, 11]), ('cx', [12, 13]), ('cx', [13, 12]), ('cx', [13, 14]), ('cx', [14, 9]), ('cx', [14, 13]), ('cx', [14, 19]), ('cx', [15, 10]), ('cx', [15, 16]), ('cx', [16, 15]), ('cx', [16, 17]), ('cx', [17, 16]), ('cx', [17, 18]), ('cx', [18, 17]), ('cx', [18, 19]), ('cx', [19, 14]), ('cx', [19, 18]), ('measure', [0]), ('measure', [1]), ('measure', [2]), ('measure', [3]), ('measure', [4]), ('measure', [5]), ('measure', [6]), ('measure', [7]), ('measure', [8]), ('measure', [9]), ('measure', [10]), ('measure', [11]), ('measure', [12]), ('measure', [13]), ('measure', [14]), ('measure', [15]), ('measure', [16]), ('measure', [17]), ('measure', [18]), ('measure', [19])]\n"
     ]
    }
   ],
   "source": [
    "# Construct the noise model from backend properties\n",
    "noise_model = NoiseModel.from_backend(device_backend)\n",
    "print(noise_model)"
   ]
  },
  {
   "cell_type": "markdown",
   "metadata": {},
   "source": [
    "# 1-Qubit Tomography"
   ]
  },
  {
   "cell_type": "markdown",
   "metadata": {},
   "source": [
    "## Measurement Simulations"
   ]
  },
  {
   "cell_type": "code",
   "execution_count": 28,
   "metadata": {},
   "outputs": [],
   "source": [
    "def example_circ(circ):\n",
    "    circ.ry(-np.pi/2, 0)"
   ]
  },
  {
   "cell_type": "code",
   "execution_count": 340,
   "metadata": {},
   "outputs": [
    {
     "name": "stdout",
     "output_type": "stream",
     "text": [
      "[[ 0.70710678+0.00000000e+00j  0.70710678+8.65956056e-17j]\n",
      " [-0.70710678+8.65956056e-17j  0.70710678+0.00000000e+00j]]\n"
     ]
    }
   ],
   "source": [
    "backend = Aer.get_backend('unitary_simulator')\n",
    "cr = ClassicalRegister(1, 'cr')\n",
    "qr = QuantumRegister(1, 'qr')\n",
    "circ = QuantumCircuit(qr, cr)\n",
    "example_circ(circ)\n",
    "print(execute(circ, backend).result().get_unitary())"
   ]
  },
  {
   "cell_type": "code",
   "execution_count": 331,
   "metadata": {},
   "outputs": [
    {
     "name": "stdout",
     "output_type": "stream",
     "text": [
      "<X> =  1.0\n",
      "<Y> =  -0.0390625\n",
      "<Z> =  -0.052734375\n"
     ]
    }
   ],
   "source": [
    "u = np.zeros((4))\n",
    "u[0] = 1.0\n",
    "\n",
    "\n",
    "backend = Aer.get_backend('qasm_simulator')\n",
    "\n",
    "cr = ClassicalRegister(1, 'cr')\n",
    "qr = QuantumRegister(1, 'qr')\n",
    "circ = QuantumCircuit(qr, cr)\n",
    "example_circ(circ)\n",
    "circ.h(qr[0])\n",
    "circ.measure(qr, cr)\n",
    "job = execute(circ, backend, shots=1024)\n",
    "u[1] =job.result().get_counts(circ).get('0', 0)/1024*(1)+job.result().get_counts(circ).get('1', 0)/1024*(-1)\n",
    "print(\"<X> = \", u[1])\n",
    "\n",
    "cr = ClassicalRegister(1, 'cr')\n",
    "qr = QuantumRegister(1, 'qr')\n",
    "circ = QuantumCircuit(qr, cr)\n",
    "example_circ(circ)\n",
    "circ.rx(np.pi/2, qr[0])\n",
    "circ.measure(qr, cr)\n",
    "job = execute(circ, backend, shots=1024)\n",
    "u[2] =job.result().get_counts(circ).get('0', 0)/1024*(1)+job.result().get_counts(circ).get('1', 0)/1024*(-1)\n",
    "print(\"<Y> = \", u[2])\n",
    "\n",
    "cr = ClassicalRegister(1, 'cr')\n",
    "qr = QuantumRegister(1, 'qr')\n",
    "circ = QuantumCircuit(qr, cr)\n",
    "example_circ(circ)\n",
    "circ.measure(qr, cr)\n",
    "job = execute(circ, backend, shots=1024)\n",
    "u[3] =job.result().get_counts(circ).get('0', 0)/1024*(1)+job.result().get_counts(circ).get('1', 0)/1024*(-1)\n",
    "print(\"<Z> = \", u[3])"
   ]
  },
  {
   "cell_type": "markdown",
   "metadata": {},
   "source": [
    "## Recover the Density Matrix $\\rho$"
   ]
  },
  {
   "cell_type": "code",
   "execution_count": 6,
   "metadata": {},
   "outputs": [
    {
     "name": "stdout",
     "output_type": "stream",
     "text": [
      "[[0.50683594+0.j         0.5       +0.01074219j]\n",
      " [0.5       -0.01074219j 0.49316406+0.j        ]]\n"
     ]
    }
   ],
   "source": [
    "rho = sum([sig[i]*u[i] for i in range(4)])/2\n",
    "print(rho)"
   ]
  },
  {
   "cell_type": "markdown",
   "metadata": {},
   "source": [
    "## Exact Density Matrix"
   ]
  },
  {
   "cell_type": "code",
   "execution_count": 7,
   "metadata": {},
   "outputs": [
    {
     "name": "stdout",
     "output_type": "stream",
     "text": [
      "[[0.5+0.j 0.5+0.j]\n",
      " [0.5+0.j 0.5+0.j]]\n"
     ]
    }
   ],
   "source": [
    "backend = Aer.get_backend('statevector_simulator')\n",
    "cr = ClassicalRegister(1, 'cr')\n",
    "qr = QuantumRegister(1, 'qr')\n",
    "circ = QuantumCircuit(qr, cr)\n",
    "example_circ(circ)\n",
    "job = execute(circ, backend)\n",
    "state = job.result().get_statevector(circ)\n",
    "print(DensityMatrix(state).data)"
   ]
  },
  {
   "cell_type": "markdown",
   "metadata": {},
   "source": [
    "# Multi-qubit Tomography"
   ]
  },
  {
   "cell_type": "code",
   "execution_count": 21,
   "metadata": {},
   "outputs": [],
   "source": [
    "def example_two_qubit_circ(circ, qr):\n",
    "    circ.h(0)\n",
    "    circ = trotter_coupling(circ, qr, [0, 1], 1.0, 1.0)\n",
    "    return circ"
   ]
  },
  {
   "cell_type": "markdown",
   "metadata": {},
   "source": [
    "## 2-qubit"
   ]
  },
  {
   "cell_type": "code",
   "execution_count": 185,
   "metadata": {
    "scrolled": true
   },
   "outputs": [
    {
     "name": "stdout",
     "output_type": "stream",
     "text": [
      "[ 1.          0.51953125 -0.03710938  0.73828125 -0.01757812  0.03515625\n",
      "  0.4765625  -0.00390625 -0.84765625 -0.47265625  0.04101562 -0.81445312\n",
      "  0.28320312  0.58007812 -0.00976562 -0.03125   ]\n"
     ]
    }
   ],
   "source": [
    "u = np.zeros(4**2)\n",
    "u[0] = 1.0\n",
    "shots = 1024\n",
    "\n",
    "backend = Aer.get_backend('qasm_simulator')\n",
    "for itr, (i, j) in enumerate([p for p in itertools.product(list(range(4)), repeat=2)]):\n",
    "    # Due to the indexing convension of qiskit, i corresponds to 1-th qubit and j corresponds to 0-th qubit\n",
    "    if i == 0 and j == 0:\n",
    "        continue\n",
    "    else:\n",
    "        cr = ClassicalRegister(2, 'cr')\n",
    "        qr = QuantumRegister(2, 'qr')\n",
    "        circ = QuantumCircuit(qr, cr)\n",
    "        circ = example_two_qubit_circ(circ, qr)\n",
    "        if i == 0:\n",
    "            # Measure only the 0-th qubit with the basis specified with j\n",
    "            change_basis_measurement(circ, j, 0)\n",
    "            circ.measure(qr[0], cr[0])\n",
    "        else:\n",
    "            if j == 0:\n",
    "                # Measure only the 1-th qubit with the basis specified with i\n",
    "                change_basis_measurement(circ, i, 1)\n",
    "                circ.measure(qr[1], cr[1])\n",
    "            else:\n",
    "                # Measure both of the two qubits with the bases specified with i and j\n",
    "                change_basis_measurement(circ, i, 1)\n",
    "                change_basis_measurement(circ, j, 0)\n",
    "                circ.measure(qr, cr)\n",
    "        job = execute(circ, backend, shots=shots)\n",
    "        u[itr] =job.result().get_counts(circ).get('00', 0)/shots*(1)+job.result().get_counts(circ).get('11', 0)/shots*(1) \\\n",
    "                        +job.result().get_counts(circ).get('01', 0)/shots*(-1)+job.result().get_counts(circ).get('10', 0)/shots*(-1)\n",
    "print(u)"
   ]
  },
  {
   "cell_type": "markdown",
   "metadata": {},
   "source": [
    "## Tomography"
   ]
  },
  {
   "cell_type": "code",
   "execution_count": 84,
   "metadata": {},
   "outputs": [
    {
     "name": "stdout",
     "output_type": "stream",
     "text": [
      "[[ 5.03417969e-01+0.j          2.76367188e-01-0.00683594j\n",
      "  -4.88281250e-03+0.42822266j -4.39453125e-03+0.00537109j]\n",
      " [ 2.76367188e-01+0.00683594j  1.26464844e-01+0.j\n",
      "  -4.88281250e-04+0.21435547j  1.95312500e-03+0.00048828j]\n",
      " [-4.88281250e-03-0.42822266j -4.88281250e-04-0.21435547j\n",
      "   3.74511719e-01+0.j         -1.17187500e-02+0.j        ]\n",
      " [-4.39453125e-03-0.00537109j  1.95312500e-03-0.00048828j\n",
      "  -1.17187500e-02+0.j         -4.39453125e-03+0.j        ]]\n"
     ]
    }
   ],
   "source": [
    "rho = sum([np.kron(sig[i], sig[j])*u[itr] for itr, (i, j) in enumerate([p for p in itertools.product(list(range(4)), repeat=2)])])/2**2\n",
    "print(rho)"
   ]
  },
  {
   "cell_type": "markdown",
   "metadata": {},
   "source": [
    "## Exact Density Matrix"
   ]
  },
  {
   "cell_type": "code",
   "execution_count": 81,
   "metadata": {},
   "outputs": [
    {
     "name": "stdout",
     "output_type": "stream",
     "text": [
      "[[5.00000000e-01+0.j         2.70151153e-01+0.j\n",
      "  2.57626187e-17+0.42073549j 0.00000000e+00+0.j        ]\n",
      " [2.70151153e-01+0.j         1.45963291e-01+0.j\n",
      "  1.39196023e-17+0.22732436j 0.00000000e+00+0.j        ]\n",
      " [2.57626187e-17-0.42073549j 1.39196023e-17-0.22732436j\n",
      "  3.54036709e-01+0.j         0.00000000e+00-0.j        ]\n",
      " [0.00000000e+00+0.j         0.00000000e+00+0.j\n",
      "  0.00000000e+00+0.j         0.00000000e+00+0.j        ]]\n"
     ]
    }
   ],
   "source": [
    "backend = Aer.get_backend('statevector_simulator')\n",
    "cr = ClassicalRegister(2, 'cr')\n",
    "qr = QuantumRegister(2, 'qr')\n",
    "circ = QuantumCircuit(qr, cr)\n",
    "circ = example_two_qubit_circ(circ, qr)\n",
    "job = execute(circ, backend)\n",
    "state = job.result().get_statevector(circ)\n",
    "print(DensityMatrix(state).data)"
   ]
  },
  {
   "cell_type": "markdown",
   "metadata": {},
   "source": [
    "## Compare"
   ]
  },
  {
   "cell_type": "code",
   "execution_count": 85,
   "metadata": {},
   "outputs": [
    {
     "name": "stdout",
     "output_type": "stream",
     "text": [
      "[[0.00341797 0.00923954 0.00893865 0.00693978]\n",
      " [0.00923954 0.01949845 0.01297808 0.00201324]\n",
      " [0.00893865 0.01297808 0.02047501 0.01171875]\n",
      " [0.00693978 0.00201324 0.01171875 0.00439453]]\n"
     ]
    }
   ],
   "source": [
    "print(np.abs(DensityMatrix(state).data - rho))"
   ]
  },
  {
   "cell_type": "markdown",
   "metadata": {},
   "source": [
    "# Construct Noise Model Based on the Machine"
   ]
  },
  {
   "cell_type": "code",
   "execution_count": 22,
   "metadata": {},
   "outputs": [
    {
     "ename": "TypeError",
     "evalue": "can't multiply sequence by non-int of type 'float'",
     "output_type": "error",
     "traceback": [
      "\u001b[1;31m---------------------------------------------------------------------------\u001b[0m",
      "\u001b[1;31mTypeError\u001b[0m                                 Traceback (most recent call last)",
      "\u001b[1;32m<ipython-input-22-bd2a91898bbf>\u001b[0m in \u001b[0;36m<module>\u001b[1;34m\u001b[0m\n\u001b[0;32m      7\u001b[0m \u001b[0mqr\u001b[0m \u001b[1;33m=\u001b[0m \u001b[0mQuantumRegister\u001b[0m\u001b[1;33m(\u001b[0m\u001b[1;36m2\u001b[0m\u001b[1;33m,\u001b[0m \u001b[1;34m'qr'\u001b[0m\u001b[1;33m)\u001b[0m\u001b[1;33m\u001b[0m\u001b[0m\n\u001b[0;32m      8\u001b[0m \u001b[0mcirc\u001b[0m \u001b[1;33m=\u001b[0m \u001b[0mQuantumCircuit\u001b[0m\u001b[1;33m(\u001b[0m\u001b[0mqr\u001b[0m\u001b[1;33m,\u001b[0m \u001b[0mcr\u001b[0m\u001b[1;33m)\u001b[0m\u001b[1;33m\u001b[0m\u001b[0m\n\u001b[1;32m----> 9\u001b[1;33m \u001b[0mcirc\u001b[0m \u001b[1;33m=\u001b[0m \u001b[0mexample_two_qubit_circ\u001b[0m\u001b[1;33m(\u001b[0m\u001b[0mcirc\u001b[0m\u001b[1;33m,\u001b[0m \u001b[0mqr\u001b[0m\u001b[1;33m)\u001b[0m\u001b[1;33m\u001b[0m\u001b[0m\n\u001b[0m\u001b[0;32m     10\u001b[0m \u001b[0mcirc\u001b[0m\u001b[1;33m.\u001b[0m\u001b[0mmeasure\u001b[0m\u001b[1;33m(\u001b[0m\u001b[0mqr\u001b[0m\u001b[1;33m,\u001b[0m \u001b[0mcr\u001b[0m\u001b[1;33m)\u001b[0m\u001b[1;33m\u001b[0m\u001b[0m\n\u001b[0;32m     11\u001b[0m result_noise = execute(circ, backend, \n",
      "\u001b[1;32m<ipython-input-21-60d1102187fd>\u001b[0m in \u001b[0;36mexample_two_qubit_circ\u001b[1;34m(circ, qr)\u001b[0m\n\u001b[0;32m      1\u001b[0m \u001b[1;32mdef\u001b[0m \u001b[0mexample_two_qubit_circ\u001b[0m\u001b[1;33m(\u001b[0m\u001b[0mcirc\u001b[0m\u001b[1;33m,\u001b[0m \u001b[0mqr\u001b[0m\u001b[1;33m)\u001b[0m\u001b[1;33m:\u001b[0m\u001b[1;33m\u001b[0m\u001b[0m\n\u001b[0;32m      2\u001b[0m     \u001b[0mcirc\u001b[0m\u001b[1;33m.\u001b[0m\u001b[0mh\u001b[0m\u001b[1;33m(\u001b[0m\u001b[1;36m0\u001b[0m\u001b[1;33m)\u001b[0m\u001b[1;33m\u001b[0m\u001b[0m\n\u001b[1;32m----> 3\u001b[1;33m     \u001b[0mcirc\u001b[0m \u001b[1;33m=\u001b[0m \u001b[0mtrotter_coupling\u001b[0m\u001b[1;33m(\u001b[0m\u001b[0mcirc\u001b[0m\u001b[1;33m,\u001b[0m \u001b[0mqr\u001b[0m\u001b[1;33m,\u001b[0m \u001b[1;33m[\u001b[0m\u001b[1;36m0\u001b[0m\u001b[1;33m,\u001b[0m \u001b[1;36m1\u001b[0m\u001b[1;33m]\u001b[0m\u001b[1;33m,\u001b[0m \u001b[1;36m1.0\u001b[0m\u001b[1;33m,\u001b[0m \u001b[1;36m1.0\u001b[0m\u001b[1;33m)\u001b[0m\u001b[1;33m\u001b[0m\u001b[0m\n\u001b[0m\u001b[0;32m      4\u001b[0m     \u001b[1;32mreturn\u001b[0m \u001b[0mcirc\u001b[0m\u001b[1;33m\u001b[0m\u001b[0m\n",
      "\u001b[1;32m~\\Documents\\SeniorProject\\QuLAT\\Hiroki\\quantum_circuit\\trotterization.py\u001b[0m in \u001b[0;36mtrotter_coupling\u001b[1;34m(q_circuit, target_indices, coef, deltaT, further_opt)\u001b[0m\n\u001b[0;32m    114\u001b[0m     \u001b[1;32mif\u001b[0m \u001b[1;32mnot\u001b[0m \u001b[0mfurther_opt\u001b[0m\u001b[1;33m:\u001b[0m\u001b[1;33m\u001b[0m\u001b[0m\n\u001b[0;32m    115\u001b[0m         \u001b[0mq_circuit\u001b[0m\u001b[1;33m.\u001b[0m\u001b[0mcx\u001b[0m\u001b[1;33m(\u001b[0m\u001b[0mtarget_indices\u001b[0m\u001b[1;33m[\u001b[0m\u001b[1;36m1\u001b[0m\u001b[1;33m]\u001b[0m\u001b[1;33m,\u001b[0m \u001b[0mtarget_indices\u001b[0m\u001b[1;33m[\u001b[0m\u001b[1;36m0\u001b[0m\u001b[1;33m]\u001b[0m\u001b[1;33m)\u001b[0m\u001b[1;33m\u001b[0m\u001b[0m\n\u001b[1;32m--> 116\u001b[1;33m     \u001b[0mq_circuit\u001b[0m \u001b[1;33m=\u001b[0m \u001b[0madd_crx\u001b[0m\u001b[1;33m(\u001b[0m\u001b[0mq_circuit\u001b[0m\u001b[1;33m,\u001b[0m \u001b[0mcoef\u001b[0m\u001b[1;33m*\u001b[0m\u001b[0mdeltaT\u001b[0m\u001b[1;33m,\u001b[0m \u001b[0mtarget_indices\u001b[0m\u001b[1;33m[\u001b[0m\u001b[1;36m0\u001b[0m\u001b[1;33m]\u001b[0m\u001b[1;33m,\u001b[0m \u001b[0mtarget_indices\u001b[0m\u001b[1;33m[\u001b[0m\u001b[1;36m1\u001b[0m\u001b[1;33m]\u001b[0m\u001b[1;33m)\u001b[0m\u001b[1;33m\u001b[0m\u001b[0m\n\u001b[0m\u001b[0;32m    117\u001b[0m     \u001b[0mq_circuit\u001b[0m\u001b[1;33m.\u001b[0m\u001b[0mcx\u001b[0m\u001b[1;33m(\u001b[0m\u001b[0mtarget_indices\u001b[0m\u001b[1;33m[\u001b[0m\u001b[1;36m1\u001b[0m\u001b[1;33m]\u001b[0m\u001b[1;33m,\u001b[0m \u001b[0mtarget_indices\u001b[0m\u001b[1;33m[\u001b[0m\u001b[1;36m0\u001b[0m\u001b[1;33m]\u001b[0m\u001b[1;33m)\u001b[0m\u001b[1;33m\u001b[0m\u001b[0m\n\u001b[0;32m    118\u001b[0m     \u001b[1;32mreturn\u001b[0m \u001b[0mq_circuit\u001b[0m\u001b[1;33m\u001b[0m\u001b[0m\n",
      "\u001b[1;31mTypeError\u001b[0m: can't multiply sequence by non-int of type 'float'"
     ]
    }
   ],
   "source": [
    "# Get the basis gates for the noise model\n",
    "basis_gates = noise_model.basis_gates\n",
    "\n",
    "# Execute noisy simulation and get counts\n",
    "backend = Aer.get_backend('qasm_simulator')\n",
    "cr = ClassicalRegister(2, 'cr')\n",
    "qr = QuantumRegister(2, 'qr')\n",
    "circ = QuantumCircuit(qr, cr)\n",
    "circ = example_two_qubit_circ(circ, qr)\n",
    "circ.measure(qr, cr)\n",
    "result_noise = execute(circ, backend, \n",
    "                       noise_model=noise_model,\n",
    "                       coupling_map=coupling_map,\n",
    "                       basis_gates=basis_gates).result()\n",
    "counts_noise = result_noise.get_counts(circ)\n",
    "plot_histogram(counts_noise)"
   ]
  },
  {
   "cell_type": "code",
   "execution_count": 104,
   "metadata": {},
   "outputs": [
    {
     "data": {
      "image/png": "[encoded data removed]",
      "text/plain": [
       "<matplotlib.figure.Figure at 0x1b0519b8320>"
      ]
     },
     "execution_count": 104,
     "metadata": {},
     "output_type": "execute_result"
    }
   ],
   "source": [
    "result_noise = execute(circ, backend).result()\n",
    "counts_noise = result_noise.get_counts(circ)\n",
    "plot_histogram(counts_noise)"
   ]
  },
  {
   "cell_type": "code",
   "execution_count": 108,
   "metadata": {},
   "outputs": [
    {
     "name": "stdout",
     "output_type": "stream",
     "text": [
      "Status @ 0 seconds\n",
      "JobStatus.INITIALIZING\n",
      "Status @ 30 seconds\n",
      "JobStatus.QUEUED\n",
      "Status @ 60 seconds\n",
      "JobStatus.QUEUED\n",
      "Status @ 90 seconds\n",
      "JobStatus.QUEUED\n",
      "Status @ 120 seconds\n",
      "JobStatus.QUEUED\n",
      "Status @ 150 seconds\n",
      "JobStatus.QUEUED\n",
      "Status @ 180 seconds\n",
      "JobStatus.QUEUED\n",
      "Status @ 210 seconds\n",
      "JobStatus.QUEUED\n",
      "Status @ 240 seconds\n",
      "JobStatus.QUEUED\n",
      "Status @ 270 seconds\n",
      "JobStatus.QUEUED\n",
      "Status @ 300 seconds\n",
      "JobStatus.QUEUED\n",
      "Status @ 330 seconds\n",
      "JobStatus.QUEUED\n",
      "Status @ 360 seconds\n",
      "JobStatus.QUEUED\n",
      "Status @ 390 seconds\n",
      "JobStatus.QUEUED\n",
      "Status @ 420 seconds\n",
      "JobStatus.QUEUED\n",
      "Status @ 450 seconds\n",
      "JobStatus.QUEUED\n",
      "Status @ 480 seconds\n",
      "JobStatus.QUEUED\n",
      "Status @ 510 seconds\n",
      "JobStatus.QUEUED\n",
      "Status @ 540 seconds\n",
      "JobStatus.QUEUED\n",
      "Status @ 570 seconds\n",
      "JobStatus.QUEUED\n",
      "Status @ 600 seconds\n",
      "JobStatus.QUEUED\n",
      "Status @ 630 seconds\n",
      "JobStatus.RUNNING\n",
      "Status @ 660 seconds\n",
      "JobStatus.RUNNING\n",
      "Status @ 690 seconds\n",
      "JobStatus.RUNNING\n",
      "JobStatus.DONE\n"
     ]
    },
    {
     "data": {
      "image/png": "[encoded data removed]",
      "text/plain": [
       "<matplotlib.figure.Figure at 0x188099ffe10>"
      ]
     },
     "execution_count": 108,
     "metadata": {},
     "output_type": "execute_result"
    }
   ],
   "source": [
    "job = execute(circ, device_backend, shots=1024)\n",
    "lapse = 0\n",
    "interval = 30\n",
    "while job.status() != JobStatus.DONE:\n",
    "    print('Status @ {} seconds'.format(interval * lapse))\n",
    "    print(job.status())\n",
    "    time.sleep(interval)\n",
    "    lapse += 1\n",
    "print(job.status())\n",
    "result_device = job_device.result()\n",
    "counts_device = result_noise.get_counts(circ)\n",
    "plot_histogram(counts_device)"
   ]
  },
  {
   "cell_type": "code",
   "execution_count": 112,
   "metadata": {},
   "outputs": [
    {
     "data": {
      "image/png": "[encoded data removed]",
      "text/plain": [
       "<matplotlib.figure.Figure at 0x1880983b588>"
      ]
     },
     "execution_count": 112,
     "metadata": {},
     "output_type": "execute_result"
    }
   ],
   "source": [
    "result_device = job.result()\n",
    "counts_device = result_device.get_counts(circ)\n",
    "plot_histogram(counts_device)"
   ]
  },
  {
   "cell_type": "markdown",
   "metadata": {},
   "source": [
    "# Noise Mitigation"
   ]
  },
  {
   "cell_type": "code",
   "execution_count": 11,
   "metadata": {},
   "outputs": [],
   "source": [
    "def example_circ(circ):\n",
    "    circ.h(0)\n",
    "    circ = trotter_electric(circ, [0, 1], 1.0, 1.0, unitary_sim = True, further_opt = False)\n",
    "    return circ"
   ]
  },
  {
   "cell_type": "markdown",
   "metadata": {},
   "source": [
    "# Compute the matrix $S$\n",
    "\n",
    "The matrix $S$ is equivalent to the expectation values of measurements of the exact output state $\\Gamma_U(\\rho)=U\\rho U^\\dagger$ in the Pauli basis.\n",
    "\\begin{align}\n",
    "S_{i, k} = \\langle\\langle{k|R_{\\Gamma_U}|\\rho_i}\\rangle\\rangle = \\langle\\langle{k|U\\rho_iU^\\dagger}\\rangle\\rangle = Tr(P_k U\\rho_iU^\\dagger)\n",
    "\\end{align}"
   ]
  },
  {
   "cell_type": "code",
   "execution_count": 12,
   "metadata": {},
   "outputs": [
    {
     "data": {
      "image/png": "[encoded data removed]",
      "text/plain": [
       "<matplotlib.figure.Figure at 0x1f71958d208>"
      ]
     },
     "metadata": {
      "needs_background": "light"
     },
     "output_type": "display_data"
    }
   ],
   "source": [
    "backend = Aer.get_backend('unitary_simulator')\n",
    "\n",
    "cr = ClassicalRegister(2, 'cr')\n",
    "qr = QuantumRegister(2, 'qr')\n",
    "circ = QuantumCircuit(qr, cr)\n",
    "circ = example_circ(circ)\n",
    "job = execute(circ, backend)\n",
    "U = job.result().get_unitary()\n",
    "plt.matshow(np.abs(U))\n",
    "plt.show()\n"
   ]
  },
  {
   "cell_type": "code",
   "execution_count": 13,
   "metadata": {
    "scrolled": true
   },
   "outputs": [
    {
     "data": {
      "image/png": "[encoded data removed]",
      "text/plain": [
       "<matplotlib.figure.Figure at 0x1f71c723da0>"
      ]
     },
     "metadata": {
      "needs_background": "light"
     },
     "output_type": "display_data"
    },
    {
     "data": {
      "image/png": "[encoded data removed]",
      "text/plain": [
       "<matplotlib.figure.Figure at 0x1f71c7aecf8>"
      ]
     },
     "metadata": {
      "needs_background": "light"
     },
     "output_type": "display_data"
    }
   ],
   "source": [
    "# Compute the 1-qubit states that are bases of X, Y, Z\n",
    "ref1 = [\n",
    "    np.array([1/np.sqrt(2), 1/np.sqrt(2)], dtype=complex),\n",
    "    np.array([1/np.sqrt(2), -1/np.sqrt(2)], dtype=complex),\n",
    "    np.array([1/np.sqrt(2), 1j/np.sqrt(2)], dtype=complex),\n",
    "    np.array([1/np.sqrt(2), -1j/np.sqrt(2)], dtype=complex),\n",
    "    np.array([1, 0], dtype=complex),\n",
    "    np.array([0, 1], dtype=complex)\n",
    "]\n",
    "\n",
    "\n",
    "# Compute the 2-qubit reference states\n",
    "ref = []\n",
    "for itr, (i, j) in enumerate([p for p in itertools.product(list(range(6)), repeat=2)]):\n",
    "    state = np.kron(ref1[i], ref1[j])\n",
    "    ref.append(np.outer(np.conjugate(state), state))\n",
    "\n",
    "S = np.zeros((36, 16), complex)\n",
    "for k, (k1, k2) in enumerate([p for p in itertools.product(list(range(4)), repeat=2)]):\n",
    "    for i in range(36):\n",
    "        S[i, k] = np.trace(matmul([np.kron(sig[k1], sig[k2]), U, ref[i], np.conjugate(U).T]))/np.sqrt(4)\n",
    "plt.matshow(np.abs(S))\n",
    "plt.show()\n",
    "S_H = np.conjugate(S).T\n",
    "SS = np.matmul(S_H, S)\n",
    "SS_inv = np.linalg.inv(SS)\n",
    "plt.matshow(np.abs(SS_inv))\n",
    "plt.show()"
   ]
  },
  {
   "cell_type": "markdown",
   "metadata": {},
   "source": [
    "## Compute the PTM of $\\epsilon$\n",
    "\\begin{equation}\n",
    "\\langle\\langle{k|R_\\epsilon|l}\\rangle\\rangle = ((S^\\dagger S)^{-1}S^\\dagger P)^T_{k, l}\n",
    "\\end{equation}"
   ]
  },
  {
   "cell_type": "code",
   "execution_count": 23,
   "metadata": {
    "scrolled": true
   },
   "outputs": [
    {
     "name": "stdout",
     "output_type": "stream",
     "text": [
      "[[ 0.5        -0.01367188 -0.00488281  0.45703125 -0.15820312 -0.01953125\n",
      "  -0.00390625 -0.12792969  0.39648438  0.03515625 -0.0078125   0.3828125\n",
      "  -0.0078125  -0.01074219  0.00488281  0.03027344]\n",
      " [ 0.5         0.00585938 -0.00488281 -0.453125   -0.16210938 -0.00292969\n",
      "  -0.04492188  0.13867188 -0.36523438  0.00488281  0.01171875  0.34375\n",
      "   0.02148438  0.00195312  0.00878906 -0.00585938]\n",
      " [ 0.5         0.02050781 -0.18359375  0.         -0.14453125 -0.00292969\n",
      "   0.37402344 -0.00976562  0.00390625 -0.00683594 -0.01367188  0.3515625\n",
      "  -0.00390625 -0.36816406 -0.01269531  0.02734375]\n",
      " [ 0.5        -0.00097656  0.20898438  0.00585938 -0.13964844  0.00195312\n",
      "  -0.37402344  0.00390625  0.01269531 -0.02246094 -0.02148438  0.37109375\n",
      "   0.02832031  0.35644531  0.00195312 -0.00585938]\n",
      " [ 0.5        -0.15234375  0.01660156  0.02441406 -0.1484375   0.3984375\n",
      "   0.01855469  0.01660156  0.04882812  0.00585938 -0.01367188  0.36425781\n",
      "   0.04003906 -0.01367188  0.37011719 -0.0078125 ]\n",
      " [ 0.5         0.20214844 -0.015625    0.03027344 -0.16308594 -0.37695312\n",
      "   0.01367188  0.02441406  0.04101562  0.00292969  0.00683594  0.33886719\n",
      "   0.02441406  0.02734375 -0.36230469  0.00878906]\n",
      " [ 0.5        -0.00292969  0.00878906  0.46386719  0.21875    -0.00195312\n",
      "   0.02148438  0.19921875 -0.3671875  -0.00292969 -0.01660156 -0.33886719\n",
      "   0.03222656 -0.02929688  0.00292969  0.05761719]\n",
      " [ 0.5         0.01855469  0.01367188 -0.45214844  0.20214844  0.01464844\n",
      "   0.00390625 -0.18945312  0.41601562 -0.01367188  0.         -0.38183594\n",
      "   0.02929688 -0.00292969  0.02636719 -0.03808594]\n",
      " [ 0.5        -0.00585938 -0.15917969  0.00390625  0.20410156 -0.00488281\n",
      "  -0.39160156  0.01367188  0.03027344 -0.01171875 -0.03125    -0.34863281\n",
      "   0.04394531 -0.3515625  -0.00585938  0.        ]\n",
      " [ 0.5        -0.00292969  0.17871094  0.00488281  0.19824219  0.01269531\n",
      "   0.39648438 -0.01953125  0.04785156 -0.03222656  0.00292969 -0.35742188\n",
      "   0.01757812  0.3515625   0.01074219 -0.01660156]\n",
      " [ 0.5        -0.17578125  0.00683594 -0.00585938  0.21679688 -0.39453125\n",
      "   0.00195312  0.01171875  0.015625   -0.01855469  0.00097656 -0.36816406\n",
      "   0.04199219 -0.00390625  0.34863281  0.00195312]\n",
      " [ 0.5         0.20507812  0.02050781  0.01855469  0.20703125  0.3984375\n",
      "   0.01171875 -0.03027344  0.02246094  0.01171875  0.00976562 -0.36328125\n",
      "   0.02832031  0.00683594 -0.35839844  0.01074219]\n",
      " [ 0.5         0.02246094 -0.00097656  0.47167969  0.42089844 -0.00488281\n",
      "   0.00488281  0.38867188  0.21972656  0.00195312  0.01074219  0.17773438\n",
      "   0.02929688  0.00292969  0.01367188  0.03417969]\n",
      " [ 0.5         0.00292969  0.04785156 -0.45800781 -0.36328125  0.01269531\n",
      "   0.01171875  0.32714844  0.18847656  0.01953125 -0.00878906 -0.17382812\n",
      "   0.02734375  0.02539062 -0.00488281 -0.04785156]\n",
      " [ 0.5         0.02148438 -0.171875    0.00488281  0.00683594  0.01171875\n",
      "   0.02246094  0.33984375  0.20703125 -0.01855469 -0.39550781 -0.0234375\n",
      "   0.01074219 -0.35449219  0.02636719  0.01855469]\n",
      " [ 0.5         0.          0.19140625  0.00585938  0.02148438  0.00292969\n",
      "   0.04101562  0.3671875   0.21875     0.02441406  0.41796875  0.0078125\n",
      "   0.02539062  0.36035156  0.01171875 -0.00097656]\n",
      " [ 0.5        -0.1796875  -0.0078125   0.02734375  0.04980469 -0.00585938\n",
      "   0.00683594  0.33203125  0.20605469 -0.40234375  0.00683594  0.01367188\n",
      "   0.02148438 -0.02734375  0.34277344  0.01269531]\n",
      " [ 0.5         0.19726562  0.00097656  0.0078125   0.00585938  0.01171875\n",
      "  -0.00195312  0.37011719  0.17285156  0.40039062  0.02148438  0.06445312\n",
      "   0.02832031  0.01953125 -0.38378906 -0.00878906]\n",
      " [ 0.5        -0.02539062  0.01171875  0.47558594 -0.37109375  0.00195312\n",
      "  -0.01855469 -0.34375    -0.14160156 -0.00585938 -0.01171875 -0.12304688\n",
      "   0.04199219 -0.01367188  0.01074219  0.01757812]\n",
      " [ 0.5         0.02539062  0.00292969 -0.4453125   0.421875   -0.00488281\n",
      "  -0.03027344 -0.37890625 -0.14160156 -0.00878906  0.01757812  0.12792969\n",
      "   0.00585938 -0.00976562  0.03027344 -0.02734375]\n",
      " [ 0.5         0.02636719 -0.17285156 -0.01269531  0.02050781  0.01953125\n",
      "  -0.01660156 -0.34960938 -0.1328125   0.00195312  0.38378906  0.00585938\n",
      "   0.03027344 -0.36523438  0.0078125   0.00195312]\n",
      " [ 0.5         0.00097656  0.20605469  0.00488281  0.01269531 -0.02148438\n",
      "   0.         -0.37011719 -0.1484375   0.00683594 -0.35742188 -0.02832031\n",
      "  -0.0078125   0.37597656 -0.0078125  -0.02148438]\n",
      " [ 0.5        -0.14648438 -0.01074219 -0.01171875  0.01855469 -0.01953125\n",
      "  -0.01953125 -0.35644531 -0.12988281  0.37792969  0.00390625 -0.00683594\n",
      "   0.02441406 -0.00878906  0.33691406  0.00878906]\n",
      " [ 0.5         0.19140625 -0.01757812  0.01269531  0.03027344  0.00976562\n",
      "  -0.01171875 -0.33691406 -0.15722656 -0.39355469 -0.00097656 -0.01269531\n",
      "  -0.00195312  0.00488281 -0.37597656  0.01953125]\n",
      " [ 0.5        -0.00878906  0.02246094  0.47070312  0.01269531  0.03417969\n",
      "  -0.00292969  0.02148438  0.01855469  0.01171875  0.01953125  0.03320312\n",
      "   0.45410156 -0.00292969  0.02050781  0.41796875]\n",
      " [ 0.5         0.03417969 -0.03125    -0.45507812  0.02148438 -0.00585938\n",
      "  -0.01660156 -0.02832031  0.01464844  0.0078125  -0.02929688 -0.03515625\n",
      "   0.45214844  0.01464844 -0.00195312 -0.42285156]\n",
      " [ 0.5        -0.40625    -0.18359375  0.          0.01367188 -0.04980469\n",
      "  -0.03320312 -0.03125     0.00683594 -0.03417969 -0.04003906  0.0078125\n",
      "   0.45117188 -0.37597656 -0.19140625 -0.0078125 ]\n",
      " [ 0.5         0.43261719  0.17578125  0.02050781  0.02050781  0.02734375\n",
      "   0.03808594  0.015625    0.01171875  0.01367188  0.02734375  0.00976562\n",
      "   0.44824219  0.375       0.16796875  0.01757812]\n",
      " [ 0.5        -0.16796875  0.421875   -0.00292969  0.02148438  0.00292969\n",
      "   0.05273438  0.01464844  0.03613281 -0.00683594  0.00097656 -0.01269531\n",
      "   0.44140625 -0.20800781  0.3828125   0.00097656]\n",
      " [ 0.5         0.17871094 -0.42285156  0.00292969  0.02050781  0.03613281\n",
      "  -0.04101562 -0.015625    0.03222656  0.01171875 -0.05957031 -0.01757812\n",
      "   0.44140625  0.14550781 -0.40136719 -0.00683594]\n",
      " [ 0.5         0.02050781  0.02148438  0.46972656  0.015625    0.02929688\n",
      "  -0.01269531  0.04199219  0.04589844 -0.01660156 -0.01660156  0.03613281\n",
      "  -0.39355469 -0.01269531 -0.01757812 -0.37304688]\n",
      " [ 0.5         0.02441406  0.01660156 -0.45703125  0.03613281 -0.00195312\n",
      "  -0.01464844 -0.02734375  0.02929688 -0.00683594 -0.00097656 -0.015625\n",
      "  -0.39355469  0.00585938  0.01367188  0.35058594]\n",
      " [ 0.5         0.41992188 -0.18164062  0.00195312  0.03613281  0.00878906\n",
      "   0.00976562  0.00488281  0.06445312  0.04101562 -0.0078125  -0.01269531\n",
      "  -0.39257812 -0.33300781  0.16308594  0.00976562]\n",
      " [ 0.5        -0.41601562  0.19042969 -0.00097656  0.0390625  -0.02929688\n",
      "   0.01171875 -0.01269531  0.03125    -0.0234375   0.00292969 -0.0078125\n",
      "  -0.38183594  0.34375    -0.16503906  0.00488281]\n",
      " [ 0.5        -0.20019531 -0.41894531 -0.02246094  0.02246094  0.00195312\n",
      "  -0.03808594 -0.00585938  0.03613281 -0.0078125  -0.00488281 -0.00292969\n",
      "  -0.39746094  0.16503906  0.31738281 -0.015625  ]\n",
      " [ 0.5         0.18066406  0.43261719 -0.02148438  0.05175781 -0.00488281\n",
      "   0.02246094 -0.02636719  0.03027344  0.00292969  0.02148438 -0.00585938\n",
      "  -0.3984375  -0.13964844 -0.34277344 -0.02148438]]\n"
     ]
    }
   ],
   "source": [
    "def expectation(counts, shots):\n",
    "    return counts.get('00', 0)/shots*(1)+counts.get('11', 0)/shots*(1) \\\n",
    "                    +counts.get('01', 0)/shots*(-1)+counts.get('10', 0)/shots*(-1)\n",
    "noise_model = NoiseModel.from_backend(device_backend)\n",
    "shots = 1024\n",
    "backend = Aer.get_backend('qasm_simulator')\n",
    "P_S = np.zeros((36, 16))\n",
    "for i, (i1, i2) in enumerate([p for p in itertools.product(list(range(6)), repeat=2)]): \n",
    "    # the input state rho_i = |i1>|i2> where |i1>, |i2> \\in {|0>, |1>, |+>, |->, |R>, |L>}\n",
    "    for j, (j1, j2) in enumerate([p for p in itertools.product(list(range(4)), repeat=2)]):\n",
    "        if j == 0:\n",
    "            P_S[i, j] = 1.0\n",
    "            continue\n",
    "        else:\n",
    "            cr = ClassicalRegister(2, 'cr')\n",
    "            qr = QuantumRegister(2, 'qr')\n",
    "            circ = QuantumCircuit(qr, cr)\n",
    "            change_basis_input(circ, i1, 1)\n",
    "            change_basis_input(circ, i2, 0)\n",
    "            circ = example_circ(circ)\n",
    "            if j1 == 0:\n",
    "                # Measure only the 0-th  with the basis specified with j\n",
    "                change_basis_measurement(circ, j2, 0)\n",
    "                circ.measure(qr[0], cr[0])\n",
    "            else:\n",
    "                if j2 == 0:\n",
    "                    # Measure only the 1-th qubit with the basis specified with i\n",
    "                    change_basis_measurement(circ, j1, 1)\n",
    "                    circ.measure(qr[1], cr[1])\n",
    "                else:\n",
    "                    # Measure both of the two qubits with the bases specified with i and j\n",
    "                    change_basis_measurement(circ, j1, 1)\n",
    "                    change_basis_measurement(circ, j2, 0)\n",
    "                    circ.measure(qr, cr)\n",
    "            job = execute(circ, backend, \n",
    "                       noise_model=noise_model,\n",
    "                       coupling_map=coupling_map,\n",
    "                       basis_gates=basis_gates,\n",
    "                       shots = shots)\n",
    "            P_S[i, j] =expectation(job.result().get_counts(circ), shots)\n",
    "    \n",
    "P_S /= np.sqrt(4)\n",
    "print(P_S)"
   ]
  },
  {
   "cell_type": "code",
   "execution_count": 24,
   "metadata": {},
   "outputs": [
    {
     "name": "stdout",
     "output_type": "stream",
     "text": [
      "(1.0000000000000002+1.0793834961633474e-17j)\n"
     ]
    },
    {
     "data": {
      "image/png": "[encoded data removed]",
      "text/plain": [
       "<matplotlib.figure.Figure at 0x1f71c9c4400>"
      ]
     },
     "metadata": {
      "needs_background": "light"
     },
     "output_type": "display_data"
    }
   ],
   "source": [
    "ptm_eps = matmul([SS_inv, S_H, P_S]).T\n",
    "print(ptm_eps[0, 0])\n",
    "plt.matshow(np.abs(ptm_eps))\n",
    "plt.show()"
   ]
  },
  {
   "cell_type": "markdown",
   "metadata": {},
   "source": [
    "## The inner product between Paulis and reference states \n",
    "\\begin{align}\n",
    "\\langle\\langle l|\\rho_i \\rangle\\rangle = \\frac{1}{\\sqrt{d}}Tr(P_l \\rho_i)\n",
    "\\end{align}\n",
    "For the reference state $\\rho_i$, which must be some physical states of at least 16, we choose $\\{|0\\rangle, |1\\rangle, |+\\rangle, |-\\rangle, |R\\rangle, |L\\rangle\\}^{\\otimes 2}$.  "
   ]
  },
  {
   "cell_type": "code",
   "execution_count": 25,
   "metadata": {
    "scrolled": true
   },
   "outputs": [
    {
     "data": {
      "image/png": "[encoded data removed]",
      "text/plain": [
       "<matplotlib.figure.Figure at 0x1f71c80fba8>"
      ]
     },
     "metadata": {
      "needs_background": "light"
     },
     "output_type": "display_data"
    }
   ],
   "source": [
    "inn_mrho = np.zeros((16, 36), dtype=complex)\n",
    "for l, (l1, l2) in enumerate([p for p in itertools.product(list(range(4)), repeat=2)]):\n",
    "    for i in range(36):\n",
    "        inn_mrho[l, i] = np.trace(np.matmul(np.kron(sig[l1], sig[l2]), ref[i]))/np.sqrt(4)\n",
    "plt.matshow(np.abs(inn_mrho))\n",
    "plt.show()"
   ]
  },
  {
   "cell_type": "markdown",
   "metadata": {},
   "source": [
    "## Compute the matrix $T$\n",
    "The matrix $T$ is given as \n",
    "\\begin{align}\n",
    "T_{i, k} = \\sum_l \\langle\\langle{k|R_\\epsilon|l}\\rangle\\rangle\\langle\\langle{l|\\rho_i}\\rangle\\rangle\n",
    "\\end{align}"
   ]
  },
  {
   "cell_type": "code",
   "execution_count": 26,
   "metadata": {},
   "outputs": [
    {
     "data": {
      "image/png": "[encoded data removed]",
      "text/plain": [
       "<matplotlib.figure.Figure at 0x1f71cbb80b8>"
      ]
     },
     "metadata": {
      "needs_background": "light"
     },
     "output_type": "display_data"
    }
   ],
   "source": [
    "T = matmul([ptm_eps, inn_mrho]).T\n",
    "T_H = np.conjugate(T).T\n",
    "TT = np.matmul(T_H, T)\n",
    "TT_inv = np.linalg.inv(TT)#+1e-12*np.eye(16))\n",
    "plt.matshow(np.abs(TT_inv))\n",
    "plt.show()"
   ]
  },
  {
   "cell_type": "markdown",
   "metadata": {},
   "source": [
    "## Compute the PTM of $\\epsilon^{-1}$\n",
    "\\begin{equation}\n",
    "\\langle\\langle{j|R_{\\epsilon^{-1}}|k}\\rangle\\rangle = ((T^\\dagger T)^{-1}T^\\dagger P)^T_{j, k}\n",
    "\\end{equation}"
   ]
  },
  {
   "cell_type": "code",
   "execution_count": 27,
   "metadata": {
    "scrolled": true
   },
   "outputs": [
    {
     "name": "stdout",
     "output_type": "stream",
     "text": [
      "[[ 1.00000000e+00-1.04559951e-17j  4.16333634e-17-1.75600116e-17j\n",
      "   8.76035355e-17-2.93566434e-19j  0.00000000e+00+2.00207621e-18j\n",
      "   7.45931095e-17+1.16536859e-18j -9.54097912e-17+2.41943651e-20j\n",
      "  -2.53269627e-16+7.08890315e-19j -9.36750677e-17+5.37698185e-19j\n",
      "  -9.54097912e-17-1.16379674e-18j  7.02563008e-17-1.97641426e-19j\n",
      "   1.09504419e-16+7.48252959e-20j  2.40259201e-16+9.55520523e-19j\n",
      "  -6.93889390e-17+3.73619936e-19j  9.62771529e-17-7.96854172e-19j\n",
      "  -1.77809156e-17+3.97626521e-18j -2.77555756e-16-3.60757075e-17j]\n",
      " [-1.76723566e-02-5.45784787e-18j  1.09738409e+00-9.56254444e-18j\n",
      "  -9.80338958e-03-8.27800197e-19j  2.35363307e-02+1.98230628e-19j\n",
      "  -3.99526837e-02+7.47115711e-19j -1.59733380e-02+2.02595488e-19j\n",
      "  -1.86645812e-02+5.37775064e-19j  3.07607660e-03+5.42539082e-21j\n",
      "   1.35411401e-03+7.63451509e-20j -2.71675954e-02+6.00019624e-19j\n",
      "   6.08149288e-04-1.20349229e-18j -2.72249423e-02+3.20005326e-19j\n",
      "  -7.98049231e-03+1.62416704e-19j  2.22020202e-02-9.45437700e-20j\n",
      "  -2.42345556e-02+2.09257102e-17j  2.96286228e-02-5.57407460e-18j]\n",
      " [-1.41808578e-02-7.15491577e-19j  8.65586544e-03+2.31028291e-18j\n",
      "   1.07659626e+00-1.23169483e-17j -9.41007346e-04+1.51658671e-17j\n",
      "   2.91628308e-02-1.15922918e-19j -3.22271341e-02-2.08995765e-19j\n",
      "   4.00844235e-02+1.06256050e-18j -8.50501856e-03-2.00572513e-19j\n",
      "  -8.35580225e-03+1.22972678e-18j -1.24464697e-02+1.47565999e-18j\n",
      "   1.04025368e-02-2.15680156e-18j  2.89518441e-02-1.77651033e-19j\n",
      "   1.80210526e-02+9.22265001e-18j  2.64170853e-02-3.25251310e-17j\n",
      "   1.61012604e-03+2.75283468e-20j -3.46190276e-02+1.39654379e-18j]\n",
      " [-9.95074630e-03+1.42804628e-18j -1.70644503e-02-1.94585356e-18j\n",
      "  -1.74266097e-03+6.24793752e-18j  1.08566111e+00-9.47350799e-18j\n",
      "  -2.13379883e-03+2.21577124e-19j -1.34148144e-02+3.55754374e-19j\n",
      "   2.38622982e-03-1.12051579e-18j -8.91052485e-03+6.61977322e-19j\n",
      "  -3.34064767e-04-1.15490207e-18j  3.14319322e-02-4.15332309e-19j\n",
      "   1.21422625e-02+1.70666848e-18j -9.64489497e-03-3.44664680e-19j\n",
      "  -1.42370525e-02-2.68466126e-17j -1.06654242e-02+1.59438696e-17j\n",
      "   2.11321179e-03-1.31987349e-19j -4.55176852e-04-2.88539748e-18j]\n",
      " [-5.98905372e-02+1.06096583e-18j -1.71343440e-03+1.69263271e-18j\n",
      "  -1.76587196e-02-2.66879953e-18j  4.25420346e-03-1.15005849e-18j\n",
      "   1.15458677e+00-1.29812045e-17j -4.27154761e-03-3.51294308e-17j\n",
      "   8.85793796e-03+2.30898134e-19j -6.31753580e-03-4.11635650e-19j\n",
      "   6.38202968e-03+1.32159050e-20j  4.07941617e-02-2.24630048e-18j\n",
      "  -1.82143025e-02+3.34295747e-17j -2.79378133e-04+3.17008754e-17j\n",
      "   2.03886586e-02+2.72751307e-19j  5.28691627e-03+9.38562737e-20j\n",
      "  -7.79214920e-03+1.41303614e-19j -7.57137640e-03-2.24506471e-18j]\n",
      " [-5.17787137e-03+6.22768821e-19j -7.98900725e-02+4.01000010e-19j\n",
      "   2.77405729e-02-2.18276338e-18j -8.09670871e-03-1.18257732e-18j\n",
      "   1.88484668e-02-1.08370902e-17j  1.27462477e+00-1.73629837e-17j\n",
      "  -7.87109598e-03-7.99003583e-19j -1.07591434e-02-2.04518034e-19j\n",
      "  -4.67678004e-03-1.01938034e-19j  1.16243948e-02-1.56406108e-18j\n",
      "  -2.68494209e-02+3.53233248e-17j  1.77855168e-02+1.49611888e-17j\n",
      "  -9.63016030e-03+8.14043689e-19j -1.75008894e-02-8.47116002e-19j\n",
      "  -1.38015155e-02-5.42829690e-19j -8.96832058e-03+5.51633623e-19j]\n",
      " [ 4.81932891e-03-2.40163145e-19j -4.12998732e-02+2.80022793e-18j\n",
      "  -1.10763677e-01-4.06047916e-19j -1.72792936e-02+5.79928766e-19j\n",
      "   7.52803928e-03+1.21721355e-19j -8.94369445e-03+1.47139359e-18j\n",
      "   1.29832527e+00-1.58517106e-18j -3.75996511e-02-7.29994479e-18j\n",
      "  -3.55470331e-02+5.90375145e-20j  1.46119928e-02-5.30211881e-17j\n",
      "  -1.74771825e-03+1.31803066e-19j  2.07495227e-02+8.95299567e-19j\n",
      "  -6.34172946e-03-2.07778735e-19j  1.16810647e-02+1.28977653e-19j\n",
      "  -2.80514346e-02+1.34681856e-18j -7.38643594e-03+2.48098589e-18j]\n",
      " [ 3.47138212e-03+3.02166427e-19j -3.91014722e-02-3.49084406e-18j\n",
      "  -5.55815008e-03-6.08055202e-18j -8.00589942e-02-6.20838218e-19j\n",
      "  -9.05725422e-03+6.28260143e-19j  4.29231023e-02-6.63686619e-19j\n",
      "   3.92002914e-02+7.16678448e-17j  1.27815410e+00-7.58865202e-18j\n",
      "   3.58129415e-03-4.02045753e-18j -1.44540139e-02+9.67274407e-19j\n",
      "  -3.98170162e-02+9.84007342e-19j -2.08878985e-02+1.39194403e-18j\n",
      "  -5.45490387e-04-2.90554391e-19j -1.08448358e-03+2.64189654e-19j\n",
      "  -2.83584861e-02-2.13460869e-18j  1.76296316e-02-1.38307382e-18j]\n",
      " [-6.71858938e-02+4.85736036e-19j -1.45772942e-02+4.78784716e-18j\n",
      "   5.34512567e-03+2.15874909e-18j -8.46733748e-03+3.24728980e-18j\n",
      "  -2.03387225e-02-1.24128683e-18j -1.00706098e-02-4.28804133e-19j\n",
      "  -4.54317962e-03-3.82168123e-17j  1.26432475e-02-3.12282387e-17j\n",
      "   1.18363198e+00-1.24039410e-17j  3.25818540e-03-3.56282076e-17j\n",
      "  -2.16001631e-02+4.88506128e-18j -2.47211132e-03+2.21153764e-19j\n",
      "   2.71217667e-02+2.08394197e-20j  3.10188639e-04+1.33131849e-19j\n",
      "  -2.73485574e-02+2.43228394e-18j  1.12622489e-02+9.78992343e-19j]\n",
      " [ 4.79231777e-03+5.29971025e-19j -7.64970216e-02+2.61157420e-18j\n",
      "   7.30172566e-03+1.89193515e-18j -4.61145008e-03+2.13874807e-18j\n",
      "   2.63945505e-02-1.03280913e-18j -2.58360125e-02-2.12759810e-19j\n",
      "   6.44639307e-03-3.53345599e-17j -4.82659002e-03-1.45279884e-17j\n",
      "  -1.83891233e-02-9.01737083e-18j  1.27352948e+00-1.75696126e-17j\n",
      "  -2.97548035e-02+2.21482478e-18j -1.20136970e-02-3.19801095e-19j\n",
      "  -3.15756066e-03-4.76997894e-19j -2.45171123e-03+3.21326069e-19j\n",
      "  -1.32672954e-02+1.10306882e-18j -1.17663115e-02-1.70261353e-18j]\n",
      " [ 7.09764097e-03-2.20724808e-19j -3.38127505e-02-5.01789736e-18j\n",
      "  -6.69152398e-02+1.36657156e-18j  6.78428227e-03-7.03390897e-19j\n",
      "  -3.35155869e-02+5.49980150e-19j  1.26817099e-02+5.29170209e-17j\n",
      "  -3.67736628e-02-1.57834090e-21j -2.97465200e-03-2.25647663e-19j\n",
      "   6.98011897e-04-2.45320766e-19j -1.63110417e-02+7.45543288e-19j\n",
      "   1.28653731e+00-5.14488353e-20j -1.55964221e-02-6.87018612e-18j\n",
      "   1.79140823e-02-3.47095294e-19j -1.83803043e-02-1.03927352e-18j\n",
      "  -1.59141548e-02-1.23525885e-18j -5.04876309e-02-1.36193409e-18j]\n",
      " [-1.19096757e-03+2.64616021e-19j  7.52593559e-03-2.49670562e-18j\n",
      "  -3.42310660e-03-3.06702241e-18j -6.78288924e-02+3.60095571e-19j\n",
      "   3.78128862e-02+4.36214426e-20j -2.47728005e-02+6.47158353e-19j\n",
      "   2.44622781e-02-8.14243634e-19j -2.67170031e-02+9.39165419e-20j\n",
      "  -8.39074488e-03-1.98770583e-19j -4.62055128e-02-6.80366634e-19j\n",
      "  -5.29534760e-02+7.19570583e-17j  1.28661943e+00-6.24299419e-18j\n",
      "   2.31673760e-03+1.44202755e-18j -7.77903967e-04-1.42762500e-18j\n",
      "   6.39659037e-03-1.32030924e-18j -1.17664134e-02-4.42079760e-18j]\n",
      " [-5.89626045e-02+8.17640811e-19j  1.45684103e-02+1.10863020e-18j\n",
      "  -2.94791885e-04-2.10156455e-18j -3.71273056e-03-5.02665503e-17j\n",
      "   1.40632277e-02+1.98658910e-19j -3.26794099e-03+7.06901519e-19j\n",
      "   4.61396265e-02-4.07940814e-19j -2.33141888e-02+6.29992518e-19j\n",
      "   1.46899819e-02-1.28181404e-19j -2.50797974e-02-1.27877132e-18j\n",
      "  -4.08842530e-02-3.70770396e-19j  3.35245275e-02+3.43996321e-19j\n",
      "   1.18905705e+00-5.09934789e-18j  3.16072831e-03-4.91851820e-18j\n",
      "  -7.27279308e-03-1.96495910e-19j  7.72260739e-05-1.33989922e-18j]\n",
      " [ 3.25613250e-03-3.85780380e-19j -6.33959362e-02-1.22379504e-18j\n",
      "  -2.60429748e-03+8.07700321e-18j  2.23413671e-02+7.15533641e-18j\n",
      "   1.64291431e-02-6.81342470e-20j  2.52524521e-02-2.91107400e-19j\n",
      "   1.86270897e-02+2.12717274e-18j -7.51273893e-03-5.61130129e-19j\n",
      "  -1.39155395e-02+6.17516753e-19j -2.41969317e-02+1.03967315e-19j\n",
      "   2.12570667e-02+1.59785987e-18j  3.28939636e-03+2.37409859e-19j\n",
      "   2.04884049e-02+4.62942302e-18j  1.26377913e+00+2.16333559e-17j\n",
      "   1.52726874e-02+4.58896162e-19j -4.13687122e-03-4.52905183e-19j]\n",
      " [ 4.56272076e-03+8.56558453e-18j -1.85918032e-02-2.64100972e-17j\n",
      "  -7.91470778e-02+9.81546446e-19j  1.18115819e-02-1.63141821e-18j\n",
      "  -2.69759944e-02+9.35249168e-19j -1.69592217e-02+6.29944541e-19j\n",
      "  -3.26274204e-03-2.10321351e-18j  6.97100609e-03-8.32891721e-20j\n",
      "  -1.48133407e-02-5.77101988e-19j  1.02013717e-02+3.63553283e-20j\n",
      "   3.12923819e-04+7.39074050e-19j -1.09770111e-02+5.59579982e-19j\n",
      "  -3.07962931e-03-1.75773894e-19j  3.02538124e-02-6.72732673e-19j\n",
      "   1.25425649e+00-1.35698420e-17j -4.07598167e-02+1.28440510e-17j]\n",
      " [-1.25224048e-03-2.91088584e-17j -2.02491760e-02-9.56657114e-18j\n",
      "   8.87281875e-03+1.03536344e-18j -8.49756124e-02+1.90497626e-18j\n",
      "  -2.08437444e-02+1.84548985e-18j  6.99475274e-03+5.23075962e-19j\n",
      "  -1.47756131e-02-1.28839826e-18j -2.05354280e-02+5.71209345e-19j\n",
      "   3.97190651e-02-1.50056021e-18j  2.42104575e-02-9.81678302e-19j\n",
      "  -3.02698368e-03-1.42162667e-18j -1.93150439e-02+9.92628639e-19j\n",
      "  -9.01838139e-03+4.12273528e-20j  1.84107009e-02-1.42346395e-18j\n"
     ]
    },
    {
     "name": "stdout",
     "output_type": "stream",
     "text": [
      "  -9.69350093e-03-1.73117097e-17j  1.27831055e+00-3.67938232e-17j]]\n"
     ]
    }
   ],
   "source": [
    "ptm_eps_inv = matmul([TT_inv, T_H, inn_mrho.T]).T\n",
    "print(ptm_eps_inv)"
   ]
  },
  {
   "cell_type": "markdown",
   "metadata": {},
   "source": [
    "## Compute the matrix $\\Sigma = Tr[P_k P_i P_l P_j]$ to recover the process matrix from the PTM\n",
    "One may recover the process matrix by\n",
    "\\begin{align}\n",
    "\\vec{\\chi} = \\Sigma^{-1}\\vec{m}\n",
    "\\end{align}\n",
    "where $\\vec{\\chi}_{i+j(d-1)} = \\chi_{ij}$ and $\\vec{m}_{k+l(d-1)} = \\langle\\langle k|R_{\\epsilon^{-1}}|l \\rangle\\rangle$. "
   ]
  },
  {
   "cell_type": "code",
   "execution_count": 28,
   "metadata": {
    "scrolled": true
   },
   "outputs": [
    {
     "data": {
      "image/png": "[encoded data removed]",
      "text/plain": [
       "<matplotlib.figure.Figure at 0x1f71c63ba20>"
      ]
     },
     "metadata": {
      "needs_background": "light"
     },
     "output_type": "display_data"
    }
   ],
   "source": [
    "SigTensor1 = np.zeros([4, 4, 4, 4], dtype=complex)\n",
    "for i in range(4):\n",
    "    for j in range(4):\n",
    "        for k in range(4):\n",
    "            for l in range(4):\n",
    "                SigTensor1[k, l, i, j] = np.trace(matmul([sig[k], sig[i], sig[l], sig[j]]))/2\n",
    "SigMat = np.reshape(tensor_prod([SigTensor1 for i in range(2)]), [4**(2*2), 4**(2*2)])\n",
    "SigMat_H = np.conjugate(SigMat).T \n",
    "\n",
    "plt.matshow(np.abs(SigMat))\n",
    "plt.show()"
   ]
  },
  {
   "cell_type": "code",
   "execution_count": 29,
   "metadata": {},
   "outputs": [
    {
     "name": "stdout",
     "output_type": "stream",
     "text": [
      "(0.9999999999999997-1.0455995141420361e-17j)\n",
      "[ 1.20506586e+00-9.46404132e-18j -2.54917020e-02+1.48875714e-18j\n",
      " -2.46919710e-02+9.06053961e-19j -2.30632373e-02-3.16589194e-18j\n",
      " -4.68993147e-02-7.01834584e-19j -1.02593705e-03-3.91356320e-18j\n",
      " -1.09750093e-03-7.50078224e-20j -5.50281256e-03+3.20692791e-18j\n",
      " -4.38209036e-02-2.95582750e-19j  2.88313482e-03-4.22715638e-18j\n",
      "  1.38399812e-04+4.64867753e-20j  7.96410159e-04+3.28140641e-18j\n",
      " -4.94352780e-02+9.20968042e-21j  7.41618554e-03+7.09494161e-18j\n",
      " -9.61164688e-04-1.81175567e-18j  5.68983042e-03-2.83494499e-18j]\n"
     ]
    },
    {
     "data": {
      "image/png": "[encoded data removed]",
      "text/plain": [
       "<matplotlib.figure.Figure at 0x1f76954ff60>"
      ]
     },
     "metadata": {
      "needs_background": "light"
     },
     "output_type": "display_data"
    }
   ],
   "source": [
    "ptm_eps_inv_vec = np.reshape(ptm_eps_inv, [-1, 1])\n",
    "chi_eps_inv_vec = np.dot(np.linalg.inv(SigMat), ptm_eps_inv_vec)\n",
    "chi_eps_inv = np.reshape(chi_eps_inv_vec, [16, 16])\n",
    "print(np.trace(chi_eps_inv))\n",
    "print(np.diagonal(chi_eps_inv))\n",
    "plt.matshow(np.abs(chi_eps_inv))\n",
    "plt.colorbar()\n",
    "plt.show()"
   ]
  },
  {
   "cell_type": "code",
   "execution_count": 30,
   "metadata": {},
   "outputs": [
    {
     "data": {
      "image/png": "[encoded data removed]",
      "text/plain": [
       "<matplotlib.figure.Figure at 0x1f71c84dcf8>"
      ]
     },
     "metadata": {
      "needs_background": "light"
     },
     "output_type": "display_data"
    }
   ],
   "source": [
    "plt.bar(range(16), np.real(np.diagonal(chi_eps_inv)))\n",
    "plt.show()"
   ]
  },
  {
   "cell_type": "markdown",
   "metadata": {},
   "source": [
    "## Check if $\\chi_{\\epsilon^{-1}}$ is correct"
   ]
  },
  {
   "cell_type": "code",
   "execution_count": 32,
   "metadata": {},
   "outputs": [
    {
     "name": "stdout",
     "output_type": "stream",
     "text": [
      "[[ 0.5       +0.j         -0.20807342-0.45464871j  0.        -0.j\n",
      "   0.        -0.j        ]\n",
      " [-0.20807342+0.45464871j  0.5       +0.j          0.        +0.j\n",
      "   0.        +0.j        ]\n",
      " [ 0.        +0.j          0.        +0.j          0.        +0.j\n",
      "   0.        +0.j        ]\n",
      " [ 0.        +0.j          0.        +0.j          0.        +0.j\n",
      "   0.        +0.j        ]]\n"
     ]
    }
   ],
   "source": [
    "backend = Aer.get_backend('statevector_simulator')\n",
    "cr = ClassicalRegister(2, 'cr')\n",
    "qr = QuantumRegister(2, 'qr')\n",
    "circ = QuantumCircuit(qr, cr)\n",
    "circ = example_circ(circ)\n",
    "job = execute(circ, backend)\n",
    "state = job.result().get_statevector(circ)\n",
    "exact_rho = DensityMatrix(state).data\n",
    "print(exact_rho)"
   ]
  },
  {
   "cell_type": "markdown",
   "metadata": {},
   "source": [
    "## Tomography the noisy output state"
   ]
  },
  {
   "cell_type": "code",
   "execution_count": 33,
   "metadata": {},
   "outputs": [
    {
     "name": "stdout",
     "output_type": "stream",
     "text": [
      "[[ 0.45361328+0.j         -0.17578125-0.39550781j  0.02880859-0.02734375j\n",
      "  -0.03027344-0.00537109j]\n",
      " [-0.17578125+0.39550781j  0.50048828+0.j         -0.00195312+0.01123047j\n",
      "   0.00244141-0.00878906j]\n",
      " [ 0.02880859+0.02734375j -0.00195312-0.01123047j  0.01025391+0.j\n",
      "  -0.01074219-0.02246094j]\n",
      " [-0.03027344+0.00537109j  0.00244141+0.00878906j -0.01074219+0.02246094j\n",
      "   0.03564453+0.j        ]]\n",
      "MAE =  0.02870666277342436\n"
     ]
    }
   ],
   "source": [
    "u = np.zeros(4**2)\n",
    "u[0] = 1.0\n",
    "shots = 1024\n",
    "\n",
    "backend = Aer.get_backend('qasm_simulator')\n",
    "for itr, (i, j) in enumerate([p for p in itertools.product(list(range(4)), repeat=2)]):\n",
    "    # Due to the indexing convension of qiskit, i corresponds to 1-th qubit and j corresponds to 0-th qubit\n",
    "    if i == 0 and j == 0:\n",
    "        continue\n",
    "    else:\n",
    "        cr = ClassicalRegister(2, 'cr')\n",
    "        qr = QuantumRegister(2, 'qr')\n",
    "        circ = QuantumCircuit(qr, cr)\n",
    "        circ = example_circ(circ)\n",
    "        if i == 0:\n",
    "            # Measure only the 0-th qubit with the basis specified with j\n",
    "            change_basis_measurement(circ, j, 0)\n",
    "            circ.measure(qr[0], cr[0])\n",
    "        else:\n",
    "            if j == 0:\n",
    "                # Measure only the 1-th qubit with the basis specified with i\n",
    "                change_basis_measurement(circ, i, 1)\n",
    "                circ.measure(qr[1], cr[1])\n",
    "            else:\n",
    "                # Measure both of the two qubits with the bases specified with i and j\n",
    "                change_basis_measurement(circ, i, 1)\n",
    "                change_basis_measurement(circ, j, 0)\n",
    "                circ.measure(qr, cr)\n",
    "        job = execute(circ, backend, \n",
    "                       noise_model=noise_model,\n",
    "                       coupling_map=coupling_map,\n",
    "                       basis_gates=basis_gates,\n",
    "                       shots = shots)\n",
    "        u[itr] =job.result().get_counts(circ).get('00', 0)/shots*(1)+job.result().get_counts(circ).get('11', 0)/shots*(1) \\\n",
    "                        +job.result().get_counts(circ).get('01', 0)/shots*(-1)+job.result().get_counts(circ).get('10', 0)/shots*(-1)\n",
    "noisy_rho = sum([np.kron(sig[i], sig[j])*u[itr] for itr, (i, j) in enumerate([p for p in itertools.product(list(range(4)), repeat=2)])])/2**2\n",
    "print(noisy_rho)\n",
    "print(\"MAE = \", np.mean(np.abs(noisy_rho - exact_rho)))"
   ]
  },
  {
   "cell_type": "code",
   "execution_count": 34,
   "metadata": {},
   "outputs": [
    {
     "name": "stdout",
     "output_type": "stream",
     "text": [
      "[[ 0.47223979-2.03950320e-17j -0.20910935-4.41165073e-01j\n",
      "   0.01710801-2.11910529e-02j -0.02272223+1.21116255e-02j]\n",
      " [-0.20910935+4.41165073e-01j  0.53312756+1.12392036e-17j\n",
      "  -0.00118469-1.85877163e-02j -0.0130382 +5.54521214e-03j]\n",
      " [ 0.01710801+2.11910529e-02j -0.00118469+1.85877163e-02j\n",
      "  -0.01776128+4.38905459e-18j -0.02725201-7.93756705e-03j]\n",
      " [-0.02272223-1.21116255e-02j -0.0130382 -5.54521214e-03j\n",
      "  -0.02725201+7.93756705e-03j  0.01239392-2.24319661e-18j]]\n"
     ]
    },
    {
     "data": {
      "image/png": "[encoded data removed]",
      "text/plain": [
       "<matplotlib.figure.Figure at 0x1f71caa8128>"
      ]
     },
     "metadata": {
      "needs_background": "light"
     },
     "output_type": "display_data"
    },
    {
     "name": "stdout",
     "output_type": "stream",
     "text": [
      "MAE =  0.02165084581752095\n"
     ]
    }
   ],
   "source": [
    "mitigated_rho = np.zeros((4, 4), dtype=complex)\n",
    "for i, (i1, i2) in enumerate([p for p in itertools.product(list(range(4)), repeat=2)]):\n",
    "    for j, (j1, j2) in enumerate([p for p in itertools.product(list(range(4)), repeat=2)]):\n",
    "        mitigated_rho += chi_eps_inv[i, j]*np.matmul(np.matmul(np.kron(sig[i1], sig[i2]), noisy_rho), np.kron(sig[j1], sig[j2]))\n",
    "        \n",
    "print(mitigated_rho)\n",
    "plt.matshow(np.abs(mitigated_rho-exact_rho))\n",
    "plt.colorbar()\n",
    "plt.show()\n",
    "print(\"MAE = \", np.mean(np.abs(mitigated_rho - exact_rho)))"
   ]
  },
  {
   "cell_type": "code",
   "execution_count": 35,
   "metadata": {},
   "outputs": [
    {
     "name": "stdout",
     "output_type": "stream",
     "text": [
      "[[ 0.49349641-3.40303439e-18j -0.20663039-4.58940027e-01j\n",
      "   0.03489108-3.33203870e-02j -0.03875596-7.04607065e-03j]\n",
      " [-0.20663039+4.58940027e-01j  0.54645625-4.14058503e-18j\n",
      "  -0.00232082+1.45081575e-02j  0.00118975-9.44756558e-03j]\n",
      " [ 0.03489108+3.33203870e-02j -0.00232082-1.45081575e-02j\n",
      "  -0.0327244 -1.48265869e-18j  0.00194253+8.95643552e-03j]\n",
      " [-0.03875596+7.04607065e-03j  0.00118975+9.44756558e-03j\n",
      "   0.00194253-8.95643552e-03j -0.00722826-1.42971703e-18j]]\n"
     ]
    },
    {
     "data": {
      "image/png": "[encoded data removed]",
      "text/plain": [
       "<matplotlib.figure.Figure at 0x1f71cae0f28>"
      ]
     },
     "metadata": {
      "needs_background": "light"
     },
     "output_type": "display_data"
    },
    {
     "name": "stdout",
     "output_type": "stream",
     "text": [
      "MAE =  0.021499999470801834\n"
     ]
    }
   ],
   "source": [
    "mitigated_rho_diag = np.zeros((4, 4), dtype=complex)\n",
    "for i, (i1, i2) in enumerate([p for p in itertools.product(list(range(4)), repeat=2)]):\n",
    "    mitigated_rho_diag += chi_eps_inv[i, i]*np.matmul(np.matmul(np.kron(sig[i1], sig[i2]), noisy_rho), np.kron(sig[i1], sig[i2]))\n",
    "        \n",
    "print(mitigated_rho_diag)\n",
    "plt.matshow(np.abs(mitigated_rho_diag-exact_rho))\n",
    "plt.colorbar()\n",
    "plt.show()\n",
    "print(\"MAE = \", np.mean(np.abs(mitigated_rho_diag - exact_rho)))"
   ]
  },
  {
   "cell_type": "code",
   "execution_count": 36,
   "metadata": {},
   "outputs": [
    {
     "name": "stdout",
     "output_type": "stream",
     "text": [
      "[[ 0.48770101-4.53658036e-18j -0.20607716-4.64461253e-01j\n",
      "   0.03526479-3.33152380e-02j -0.03866869-6.83632739e-03j]\n",
      " [-0.20607716+4.64461253e-01j  0.54083902-5.26575860e-18j\n",
      "  -0.00237784+1.43354078e-02j  0.0015532 -9.47803122e-03j]\n",
      " [ 0.03526479+3.33152380e-02j -0.00237784-1.43354078e-02j\n",
      "  -0.03132743-4.96491547e-19j  0.00329375+9.38802416e-03j]\n",
      " [-0.03866869+6.83632739e-03j  0.0015532 +9.47803122e-03j\n",
      "   0.00329375-9.38802416e-03j -0.00554915-9.24499295e-19j]]\n"
     ]
    },
    {
     "data": {
      "image/png": "[encoded data removed]",
      "text/plain": [
       "<matplotlib.figure.Figure at 0x1f71cae0358>"
      ]
     },
     "metadata": {
      "needs_background": "light"
     },
     "output_type": "display_data"
    },
    {
     "name": "stdout",
     "output_type": "stream",
     "text": [
      "MAE =  0.02211087101509859\n"
     ]
    }
   ],
   "source": [
    "mitigated_rho_diag = np.zeros((4, 4), dtype=complex)\n",
    "for i, (i1, i2) in enumerate([p for p in itertools.product(list(range(4)), repeat=2)]):\n",
    "    if i in [ 0,  1,  2,  3,  4,  8, 12]:\n",
    "        mitigated_rho_diag += chi_eps_inv[i, i]*np.matmul(np.matmul(np.kron(sig[i1], sig[i2]), noisy_rho), np.kron(sig[i1], sig[i2]))\n",
    "        \n",
    "print(mitigated_rho_diag)\n",
    "plt.matshow(np.abs(mitigated_rho_diag-exact_rho))\n",
    "plt.colorbar()\n",
    "plt.show()\n",
    "print(\"MAE = \", np.mean(np.abs(mitigated_rho_diag - exact_rho)))"
   ]
  },
  {
   "cell_type": "markdown",
   "metadata": {},
   "source": [
    "# Quasi-probability"
   ]
  },
  {
   "cell_type": "markdown",
   "metadata": {},
   "source": [
    "## Ideal"
   ]
  },
  {
   "cell_type": "code",
   "execution_count": 37,
   "metadata": {},
   "outputs": [
    {
     "data": {
      "image/png": "[encoded data removed]",
      "text/plain": [
       "<matplotlib.figure.Figure at 0x1f71cb12940>"
      ]
     },
     "execution_count": 37,
     "metadata": {},
     "output_type": "execute_result"
    }
   ],
   "source": [
    "cr = ClassicalRegister(2, 'cr')\n",
    "qr = QuantumRegister(2, 'qr')\n",
    "circ = QuantumCircuit(qr, cr)\n",
    "example_circ(circ)\n",
    "circ.measure(qr, cr)\n",
    "job = execute(circ, backend, \n",
    "                       shots = shots)\n",
    "counts = job.result().get_counts(circ)\n",
    "plot_histogram(counts)"
   ]
  },
  {
   "cell_type": "markdown",
   "metadata": {},
   "source": [
    "## No mitigation"
   ]
  },
  {
   "cell_type": "code",
   "execution_count": 38,
   "metadata": {},
   "outputs": [
    {
     "data": {
      "image/png": "[encoded data removed]",
      "text/plain": [
       "<matplotlib.figure.Figure at 0x1f71cc35b70>"
      ]
     },
     "execution_count": 38,
     "metadata": {},
     "output_type": "execute_result"
    }
   ],
   "source": [
    "cr = ClassicalRegister(2, 'cr')\n",
    "qr = QuantumRegister(2, 'qr')\n",
    "circ = QuantumCircuit(qr, cr)\n",
    "example_circ(circ)\n",
    "circ.measure(qr, cr)\n",
    "job = execute(circ, backend, \n",
    "                       noise_model=noise_model,\n",
    "                       coupling_map=coupling_map,\n",
    "                       basis_gates=basis_gates,\n",
    "                       shots = shots)\n",
    "counts = job.result().get_counts(circ)\n",
    "plot_histogram(counts)"
   ]
  },
  {
   "cell_type": "markdown",
   "metadata": {},
   "source": [
    "## With mitigation"
   ]
  },
  {
   "cell_type": "code",
   "execution_count": 39,
   "metadata": {},
   "outputs": [
    {
     "name": "stdout",
     "output_type": "stream",
     "text": [
      "1.2050658610063858\n",
      "-0.025491701997027952\n",
      "-0.024691970952128495\n",
      "-0.02306323731268621\n",
      "-0.046899314701690675\n",
      "-0.04382090361643787\n",
      "-0.049435277963781055\n"
     ]
    },
    {
     "data": {
      "image/png": "[encoded data removed]",
      "text/plain": [
       "<matplotlib.figure.Figure at 0x1f71c70d4a8>"
      ]
     },
     "execution_count": 39,
     "metadata": {},
     "output_type": "execute_result"
    }
   ],
   "source": [
    "def dec_to_binary_str(dec, n_dig):\n",
    "    s = bin(dec).replace(\"0b\", \"\")\n",
    "    return '0'*(n_dig - len(s)) +s \n",
    "dist = {dec_to_binary_str(i, 2): 0. for i in range(4)}\n",
    "\n",
    "index = np.where(np.abs(np.real(np.diagonal(chi_eps_inv))) > 1e-2)[0]\n",
    "backend = Aer.get_backend('qasm_simulator')\n",
    "for i in index:\n",
    "    print(np.real(np.diagonal(chi_eps_inv))[i])\n",
    "    i1 = i//4\n",
    "    i2 = i%4\n",
    "    cr = ClassicalRegister(2, 'cr')\n",
    "    qr = QuantumRegister(2, 'qr')\n",
    "    circ = QuantumCircuit(qr, cr)\n",
    "    example_circ(circ)\n",
    "    if i1 == 1:\n",
    "        circ.x(1)\n",
    "    elif i1 == 2:\n",
    "        circ.y(1)\n",
    "    elif i1 == 3:\n",
    "        circ.z(1)\n",
    "    if i2 == 1:\n",
    "        circ.x(0)\n",
    "    elif i2 == 2:\n",
    "        circ.y(0)\n",
    "    elif i2 == 3:\n",
    "        circ.z(0)\n",
    "    \n",
    "    circ.measure(qr, cr)\n",
    "    job = execute(circ, backend, \n",
    "                       noise_model=noise_model,\n",
    "                       coupling_map=coupling_map,\n",
    "                       basis_gates=basis_gates,\n",
    "                       shots = shots)\n",
    "    counts = job.result().get_counts(circ)\n",
    "    for key in counts.keys():\n",
    "        dist[key] += np.real(np.diagonal(chi_eps_inv))[i]*counts[key]\n",
    "        \n",
    "plot_histogram(dist)"
   ]
  },
  {
   "cell_type": "code",
   "execution_count": null,
   "metadata": {},
   "outputs": [],
   "source": []
  }
 ],
 "metadata": {
  "kernelspec": {
   "display_name": "Python 3",
   "language": "python",
   "name": "python3"
  },
  "language_info": {
   "codemirror_mode": {
    "name": "ipython",
    "version": 3
   },
   "file_extension": ".py",
   "mimetype": "text/x-python",
   "name": "python",
   "nbconvert_exporter": "python",
   "pygments_lexer": "ipython3",
   "version": "3.6.3"
  }
 },
 "nbformat": 4,
 "nbformat_minor": 2
}
