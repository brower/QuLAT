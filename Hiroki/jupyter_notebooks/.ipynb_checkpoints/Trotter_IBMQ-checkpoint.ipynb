{
 "cells": [
  {
   "cell_type": "code",
   "execution_count": null,
   "metadata": {},
   "outputs": [],
   "source": [
    "import os, time\n",
    "import sys\n",
    "module_path = os.path.abspath(os.path.join('..'))\n",
    "if module_path not in sys.path:\n",
    "    sys.path.append(module_path)\n",
    "import numpy as np\n",
    "from scipy.linalg import expm, eig, logm\n",
    "from qiskit import QuantumCircuit, QuantumRegister, ClassicalRegister, BasicAer, execute, IBMQ\n",
    "from operators.triangle_plaquette_hamiltonian import TrianglePlaquetteHamiltonian\n",
    "from operators.pauli_hamiltonian import PauliHamiltonian\n",
    "import matplotlib.pyplot as plt\n",
    "np.set_printoptions(threshold=sys.maxsize)\n",
    "from qiskit.providers.jobstatus import JobStatus\n",
    "from qiskit.visualization import plot_histogram\n"
   ]
  },
  {
   "cell_type": "code",
   "execution_count": null,
   "metadata": {},
   "outputs": [],
   "source": [
    "# Get on one of the IBM Q machines\n",
    "IBMQ.load_account() # Load account from disk\n",
    "print(IBMQ.providers())    # List all available providers\n",
    "provider = IBMQ.get_provider(hub='ibm-q-ornl', project='brookhaven')\n",
    "provider\n",
    "provider.backends()"
   ]
  },
  {
   "cell_type": "code",
   "execution_count": null,
   "metadata": {},
   "outputs": [],
   "source": [
    "backend = provider.get_backend('ibmq_cambridge')\n",
    "backend"
   ]
  },
  {
   "cell_type": "code",
   "execution_count": null,
   "metadata": {},
   "outputs": [],
   "source": [
    "# 2 triangle plaquettes\n",
    "#backend = BasicAer.get_backend('qasm_simulator')\n",
    "T = 0.1\n",
    "H = TrianglePlaquetteHamiltonian(1, 1, 2)\n",
    "# Construct Circuit with n_steps = 20\n",
    "qr = QuantumRegister(6, 'qr')\n",
    "cr = ClassicalRegister(6, 'cr')\n",
    "circ1 = QuantumCircuit(qr, cr)\n",
    "circ1 = H.trotter_circuit_optimized(circ1, qr, T, 1)\n",
    "circ1.measure(qr, cr)\n",
    "job = execute(circ1, backend, shots=1024)\n",
    "lapse = 0\n",
    "interval = 30\n",
    "while job.status() != JobStatus.DONE:\n",
    "    print('Status @ {} seconds'.format(interval * lapse))\n",
    "    print(job.status())\n",
    "    time.sleep(interval)\n",
    "    lapse += 1\n",
    "print(job.status())\n",
    "result_sim = job.result()\n",
    "tr_dist2 = result_sim.get_counts(circ1)\n",
    "plot_histogram(tr_dist2)"
   ]
  },
  {
   "cell_type": "code",
   "execution_count": null,
   "metadata": {},
   "outputs": [],
   "source": [
    "# Measure distances with the two distribution\n",
    "def KL(p1, p2):\n",
    "    \"\"\"\n",
    "    Compute the D_KL(p1||p2)\n",
    "    \"\"\"\n",
    "    return np.sum(np.where(p1 != 0, p1 * np.log(p1 / p2), 0))\n",
    "\n",
    "def H(p):\n",
    "    \"\"\"\n",
    "    Compute Shannon entropy of p\n",
    "    \"\"\"\n",
    "    return -np.sum(np.where(p1 != 0, p1 * np.log(p1), 0))\n",
    "p1 = np.array([0, 0.5, 0.5, 0]) # Ideally we are expected to observe 50% 01 and 50% 10\n",
    "p2 = np.array([0.103, 0.498, 0.355, 0.044])\n",
    "print(KL(p1, p2))\n",
    "print(H(p1))"
   ]
  },
  {
   "cell_type": "code",
   "execution_count": null,
   "metadata": {},
   "outputs": [],
   "source": [
    "def dec_to_binary_str(dec, n_dig):\n",
    "    s = bin(dec).replace(\"0b\", \"\")\n",
    "    return '0'*(n_dig - len(s)) +s\n",
    "print([dec_to_binary_str(i, 6) for i in np.where(np.fromiter(tr_dist2.values(), float) > 0.01)[0]])"
   ]
  },
  {
   "cell_type": "code",
   "execution_count": null,
   "metadata": {},
   "outputs": [],
   "source": [
    "plot_histogram(tr_dist2)"
   ]
  },
  {
   "cell_type": "code",
   "execution_count": null,
   "metadata": {},
   "outputs": [],
   "source": []
  }
 ],
 "metadata": {
  "kernelspec": {
   "display_name": "Python 3",
   "language": "python",
   "name": "python3"
  },
  "language_info": {
   "codemirror_mode": {
    "name": "ipython",
    "version": 3
   },
   "file_extension": ".py",
   "mimetype": "text/x-python",
   "name": "python",
   "nbconvert_exporter": "python",
   "pygments_lexer": "ipython3",
   "version": "3.6.3"
  }
 },
 "nbformat": 4,
 "nbformat_minor": 2
}
