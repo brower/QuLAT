{
 "cells": [
  {
   "cell_type": "code",
   "execution_count": 1,
   "metadata": {},
   "outputs": [],
   "source": [
    "import os, time\n",
    "import sys\n",
    "module_path = os.path.abspath(os.path.join('..'))\n",
    "if module_path not in sys.path:\n",
    "    sys.path.append(module_path)\n",
    "import numpy as np\n",
    "from scipy.linalg import expm, eig, logm\n",
    "from qiskit import QuantumCircuit, QuantumRegister, ClassicalRegister, BasicAer, execute, IBMQ\n",
    "from operators.triangle_plaquette_hamiltonian import TrianglePlaquetteHamiltonian\n",
    "from operators.pauli_hamiltonian import PauliHamiltonian\n",
    "import matplotlib.pyplot as plt\n",
    "np.set_printoptions(threshold=sys.maxsize)\n",
    "from qiskit.providers.jobstatus import JobStatus\n",
    "from qiskit.visualization import plot_histogram\n"
   ]
  },
  {
   "cell_type": "code",
   "execution_count": 2,
   "metadata": {},
   "outputs": [
    {
     "name": "stdout",
     "output_type": "stream",
     "text": [
      "[<AccountProvider for IBMQ(hub='ibm-q', group='open', project='main')>, <AccountProvider for IBMQ(hub='ibm-q-ornl', group='hep-qis', project='brookhaven')>]\n"
     ]
    },
    {
     "data": {
      "text/plain": [
       "[<IBMQSimulator('ibmq_qasm_simulator') from IBMQ(hub='ibm-q-ornl', group='hep-qis', project='brookhaven')>,\n",
       " <IBMQBackend('ibmqx2') from IBMQ(hub='ibm-q-ornl', group='hep-qis', project='brookhaven')>,\n",
       " <IBMQBackend('ibmq_16_melbourne') from IBMQ(hub='ibm-q-ornl', group='hep-qis', project='brookhaven')>,\n",
       " <IBMQBackend('ibmq_poughkeepsie') from IBMQ(hub='ibm-q-ornl', group='hep-qis', project='brookhaven')>,\n",
       " <IBMQBackend('ibmq_boeblingen') from IBMQ(hub='ibm-q-ornl', group='hep-qis', project='brookhaven')>,\n",
       " <IBMQBackend('ibmq_vigo') from IBMQ(hub='ibm-q-ornl', group='hep-qis', project='brookhaven')>,\n",
       " <IBMQBackend('ibmq_ourense') from IBMQ(hub='ibm-q-ornl', group='hep-qis', project='brookhaven')>,\n",
       " <IBMQBackend('ibmq_london') from IBMQ(hub='ibm-q-ornl', group='hep-qis', project='brookhaven')>,\n",
       " <IBMQBackend('ibmq_burlington') from IBMQ(hub='ibm-q-ornl', group='hep-qis', project='brookhaven')>,\n",
       " <IBMQBackend('ibmq_johannesburg') from IBMQ(hub='ibm-q-ornl', group='hep-qis', project='brookhaven')>,\n",
       " <IBMQBackend('ibmq_rochester') from IBMQ(hub='ibm-q-ornl', group='hep-qis', project='brookhaven')>,\n",
       " <IBMQBackend('ibmq_essex') from IBMQ(hub='ibm-q-ornl', group='hep-qis', project='brookhaven')>,\n",
       " <IBMQBackend('ibmq_armonk') from IBMQ(hub='ibm-q-ornl', group='hep-qis', project='brookhaven')>,\n",
       " <IBMQBackend('ibmq_cambridge') from IBMQ(hub='ibm-q-ornl', group='hep-qis', project='brookhaven')>]"
      ]
     },
     "execution_count": 2,
     "metadata": {},
     "output_type": "execute_result"
    }
   ],
   "source": [
    "# Get on one of the IBM Q machines\n",
    "IBMQ.load_account() # Load account from disk\n",
    "print(IBMQ.providers())    # List all available providers\n",
    "provider = IBMQ.get_provider(hub='ibm-q-ornl', project='brookhaven')\n",
    "provider\n",
    "provider.backends()"
   ]
  },
  {
   "cell_type": "code",
   "execution_count": 52,
   "metadata": {},
   "outputs": [
    {
     "data": {
      "text/plain": [
       "<IBMQBackend('ibmq_johannesburg') from IBMQ(hub='ibm-q-ornl', group='hep-qis', project='brookhaven')>"
      ]
     },
     "execution_count": 52,
     "metadata": {},
     "output_type": "execute_result"
    }
   ],
   "source": [
    "backend = provider.get_backend('ibmq_johannesburg')\n",
    "backend"
   ]
  },
  {
   "cell_type": "markdown",
   "metadata": {},
   "source": [
    "# No Mitigation"
   ]
  },
  {
   "cell_type": "code",
   "execution_count": null,
   "metadata": {},
   "outputs": [
    {
     "name": "stdout",
     "output_type": "stream",
     "text": [
      "Status @ 0 seconds\n",
      "JobStatus.INITIALIZING\n",
      "Status @ 30 seconds\n",
      "JobStatus.QUEUED\n",
      "Status @ 60 seconds\n",
      "JobStatus.QUEUED\n",
      "Status @ 90 seconds\n",
      "JobStatus.QUEUED\n",
      "Status @ 120 seconds\n",
      "JobStatus.QUEUED\n",
      "Status @ 150 seconds\n",
      "JobStatus.QUEUED\n",
      "Status @ 180 seconds\n",
      "JobStatus.QUEUED\n",
      "Status @ 210 seconds\n",
      "JobStatus.QUEUED\n",
      "Status @ 240 seconds\n",
      "JobStatus.QUEUED\n",
      "Status @ 270 seconds\n",
      "JobStatus.QUEUED\n",
      "Status @ 300 seconds\n",
      "JobStatus.QUEUED\n",
      "Status @ 330 seconds\n",
      "JobStatus.QUEUED\n",
      "Status @ 360 seconds\n",
      "JobStatus.QUEUED\n",
      "Status @ 390 seconds\n",
      "JobStatus.QUEUED\n",
      "Status @ 420 seconds\n",
      "JobStatus.QUEUED\n",
      "Status @ 450 seconds\n",
      "JobStatus.QUEUED\n",
      "Status @ 480 seconds\n",
      "JobStatus.QUEUED\n",
      "Status @ 510 seconds\n",
      "JobStatus.QUEUED\n",
      "Status @ 540 seconds\n",
      "JobStatus.QUEUED\n",
      "Status @ 570 seconds\n",
      "JobStatus.QUEUED\n",
      "Status @ 600 seconds\n",
      "JobStatus.QUEUED\n",
      "Status @ 630 seconds\n",
      "JobStatus.QUEUED\n",
      "Status @ 660 seconds\n",
      "JobStatus.QUEUED\n",
      "Status @ 690 seconds\n",
      "JobStatus.QUEUED\n",
      "Status @ 720 seconds\n",
      "JobStatus.QUEUED\n",
      "Status @ 750 seconds\n",
      "JobStatus.QUEUED\n",
      "Status @ 780 seconds\n",
      "JobStatus.QUEUED\n",
      "Status @ 810 seconds\n",
      "JobStatus.QUEUED\n",
      "Status @ 840 seconds\n",
      "JobStatus.QUEUED\n",
      "Status @ 870 seconds\n",
      "JobStatus.QUEUED\n",
      "Status @ 900 seconds\n",
      "JobStatus.QUEUED\n",
      "Status @ 930 seconds\n",
      "JobStatus.QUEUED\n",
      "Status @ 960 seconds\n",
      "JobStatus.QUEUED\n",
      "Status @ 990 seconds\n",
      "JobStatus.QUEUED\n",
      "Status @ 1020 seconds\n",
      "JobStatus.QUEUED\n",
      "Status @ 1050 seconds\n",
      "JobStatus.QUEUED\n",
      "Status @ 1080 seconds\n",
      "JobStatus.QUEUED\n",
      "Status @ 1110 seconds\n",
      "JobStatus.QUEUED\n",
      "Status @ 1140 seconds\n",
      "JobStatus.QUEUED\n",
      "Status @ 1170 seconds\n",
      "JobStatus.QUEUED\n"
     ]
    }
   ],
   "source": [
    "# 2 triangle plaquettes\n",
    "#backend = BasicAer.get_backend('qasm_simulator')\n",
    "T = 0.1\n",
    "H = TrianglePlaquetteHamiltonian(0.5, 1, 2)\n",
    "# Construct Circuit with n_steps = 20\n",
    "qr = QuantumRegister(6, 'qr')\n",
    "cr = ClassicalRegister(6, 'cr')\n",
    "circ1 = QuantumCircuit(qr, cr)\n",
    "circ1 = H.trotter_circuit_optimized(circ1, qr, T, 1)\n",
    "circ1.measure(qr, cr)\n",
    "job = execute(circ1, backend, shots=1024)\n",
    "lapse = 0\n",
    "interval = 30\n",
    "while job.status() != JobStatus.DONE:\n",
    "    print('Status @ {} seconds'.format(interval * lapse))\n",
    "    print(job.status())\n",
    "    time.sleep(interval)\n",
    "    lapse += 1\n",
    "print(job.status())\n",
    "result_sim = job.result()\n",
    "tr_dist = result_sim.get_counts(circ1)\n",
    "plot_histogram(tr_dist, figsize=(16, 12))"
   ]
  },
  {
   "cell_type": "markdown",
   "metadata": {},
   "source": [
    "## Measure the divergence from the ideal result"
   ]
  },
  {
   "cell_type": "code",
   "execution_count": 50,
   "metadata": {},
   "outputs": [
    {
     "name": "stdout",
     "output_type": "stream",
     "text": [
      "[0.00390625 0.27246094 0.00488281 0.00390625 0.02050781 0.01269531\n",
      " 0.00683594 0.00488281 0.03808594 0.00585938 0.00585938 0.00390625\n",
      " 0.02539062 0.00976562 0.046875   0.00195312 0.00390625 0.00195312\n",
      " 0.00195312 0.00585938 0.01367188 0.00683594 0.00683594 0.00488281\n",
      " 0.00097656 0.00097656 0.00097656 0.00585938 0.0078125  0.00683594\n",
      " 0.00195312 0.00097656 0.00292969 0.00585938 0.03417969 0.00292969\n",
      " 0.03320312 0.00097656 0.03710938 0.01171875 0.0078125  0.05761719\n",
      " 0.01171875 0.00488281 0.02246094 0.00097656 0.01464844 0.03417969\n",
      " 0.09863281 0.00292969 0.00292969 0.02246094 0.00878906 0.00390625\n",
      " 0.0078125  0.00292969 0.00195312 0.00585938 0.01855469]\n",
      "[0.         0.93066406 0.         0.         0.         0.\n",
      " 0.         0.         0.         0.         0.         0.\n",
      " 0.         0.         0.         0.         0.         0.\n",
      " 0.         0.         0.         0.         0.         0.\n",
      " 0.         0.         0.         0.         0.         0.\n",
      " 0.         0.         0.         0.         0.03613281 0.\n",
      " 0.         0.         0.         0.         0.         0.\n",
      " 0.         0.         0.         0.         0.         0.\n",
      " 0.         0.         0.         0.         0.         0.\n",
      " 0.         0.         0.         0.         0.03320312]\n",
      "-0.347388598774731\n",
      "3.0956327178626695\n",
      "0.29991592299472614\n"
     ]
    },
    {
     "name": "stderr",
     "output_type": "stream",
     "text": [
      "c:\\users\\kwibu\\appdata\\local\\programs\\python\\python36\\lib\\site-packages\\ipykernel_launcher.py:6: RuntimeWarning: divide by zero encountered in true_divide\n",
      "  \n",
      "c:\\users\\kwibu\\appdata\\local\\programs\\python\\python36\\lib\\site-packages\\ipykernel_launcher.py:12: RuntimeWarning: divide by zero encountered in log\n",
      "  if sys.path[0] == '':\n",
      "c:\\users\\kwibu\\appdata\\local\\programs\\python\\python36\\lib\\site-packages\\ipykernel_launcher.py:12: RuntimeWarning: invalid value encountered in multiply\n",
      "  if sys.path[0] == '':\n"
     ]
    }
   ],
   "source": [
    "# Measure distances with the two distribution\n",
    "def KL(p1, p2):\n",
    "    \"\"\"\n",
    "    Compute the D_KL(p1||p2)\n",
    "    \"\"\"\n",
    "    return np.sum(np.where(p2!=0, p1 * np.log(p1 / p2), 0))\n",
    "\n",
    "def H(p):\n",
    "    \"\"\"\n",
    "    Compute Shannon entropy of p\n",
    "    \"\"\"\n",
    "    return -np.sum(np.where(p != 0, p * np.log(p), 0))\n",
    "\n",
    "backend = BasicAer.get_backend('qasm_simulator')\n",
    "job = execute(circ1, backend, shots=1024)\n",
    "result_sim = job.result()\n",
    "ideal_dist = result_sim.get_counts(circ1)\n",
    "p1 = np.fromiter(tr_dist.values(), float)/1024\n",
    "p2 = np.fromiter([ideal_dist.get(k, 0) for k in tr_dist.keys()], float)/1024\n",
    "print(p1)\n",
    "print(p2)\n",
    "print(KL(p1, p2))\n",
    "print(H(p1))\n",
    "print(H(p2))"
   ]
  },
  {
   "cell_type": "code",
   "execution_count": 30,
   "metadata": {},
   "outputs": [
    {
     "name": "stdout",
     "output_type": "stream",
     "text": [
      "[b'000000' b'001001' b'001011' b'000001' b'010010' b'010001' b'011000'\n",
      " b'010011' b'110000' b'100001' b'111000' b'000011' b'100000' b'001010'\n",
      " b'011011' b'010000' b'011001' b'101000' b'000010' b'001000' b'000100'\n",
      " b'011010' b'001111' b'000111']\n"
     ]
    }
   ],
   "source": [
    "def dec_to_binary_str(dec, n_dig):\n",
    "    s = bin(dec).replace(\"0b\", \"\")\n",
    "    return '0'*(n_dig - len(s)) +s\n",
    "print(np.fromiter(tr_dist2.keys(), 'S6')[list(np.where(np.fromiter(tr_dist2.values(), float) > 0.01*1024)[0])])"
   ]
  },
  {
   "cell_type": "code",
   "execution_count": 29,
   "metadata": {},
   "outputs": [
    {
     "data": {
      "text/plain": [
       "array([ 1,  4,  8,  9, 13, 14, 15, 23, 25, 37, 38, 40, 42, 43, 45, 46, 47,\n",
       "       49, 51, 52, 55, 58, 61, 62], dtype=int64)"
      ]
     },
     "execution_count": 29,
     "metadata": {},
     "output_type": "execute_result"
    }
   ],
   "source": [
    "np.where(np.fromiter(tr_dist2.values(), float) > 0.01*1024)[0]"
   ]
  },
  {
   "cell_type": "markdown",
   "metadata": {},
   "source": [
    "# Mitigation with measurement calibration\n",
    "## How does it work?\n",
    "\n",
    "A calibration matrix $M \\in \\mathbb{R}^{2^n\\times 2^n}$ is defined to be a linear mapping of each possible state to a noisy state considering there exists only measurement error ($v_{noisy} = M v_{ideal}$). We may mitigate the noise from the noisy result by computing $v_{ideal} = M^{-1} v_{noisy}$"
   ]
  },
  {
   "cell_type": "code",
   "execution_count": null,
   "metadata": {},
   "outputs": [],
   "source": [
    "from qiskit.ignis.mitigation.measurement import (complete_meas_cal, tensored_meas_cal,\n",
    "                                                 CompleteMeasFitter, TensoredMeasFitter)\n",
    "\n",
    "# 2 triangle plaquettes\n",
    "#backend = BasicAer.get_backend('qasm_simulator')\n",
    "T = 0.1\n",
    "H = TrianglePlaquetteHamiltonian(0.5, 1, 2)\n",
    "# Construct Circuit with n_steps = 20\n",
    "qr = QuantumRegister(6, 'qr')\n",
    "cr = ClassicalRegister(6, 'cr')\n",
    "\n",
    "\n",
    "### For test\n",
    "backend = BasicAer.get_backend('qasm_simulator')\n",
    "###\n",
    "\n",
    "\n",
    "### create and execute the calibration circuits\n",
    "meas_calibs, state_labels = complete_meas_cal(qr=qr, circlabel='mcal')\n",
    "job = qiskit.execute(meas_calibs, backend=backend, shots=1000)\n",
    "cal_results = job.result()\n",
    "meas_fitter = CompleteMeasFitter(cal_results, state_labels, circlabel='mcal')\n",
    "print(meas_fitter.cal_matrix)\n",
    "###\n",
    "\n",
    "circ1 = QuantumCircuit(qr, cr)\n",
    "circ1 = H.trotter_circuit_optimized(circ1, qr, T, 1)\n",
    "circ1.measure(qr, cr)\n",
    "job = execute(circ1, backend, shots=1024)\n",
    "lapse = 0\n",
    "interval = 30\n",
    "while job.status() != JobStatus.DONE:\n",
    "    print('Status @ {} seconds'.format(interval * lapse))\n",
    "    print(job.status())\n",
    "    time.sleep(interval)\n",
    "    lapse += 1\n",
    "print(job.status())\n",
    "result_sim = job.result()\n",
    "tr_dist = result_sim.get_counts(circ1)\n",
    "\n",
    "\n",
    "# Get the filter object\n",
    "meas_filter = meas_fitter.filter\n",
    "\n",
    "# Results with mitigation\n",
    "mitigated_results = meas_filter.apply(result_sim)\n",
    "mitigated_counts = mitigated_results.get_counts(0)\n",
    "\n",
    "plot_histogram([tr_dist, mitigated_counts] , figsize=(20, 12))\n"
   ]
  }
 ],
 "metadata": {
  "kernelspec": {
   "display_name": "Python 3",
   "language": "python",
   "name": "python3"
  },
  "language_info": {
   "codemirror_mode": {
    "name": "ipython",
    "version": 3
   },
   "file_extension": ".py",
   "mimetype": "text/x-python",
   "name": "python",
   "nbconvert_exporter": "python",
   "pygments_lexer": "ipython3",
   "version": "3.6.3"
  }
 },
 "nbformat": 4,
 "nbformat_minor": 2
}
