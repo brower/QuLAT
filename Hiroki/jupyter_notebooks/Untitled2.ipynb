{
 "cells": [
  {
   "cell_type": "code",
   "execution_count": 13,
   "metadata": {},
   "outputs": [],
   "source": [
    "import os, time\n",
    "import sys\n",
    "module_path = os.path.abspath(os.path.join('..'))\n",
    "if module_path not in sys.path:\n",
    "    sys.path.append(module_path)\n",
    "import numpy as np\n",
    "from scipy.linalg import expm, eig, logm\n",
    "from qiskit import QuantumCircuit, QuantumRegister, ClassicalRegister, BasicAer, execute, IBMQ\n",
    "from quantum_circuit.trotterization import trotter_circuit\n",
    "from operators.triangle_plaquette_hamiltonian import TrianglePlaquetteHamiltonian\n",
    "from operators.pauli_hamiltonian import PauliHamiltonian\n",
    "import matplotlib.pyplot as plt\n",
    "np.set_printoptions(threshold=sys.maxsize)\n",
    "from qiskit.providers.jobstatus import JobStatus\n",
    "from qiskit.visualization import plot_histogram\n"
   ]
  },
  {
   "cell_type": "code",
   "execution_count": 14,
   "metadata": {},
   "outputs": [
    {
     "name": "stdout",
     "output_type": "stream",
     "text": [
      "[<AccountProvider for IBMQ(hub='ibm-q', group='open', project='main')>, <AccountProvider for IBMQ(hub='ibm-q-ornl', group='hep-qis', project='brookhaven')>]\n"
     ]
    },
    {
     "data": {
      "text/plain": [
       "[<IBMQBackend('ibmqx2') from IBMQ(hub='ibm-q-ornl', group='hep-qis', project='brookhaven')>,\n",
       " <IBMQSimulator('ibmq_qasm_simulator') from IBMQ(hub='ibm-q-ornl', group='hep-qis', project='brookhaven')>,\n",
       " <IBMQBackend('ibmq_20_tokyo') from IBMQ(hub='ibm-q-ornl', group='hep-qis', project='brookhaven')>,\n",
       " <IBMQBackend('ibmq_16_melbourne') from IBMQ(hub='ibm-q-ornl', group='hep-qis', project='brookhaven')>,\n",
       " <IBMQBackend('ibmq_poughkeepsie') from IBMQ(hub='ibm-q-ornl', group='hep-qis', project='brookhaven')>,\n",
       " <IBMQBackend('ibmq_boeblingen') from IBMQ(hub='ibm-q-ornl', group='hep-qis', project='brookhaven')>,\n",
       " <IBMQBackend('ibmq_vigo') from IBMQ(hub='ibm-q-ornl', group='hep-qis', project='brookhaven')>,\n",
       " <IBMQBackend('ibmq_ourense') from IBMQ(hub='ibm-q-ornl', group='hep-qis', project='brookhaven')>,\n",
       " <IBMQBackend('ibmq_johannesburg') from IBMQ(hub='ibm-q-ornl', group='hep-qis', project='brookhaven')>,\n",
       " <IBMQBackend('ibmq_rochester') from IBMQ(hub='ibm-q-ornl', group='hep-qis', project='brookhaven')>]"
      ]
     },
     "execution_count": 14,
     "metadata": {},
     "output_type": "execute_result"
    }
   ],
   "source": [
    "# Get on one of the IBM Q machines\n",
    "IBMQ.load_account() # Load account from disk\n",
    "print(IBMQ.providers())    # List all available providers\n",
    "provider = IBMQ.get_provider(hub='ibm-q-ornl', project='brookhaven')\n",
    "provider\n",
    "provider.backends()"
   ]
  },
  {
   "cell_type": "code",
   "execution_count": 15,
   "metadata": {},
   "outputs": [
    {
     "name": "stdout",
     "output_type": "stream",
     "text": [
      "ibmq_rochester\n"
     ]
    }
   ],
   "source": [
    "# Specify the device\n",
    "backend = provider.get_backend('ibmq_rochester')\n",
    "print(backend)"
   ]
  },
  {
   "cell_type": "code",
   "execution_count": 16,
   "metadata": {},
   "outputs": [
    {
     "name": "stderr",
     "output_type": "stream",
     "text": [
      "c:\\users\\kwibu\\appdata\\local\\programs\\python\\python36\\lib\\site-packages\\numpy\\core\\numeric.py:591: ComplexWarning: Casting complex values to real discards the imaginary part\n",
      "  return array(a, dtype, copy=False, order=order, subok=True)\n"
     ]
    },
    {
     "data": {
      "image/png": "[encoded data removed]",
      "text/plain": [
       "<matplotlib.figure.Figure at 0x12b9bf09fd0>"
      ]
     },
     "metadata": {
      "needs_background": "light"
     },
     "output_type": "display_data"
    },
    {
     "data": {
      "image/png": "[encoded data removed]",
      "text/plain": [
       "<matplotlib.figure.Figure at 0x12b9bfb0358>"
      ]
     },
     "metadata": {
      "needs_background": "light"
     },
     "output_type": "display_data"
    },
    {
     "name": "stdout",
     "output_type": "stream",
     "text": [
      "[ 2.48585813+1.38777878e-16j -0.61084713+1.80411242e-15j\n",
      "  0.75      +1.77635684e-15j  0.22454493-9.57567359e-16j\n",
      "  0.96681469+2.35922393e-15j -1.88274123+6.52256027e-16j\n",
      "  0.96681469+2.94209102e-15j -2.46681469+2.05391260e-15j\n",
      " -2.46681469+2.49800181e-15j -2.46681469-2.49800181e-15j\n",
      " -3.01453163-1.87697080e-15j -0.25      -1.30104261e-15j\n",
      " -0.25      -1.55431223e-15j -3.01453163+4.08353906e-15j\n",
      " -0.25      +3.03923553e-15j -0.69707356-1.08246745e-15j\n",
      " -0.69707356+5.27355937e-16j -0.69707356+2.19269047e-15j\n",
      " -0.69707356+3.10862447e-15j -3.01453163-6.10622664e-16j\n",
      " -3.01453163+2.02962647e-15j -3.01453163-1.97758476e-16j\n",
      " -1.32112291+2.34187669e-15j -0.69707356+3.60822483e-15j\n",
      " -0.69707356+1.74860126e-15j -0.25      +1.21430643e-16j\n",
      " -0.25      +7.80625564e-16j -0.25      +6.55725474e-16j\n",
      " -1.32112291+2.84841595e-15j -3.01453163+7.87564458e-16j\n",
      "  2.41388825+2.99760217e-15j -1.32112291+1.24553146e-15j\n",
      " -1.32112291-5.10008702e-16j -1.32112291+2.55698240e-15j\n",
      " -1.32112291+7.94503352e-16j  2.41388825-1.38777878e-15j\n",
      "  2.41388825+1.47104551e-15j  2.41388825+1.38777878e-16j\n",
      "  2.41388825+4.13558077e-15j  2.41388825-3.33066907e-16j\n",
      "  2.36883985+1.63757896e-15j  2.36883985+2.58126853e-15j\n",
      "  2.36883985+1.41553436e-15j  2.36883985-9.15933995e-16j\n",
      "  2.36883985+2.10942375e-15j  2.36883985+2.77555756e-16j\n",
      "  1.96681469+2.06779038e-15j  1.96681469+1.59594560e-15j\n",
      "  1.96681469-5.82867088e-16j -1.46681469+2.19442520e-15j\n",
      "  1.96681469+4.02455846e-16j -1.46681469+2.58473798e-16j\n",
      " -1.46681469+5.82867088e-16j  1.96681469+9.43689571e-16j\n",
      " -1.46681469+1.48665802e-15j  1.96681469+6.38378239e-16j\n",
      " -1.46681469+2.15973073e-16j -1.46681469+4.04190570e-16j\n",
      "  0.75      -2.49800181e-16j  0.75      -2.49800181e-16j\n",
      "  0.75      -2.49800181e-16j  0.75      -2.49800181e-16j\n",
      "  0.75      -2.49800181e-16j  0.75      -2.49800181e-16j]\n"
     ]
    },
    {
     "data": {
      "image/png": "[encoded data removed]",
      "text/plain": [
       "<matplotlib.figure.Figure at 0x12b9c08ff28>"
      ]
     },
     "metadata": {
      "needs_background": "light"
     },
     "output_type": "display_data"
    }
   ],
   "source": [
    "# 2 triangle plaquettes\n",
    "T = 1\n",
    "H = TrianglePlaquetteHamiltonian(0.5, 1, 2)\n",
    "matH = H.matrix_form()\n",
    "spectrum, _ = H.eigensystem()\n",
    "plt.scatter(range(spectrum.shape[0]), np.sort(spectrum))\n",
    "plt.show()\n",
    "exact = expm(-1j*matH*T)\n",
    "spectrum, _ = eig(exact)\n",
    "plt.matshow(np.abs(matH))\n",
    "plt.show()\n",
    "print(np.log(spectrum)/(-1j))\n",
    "plt.scatter(range(spectrum.shape[0]), np.sort(spectrum))\n",
    "plt.ylabel(\"Energy\")\n",
    "plt.show()"
   ]
  },
  {
   "cell_type": "code",
   "execution_count": 17,
   "metadata": {},
   "outputs": [
    {
     "data": {
      "text/html": [
       "<pre style=\"word-wrap: normal;white-space: pre;line-height: 15px;\">         ┌───┐               ┌───┐┌─┐\n",
       "qr_0: |0>┤ H ├──■─────────■──┤ H ├┤M├\n",
       "         └───┘┌─┴─┐┌───┐┌─┴─┐└┬─┬┘└╥┘\n",
       "qr_1: |0>─────┤ X ├┤ H ├┤ X ├─┤M├──╫─\n",
       "              └───┘└───┘└───┘ └╥┘  ║ \n",
       " c0_0: 0 ══════════════════════╬═══╩═\n",
       "                               ║     \n",
       " c0_1: 0 ══════════════════════╩═════\n",
       "                                     </pre>"
      ],
      "text/plain": [
       "<qiskit.visualization.text.TextDrawing at 0x12b9d0bfb38>"
      ]
     },
     "execution_count": 17,
     "metadata": {},
     "output_type": "execute_result"
    }
   ],
   "source": [
    "qr = QuantumRegister(2, 'qr')\n",
    "cr = ClassicalRegister(2)\n",
    "qc = QuantumCircuit(qr, cr)\n",
    "qc.h(qr[0])\n",
    "qc.cx(qr[0], qr[1])\n",
    "qc.h(qr[1])\n",
    "qc.cx(qr[0], qr[1])\n",
    "qc.h(qr[0])\n",
    "qc.measure(qr, cr)\n",
    "qc.draw()"
   ]
  },
  {
   "cell_type": "code",
   "execution_count": 18,
   "metadata": {},
   "outputs": [
    {
     "name": "stdout",
     "output_type": "stream",
     "text": [
      "Running on device:  ibmq_rochester\n",
      "Status @ 0 seconds\n",
      "JobStatus.INITIALIZING\n",
      "Status @ 30 seconds\n",
      "JobStatus.QUEUED\n",
      "Status @ 60 seconds\n",
      "JobStatus.QUEUED\n",
      "Status @ 90 seconds\n",
      "JobStatus.QUEUED\n",
      "Status @ 120 seconds\n",
      "JobStatus.QUEUED\n",
      "Status @ 150 seconds\n",
      "JobStatus.QUEUED\n",
      "Status @ 180 seconds\n",
      "JobStatus.QUEUED\n",
      "Status @ 210 seconds\n",
      "JobStatus.RUNNING\n",
      "Status @ 240 seconds\n",
      "JobStatus.RUNNING\n",
      "JobStatus.DONE\n",
      "experiment:  Result(backend_name='ibmq_rochester', backend_version='1.1.1', date=datetime.datetime(2019, 11, 19, 9, 1, 42, tzinfo=tzutc()), execution_id='206e41b6-0aab-11ea-8ab2-801844ea2f44', header=Obj(backend_name='ibmq_rochester', backend_version='1.1.1'), job_id='5dd3ae818a690300130dc7f1', qobj_id='222865f8-f1f3-46e4-97c4-8e4a8fa9ccb5', results=[ExperimentResult(data=ExperimentResultData(counts=Obj(0x0=114, 0x1=339, 0x2=497, 0x3=74)), header=Obj(clbit_labels=[['c0', 0], ['c0', 1]], creg_sizes=[['c0', 2]], memory_slots=2, n_qubits=53, name='circuit0', qreg_sizes=[['q', 53]], qubit_labels=[['q', 0], ['q', 1], ['q', 2], ['q', 3], ['q', 4], ['q', 5], ['q', 6], ['q', 7], ['q', 8], ['q', 9], ['q', 10], ['q', 11], ['q', 12], ['q', 13], ['q', 14], ['q', 15], ['q', 16], ['q', 17], ['q', 18], ['q', 19], ['q', 20], ['q', 21], ['q', 22], ['q', 23], ['q', 24], ['q', 25], ['q', 26], ['q', 27], ['q', 28], ['q', 29], ['q', 30], ['q', 31], ['q', 32], ['q', 33], ['q', 34], ['q', 35], ['q', 36], ['q', 37], ['q', 38], ['q', 39], ['q', 40], ['q', 41], ['q', 42], ['q', 43], ['q', 44], ['q', 45], ['q', 46], ['q', 47], ['q', 48], ['q', 49], ['q', 50], ['q', 51], ['q', 52]]), meas_level=2, memory=False, shots=1024, success=True)], status='Successful completion', success=True, time_taken=34.889408588409424)\n",
      "{'00': 114, '01': 339, '11': 74, '10': 497}\n"
     ]
    },
    {
     "data": {
      "image/png": "[encoded data removed]",
      "text/plain": [
       "<matplotlib.figure.Figure at 0x12b890222b0>"
      ]
     },
     "execution_count": 18,
     "metadata": {},
     "output_type": "execute_result"
    }
   ],
   "source": [
    "print(\"Running on device: \", backend)\n",
    "\n",
    "# Compile and execute the Quantum circuit on the quantum computer\n",
    "job_exp = execute(qc, backend, shots=1024, max_credits=10)\n",
    "lapse = 0\n",
    "interval = 30\n",
    "while job_exp.status() != JobStatus.DONE:\n",
    "    print('Status @ {} seconds'.format(interval * lapse))\n",
    "    print(job_exp.status())\n",
    "    time.sleep(interval)\n",
    "    lapse += 1\n",
    "print(job_exp.status())\n",
    "result = job_exp.result()\n",
    "\n",
    "\n",
    "# Render the output in the notebook user interface\n",
    "print(\"experiment: \", result)\n",
    "result_counts = result.get_counts(qc)\n",
    "print(result_counts)\n",
    "plot_histogram(result_counts)"
   ]
  },
  {
   "cell_type": "code",
   "execution_count": 24,
   "metadata": {},
   "outputs": [
    {
     "data": {
      "image/png": "[encoded data removed]",
      "text/plain": [
       "<matplotlib.figure.Figure at 0x1ac0c69e5c0>"
      ]
     },
     "execution_count": 24,
     "metadata": {},
     "output_type": "execute_result"
    }
   ],
   "source": [
    "simulator = BasicAer.get_backend('qasm_simulator')\n",
    "job_sim = execute(qc, simulator, shots=1024)\n",
    "# Grab the results from the job.\n",
    "result_sim = job_sim.result()\n",
    "counts = result_sim.get_counts(qc)\n",
    "plot_histogram(counts)"
   ]
  },
  {
   "cell_type": "code",
   "execution_count": 11,
   "metadata": {},
   "outputs": [
    {
     "name": "stdout",
     "output_type": "stream",
     "text": [
      "0.17324916517215744\n",
      "0.6931471805599453\n"
     ]
    },
    {
     "name": "stderr",
     "output_type": "stream",
     "text": [
      "c:\\users\\kwibu\\appdata\\local\\programs\\python\\python36\\lib\\site-packages\\ipykernel_launcher.py:6: RuntimeWarning: divide by zero encountered in log\n",
      "  \n",
      "c:\\users\\kwibu\\appdata\\local\\programs\\python\\python36\\lib\\site-packages\\ipykernel_launcher.py:6: RuntimeWarning: invalid value encountered in multiply\n",
      "  \n",
      "c:\\users\\kwibu\\appdata\\local\\programs\\python\\python36\\lib\\site-packages\\ipykernel_launcher.py:12: RuntimeWarning: divide by zero encountered in log\n",
      "  if sys.path[0] == '':\n",
      "c:\\users\\kwibu\\appdata\\local\\programs\\python\\python36\\lib\\site-packages\\ipykernel_launcher.py:12: RuntimeWarning: invalid value encountered in multiply\n",
      "  if sys.path[0] == '':\n"
     ]
    }
   ],
   "source": [
    "# Measure distances with the two distribution\n",
    "def KL(p1, p2):\n",
    "    \"\"\"\n",
    "    Compute the D_KL(p1||p2)\n",
    "    \"\"\"\n",
    "    return np.sum(np.where(p1 != 0, p1 * np.log(p1 / p2), 0))\n",
    "\n",
    "def H(p):\n",
    "    \"\"\"\n",
    "    Compute Shannon entropy of p\n",
    "    \"\"\"\n",
    "    return -np.sum(np.where(p1 != 0, p1 * np.log(p1), 0))\n",
    "p1 = np.array([0, 0.5, 0.5, 0]) # Ideally we are expected to observe 50% 01 and 50% 10\n",
    "p2 = np.array([0.103, 0.498, 0.355, 0.044])\n",
    "print(KL(p1, p2))\n",
    "print(H(p1))"
   ]
  },
  {
   "cell_type": "code",
   "execution_count": null,
   "metadata": {},
   "outputs": [],
   "source": []
  }
 ],
 "metadata": {
  "kernelspec": {
   "display_name": "Python 3",
   "language": "python",
   "name": "python3"
  },
  "language_info": {
   "codemirror_mode": {
    "name": "ipython",
    "version": 3
   },
   "file_extension": ".py",
   "mimetype": "text/x-python",
   "name": "python",
   "nbconvert_exporter": "python",
   "pygments_lexer": "ipython3",
   "version": "3.6.3"
  }
 },
 "nbformat": 4,
 "nbformat_minor": 2
}
