{
 "cells": [
  {
   "cell_type": "code",
   "execution_count": 230,
   "metadata": {},
   "outputs": [],
   "source": [
    "import os, time, itertools\n",
    "import sys\n",
    "module_path = os.path.abspath(os.path.join('..'))\n",
    "if module_path not in sys.path:\n",
    "    sys.path.append(module_path)\n",
    "import numpy as np\n",
    "from scipy.linalg import expm, eig, logm\n",
    "from qiskit import QuantumCircuit, QuantumRegister, ClassicalRegister, Aer, execute, IBMQ\n",
    "from qiskit.quantum_info import DensityMatrix\n",
    "from operators.triangle_plaquette_hamiltonian import TrianglePlaquetteHamiltonian\n",
    "from operators.pauli_hamiltonian import PauliHamiltonian\n",
    "from quantum_circuit.trotterization import trotter_electric, trotter_coupling, trotter_plaquette\n",
    "import matplotlib.pyplot as plt\n",
    "np.set_printoptions(threshold=sys.maxsize)\n",
    "from qiskit.providers.jobstatus import JobStatus\n",
    "from qiskit.visualization import plot_histogram\n",
    "from qiskit.providers.aer.noise import NoiseModel\n",
    "from utils.matrix_operations import *"
   ]
  },
  {
   "cell_type": "code",
   "execution_count": 2,
   "metadata": {},
   "outputs": [],
   "source": [
    "# Initialize Simulator|\n",
    "backend = Aer.get_backend('statevector_simulator')"
   ]
  },
  {
   "cell_type": "code",
   "execution_count": 6,
   "metadata": {},
   "outputs": [],
   "source": [
    "sig = []\n",
    "sig.append(np.eye(2))\n",
    "sig.append(np.array([[0, 1], [1, 0]]))\n",
    "sig.append(np.array([[0, -1j], [1j, 0]]))\n",
    "sig.append(np.array([[1, 0], [0, -1]]))"
   ]
  },
  {
   "cell_type": "code",
   "execution_count": 341,
   "metadata": {},
   "outputs": [],
   "source": [
    "def change_basis_measurement(circ, i, trg):\n",
    "    if i == 1:\n",
    "        circ.h(trg)\n",
    "    elif i == 2:\n",
    "        circ.rx(np.pi/2, trg)\n",
    "        \n",
    "def change_basis_input(circ, i, trg):\n",
    "    if i == 0:\n",
    "        circ.h(trg)\n",
    "    elif i == 1:\n",
    "        circ.ry(-np.pi/2, trg)\n",
    "    elif i == 2:\n",
    "        circ.rx(np.pi/2, trg)\n",
    "    elif i == 3:\n",
    "        circ.rx(-np.pi/2, trg)\n",
    "    elif i == 5:\n",
    "        circ.x(trg)"
   ]
  },
  {
   "cell_type": "markdown",
   "metadata": {},
   "source": [
    "# 1-Qubit Tomography"
   ]
  },
  {
   "cell_type": "markdown",
   "metadata": {},
   "source": [
    "## Measurement Simulations"
   ]
  },
  {
   "cell_type": "code",
   "execution_count": 339,
   "metadata": {},
   "outputs": [],
   "source": [
    "def example_circ(circ):\n",
    "    circ.ry(-np.pi/2, 0)"
   ]
  },
  {
   "cell_type": "code",
   "execution_count": 340,
   "metadata": {},
   "outputs": [
    {
     "name": "stdout",
     "output_type": "stream",
     "text": [
      "[[ 0.70710678+0.00000000e+00j  0.70710678+8.65956056e-17j]\n",
      " [-0.70710678+8.65956056e-17j  0.70710678+0.00000000e+00j]]\n"
     ]
    }
   ],
   "source": [
    "backend = Aer.get_backend('unitary_simulator')\n",
    "cr = ClassicalRegister(1, 'cr')\n",
    "qr = QuantumRegister(1, 'qr')\n",
    "circ = QuantumCircuit(qr, cr)\n",
    "example_circ(circ)\n",
    "print(execute(circ, backend).result().get_unitary())"
   ]
  },
  {
   "cell_type": "code",
   "execution_count": 331,
   "metadata": {},
   "outputs": [
    {
     "name": "stdout",
     "output_type": "stream",
     "text": [
      "<X> =  1.0\n",
      "<Y> =  -0.0390625\n",
      "<Z> =  -0.052734375\n"
     ]
    }
   ],
   "source": [
    "u = np.zeros((4))\n",
    "u[0] = 1.0\n",
    "\n",
    "\n",
    "backend = Aer.get_backend('qasm_simulator')\n",
    "\n",
    "cr = ClassicalRegister(1, 'cr')\n",
    "qr = QuantumRegister(1, 'qr')\n",
    "circ = QuantumCircuit(qr, cr)\n",
    "example_circ(circ)\n",
    "circ.h(qr[0])\n",
    "circ.measure(qr, cr)\n",
    "job = execute(circ, backend, shots=1024)\n",
    "u[1] =job.result().get_counts(circ).get('0', 0)/1024*(1)+job.result().get_counts(circ).get('1', 0)/1024*(-1)\n",
    "print(\"<X> = \", u[1])\n",
    "\n",
    "cr = ClassicalRegister(1, 'cr')\n",
    "qr = QuantumRegister(1, 'qr')\n",
    "circ = QuantumCircuit(qr, cr)\n",
    "example_circ(circ)\n",
    "circ.rx(np.pi/2, qr[0])\n",
    "circ.measure(qr, cr)\n",
    "job = execute(circ, backend, shots=1024)\n",
    "u[2] =job.result().get_counts(circ).get('0', 0)/1024*(1)+job.result().get_counts(circ).get('1', 0)/1024*(-1)\n",
    "print(\"<Y> = \", u[2])\n",
    "\n",
    "cr = ClassicalRegister(1, 'cr')\n",
    "qr = QuantumRegister(1, 'qr')\n",
    "circ = QuantumCircuit(qr, cr)\n",
    "example_circ(circ)\n",
    "circ.measure(qr, cr)\n",
    "job = execute(circ, backend, shots=1024)\n",
    "u[3] =job.result().get_counts(circ).get('0', 0)/1024*(1)+job.result().get_counts(circ).get('1', 0)/1024*(-1)\n",
    "print(\"<Z> = \", u[3])"
   ]
  },
  {
   "cell_type": "markdown",
   "metadata": {},
   "source": [
    "## Recover the Density Matrix $\\rho$"
   ]
  },
  {
   "cell_type": "code",
   "execution_count": 6,
   "metadata": {},
   "outputs": [
    {
     "name": "stdout",
     "output_type": "stream",
     "text": [
      "[[0.50683594+0.j         0.5       +0.01074219j]\n",
      " [0.5       -0.01074219j 0.49316406+0.j        ]]\n"
     ]
    }
   ],
   "source": [
    "rho = sum([sig[i]*u[i] for i in range(4)])/2\n",
    "print(rho)"
   ]
  },
  {
   "cell_type": "markdown",
   "metadata": {},
   "source": [
    "## Exact Density Matrix"
   ]
  },
  {
   "cell_type": "code",
   "execution_count": 7,
   "metadata": {},
   "outputs": [
    {
     "name": "stdout",
     "output_type": "stream",
     "text": [
      "[[0.5+0.j 0.5+0.j]\n",
      " [0.5+0.j 0.5+0.j]]\n"
     ]
    }
   ],
   "source": [
    "backend = Aer.get_backend('statevector_simulator')\n",
    "cr = ClassicalRegister(1, 'cr')\n",
    "qr = QuantumRegister(1, 'qr')\n",
    "circ = QuantumCircuit(qr, cr)\n",
    "example_circ(circ)\n",
    "job = execute(circ, backend)\n",
    "state = job.result().get_statevector(circ)\n",
    "print(DensityMatrix(state).data)"
   ]
  },
  {
   "cell_type": "markdown",
   "metadata": {},
   "source": [
    "# Multi-qubit Tomography"
   ]
  },
  {
   "cell_type": "code",
   "execution_count": 102,
   "metadata": {},
   "outputs": [],
   "source": [
    "def example_two_qubit_circ(circ, qr):\n",
    "    circ.h(0)\n",
    "    circ = trotter_coupling(circ, qr, [0, 1], 1.0, 1.0)\n",
    "    return circ"
   ]
  },
  {
   "cell_type": "markdown",
   "metadata": {},
   "source": [
    "## 2-qubit"
   ]
  },
  {
   "cell_type": "code",
   "execution_count": 185,
   "metadata": {
    "scrolled": true
   },
   "outputs": [
    {
     "name": "stdout",
     "output_type": "stream",
     "text": [
      "[ 1.          0.51953125 -0.03710938  0.73828125 -0.01757812  0.03515625\n",
      "  0.4765625  -0.00390625 -0.84765625 -0.47265625  0.04101562 -0.81445312\n",
      "  0.28320312  0.58007812 -0.00976562 -0.03125   ]\n"
     ]
    }
   ],
   "source": [
    "u = np.zeros(4**2)\n",
    "u[0] = 1.0\n",
    "shots = 1024\n",
    "\n",
    "backend = Aer.get_backend('qasm_simulator')\n",
    "for itr, (i, j) in enumerate([p for p in itertools.product(list(range(4)), repeat=2)]):\n",
    "    # Due to the indexing convension of qiskit, i corresponds to 1-th qubit and j corresponds to 0-th qubit\n",
    "    if i == 0 and j == 0:\n",
    "        continue\n",
    "    else:\n",
    "        cr = ClassicalRegister(2, 'cr')\n",
    "        qr = QuantumRegister(2, 'qr')\n",
    "        circ = QuantumCircuit(qr, cr)\n",
    "        circ = example_two_qubit_circ(circ, qr)\n",
    "        if i == 0:\n",
    "            # Measure only the 0-th qubit with the basis specified with j\n",
    "            change_basis_measurement(circ, j, 0)\n",
    "            circ.measure(qr[0], cr[0])\n",
    "        else:\n",
    "            if j == 0:\n",
    "                # Measure only the 1-th qubit with the basis specified with i\n",
    "                change_basis_measurement(circ, i, 1)\n",
    "                circ.measure(qr[1], cr[1])\n",
    "            else:\n",
    "                # Measure both of the two qubits with the bases specified with i and j\n",
    "                change_basis_measurement(circ, i, 1)\n",
    "                change_basis_measurement(circ, j, 0)\n",
    "                circ.measure(qr, cr)\n",
    "        job = execute(circ, backend, shots=shots)\n",
    "        u[itr] =job.result().get_counts(circ).get('00', 0)/shots*(1)+job.result().get_counts(circ).get('11', 0)/shots*(1) \\\n",
    "                        +job.result().get_counts(circ).get('01', 0)/shots*(-1)+job.result().get_counts(circ).get('10', 0)/shots*(-1)\n",
    "print(u)"
   ]
  },
  {
   "cell_type": "markdown",
   "metadata": {},
   "source": [
    "## Tomography"
   ]
  },
  {
   "cell_type": "code",
   "execution_count": 84,
   "metadata": {},
   "outputs": [
    {
     "name": "stdout",
     "output_type": "stream",
     "text": [
      "[[ 5.03417969e-01+0.j          2.76367188e-01-0.00683594j\n",
      "  -4.88281250e-03+0.42822266j -4.39453125e-03+0.00537109j]\n",
      " [ 2.76367188e-01+0.00683594j  1.26464844e-01+0.j\n",
      "  -4.88281250e-04+0.21435547j  1.95312500e-03+0.00048828j]\n",
      " [-4.88281250e-03-0.42822266j -4.88281250e-04-0.21435547j\n",
      "   3.74511719e-01+0.j         -1.17187500e-02+0.j        ]\n",
      " [-4.39453125e-03-0.00537109j  1.95312500e-03-0.00048828j\n",
      "  -1.17187500e-02+0.j         -4.39453125e-03+0.j        ]]\n"
     ]
    }
   ],
   "source": [
    "rho = sum([np.kron(sig[i], sig[j])*u[itr] for itr, (i, j) in enumerate([p for p in itertools.product(list(range(4)), repeat=2)])])/2**2\n",
    "print(rho)"
   ]
  },
  {
   "cell_type": "markdown",
   "metadata": {},
   "source": [
    "## Exact Density Matrix"
   ]
  },
  {
   "cell_type": "code",
   "execution_count": 81,
   "metadata": {},
   "outputs": [
    {
     "name": "stdout",
     "output_type": "stream",
     "text": [
      "[[5.00000000e-01+0.j         2.70151153e-01+0.j\n",
      "  2.57626187e-17+0.42073549j 0.00000000e+00+0.j        ]\n",
      " [2.70151153e-01+0.j         1.45963291e-01+0.j\n",
      "  1.39196023e-17+0.22732436j 0.00000000e+00+0.j        ]\n",
      " [2.57626187e-17-0.42073549j 1.39196023e-17-0.22732436j\n",
      "  3.54036709e-01+0.j         0.00000000e+00-0.j        ]\n",
      " [0.00000000e+00+0.j         0.00000000e+00+0.j\n",
      "  0.00000000e+00+0.j         0.00000000e+00+0.j        ]]\n"
     ]
    }
   ],
   "source": [
    "backend = Aer.get_backend('statevector_simulator')\n",
    "cr = ClassicalRegister(2, 'cr')\n",
    "qr = QuantumRegister(2, 'qr')\n",
    "circ = QuantumCircuit(qr, cr)\n",
    "circ = example_two_qubit_circ(circ, qr)\n",
    "job = execute(circ, backend)\n",
    "state = job.result().get_statevector(circ)\n",
    "print(DensityMatrix(state).data)"
   ]
  },
  {
   "cell_type": "markdown",
   "metadata": {},
   "source": [
    "## Compare"
   ]
  },
  {
   "cell_type": "code",
   "execution_count": 85,
   "metadata": {},
   "outputs": [
    {
     "name": "stdout",
     "output_type": "stream",
     "text": [
      "[[0.00341797 0.00923954 0.00893865 0.00693978]\n",
      " [0.00923954 0.01949845 0.01297808 0.00201324]\n",
      " [0.00893865 0.01297808 0.02047501 0.01171875]\n",
      " [0.00693978 0.00201324 0.01171875 0.00439453]]\n"
     ]
    }
   ],
   "source": [
    "print(np.abs(DensityMatrix(state).data - rho))"
   ]
  },
  {
   "cell_type": "markdown",
   "metadata": {},
   "source": [
    "# Construct Noise Model Based on the Machine"
   ]
  },
  {
   "cell_type": "code",
   "execution_count": 94,
   "metadata": {},
   "outputs": [
    {
     "name": "stdout",
     "output_type": "stream",
     "text": [
      "[<AccountProvider for IBMQ(hub='ibm-q', group='open', project='main')>, <AccountProvider for IBMQ(hub='ibm-q-ornl', group='hep-qis', project='brookhaven')>]\n",
      "[<IBMQSimulator('ibmq_qasm_simulator') from IBMQ(hub='ibm-q-ornl', group='hep-qis', project='brookhaven')>, <IBMQBackend('ibmqx2') from IBMQ(hub='ibm-q-ornl', group='hep-qis', project='brookhaven')>, <IBMQBackend('ibmq_16_melbourne') from IBMQ(hub='ibm-q-ornl', group='hep-qis', project='brookhaven')>, <IBMQBackend('ibmq_poughkeepsie') from IBMQ(hub='ibm-q-ornl', group='hep-qis', project='brookhaven')>, <IBMQBackend('ibmq_boeblingen') from IBMQ(hub='ibm-q-ornl', group='hep-qis', project='brookhaven')>, <IBMQBackend('ibmq_vigo') from IBMQ(hub='ibm-q-ornl', group='hep-qis', project='brookhaven')>, <IBMQBackend('ibmq_ourense') from IBMQ(hub='ibm-q-ornl', group='hep-qis', project='brookhaven')>, <IBMQBackend('ibmq_london') from IBMQ(hub='ibm-q-ornl', group='hep-qis', project='brookhaven')>, <IBMQBackend('ibmq_burlington') from IBMQ(hub='ibm-q-ornl', group='hep-qis', project='brookhaven')>, <IBMQBackend('ibmq_johannesburg') from IBMQ(hub='ibm-q-ornl', group='hep-qis', project='brookhaven')>, <IBMQBackend('ibmq_rochester') from IBMQ(hub='ibm-q-ornl', group='hep-qis', project='brookhaven')>, <IBMQBackend('ibmq_essex') from IBMQ(hub='ibm-q-ornl', group='hep-qis', project='brookhaven')>, <IBMQBackend('ibmq_armonk') from IBMQ(hub='ibm-q-ornl', group='hep-qis', project='brookhaven')>, <IBMQBackend('ibmq_cambridge') from IBMQ(hub='ibm-q-ornl', group='hep-qis', project='brookhaven')>]\n"
     ]
    },
    {
     "data": {
      "text/plain": [
       "<IBMQBackend('ibmq_johannesburg') from IBMQ(hub='ibm-q-ornl', group='hep-qis', project='brookhaven')>"
      ]
     },
     "execution_count": 94,
     "metadata": {},
     "output_type": "execute_result"
    }
   ],
   "source": [
    "# Load IBMQ account\n",
    "IBMQ.load_account() # Load account from disk\n",
    "print(IBMQ.providers())    # List all available providers\n",
    "provider = IBMQ.get_provider(hub='ibm-q-ornl', project='brookhaven')\n",
    "print(provider.backends())\n",
    "device_backend = provider.get_backend('ibmq_johannesburg')\n",
    "coupling_map = device_backend.configuration().coupling_map\n",
    "device_backend"
   ]
  },
  {
   "cell_type": "code",
   "execution_count": 96,
   "metadata": {},
   "outputs": [
    {
     "name": "stdout",
     "output_type": "stream",
     "text": [
      "NoiseModel:\n",
      "  Basis gates: ['cx', 'id', 'u2', 'u3']\n",
      "  Instructions with noise: ['cx', 'id', 'u2', 'measure', 'u3']\n",
      "  Qubits with noise: [0, 1, 2, 3, 4, 5, 6, 7, 8, 9, 10, 11, 12, 13, 14, 15, 16, 17, 18, 19]\n",
      "  Specific qubit errors: [('id', [0]), ('id', [1]), ('id', [2]), ('id', [3]), ('id', [4]), ('id', [5]), ('id', [6]), ('id', [7]), ('id', [8]), ('id', [9]), ('id', [10]), ('id', [11]), ('id', [12]), ('id', [13]), ('id', [14]), ('id', [15]), ('id', [16]), ('id', [17]), ('id', [18]), ('id', [19]), ('u2', [0]), ('u2', [1]), ('u2', [2]), ('u2', [3]), ('u2', [4]), ('u2', [5]), ('u2', [6]), ('u2', [7]), ('u2', [8]), ('u2', [9]), ('u2', [10]), ('u2', [11]), ('u2', [12]), ('u2', [13]), ('u2', [14]), ('u2', [15]), ('u2', [16]), ('u2', [17]), ('u2', [18]), ('u2', [19]), ('u3', [0]), ('u3', [1]), ('u3', [2]), ('u3', [3]), ('u3', [4]), ('u3', [5]), ('u3', [6]), ('u3', [7]), ('u3', [8]), ('u3', [9]), ('u3', [10]), ('u3', [11]), ('u3', [12]), ('u3', [13]), ('u3', [14]), ('u3', [15]), ('u3', [16]), ('u3', [17]), ('u3', [18]), ('u3', [19]), ('cx', [0, 1]), ('cx', [0, 5]), ('cx', [1, 0]), ('cx', [1, 2]), ('cx', [2, 1]), ('cx', [2, 3]), ('cx', [3, 2]), ('cx', [3, 4]), ('cx', [4, 3]), ('cx', [4, 9]), ('cx', [5, 0]), ('cx', [5, 6]), ('cx', [5, 10]), ('cx', [6, 5]), ('cx', [6, 7]), ('cx', [7, 6]), ('cx', [7, 8]), ('cx', [7, 12]), ('cx', [8, 7]), ('cx', [8, 9]), ('cx', [9, 4]), ('cx', [9, 8]), ('cx', [9, 14]), ('cx', [10, 5]), ('cx', [10, 11]), ('cx', [10, 15]), ('cx', [11, 10]), ('cx', [11, 12]), ('cx', [12, 7]), ('cx', [12, 11]), ('cx', [12, 13]), ('cx', [13, 12]), ('cx', [13, 14]), ('cx', [14, 9]), ('cx', [14, 13]), ('cx', [14, 19]), ('cx', [15, 10]), ('cx', [15, 16]), ('cx', [16, 15]), ('cx', [16, 17]), ('cx', [17, 16]), ('cx', [17, 18]), ('cx', [18, 17]), ('cx', [18, 19]), ('cx', [19, 14]), ('cx', [19, 18]), ('measure', [0]), ('measure', [1]), ('measure', [2]), ('measure', [3]), ('measure', [4]), ('measure', [5]), ('measure', [6]), ('measure', [7]), ('measure', [8]), ('measure', [9]), ('measure', [10]), ('measure', [11]), ('measure', [12]), ('measure', [13]), ('measure', [14]), ('measure', [15]), ('measure', [16]), ('measure', [17]), ('measure', [18]), ('measure', [19])]\n"
     ]
    }
   ],
   "source": [
    "# Construct the noise model from backend properties\n",
    "noise_model = NoiseModel.from_backend(device_backend)\n",
    "print(noise_model)"
   ]
  },
  {
   "cell_type": "code",
   "execution_count": 105,
   "metadata": {},
   "outputs": [
    {
     "data": {
      "image/png": "[encoded data removed]",
      "text/plain": [
       "<matplotlib.figure.Figure at 0x1b023d8ddd8>"
      ]
     },
     "execution_count": 105,
     "metadata": {},
     "output_type": "execute_result"
    }
   ],
   "source": [
    "# Get the basis gates for the noise model\n",
    "basis_gates = noise_model.basis_gates\n",
    "\n",
    "# Execute noisy simulation and get counts\n",
    "backend = Aer.get_backend('qasm_simulator')\n",
    "cr = ClassicalRegister(2, 'cr')\n",
    "qr = QuantumRegister(2, 'qr')\n",
    "circ = QuantumCircuit(qr, cr)\n",
    "circ = example_two_qubit_circ(circ, qr)\n",
    "circ.measure(qr, cr)\n",
    "result_noise = execute(circ, backend, \n",
    "                       noise_model=noise_model,\n",
    "                       coupling_map=coupling_map,\n",
    "                       basis_gates=basis_gates).result()\n",
    "counts_noise = result_noise.get_counts(circ)\n",
    "plot_histogram(counts_noise)"
   ]
  },
  {
   "cell_type": "code",
   "execution_count": 104,
   "metadata": {},
   "outputs": [
    {
     "data": {
      "image/png": "[encoded data removed]",
      "text/plain": [
       "<matplotlib.figure.Figure at 0x1b0519b8320>"
      ]
     },
     "execution_count": 104,
     "metadata": {},
     "output_type": "execute_result"
    }
   ],
   "source": [
    "result_noise = execute(circ, backend).result()\n",
    "counts_noise = result_noise.get_counts(circ)\n",
    "plot_histogram(counts_noise)"
   ]
  },
  {
   "cell_type": "code",
   "execution_count": 108,
   "metadata": {},
   "outputs": [
    {
     "name": "stdout",
     "output_type": "stream",
     "text": [
      "Status @ 0 seconds\n",
      "JobStatus.INITIALIZING\n",
      "Status @ 30 seconds\n",
      "JobStatus.QUEUED\n",
      "Status @ 60 seconds\n",
      "JobStatus.QUEUED\n",
      "Status @ 90 seconds\n",
      "JobStatus.QUEUED\n",
      "Status @ 120 seconds\n",
      "JobStatus.QUEUED\n",
      "Status @ 150 seconds\n",
      "JobStatus.QUEUED\n",
      "Status @ 180 seconds\n",
      "JobStatus.QUEUED\n",
      "Status @ 210 seconds\n",
      "JobStatus.QUEUED\n",
      "Status @ 240 seconds\n",
      "JobStatus.QUEUED\n",
      "Status @ 270 seconds\n",
      "JobStatus.QUEUED\n",
      "Status @ 300 seconds\n",
      "JobStatus.QUEUED\n",
      "Status @ 330 seconds\n",
      "JobStatus.QUEUED\n",
      "Status @ 360 seconds\n",
      "JobStatus.QUEUED\n",
      "Status @ 390 seconds\n",
      "JobStatus.QUEUED\n",
      "Status @ 420 seconds\n",
      "JobStatus.QUEUED\n",
      "Status @ 450 seconds\n",
      "JobStatus.QUEUED\n",
      "Status @ 480 seconds\n",
      "JobStatus.QUEUED\n",
      "Status @ 510 seconds\n",
      "JobStatus.QUEUED\n",
      "Status @ 540 seconds\n",
      "JobStatus.QUEUED\n",
      "Status @ 570 seconds\n",
      "JobStatus.QUEUED\n",
      "Status @ 600 seconds\n",
      "JobStatus.QUEUED\n",
      "Status @ 630 seconds\n",
      "JobStatus.RUNNING\n",
      "Status @ 660 seconds\n",
      "JobStatus.RUNNING\n",
      "Status @ 690 seconds\n",
      "JobStatus.RUNNING\n",
      "JobStatus.DONE\n"
     ]
    },
    {
     "data": {
      "image/png": "[encoded data removed]",
      "text/plain": [
       "<matplotlib.figure.Figure at 0x188099ffe10>"
      ]
     },
     "execution_count": 108,
     "metadata": {},
     "output_type": "execute_result"
    }
   ],
   "source": [
    "job = execute(circ, device_backend, shots=1024)\n",
    "lapse = 0\n",
    "interval = 30\n",
    "while job.status() != JobStatus.DONE:\n",
    "    print('Status @ {} seconds'.format(interval * lapse))\n",
    "    print(job.status())\n",
    "    time.sleep(interval)\n",
    "    lapse += 1\n",
    "print(job.status())\n",
    "result_device = job_device.result()\n",
    "counts_device = result_noise.get_counts(circ)\n",
    "plot_histogram(counts_device)"
   ]
  },
  {
   "cell_type": "code",
   "execution_count": 112,
   "metadata": {},
   "outputs": [
    {
     "data": {
      "image/png": "[encoded data removed]",
      "text/plain": [
       "<matplotlib.figure.Figure at 0x1880983b588>"
      ]
     },
     "execution_count": 112,
     "metadata": {},
     "output_type": "execute_result"
    }
   ],
   "source": [
    "result_device = job.result()\n",
    "counts_device = result_device.get_counts(circ)\n",
    "plot_histogram(counts_device)"
   ]
  },
  {
   "cell_type": "markdown",
   "metadata": {},
   "source": [
    "# Compute the matrix $S$\n",
    "\n",
    "The matrix $S$ is equivalent to the expectation values of measurements of the exact output state $\\Gamma_U(\\rho)=U\\rho U^\\dagger$ in the Pauli basis.\n",
    "\\begin{align}\n",
    "S_{i, k} = \\langle\\langle{k|R_{\\Gamma_U}|\\rho_i}\\rangle\\rangle = \\langle\\langle{k|U\\rho_iU^\\dagger}\\rangle\\rangle = Tr(P_k U\\rho_iU^\\dagger)\n",
    "\\end{align}"
   ]
  },
  {
   "cell_type": "code",
   "execution_count": 229,
   "metadata": {},
   "outputs": [
    {
     "data": {
      "image/png": "[encoded data removed]",
      "text/plain": [
       "<matplotlib.figure.Figure at 0x1b051afae10>"
      ]
     },
     "metadata": {
      "needs_background": "light"
     },
     "output_type": "display_data"
    }
   ],
   "source": [
    "backend = Aer.get_backend('unitary_simulator')\n",
    "\n",
    "cr = ClassicalRegister(2, 'cr')\n",
    "qr = QuantumRegister(2, 'qr')\n",
    "circ = QuantumCircuit(qr, cr)\n",
    "circ = trotter_electric(circ, qr, [0, 1], 1.0, 1.0, True)\n",
    "job = execute(circ, backend)\n",
    "U = job.result().get_unitary()\n",
    "plt.matshow(np.abs(U))\n",
    "plt.show()"
   ]
  },
  {
   "cell_type": "code",
   "execution_count": 397,
   "metadata": {
    "scrolled": true
   },
   "outputs": [
    {
     "data": {
      "image/png": "[encoded data removed]",
      "text/plain": [
       "<matplotlib.figure.Figure at 0x1b051da72b0>"
      ]
     },
     "metadata": {
      "needs_background": "light"
     },
     "output_type": "display_data"
    },
    {
     "data": {
      "image/png": "[encoded data removed]",
      "text/plain": [
       "<matplotlib.figure.Figure at 0x1b053024940>"
      ]
     },
     "metadata": {
      "needs_background": "light"
     },
     "output_type": "display_data"
    }
   ],
   "source": [
    "# Compute the 1-qubit states that are bases of X, Y, Z\n",
    "ref1 = [\n",
    "    np.array([1/np.sqrt(2), 1/np.sqrt(2)], dtype=complex),\n",
    "    np.array([1/np.sqrt(2), -1/np.sqrt(2)], dtype=complex),\n",
    "    np.array([1/np.sqrt(2), 1j/np.sqrt(2)], dtype=complex),\n",
    "    np.array([1/np.sqrt(2), -1j/np.sqrt(2)], dtype=complex),\n",
    "    np.array([1, 0], dtype=complex),\n",
    "    np.array([0, 1], dtype=complex)\n",
    "]\n",
    "\n",
    "\n",
    "# Compute the 2-qubit reference states\n",
    "ref = []\n",
    "for itr, (i, j) in enumerate([p for p in itertools.product(list(range(6)), repeat=2)]):\n",
    "    state = np.kron(ref1[i], ref1[j])\n",
    "    ref.append(np.outer(np.conjugate(state), state))\n",
    "\n",
    "S = np.zeros((36, 16), complex)\n",
    "for k, (k1, k2) in enumerate([p for p in itertools.product(list(range(4)), repeat=2)]):\n",
    "    for i in range(36):\n",
    "        S[i, k] = np.trace(matmul([np.kron(sig[k1], sig[k2]), U, ref[i], np.conjugate(U).T]))/np.sqrt(4)\n",
    "plt.matshow(np.abs(S))\n",
    "plt.show()\n",
    "S_H = np.conjugate(S).T\n",
    "SS = np.matmul(S_H, S)\n",
    "SS_inv = np.linalg.inv(SS)\n",
    "plt.matshow(np.abs(SS_inv))\n",
    "plt.show()"
   ]
  },
  {
   "cell_type": "markdown",
   "metadata": {},
   "source": [
    "## Compute the PTM of $\\epsilon$\n",
    "\\begin{equation}\n",
    "\\langle\\langle{k|R_\\epsilon|l}\\rangle\\rangle = ((S^\\dagger S)^{-1}S^\\dagger P)^T_{k, l}\n",
    "\\end{equation}"
   ]
  },
  {
   "cell_type": "code",
   "execution_count": 381,
   "metadata": {
    "scrolled": true
   },
   "outputs": [
    {
     "name": "stdout",
     "output_type": "stream",
     "text": [
      "[[ 0.5        -0.19433594  0.01660156  0.00878906 -0.16796875  0.40625\n",
      "  -0.03808594 -0.00195312  0.00585938  0.01269531 -0.01269531  0.38183594\n",
      "   0.02929688  0.01269531  0.39257812  0.01855469]\n",
      " [ 0.5         0.19628906 -0.00585938  0.02929688 -0.1875     -0.41015625\n",
      "   0.01757812 -0.00097656  0.0234375   0.015625   -0.01171875  0.36816406\n",
      "  -0.03125     0.02832031 -0.37890625  0.00488281]\n",
      " [ 0.5        -0.00488281  0.20410156  0.02929688 -0.203125   -0.01367188\n",
      "  -0.41503906  0.00097656 -0.0078125   0.00683594 -0.00585938  0.37792969\n",
      "   0.02441406  0.38867188  0.00292969  0.00195312]\n",
      " [ 0.5        -0.02246094 -0.19824219  0.01074219 -0.20117188  0.01074219\n",
      "   0.40820312  0.0234375   0.00585938 -0.00585938  0.01367188  0.39648438\n",
      "   0.01953125 -0.39160156  0.015625    0.02246094]\n",
      " [ 0.5         0.00976562  0.00878906  0.47167969 -0.17285156 -0.00390625\n",
      "   0.02148438 -0.17285156  0.43066406  0.0078125   0.02539062  0.40625\n",
      "   0.01074219  0.00683594  0.01269531  0.03808594]\n",
      " [ 0.5         0.01269531  0.03222656 -0.4609375  -0.20507812 -0.01367188\n",
      "  -0.01464844  0.17675781 -0.41015625  0.00292969 -0.01757812  0.38183594\n",
      "   0.00097656  0.01660156 -0.02246094 -0.00585938]\n",
      " [ 0.5        -0.20019531  0.02734375  0.01953125  0.19726562 -0.4296875\n",
      "   0.00195312  0.01171875  0.01269531 -0.01660156 -0.00878906 -0.39355469\n",
      "  -0.00097656 -0.02441406  0.38964844  0.01269531]\n",
      " [ 0.5         0.21875    -0.00976562  0.00097656  0.21386719  0.41113281\n",
      "  -0.01953125 -0.00878906 -0.00097656  0.01855469 -0.015625   -0.38476562\n",
      "   0.02539062  0.01074219 -0.38671875  0.01269531]\n",
      " [ 0.5         0.03808594  0.2109375   0.03027344  0.19335938 -0.00976562\n",
      "   0.43359375 -0.01757812  0.00878906  0.00488281 -0.02636719 -0.38183594\n",
      "   0.00585938  0.37402344  0.00195312 -0.00390625]\n",
      " [ 0.5         0.01660156 -0.1953125  -0.015625    0.18164062  0.01953125\n",
      "  -0.43066406  0.01855469 -0.015625    0.01855469 -0.00585938 -0.38378906\n",
      "   0.01757812 -0.37109375  0.03417969 -0.02148438]\n",
      " [ 0.5         0.03417969 -0.02734375  0.47851562  0.17382812  0.01953125\n",
      "  -0.02050781  0.17871094 -0.39550781 -0.00585938  0.00683594 -0.36914062\n",
      "   0.02734375  0.01953125 -0.01464844  0.03808594]\n",
      " [ 0.5        -0.00976562 -0.02636719 -0.47167969  0.21289062  0.01953125\n",
      "  -0.01660156 -0.16796875  0.43554688  0.00683594 -0.01171875 -0.40917969\n",
      "  -0.00976562 -0.00195312 -0.0078125  -0.03027344]\n",
      " [ 0.5        -0.16210938  0.01953125 -0.01171875 -0.01074219 -0.03222656\n",
      "  -0.01171875  0.40820312  0.20214844 -0.41503906 -0.00585938  0.00292969\n",
      "   0.00195312 -0.01171875  0.38671875 -0.01464844]\n",
      " [ 0.5         0.18945312  0.02636719  0.          0.015625   -0.00585938\n",
      "   0.00878906  0.37988281  0.18554688  0.44140625 -0.00292969 -0.01074219\n",
      "   0.015625   -0.0078125  -0.38378906 -0.01367188]\n",
      " [ 0.5         0.02636719  0.22558594  0.02929688 -0.00976562 -0.03222656\n",
      "   0.02539062  0.38183594  0.17089844  0.00585938  0.43457031 -0.00488281\n",
      "  -0.01757812  0.37402344  0.0078125   0.03515625]\n",
      " [ 0.5         0.0078125  -0.18359375  0.01757812 -0.00292969  0.\n",
      "   0.04101562  0.37011719  0.14453125  0.00878906 -0.42089844  0.00683594\n",
      "   0.00390625 -0.37988281 -0.01171875 -0.015625  ]\n",
      " [ 0.5         0.01464844  0.01855469  0.47558594  0.42480469 -0.00195312\n",
      "  -0.0078125   0.40332031  0.19921875  0.00195312 -0.01953125  0.19042969\n",
      "   0.00976562  0.02636719 -0.00292969  0.02734375]\n",
      " [ 0.5         0.03027344  0.02050781 -0.47558594 -0.40917969 -0.02832031\n",
      "  -0.03710938  0.37695312  0.19335938  0.00390625  0.00976562 -0.17285156\n",
      "   0.01171875 -0.01171875 -0.00390625 -0.04980469]\n",
      " [ 0.5        -0.18945312  0.02539062 -0.00292969  0.01464844 -0.0390625\n",
      "  -0.03222656 -0.37597656 -0.18457031  0.39941406  0.00878906 -0.00585938\n",
      "   0.00292969 -0.01074219  0.39550781 -0.03027344]\n",
      " [ 0.5         0.18359375  0.01171875  0.0078125  -0.02929688  0.02734375\n",
      "   0.015625   -0.37792969 -0.17871094 -0.41113281 -0.02929688  0.01171875\n",
      "  -0.00488281  0.0078125  -0.39355469 -0.00488281]\n",
      " [ 0.5        -0.01269531  0.20605469 -0.00976562  0.00390625 -0.015625\n",
      "  -0.00097656 -0.39941406 -0.18457031  0.02636719 -0.43164062  0.01074219\n",
      "   0.00585938  0.40722656  0.03417969  0.01757812]\n",
      " [ 0.5        -0.00976562 -0.18261719  0.00878906  0.01367188  0.01757812\n",
      "   0.01269531 -0.3984375  -0.17871094 -0.00390625  0.4296875  -0.00292969\n",
      "   0.01660156 -0.37597656 -0.02148438 -0.02246094]\n",
      " [ 0.5        -0.00390625 -0.02246094  0.47753906 -0.40429688 -0.00585938\n",
      "  -0.03027344 -0.38476562 -0.17480469 -0.00195312 -0.02734375 -0.16699219\n",
      "   0.00390625  0.00097656 -0.02832031  0.01855469]\n",
      " [ 0.5         0.01660156 -0.01269531 -0.46191406  0.42871094  0.00976562\n",
      "   0.00292969 -0.39355469 -0.17675781  0.03125    -0.00488281  0.1640625\n",
      "  -0.02050781 -0.0234375  -0.00097656 -0.01464844]\n",
      " [ 0.5        -0.19824219  0.42285156  0.00585938 -0.00390625  0.00976562\n",
      "   0.01074219 -0.01464844 -0.015625   -0.00390625  0.00683594  0.00976562\n",
      "   0.46484375 -0.1796875   0.39453125 -0.00097656]\n",
      " [ 0.5         0.19628906 -0.41015625  0.02441406  0.02050781  0.015625\n",
      "  -0.01660156  0.00097656  0.00488281 -0.00683594  0.0078125  -0.015625\n",
      "   0.46484375  0.171875   -0.40039062 -0.00585938]\n",
      " [ 0.5         0.4140625   0.17382812  0.00585938  0.00683594  0.03515625\n",
      "   0.00488281 -0.00488281  0.00976562 -0.01171875  0.01367188  0.0390625\n",
      "   0.47558594  0.38476562  0.15527344  0.        ]\n",
      " [ 0.5        -0.42871094 -0.19238281  0.02148438  0.01953125 -0.02050781\n",
      "   0.00292969 -0.00878906  0.01757812  0.00878906  0.03027344  0.01953125\n",
      "   0.46582031 -0.38378906 -0.16210938  0.00488281]\n",
      " [ 0.5        -0.00292969 -0.01464844  0.46972656 -0.00097656 -0.01855469\n",
      "   0.         -0.0234375  -0.00195312  0.02734375  0.00390625  0.04003906\n",
      "   0.46484375  0.00585938  0.02441406  0.44726562]\n",
      " [ 0.5        -0.00195312 -0.00683594 -0.46386719  0.01660156 -0.0078125\n",
      "  -0.00390625 -0.00390625  0.0078125  -0.015625    0.00878906 -0.02929688\n",
      "   0.47265625  0.0078125   0.02148438 -0.42382812]\n",
      " [ 0.5        -0.19726562 -0.41699219 -0.02832031  0.02832031  0.01660156\n",
      "  -0.00390625  0.01660156  0.01171875 -0.01953125 -0.03125     0.02050781\n",
      "  -0.4375      0.19433594  0.37988281  0.00292969]\n",
      " [ 0.5         0.2109375   0.42285156  0.03125    -0.00195312 -0.01074219\n",
      "  -0.01269531  0.0234375   0.00585938  0.03320312 -0.01464844 -0.00195312\n",
      "  -0.44824219 -0.19433594 -0.39257812 -0.00390625]\n",
      " [ 0.5        -0.41503906  0.20214844  0.015625   -0.01171875  0.00683594\n",
      "   0.01367188  0.01367188  0.00390625  0.01171875 -0.00585938  0.01660156\n",
      "  -0.45703125  0.37890625 -0.19238281  0.00683594]\n",
      " [ 0.5         0.41699219 -0.18066406  0.          0.03125     0.00585938\n",
      "  -0.01074219  0.00292969  0.01269531  0.00683594  0.00683594 -0.01757812\n",
      "  -0.44335938 -0.36425781  0.13964844 -0.00488281]\n",
      " [ 0.5        -0.00390625 -0.01074219  0.4765625  -0.00683594  0.00292969\n",
      "  -0.00097656  0.02636719  0.01757812  0.00488281  0.02050781  0.01464844\n",
      "  -0.45214844 -0.00195312 -0.02246094 -0.41699219]\n",
      " [ 0.5         0.02050781  0.02832031 -0.46777344  0.01171875  0.02539062\n",
      "  -0.02441406 -0.00390625  0.0078125  -0.00292969  0.01074219  0.00097656\n",
      "  -0.44042969 -0.01367188  0.01953125  0.41699219]]\n"
     ]
    }
   ],
   "source": [
    "def expectation(counts, shots):\n",
    "    return counts.get('00', 0)/shots*(1)+counts.get('11', 0)/shots*(1) \\\n",
    "                    +counts.get('01', 0)/shots*(-1)+counts.get('10', 0)/shots*(-1)\n",
    "noise_model = NoiseModel.from_backend(device_backend)\n",
    "shots = 1024\n",
    "backend = Aer.get_backend('qasm_simulator')\n",
    "P_S = np.zeros((36, 16))\n",
    "for i, (i1, i2) in enumerate([p for p in itertools.product(list(range(6)), repeat=2)]): \n",
    "    # the input state rho_i = |i1>|i2> where |i1>, |i2> \\in {|0>, |1>, |+>, |->, |R>, |L>}\n",
    "    for j, (j1, j2) in enumerate([p for p in itertools.product(list(range(4)), repeat=2)]):\n",
    "        if j == 0:\n",
    "            P_S[i, j] = 1.0\n",
    "            continue\n",
    "        else:\n",
    "            cr = ClassicalRegister(2, 'cr')\n",
    "            qr = QuantumRegister(2, 'qr')\n",
    "            circ = QuantumCircuit(qr, cr)\n",
    "            change_basis_input(circ, i1, 1)\n",
    "            change_basis_input(circ, i2, 0)\n",
    "            circ = trotter_electric(circ, qr, [0, 1], 1.0, 1.0, False)\n",
    "            if j1 == 0:\n",
    "                # Measure only the 0-th  with the basis specified with j\n",
    "                change_basis_measurement(circ, j2, 0)\n",
    "                circ.measure(qr[0], cr[0])\n",
    "            else:\n",
    "                if j2 == 0:\n",
    "                    # Measure only the 1-th qubit with the basis specified with i\n",
    "                    change_basis_measurement(circ, j1, 1)\n",
    "                    circ.measure(qr[1], cr[1])\n",
    "                else:\n",
    "                    # Measure both of the two qubits with the bases specified with i and j\n",
    "                    change_basis_measurement(circ, j1, 1)\n",
    "                    change_basis_measurement(circ, j2, 0)\n",
    "                    circ.measure(qr, cr)\n",
    "            job = execute(circ, backend, \n",
    "                       noise_model=noise_model,\n",
    "                       coupling_map=coupling_map,\n",
    "                       basis_gates=basis_gates,\n",
    "                       shots = shots)\n",
    "            P_S[i, j] =expectation(job.result().get_counts(circ), shots)\n",
    "    \n",
    "P_S /= np.sqrt(4)\n",
    "print(P_S)"
   ]
  },
  {
   "cell_type": "code",
   "execution_count": 382,
   "metadata": {},
   "outputs": [
    {
     "name": "stdout",
     "output_type": "stream",
     "text": [
      "(1.0000000000000002+0j)\n"
     ]
    },
    {
     "data": {
      "image/png": "[encoded data removed]",
      "text/plain": [
       "<matplotlib.figure.Figure at 0x1b051da7a20>"
      ]
     },
     "metadata": {
      "needs_background": "light"
     },
     "output_type": "display_data"
    }
   ],
   "source": [
    "ptm_eps = matmul([SS_inv, S_H, P_S]).T\n",
    "print(ptm_eps[0, 0])\n",
    "plt.matshow(np.abs(ptm_eps))\n",
    "plt.show()"
   ]
  },
  {
   "cell_type": "markdown",
   "metadata": {},
   "source": [
    "## The inner product between Paulis and reference states \n",
    "\\begin{align}\n",
    "\\langle\\langle l|\\rho_i \\rangle\\rangle = \\frac{1}{\\sqrt{d}}Tr(P_l \\rho_i)\n",
    "\\end{align}\n",
    "For the reference state $\\rho_i$, which must be some physical states of at least 16, we choose $\\{|0\\rangle, |1\\rangle, |+\\rangle, |-\\rangle, |R\\rangle, |L\\rangle\\}^{\\otimes 2}$.  "
   ]
  },
  {
   "cell_type": "code",
   "execution_count": 399,
   "metadata": {
    "scrolled": true
   },
   "outputs": [
    {
     "data": {
      "image/png": "[encoded data removed]",
      "text/plain": [
       "<matplotlib.figure.Figure at 0x1b05328d518>"
      ]
     },
     "metadata": {
      "needs_background": "light"
     },
     "output_type": "display_data"
    }
   ],
   "source": [
    "inn_mrho = np.zeros((16, 36), dtype=complex)\n",
    "for l, (l1, l2) in enumerate([p for p in itertools.product(list(range(4)), repeat=2)]):\n",
    "    for i in range(36):\n",
    "        inn_mrho[l, i] = np.trace(np.matmul(np.kron(sig[l1], sig[l2]), ref[i]))/np.sqrt(4)\n",
    "plt.matshow(np.abs(inn_mrho))\n",
    "plt.show()"
   ]
  },
  {
   "cell_type": "markdown",
   "metadata": {},
   "source": [
    "## Compute the matrix $T$\n",
    "The matrix $T$ is given as \n",
    "\\begin{align}\n",
    "T_{i, k} = \\sum_l \\langle\\langle{k|R_\\epsilon|l}\\rangle\\rangle\\langle\\langle{l|\\rho_i}\\rangle\\rangle\n",
    "\\end{align}"
   ]
  },
  {
   "cell_type": "code",
   "execution_count": 400,
   "metadata": {},
   "outputs": [
    {
     "data": {
      "image/png": "[encoded data removed]",
      "text/plain": [
       "<matplotlib.figure.Figure at 0x1b051c05e10>"
      ]
     },
     "metadata": {
      "needs_background": "light"
     },
     "output_type": "display_data"
    }
   ],
   "source": [
    "T = matmul([ptm_eps, inn_mrho]).T\n",
    "T_H = np.conjugate(T).T\n",
    "TT = np.matmul(T_H, T)\n",
    "TT_inv = np.linalg.inv(TT)#+1e-12*np.eye(16))\n",
    "plt.matshow(np.abs(TT_inv))\n",
    "plt.show()"
   ]
  },
  {
   "cell_type": "markdown",
   "metadata": {},
   "source": [
    "## Compute the PTM of $\\epsilon^{-1}$\n",
    "\\begin{equation}\n",
    "\\langle\\langle{j|R_{\\epsilon^{-1}}|k}\\rangle\\rangle = ((T^\\dagger T)^{-1}T^\\dagger P)^T_{j, k}\n",
    "\\end{equation}"
   ]
  },
  {
   "cell_type": "code",
   "execution_count": 401,
   "metadata": {
    "scrolled": true
   },
   "outputs": [
    {
     "name": "stdout",
     "output_type": "stream",
     "text": [
      "[[ 1.00000000e+00-7.70371978e-34j  3.16587034e-17+8.36575820e-34j\n",
      "  -8.84166872e-17-1.61296633e-33j  0.00000000e+00-1.19407657e-32j\n",
      "   1.44849410e-16-2.37731978e-33j -3.80826013e-17-2.33519006e-33j\n",
      "   4.51028104e-17-3.56297040e-33j  1.66370823e-16-1.85370757e-33j\n",
      "  -4.27175656e-17+3.00926554e-33j  2.31585584e-16+6.07871639e-34j\n",
      "   9.75781955e-18+4.45371300e-34j -8.32667268e-17-6.95742192e-33j\n",
      "   5.55111512e-17+0.00000000e+00j  1.73472348e-17-2.14861559e-33j\n",
      "  -1.31012280e-16-4.06852701e-33j -5.55111512e-17+1.77901760e-31j]\n",
      " [-1.21177552e-02-4.09686980e-21j  1.08357741e+00+3.27737194e-21j\n",
      "  -1.40070781e-02-2.42951267e-21j  4.13408429e-03+7.59720976e-22j\n",
      "  -9.93545877e-03-6.11572726e-21j -1.94542036e-02-1.38158053e-20j\n",
      "  -2.81269578e-03-1.05912169e-20j -3.58470716e-02-5.68203627e-21j\n",
      "   1.56805581e-02+8.71470927e-21j  1.38219872e-02+5.23189228e-21j\n",
      "  -1.27454360e-02-2.59968018e-21j  1.91056389e-02-1.08345820e-20j\n",
      "   9.65608163e-03+1.75332682e-19j -9.02269137e-03-8.48290689e-21j\n",
      "   7.78988303e-03+1.92316677e-22j -1.66899685e-02+5.36394439e-19j]\n",
      " [-1.28067154e-02-1.04304171e-21j  1.27217515e-02-2.30926035e-20j\n",
      "   1.08252424e+00+1.50595918e-20j  1.76758409e-02+2.88961753e-19j\n",
      "   2.70314813e-03+4.62932937e-20j  9.27916417e-03+1.92008696e-20j\n",
      "  -2.88775936e-03+5.99250556e-20j -2.57471535e-02+1.49407544e-20j\n",
      "   4.36821183e-03-2.94460836e-20j -1.39027879e-02-4.34046268e-20j\n",
      "  -1.39437955e-02+1.48825240e-20j -1.59253811e-02+6.22894708e-20j\n",
      "   1.41732382e-02+2.25761187e-19j -1.14879347e-02+4.87656262e-20j\n",
      "  -7.12861744e-03-8.60560270e-21j -1.99540263e-02-2.76532199e-18j]\n",
      " [-1.60732075e-02-6.30779379e-19j  7.70277225e-03-3.03223523e-19j\n",
      "  -2.58203729e-02+3.53870992e-19j  1.06193966e+00-1.99250621e-19j\n",
      "  -3.39977952e-03+5.70060829e-19j  2.45048892e-02-2.10555807e-18j\n",
      "  -1.70617012e-02+3.72483088e-19j -6.21858773e-03-4.48233138e-19j\n",
      "   8.27074620e-03+4.65551106e-19j  3.65144381e-04-5.98613513e-19j\n",
      "  -1.83097676e-02+2.40276013e-19j -1.13570631e-02+3.54961416e-19j\n",
      "  -7.27798486e-03+4.05246026e-17j -3.26837393e-04+1.91285578e-19j\n",
      "   2.80817281e-02-5.57383811e-19j  6.08902249e-03-5.11137886e-19j]\n",
      " [-1.06100598e-02-6.25014411e-21j -1.32069366e-02+1.34974182e-20j\n",
      "   3.51881588e-02-7.93190801e-21j  8.44539415e-03-1.69435019e-19j\n",
      "   1.09094339e+00-2.70257931e-20j -2.29994428e-02-3.41841858e-20j\n",
      "  -9.15085343e-03-3.91481813e-20j  2.08869694e-02-1.53445167e-20j\n",
      "  -3.63835496e-02+2.58442039e-20j -4.71724158e-02+2.45878657e-20j\n",
      "  -2.96643677e-03-8.70424988e-21j  4.15269154e-03-4.08000685e-20j\n",
      "  -1.09230076e-03+2.53278893e-19j -3.04132551e-03-3.25277077e-20j\n",
      "  -1.51951087e-02+1.37428062e-21j  4.01612071e-04+1.94945814e-18j]\n",
      " [ 2.63243875e-03-1.76208252e-20j -4.03211520e-02+2.29243510e-20j\n",
      "   2.43058819e-02-2.60618692e-20j  2.76336416e-03+3.94808689e-19j\n",
      "  -3.02890504e-02-3.88199583e-20j  1.20811186e+00-3.09189974e-20j\n",
      "   4.76528977e-03-6.31624403e-20j  2.35773765e-02-2.42172040e-20j\n",
      "   2.79286781e-03+3.96224611e-20j  2.96776696e-02+3.37507860e-20j\n",
      "   1.35751785e-04-2.26432406e-20j -2.24845077e-03-6.20378388e-20j\n",
      "   7.95397714e-03+3.20403623e-19j  4.41653160e-03-4.42904420e-20j\n",
      "   5.27056086e-03+1.86080356e-20j -8.04338825e-03+2.64161949e-18j]\n",
      " [ 9.50164775e-03+7.08779223e-21j  6.22477731e-03-1.91235204e-20j\n",
      "  -1.52940825e-02+1.60304104e-20j -1.15436929e-02+8.40686362e-21j\n",
      "  -3.64011068e-02+3.59104851e-20j  5.53625276e-02+2.53718111e-20j\n",
      "   1.18698415e+00+5.18493861e-20j  1.19061621e-03+1.71235114e-20j\n",
      "  -2.78900095e-02-2.99565289e-20j  2.17471917e-02-3.25942214e-20j\n",
      "   2.55432631e-03+1.49927461e-20j -2.52937281e-02+5.26949115e-20j\n",
      "  -8.07655603e-03-8.90581500e-20j -1.80565325e-03+3.99434046e-20j\n",
      "   2.21298227e-02-9.66952316e-21j  1.28945613e-02-2.33404291e-18j]\n",
      " [-4.02325734e-03-3.12761448e-21j  5.92150344e-03+6.28450912e-21j\n",
      "   7.62298512e-03-5.49566515e-21j -1.05736536e-02+1.38449092e-20j\n",
      "  -1.04677182e-02-1.16254107e-20j  1.33513424e-02-9.77569910e-21j\n",
      "   9.91630655e-03-1.73349714e-20j  1.17609074e+00-6.18698159e-21j\n",
      "  -6.75548091e-03+1.05299071e-20j  1.96688766e-02+1.04443828e-20j\n",
      "  -8.29721837e-03-5.11933209e-21j -8.20465024e-03-1.75416122e-20j\n",
      "   2.91177888e-02+6.18230407e-20j  4.10956447e-03-1.32272526e-20j\n",
      "  -3.30041562e-03+3.24044431e-21j  3.38601050e-02+7.81166237e-19j]\n",
      " [-1.23653871e-02-6.64092357e-21j -1.51795048e-03+1.99688573e-20j\n",
      "   1.33233670e-02-1.63715354e-20j -3.52954794e-03-3.22312449e-20j\n",
      "  -2.25929486e-03-3.77440418e-20j  1.91688560e-02-2.56900576e-20j\n",
      "  -2.46316221e-02-5.39439382e-20j  2.38928178e-02-1.74436249e-20j\n",
      "   1.09860746e+00+3.07745138e-20j  1.55925790e-02+3.43698593e-20j\n",
      "  -2.08036772e-02-1.53845445e-20j -1.56099964e-03-5.49416889e-20j\n",
      "   8.86326872e-03+6.76235584e-20j -1.02385868e-02-4.17816041e-20j\n",
      "   1.16166299e-03+9.81343688e-21j  1.20417530e-02+2.43504792e-18j]\n",
      " [-1.14823550e-02+1.49202972e-20j  4.26953853e-03-4.85967446e-21j\n",
      "  -3.51519283e-02+6.87605135e-21j -1.15309473e-03-2.23216641e-19j\n",
      "  -1.74336685e-02+6.72817363e-21j -2.24968125e-02+3.35957045e-20j\n",
      "   2.07281020e-02+1.85622035e-20j  3.67843260e-03+1.41474640e-20j\n",
      "  -1.24209570e-02-1.97859344e-20j  1.19913421e+00-4.39794609e-21j\n",
      "   2.49019314e-02+6.42334754e-21j -1.20599239e-02+1.78994745e-20j\n",
      "   6.30373784e-03-5.92628978e-19j  1.55303987e-02+1.28548379e-20j\n",
      "   3.68286082e-02-2.09617997e-21j -2.40314691e-02-8.95693317e-19j]\n",
      " [ 5.36800692e-03-8.89861679e-21j  3.57376127e-03+6.02403979e-21j\n",
      "  -1.10853182e-03-1.45712813e-20j -3.19326072e-03+5.22258746e-19j\n",
      "   8.40579864e-03-5.85944909e-21j  6.10684743e-03+8.60589493e-21j\n",
      "   6.52691718e-04-1.45411837e-20j -3.62185711e-03-5.20697288e-21j\n",
      "  -1.83208408e-02+7.75872832e-21j -2.86525424e-02+3.96101459e-21j\n",
      "   1.16470870e+00-1.07691595e-20j -9.20250055e-03-1.18348831e-20j\n",
      "  -1.83076492e-02+1.53760914e-20j  1.96969734e-02-4.90570066e-21j\n",
      "  -4.44773261e-03+1.48821665e-20j  1.08104580e-02+2.82431430e-19j]\n",
      " [-6.94446981e-03-1.02624688e-21j  1.26359848e-02+1.87236491e-20j\n",
      "  -4.79186138e-03-1.84716202e-20j -3.56312005e-02+9.49247425e-20j\n",
      "   8.73006627e-03-3.41278312e-20j -1.74475456e-02+2.55688786e-21j\n",
      "  -1.32098069e-02-4.60783655e-20j -4.46252565e-03-9.77366531e-21j\n",
      "   8.05172703e-03+1.99205352e-20j  2.05222586e-02+3.15025078e-20j\n",
      "   1.82282330e-02-1.58551145e-20j  1.18251003e+00-4.60413057e-20j\n",
      "  -6.17729847e-03-3.20527536e-19j -6.40326972e-03-3.33741366e-20j\n",
      "  -6.81970045e-03+1.56261241e-20j -3.91132055e-02+1.84628262e-18j]\n",
      " [-1.69717013e-02-6.00062477e-19j -8.10893661e-03+2.80375467e-19j\n",
      "   9.56769163e-03-9.50255440e-19j -9.96051370e-03+3.92768826e-17j\n",
      "   1.51975923e-02-1.17238609e-19j -5.69953604e-02+8.87947185e-19j\n",
      "   9.84811112e-03-6.23166184e-19j -1.21444285e-02-2.32963656e-19j\n",
      "   1.26683470e-02+3.07979084e-19j -1.59713243e-02+4.99105539e-21j\n",
      "   6.47864545e-03-6.73651364e-19j  9.34701303e-03-4.12268863e-19j\n",
      "   1.09292382e+00+1.18188019e-19j  4.95296641e-03-6.93641909e-21j\n",
      "  -1.50961805e-02+1.03243811e-18j -1.82701551e-03+2.80352507e-20j]\n",
      " [-4.28497551e-03+9.19249499e-22j -1.71992152e-02-1.77326451e-21j\n",
      "   2.44746099e-02+7.89548465e-21j -1.75248241e-02-3.25705186e-19j\n",
      "  -3.53216768e-03-4.01780426e-23j -1.21592502e-02-2.09495746e-20j\n",
      "   2.45125643e-02+1.36255676e-21j -5.31033357e-03-2.26834581e-21j\n",
      "   1.87023871e-02+3.14815347e-21j  9.64300448e-03+4.54266327e-22j\n",
      "   1.99705810e-02+5.14431622e-21j -1.70226325e-02-5.58928654e-22j\n",
      "  -1.84494298e-03+2.17525880e-19j  1.18029509e+00-3.34305464e-21j\n",
      "   3.81424738e-04-1.03194753e-20j  1.00895773e-02+2.53394501e-19j]\n",
      " [ 2.06466602e-03+7.07807770e-21j  3.71366099e-02-4.74698026e-20j\n",
      "  -1.55611330e-02+3.98960331e-20j  9.21094199e-03+8.23764090e-20j\n",
      "  -1.65989706e-02+8.98321884e-20j  5.47222552e-03+3.23971007e-20j\n",
      "   1.48146874e-02+1.23072513e-19j  9.37791698e-03+3.31540854e-20j\n",
      "  -2.56775420e-02-6.23202377e-20j -1.25572692e-02-8.27641910e-20j\n",
      "   2.47287443e-02+3.64909092e-20j -8.71438940e-03+1.25141362e-19j\n",
      "  -2.21543146e-02+3.23565295e-19j  4.12205622e-03+9.43555645e-20j\n",
      "   1.18616287e+00-2.77806605e-20j -3.04567616e-02-5.37515076e-18j]\n",
      " [-2.06403542e-03+2.46657780e-17j  9.61587108e-03-5.44297588e-21j\n",
      "  -7.29272498e-03+9.80040772e-21j -5.26688954e-02-2.13133319e-19j\n",
      "  -1.85649260e-02+8.04046900e-21j -1.13331723e-02-3.50101439e-20j\n",
      "  -2.57058185e-02+7.66122184e-21j -7.77558862e-03-5.40853805e-21j\n",
      "   1.41057230e-02+5.48596522e-21j  1.70728908e-02-7.90432732e-21j\n",
      "  -6.97928609e-03+6.73172885e-21j -2.63709249e-02+6.26940587e-21j\n",
      "  -3.68340595e-03+5.74474410e-19j -2.02756370e-02+2.01656964e-21j\n",
      "   4.23925033e-03-1.32360185e-20j  1.17254807e+00+3.51287405e-20j]]\n"
     ]
    }
   ],
   "source": [
    "ptm_eps_inv = matmul([TT_inv, T_H, inn_mrho.T]).T\n",
    "print(ptm_eps_inv)"
   ]
  },
  {
   "cell_type": "markdown",
   "metadata": {},
   "source": [
    "## Compute the matrix $\\Sigma = Tr[P_k P_i P_l P_j]$ to recover the process matrix from the PTM\n",
    "One may recover the process matrix by\n",
    "\\begin{align}\n",
    "\\vec{\\chi} = \\Sigma^{-1}\\vec{m}\n",
    "\\end{align}\n",
    "where $\\vec{\\chi}_{i+j(d-1)} = \\chi_{ij}$ and $\\vec{m}_{k+l(d-1)} = \\langle\\langle k|R_{\\epsilon^{-1}}|l \\rangle\\rangle$. "
   ]
  },
  {
   "cell_type": "code",
   "execution_count": 356,
   "metadata": {},
   "outputs": [
    {
     "data": {
      "image/png": "[encoded data removed]",
      "text/plain": [
       "<matplotlib.figure.Figure at 0x1b0532a0c18>"
      ]
     },
     "metadata": {
      "needs_background": "light"
     },
     "output_type": "display_data"
    }
   ],
   "source": [
    "SigMat = np.zeros([256, 256], dtype=complex)\n",
    "for itr1, (i1, i2) in enumerate([p for p in itertools.product(list(range(4)), repeat=2)]):\n",
    "    for itr2, (j1, j2) in enumerate([p for p in itertools.product(list(range(4)), repeat=2)]):\n",
    "        for itr3, (k1, k2) in enumerate([p for p in itertools.product(list(range(4)), repeat=2)]):\n",
    "            for itr4, (l1, l2) in enumerate([p for p in itertools.product(list(range(4)), repeat=2)]):\n",
    "                P_i = np.kron(sig[i1], sig[i2])\n",
    "                P_j = np.kron(sig[j1], sig[j2])\n",
    "                P_k = np.kron(sig[k1], sig[k2])\n",
    "                P_l = np.kron(sig[l1], sig[l2])\n",
    "                SigMat[itr1+itr2*16, itr3+itr4*16] = np.trace(np.matmul(P_k, np.matmul(P_i, np.matmul(P_l, P_j))))/4\n",
    "plt.matshow(np.abs(SigMat))\n",
    "plt.show()"
   ]
  },
  {
   "cell_type": "code",
   "execution_count": 402,
   "metadata": {},
   "outputs": [
    {
     "name": "stdout",
     "output_type": "stream",
     "text": [
      "(0.9999999999999994-7.583349156024741e-34j)\n"
     ]
    },
    {
     "data": {
      "image/png": "[encoded data removed]",
      "text/plain": [
       "<matplotlib.figure.Figure at 0x1b051c49358>"
      ]
     },
     "metadata": {
      "needs_background": "light"
     },
     "output_type": "display_data"
    }
   ],
   "source": [
    "ptm_eps_inv_vec = np.reshape(ptm_eps_inv, [-1, 1])\n",
    "chi_eps_inv_vec = np.dot(np.linalg.inv(SigMat), ptm_eps_inv_vec)\n",
    "chi_eps_inv = np.reshape(chi_eps_inv_vec, [16, 16])\n",
    "print(np.trace(chi_eps_inv))\n",
    "plt.matshow(np.abs(chi_eps_inv))\n",
    "plt.show()"
   ]
  },
  {
   "cell_type": "code",
   "execution_count": 403,
   "metadata": {},
   "outputs": [
    {
     "name": "stdout",
     "output_type": "stream",
     "text": [
      "(1-2.407412430484045e-35j)\n"
     ]
    },
    {
     "data": {
      "image/png": "[encoded data removed]",
      "text/plain": [
       "<matplotlib.figure.Figure at 0x1b053081278>"
      ]
     },
     "metadata": {
      "needs_background": "light"
     },
     "output_type": "display_data"
    }
   ],
   "source": [
    "ptm_eps_vec = np.reshape(ptm_eps, [-1, 1])\n",
    "chi_eps_vec = np.dot(np.linalg.inv(SigMat), ptm_eps_vec)\n",
    "chi_eps = np.reshape(chi_eps_vec, [16, 16])\n",
    "print(np.trace(chi_eps))\n",
    "plt.matshow(np.abs(chi_eps))\n",
    "plt.show()"
   ]
  },
  {
   "cell_type": "markdown",
   "metadata": {},
   "source": [
    "## Check if $\\chi_{\\epsilon^{-1}}$ is correct"
   ]
  },
  {
   "cell_type": "code",
   "execution_count": 225,
   "metadata": {},
   "outputs": [
    {
     "name": "stdout",
     "output_type": "stream",
     "text": [
      "[[1.+0.j 0.-0.j 0.-0.j 0.-0.j]\n",
      " [0.+0.j 0.+0.j 0.+0.j 0.+0.j]\n",
      " [0.+0.j 0.+0.j 0.+0.j 0.+0.j]\n",
      " [0.+0.j 0.+0.j 0.+0.j 0.+0.j]]\n"
     ]
    }
   ],
   "source": [
    "backend = Aer.get_backend('statevector_simulator')\n",
    "cr = ClassicalRegister(2, 'cr')\n",
    "qr = QuantumRegister(2, 'qr')\n",
    "circ = QuantumCircuit(qr, cr)\n",
    "circ = trotter_electric(circ, qr, [0, 1], 1.0, 1.0, True)\n",
    "job = execute(circ, backend)\n",
    "state = job.result().get_statevector(circ)\n",
    "exact_rho = DensityMatrix(state).data\n",
    "print(exact_rho)"
   ]
  },
  {
   "cell_type": "markdown",
   "metadata": {},
   "source": [
    "## Tomography the noisy output state"
   ]
  },
  {
   "cell_type": "code",
   "execution_count": 404,
   "metadata": {},
   "outputs": [
    {
     "name": "stdout",
     "output_type": "stream",
     "text": [
      "[[ 0.94042969+0.j         -0.00634766+0.01806641j  0.03271484+0.01464844j\n",
      "  -0.00732422+0.00341797j]\n",
      " [-0.00634766-0.01806641j  0.01757812+0.j          0.00830078+0.01318359j\n",
      "   0.00341797-0.00195312j]\n",
      " [ 0.03271484-0.01464844j  0.00830078-0.01318359j  0.04199219+0.j\n",
      "   0.00537109+0.00634766j]\n",
      " [-0.00732422-0.00341797j  0.00341797+0.00195312j  0.00537109-0.00634766j\n",
      "   0.        +0.j        ]]\n"
     ]
    }
   ],
   "source": [
    "u = np.zeros(4**2)\n",
    "u[0] = 1.0\n",
    "shots = 1024\n",
    "\n",
    "backend = Aer.get_backend('qasm_simulator')\n",
    "for itr, (i, j) in enumerate([p for p in itertools.product(list(range(4)), repeat=2)]):\n",
    "    # Due to the indexing convension of qiskit, i corresponds to 1-th qubit and j corresponds to 0-th qubit\n",
    "    if i == 0 and j == 0:\n",
    "        continue\n",
    "    else:\n",
    "        cr = ClassicalRegister(2, 'cr')\n",
    "        qr = QuantumRegister(2, 'qr')\n",
    "        circ = QuantumCircuit(qr, cr)\n",
    "        circ = trotter_electric(circ, qr, [0, 1], 1.0, 1.0, True)\n",
    "        if i == 0:\n",
    "            # Measure only the 0-th qubit with the basis specified with j\n",
    "            change_basis_measurement(circ, j, 0)\n",
    "            circ.measure(qr[0], cr[0])\n",
    "        else:\n",
    "            if j == 0:\n",
    "                # Measure only the 1-th qubit with the basis specified with i\n",
    "                change_basis_measurement(circ, i, 1)\n",
    "                circ.measure(qr[1], cr[1])\n",
    "            else:\n",
    "                # Measure both of the two qubits with the bases specified with i and j\n",
    "                change_basis_measurement(circ, i, 1)\n",
    "                change_basis_measurement(circ, j, 0)\n",
    "                circ.measure(qr, cr)\n",
    "        job = execute(circ, backend, \n",
    "                       noise_model=noise_model,\n",
    "                       coupling_map=coupling_map,\n",
    "                       basis_gates=basis_gates,\n",
    "                       shots = shots)\n",
    "        u[itr] =job.result().get_counts(circ).get('00', 0)/shots*(1)+job.result().get_counts(circ).get('11', 0)/shots*(1) \\\n",
    "                        +job.result().get_counts(circ).get('01', 0)/shots*(-1)+job.result().get_counts(circ).get('10', 0)/shots*(-1)\n",
    "noisy_rho = sum([np.kron(sig[i], sig[j])*u[itr] for itr, (i, j) in enumerate([p for p in itertools.product(list(range(4)), repeat=2)])])/2**2\n",
    "print(noisy_rho)"
   ]
  },
  {
   "cell_type": "code",
   "execution_count": 406,
   "metadata": {},
   "outputs": [
    {
     "name": "stdout",
     "output_type": "stream",
     "text": [
      "[[ 0.99295525+2.82243777e-17j -0.00898975+2.11025363e-02j\n",
      "   0.02994127+1.60070041e-02j -0.01295919+1.23577383e-02j]\n",
      " [-0.00898975-2.11025363e-02j -0.01319824+5.63448634e-18j\n",
      "  -0.00464832+8.68234453e-03j  0.00641393-1.60284728e-02j]\n",
      " [ 0.02994127-1.60070041e-02j -0.00464832-8.68234453e-03j\n",
      "  -0.02420337+7.98249386e-18j  0.01113662+1.48574011e-02j]\n",
      " [-0.01295919-1.23577383e-02j  0.00641393+1.60284728e-02j\n",
      "   0.01113662-1.48574011e-02j  0.01255658-1.53143557e-17j]]\n"
     ]
    },
    {
     "data": {
      "image/png": "[encoded data removed]",
      "text/plain": [
       "<matplotlib.figure.Figure at 0x1b051ab6b38>"
      ]
     },
     "metadata": {
      "needs_background": "light"
     },
     "output_type": "display_data"
    }
   ],
   "source": [
    "mitigated_rho = np.zeros((4, 4), dtype=complex)\n",
    "for i, (i1, i2) in enumerate([p for p in itertools.product(list(range(4)), repeat=2)]):\n",
    "    for j, (j1, j2) in enumerate([p for p in itertools.product(list(range(4)), repeat=2)]):\n",
    "        mitigated_rho += chi_eps_inv[i, j]*np.matmul(np.matmul(np.kron(sig[i1], sig[i2]), noisy_rho), np.kron(sig[j1], sig[j2]))\n",
    "        \n",
    "print(mitigated_rho)\n",
    "plt.matshow(np.abs(mitigated_rho-exact_rho))\n",
    "plt.colorbar()\n",
    "plt.show()"
   ]
  },
  {
   "cell_type": "code",
   "execution_count": null,
   "metadata": {},
   "outputs": [],
   "source": []
  }
 ],
 "metadata": {
  "kernelspec": {
   "display_name": "Python 3",
   "language": "python",
   "name": "python3"
  },
  "language_info": {
   "codemirror_mode": {
    "name": "ipython",
    "version": 3
   },
   "file_extension": ".py",
   "mimetype": "text/x-python",
   "name": "python",
   "nbconvert_exporter": "python",
   "pygments_lexer": "ipython3",
   "version": "3.6.3"
  }
 },
 "nbformat": 4,
 "nbformat_minor": 2
}
