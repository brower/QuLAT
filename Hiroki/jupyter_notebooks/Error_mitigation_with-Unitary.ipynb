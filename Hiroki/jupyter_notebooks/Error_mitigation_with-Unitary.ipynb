{
 "cells": [
  {
   "cell_type": "code",
   "execution_count": 475,
   "metadata": {},
   "outputs": [],
   "source": [
    "import os, time, itertools\n",
    "import sys\n",
    "module_path = os.path.abspath(os.path.join('..'))\n",
    "if module_path not in sys.path:\n",
    "    sys.path.append(module_path)\n",
    "import numpy as np\n",
    "from scipy.linalg import expm, eig, logm\n",
    "from scipy import sparse\n",
    "from scipy.sparse.linalg import inv\n",
    "from scipy.optimize import minimize\n",
    "from qiskit import QuantumCircuit, QuantumRegister, ClassicalRegister, Aer, execute, IBMQ\n",
    "from qiskit.quantum_info import DensityMatrix\n",
    "from operators.triangle_plaquette_hamiltonian import TrianglePlaquetteHamiltonian\n",
    "from operators.pauli_hamiltonian import PauliHamiltonian\n",
    "from quantum_circuit.trotterization import trotter_electric, trotter_coupling, trotter_plaquette\n",
    "import matplotlib.pyplot as plt\n",
    "np.set_printoptions(threshold=sys.maxsize)\n",
    "from qiskit.providers.jobstatus import JobStatus\n",
    "from qiskit.visualization import plot_histogram\n",
    "from qiskit.providers.aer.noise import NoiseModel\n",
    "from utils.matrix_operations import *\n",
    "from utils.operations import *"
   ]
  },
  {
   "cell_type": "code",
   "execution_count": 2,
   "metadata": {},
   "outputs": [],
   "source": [
    "# Initialize Simulator|\n",
    "backend = Aer.get_backend('statevector_simulator')"
   ]
  },
  {
   "cell_type": "code",
   "execution_count": 469,
   "metadata": {},
   "outputs": [],
   "source": [
    "sig = []\n",
    "sig.append(np.eye(2))\n",
    "sig.append(np.array([[0, 1], [1, 0]]))\n",
    "sig.append(np.array([[0, -1j], [1j, 0]]))\n",
    "sig.append(np.array([[1, 0], [0, -1]]))"
   ]
  },
  {
   "cell_type": "code",
   "execution_count": 341,
   "metadata": {},
   "outputs": [],
   "source": [
    "def change_basis_measurement(circ, i, trg):\n",
    "    if i == 1:\n",
    "        circ.h(trg)\n",
    "    elif i == 2:\n",
    "        circ.rx(np.pi/2, trg)\n",
    "        \n",
    "def change_basis_input(circ, i, trg):\n",
    "    if i == 0:\n",
    "        circ.h(trg)\n",
    "    elif i == 1:\n",
    "        circ.ry(-np.pi/2, trg)\n",
    "    elif i == 2:\n",
    "        circ.rx(np.pi/2, trg)\n",
    "    elif i == 3:\n",
    "        circ.rx(-np.pi/2, trg)\n",
    "    elif i == 5:\n",
    "        circ.x(trg)"
   ]
  },
  {
   "cell_type": "markdown",
   "metadata": {},
   "source": [
    "# 1-Qubit Tomography"
   ]
  },
  {
   "cell_type": "markdown",
   "metadata": {},
   "source": [
    "## Measurement Simulations"
   ]
  },
  {
   "cell_type": "code",
   "execution_count": 339,
   "metadata": {},
   "outputs": [],
   "source": [
    "def example_circ(circ):\n",
    "    circ.ry(-np.pi/2, 0)"
   ]
  },
  {
   "cell_type": "code",
   "execution_count": 340,
   "metadata": {},
   "outputs": [
    {
     "name": "stdout",
     "output_type": "stream",
     "text": [
      "[[ 0.70710678+0.00000000e+00j  0.70710678+8.65956056e-17j]\n",
      " [-0.70710678+8.65956056e-17j  0.70710678+0.00000000e+00j]]\n"
     ]
    }
   ],
   "source": [
    "backend = Aer.get_backend('unitary_simulator')\n",
    "cr = ClassicalRegister(1, 'cr')\n",
    "qr = QuantumRegister(1, 'qr')\n",
    "circ = QuantumCircuit(qr, cr)\n",
    "example_circ(circ)\n",
    "print(execute(circ, backend).result().get_unitary())"
   ]
  },
  {
   "cell_type": "code",
   "execution_count": 331,
   "metadata": {},
   "outputs": [
    {
     "name": "stdout",
     "output_type": "stream",
     "text": [
      "<X> =  1.0\n",
      "<Y> =  -0.0390625\n",
      "<Z> =  -0.052734375\n"
     ]
    }
   ],
   "source": [
    "u = np.zeros((4))\n",
    "u[0] = 1.0\n",
    "\n",
    "\n",
    "backend = Aer.get_backend('qasm_simulator')\n",
    "\n",
    "cr = ClassicalRegister(1, 'cr')\n",
    "qr = QuantumRegister(1, 'qr')\n",
    "circ = QuantumCircuit(qr, cr)\n",
    "example_circ(circ)\n",
    "circ.h(qr[0])\n",
    "circ.measure(qr, cr)\n",
    "job = execute(circ, backend, shots=1024)\n",
    "u[1] =job.result().get_counts(circ).get('0', 0)/1024*(1)+job.result().get_counts(circ).get('1', 0)/1024*(-1)\n",
    "print(\"<X> = \", u[1])\n",
    "\n",
    "cr = ClassicalRegister(1, 'cr')\n",
    "qr = QuantumRegister(1, 'qr')\n",
    "circ = QuantumCircuit(qr, cr)\n",
    "example_circ(circ)\n",
    "circ.rx(np.pi/2, qr[0])\n",
    "circ.measure(qr, cr)\n",
    "job = execute(circ, backend, shots=1024)\n",
    "u[2] =job.result().get_counts(circ).get('0', 0)/1024*(1)+job.result().get_counts(circ).get('1', 0)/1024*(-1)\n",
    "print(\"<Y> = \", u[2])\n",
    "\n",
    "cr = ClassicalRegister(1, 'cr')\n",
    "qr = QuantumRegister(1, 'qr')\n",
    "circ = QuantumCircuit(qr, cr)\n",
    "example_circ(circ)\n",
    "circ.measure(qr, cr)\n",
    "job = execute(circ, backend, shots=1024)\n",
    "u[3] =job.result().get_counts(circ).get('0', 0)/1024*(1)+job.result().get_counts(circ).get('1', 0)/1024*(-1)\n",
    "print(\"<Z> = \", u[3])"
   ]
  },
  {
   "cell_type": "markdown",
   "metadata": {},
   "source": [
    "## Recover the Density Matrix $\\rho$"
   ]
  },
  {
   "cell_type": "code",
   "execution_count": 6,
   "metadata": {},
   "outputs": [
    {
     "name": "stdout",
     "output_type": "stream",
     "text": [
      "[[0.50683594+0.j         0.5       +0.01074219j]\n",
      " [0.5       -0.01074219j 0.49316406+0.j        ]]\n"
     ]
    }
   ],
   "source": [
    "rho = sum([sig[i]*u[i] for i in range(4)])/2\n",
    "print(rho)"
   ]
  },
  {
   "cell_type": "markdown",
   "metadata": {},
   "source": [
    "## Exact Density Matrix"
   ]
  },
  {
   "cell_type": "code",
   "execution_count": 7,
   "metadata": {},
   "outputs": [
    {
     "name": "stdout",
     "output_type": "stream",
     "text": [
      "[[0.5+0.j 0.5+0.j]\n",
      " [0.5+0.j 0.5+0.j]]\n"
     ]
    }
   ],
   "source": [
    "backend = Aer.get_backend('statevector_simulator')\n",
    "cr = ClassicalRegister(1, 'cr')\n",
    "qr = QuantumRegister(1, 'qr')\n",
    "circ = QuantumCircuit(qr, cr)\n",
    "example_circ(circ)\n",
    "job = execute(circ, backend)\n",
    "state = job.result().get_statevector(circ)\n",
    "print(DensityMatrix(state).data)"
   ]
  },
  {
   "cell_type": "markdown",
   "metadata": {},
   "source": [
    "# Multi-qubit Tomography"
   ]
  },
  {
   "cell_type": "code",
   "execution_count": 102,
   "metadata": {},
   "outputs": [],
   "source": [
    "def example_two_qubit_circ(circ, qr):\n",
    "    circ.h(0)\n",
    "    circ = trotter_coupling(circ, qr, [0, 1], 1.0, 1.0)\n",
    "    return circ"
   ]
  },
  {
   "cell_type": "markdown",
   "metadata": {},
   "source": [
    "## 2-qubit"
   ]
  },
  {
   "cell_type": "code",
   "execution_count": 185,
   "metadata": {
    "scrolled": true
   },
   "outputs": [
    {
     "name": "stdout",
     "output_type": "stream",
     "text": [
      "[ 1.          0.51953125 -0.03710938  0.73828125 -0.01757812  0.03515625\n",
      "  0.4765625  -0.00390625 -0.84765625 -0.47265625  0.04101562 -0.81445312\n",
      "  0.28320312  0.58007812 -0.00976562 -0.03125   ]\n"
     ]
    }
   ],
   "source": [
    "u = np.zeros(4**2)\n",
    "u[0] = 1.0\n",
    "shots = 1024\n",
    "\n",
    "backend = Aer.get_backend('qasm_simulator')\n",
    "for itr, (i, j) in enumerate([p for p in itertools.product(list(range(4)), repeat=2)]):\n",
    "    # Due to the indexing convension of qiskit, i corresponds to 1-th qubit and j corresponds to 0-th qubit\n",
    "    if i == 0 and j == 0:\n",
    "        continue\n",
    "    else:\n",
    "        cr = ClassicalRegister(2, 'cr')\n",
    "        qr = QuantumRegister(2, 'qr')\n",
    "        circ = QuantumCircuit(qr, cr)\n",
    "        circ = example_two_qubit_circ(circ, qr)\n",
    "        if i == 0:\n",
    "            # Measure only the 0-th qubit with the basis specified with j\n",
    "            change_basis_measurement(circ, j, 0)\n",
    "            circ.measure(qr[0], cr[0])\n",
    "        else:\n",
    "            if j == 0:\n",
    "                # Measure only the 1-th qubit with the basis specified with i\n",
    "                change_basis_measurement(circ, i, 1)\n",
    "                circ.measure(qr[1], cr[1])\n",
    "            else:\n",
    "                # Measure both of the two qubits with the bases specified with i and j\n",
    "                change_basis_measurement(circ, i, 1)\n",
    "                change_basis_measurement(circ, j, 0)\n",
    "                circ.measure(qr, cr)\n",
    "        job = execute(circ, backend, shots=shots)\n",
    "        u[itr] =job.result().get_counts(circ).get('00', 0)/shots*(1)+job.result().get_counts(circ).get('11', 0)/shots*(1) \\\n",
    "                        +job.result().get_counts(circ).get('01', 0)/shots*(-1)+job.result().get_counts(circ).get('10', 0)/shots*(-1)\n",
    "print(u)"
   ]
  },
  {
   "cell_type": "markdown",
   "metadata": {},
   "source": [
    "## Tomography"
   ]
  },
  {
   "cell_type": "code",
   "execution_count": 84,
   "metadata": {},
   "outputs": [
    {
     "name": "stdout",
     "output_type": "stream",
     "text": [
      "[[ 5.03417969e-01+0.j          2.76367188e-01-0.00683594j\n",
      "  -4.88281250e-03+0.42822266j -4.39453125e-03+0.00537109j]\n",
      " [ 2.76367188e-01+0.00683594j  1.26464844e-01+0.j\n",
      "  -4.88281250e-04+0.21435547j  1.95312500e-03+0.00048828j]\n",
      " [-4.88281250e-03-0.42822266j -4.88281250e-04-0.21435547j\n",
      "   3.74511719e-01+0.j         -1.17187500e-02+0.j        ]\n",
      " [-4.39453125e-03-0.00537109j  1.95312500e-03-0.00048828j\n",
      "  -1.17187500e-02+0.j         -4.39453125e-03+0.j        ]]\n"
     ]
    }
   ],
   "source": [
    "rho = sum([np.kron(sig[i], sig[j])*u[itr] for itr, (i, j) in enumerate([p for p in itertools.product(list(range(4)), repeat=2)])])/2**2\n",
    "print(rho)"
   ]
  },
  {
   "cell_type": "markdown",
   "metadata": {},
   "source": [
    "## Exact Density Matrix"
   ]
  },
  {
   "cell_type": "code",
   "execution_count": 81,
   "metadata": {},
   "outputs": [
    {
     "name": "stdout",
     "output_type": "stream",
     "text": [
      "[[5.00000000e-01+0.j         2.70151153e-01+0.j\n",
      "  2.57626187e-17+0.42073549j 0.00000000e+00+0.j        ]\n",
      " [2.70151153e-01+0.j         1.45963291e-01+0.j\n",
      "  1.39196023e-17+0.22732436j 0.00000000e+00+0.j        ]\n",
      " [2.57626187e-17-0.42073549j 1.39196023e-17-0.22732436j\n",
      "  3.54036709e-01+0.j         0.00000000e+00-0.j        ]\n",
      " [0.00000000e+00+0.j         0.00000000e+00+0.j\n",
      "  0.00000000e+00+0.j         0.00000000e+00+0.j        ]]\n"
     ]
    }
   ],
   "source": [
    "backend = Aer.get_backend('statevector_simulator')\n",
    "cr = ClassicalRegister(2, 'cr')\n",
    "qr = QuantumRegister(2, 'qr')\n",
    "circ = QuantumCircuit(qr, cr)\n",
    "circ = example_two_qubit_circ(circ, qr)\n",
    "job = execute(circ, backend)\n",
    "state = job.result().get_statevector(circ)\n",
    "print(DensityMatrix(state).data)"
   ]
  },
  {
   "cell_type": "markdown",
   "metadata": {},
   "source": [
    "## Compare"
   ]
  },
  {
   "cell_type": "code",
   "execution_count": 85,
   "metadata": {},
   "outputs": [
    {
     "name": "stdout",
     "output_type": "stream",
     "text": [
      "[[0.00341797 0.00923954 0.00893865 0.00693978]\n",
      " [0.00923954 0.01949845 0.01297808 0.00201324]\n",
      " [0.00893865 0.01297808 0.02047501 0.01171875]\n",
      " [0.00693978 0.00201324 0.01171875 0.00439453]]\n"
     ]
    }
   ],
   "source": [
    "print(np.abs(DensityMatrix(state).data - rho))"
   ]
  },
  {
   "cell_type": "markdown",
   "metadata": {},
   "source": [
    "# Construct Noise Model Based on the Machine"
   ]
  },
  {
   "cell_type": "code",
   "execution_count": 94,
   "metadata": {},
   "outputs": [
    {
     "name": "stdout",
     "output_type": "stream",
     "text": [
      "[<AccountProvider for IBMQ(hub='ibm-q', group='open', project='main')>, <AccountProvider for IBMQ(hub='ibm-q-ornl', group='hep-qis', project='brookhaven')>]\n",
      "[<IBMQSimulator('ibmq_qasm_simulator') from IBMQ(hub='ibm-q-ornl', group='hep-qis', project='brookhaven')>, <IBMQBackend('ibmqx2') from IBMQ(hub='ibm-q-ornl', group='hep-qis', project='brookhaven')>, <IBMQBackend('ibmq_16_melbourne') from IBMQ(hub='ibm-q-ornl', group='hep-qis', project='brookhaven')>, <IBMQBackend('ibmq_poughkeepsie') from IBMQ(hub='ibm-q-ornl', group='hep-qis', project='brookhaven')>, <IBMQBackend('ibmq_boeblingen') from IBMQ(hub='ibm-q-ornl', group='hep-qis', project='brookhaven')>, <IBMQBackend('ibmq_vigo') from IBMQ(hub='ibm-q-ornl', group='hep-qis', project='brookhaven')>, <IBMQBackend('ibmq_ourense') from IBMQ(hub='ibm-q-ornl', group='hep-qis', project='brookhaven')>, <IBMQBackend('ibmq_london') from IBMQ(hub='ibm-q-ornl', group='hep-qis', project='brookhaven')>, <IBMQBackend('ibmq_burlington') from IBMQ(hub='ibm-q-ornl', group='hep-qis', project='brookhaven')>, <IBMQBackend('ibmq_johannesburg') from IBMQ(hub='ibm-q-ornl', group='hep-qis', project='brookhaven')>, <IBMQBackend('ibmq_rochester') from IBMQ(hub='ibm-q-ornl', group='hep-qis', project='brookhaven')>, <IBMQBackend('ibmq_essex') from IBMQ(hub='ibm-q-ornl', group='hep-qis', project='brookhaven')>, <IBMQBackend('ibmq_armonk') from IBMQ(hub='ibm-q-ornl', group='hep-qis', project='brookhaven')>, <IBMQBackend('ibmq_cambridge') from IBMQ(hub='ibm-q-ornl', group='hep-qis', project='brookhaven')>]\n"
     ]
    },
    {
     "data": {
      "text/plain": [
       "<IBMQBackend('ibmq_johannesburg') from IBMQ(hub='ibm-q-ornl', group='hep-qis', project='brookhaven')>"
      ]
     },
     "execution_count": 94,
     "metadata": {},
     "output_type": "execute_result"
    }
   ],
   "source": [
    "# Load IBMQ account\n",
    "IBMQ.load_account() # Load account from disk\n",
    "print(IBMQ.providers())    # List all available providers\n",
    "provider = IBMQ.get_provider(hub='ibm-q-ornl', project='brookhaven')\n",
    "print(provider.backends())\n",
    "device_backend = provider.get_backend('ibmq_johannesburg')\n",
    "coupling_map = device_backend.configuration().coupling_map\n",
    "device_backend"
   ]
  },
  {
   "cell_type": "code",
   "execution_count": 96,
   "metadata": {},
   "outputs": [
    {
     "name": "stdout",
     "output_type": "stream",
     "text": [
      "NoiseModel:\n",
      "  Basis gates: ['cx', 'id', 'u2', 'u3']\n",
      "  Instructions with noise: ['cx', 'id', 'u2', 'measure', 'u3']\n",
      "  Qubits with noise: [0, 1, 2, 3, 4, 5, 6, 7, 8, 9, 10, 11, 12, 13, 14, 15, 16, 17, 18, 19]\n",
      "  Specific qubit errors: [('id', [0]), ('id', [1]), ('id', [2]), ('id', [3]), ('id', [4]), ('id', [5]), ('id', [6]), ('id', [7]), ('id', [8]), ('id', [9]), ('id', [10]), ('id', [11]), ('id', [12]), ('id', [13]), ('id', [14]), ('id', [15]), ('id', [16]), ('id', [17]), ('id', [18]), ('id', [19]), ('u2', [0]), ('u2', [1]), ('u2', [2]), ('u2', [3]), ('u2', [4]), ('u2', [5]), ('u2', [6]), ('u2', [7]), ('u2', [8]), ('u2', [9]), ('u2', [10]), ('u2', [11]), ('u2', [12]), ('u2', [13]), ('u2', [14]), ('u2', [15]), ('u2', [16]), ('u2', [17]), ('u2', [18]), ('u2', [19]), ('u3', [0]), ('u3', [1]), ('u3', [2]), ('u3', [3]), ('u3', [4]), ('u3', [5]), ('u3', [6]), ('u3', [7]), ('u3', [8]), ('u3', [9]), ('u3', [10]), ('u3', [11]), ('u3', [12]), ('u3', [13]), ('u3', [14]), ('u3', [15]), ('u3', [16]), ('u3', [17]), ('u3', [18]), ('u3', [19]), ('cx', [0, 1]), ('cx', [0, 5]), ('cx', [1, 0]), ('cx', [1, 2]), ('cx', [2, 1]), ('cx', [2, 3]), ('cx', [3, 2]), ('cx', [3, 4]), ('cx', [4, 3]), ('cx', [4, 9]), ('cx', [5, 0]), ('cx', [5, 6]), ('cx', [5, 10]), ('cx', [6, 5]), ('cx', [6, 7]), ('cx', [7, 6]), ('cx', [7, 8]), ('cx', [7, 12]), ('cx', [8, 7]), ('cx', [8, 9]), ('cx', [9, 4]), ('cx', [9, 8]), ('cx', [9, 14]), ('cx', [10, 5]), ('cx', [10, 11]), ('cx', [10, 15]), ('cx', [11, 10]), ('cx', [11, 12]), ('cx', [12, 7]), ('cx', [12, 11]), ('cx', [12, 13]), ('cx', [13, 12]), ('cx', [13, 14]), ('cx', [14, 9]), ('cx', [14, 13]), ('cx', [14, 19]), ('cx', [15, 10]), ('cx', [15, 16]), ('cx', [16, 15]), ('cx', [16, 17]), ('cx', [17, 16]), ('cx', [17, 18]), ('cx', [18, 17]), ('cx', [18, 19]), ('cx', [19, 14]), ('cx', [19, 18]), ('measure', [0]), ('measure', [1]), ('measure', [2]), ('measure', [3]), ('measure', [4]), ('measure', [5]), ('measure', [6]), ('measure', [7]), ('measure', [8]), ('measure', [9]), ('measure', [10]), ('measure', [11]), ('measure', [12]), ('measure', [13]), ('measure', [14]), ('measure', [15]), ('measure', [16]), ('measure', [17]), ('measure', [18]), ('measure', [19])]\n"
     ]
    }
   ],
   "source": [
    "# Construct the noise model from backend properties\n",
    "noise_model = NoiseModel.from_backend(device_backend)\n",
    "print(noise_model)"
   ]
  },
  {
   "cell_type": "code",
   "execution_count": 105,
   "metadata": {},
   "outputs": [
    {
     "data": {
      "image/png": "[encoded data removed]",
      "text/plain": [
       "<matplotlib.figure.Figure at 0x1b023d8ddd8>"
      ]
     },
     "execution_count": 105,
     "metadata": {},
     "output_type": "execute_result"
    }
   ],
   "source": [
    "# Get the basis gates for the noise model\n",
    "basis_gates = noise_model.basis_gates\n",
    "\n",
    "# Execute noisy simulation and get counts\n",
    "backend = Aer.get_backend('qasm_simulator')\n",
    "cr = ClassicalRegister(2, 'cr')\n",
    "qr = QuantumRegister(2, 'qr')\n",
    "circ = QuantumCircuit(qr, cr)\n",
    "circ = example_two_qubit_circ(circ, qr)\n",
    "circ.measure(qr, cr)\n",
    "result_noise = execute(circ, backend, \n",
    "                       noise_model=noise_model,\n",
    "                       coupling_map=coupling_map,\n",
    "                       basis_gates=basis_gates).result()\n",
    "counts_noise = result_noise.get_counts(circ)\n",
    "plot_histogram(counts_noise)"
   ]
  },
  {
   "cell_type": "code",
   "execution_count": 104,
   "metadata": {},
   "outputs": [
    {
     "data": {
      "image/png": "[encoded data removed]",
      "text/plain": [
       "<matplotlib.figure.Figure at 0x1b0519b8320>"
      ]
     },
     "execution_count": 104,
     "metadata": {},
     "output_type": "execute_result"
    }
   ],
   "source": [
    "result_noise = execute(circ, backend).result()\n",
    "counts_noise = result_noise.get_counts(circ)\n",
    "plot_histogram(counts_noise)"
   ]
  },
  {
   "cell_type": "code",
   "execution_count": 108,
   "metadata": {},
   "outputs": [
    {
     "name": "stdout",
     "output_type": "stream",
     "text": [
      "Status @ 0 seconds\n",
      "JobStatus.INITIALIZING\n",
      "Status @ 30 seconds\n",
      "JobStatus.QUEUED\n",
      "Status @ 60 seconds\n",
      "JobStatus.QUEUED\n",
      "Status @ 90 seconds\n",
      "JobStatus.QUEUED\n",
      "Status @ 120 seconds\n",
      "JobStatus.QUEUED\n",
      "Status @ 150 seconds\n",
      "JobStatus.QUEUED\n",
      "Status @ 180 seconds\n",
      "JobStatus.QUEUED\n",
      "Status @ 210 seconds\n",
      "JobStatus.QUEUED\n",
      "Status @ 240 seconds\n",
      "JobStatus.QUEUED\n",
      "Status @ 270 seconds\n",
      "JobStatus.QUEUED\n",
      "Status @ 300 seconds\n",
      "JobStatus.QUEUED\n",
      "Status @ 330 seconds\n",
      "JobStatus.QUEUED\n",
      "Status @ 360 seconds\n",
      "JobStatus.QUEUED\n",
      "Status @ 390 seconds\n",
      "JobStatus.QUEUED\n",
      "Status @ 420 seconds\n",
      "JobStatus.QUEUED\n",
      "Status @ 450 seconds\n",
      "JobStatus.QUEUED\n",
      "Status @ 480 seconds\n",
      "JobStatus.QUEUED\n",
      "Status @ 510 seconds\n",
      "JobStatus.QUEUED\n",
      "Status @ 540 seconds\n",
      "JobStatus.QUEUED\n",
      "Status @ 570 seconds\n",
      "JobStatus.QUEUED\n",
      "Status @ 600 seconds\n",
      "JobStatus.QUEUED\n",
      "Status @ 630 seconds\n",
      "JobStatus.RUNNING\n",
      "Status @ 660 seconds\n",
      "JobStatus.RUNNING\n",
      "Status @ 690 seconds\n",
      "JobStatus.RUNNING\n",
      "JobStatus.DONE\n"
     ]
    },
    {
     "data": {
      "image/png": "[encoded data removed]",
      "text/plain": [
       "<matplotlib.figure.Figure at 0x188099ffe10>"
      ]
     },
     "execution_count": 108,
     "metadata": {},
     "output_type": "execute_result"
    }
   ],
   "source": [
    "job = execute(circ, device_backend, shots=1024)\n",
    "lapse = 0\n",
    "interval = 30\n",
    "while job.status() != JobStatus.DONE:\n",
    "    print('Status @ {} seconds'.format(interval * lapse))\n",
    "    print(job.status())\n",
    "    time.sleep(interval)\n",
    "    lapse += 1\n",
    "print(job.status())\n",
    "result_device = job_device.result()\n",
    "counts_device = result_noise.get_counts(circ)\n",
    "plot_histogram(counts_device)"
   ]
  },
  {
   "cell_type": "code",
   "execution_count": 112,
   "metadata": {},
   "outputs": [
    {
     "data": {
      "image/png": "[encoded data removed]",
      "text/plain": [
       "<matplotlib.figure.Figure at 0x1880983b588>"
      ]
     },
     "execution_count": 112,
     "metadata": {},
     "output_type": "execute_result"
    }
   ],
   "source": [
    "result_device = job.result()\n",
    "counts_device = result_device.get_counts(circ)\n",
    "plot_histogram(counts_device)"
   ]
  },
  {
   "cell_type": "markdown",
   "metadata": {},
   "source": [
    "# Noise Mitigation"
   ]
  },
  {
   "cell_type": "code",
   "execution_count": 586,
   "metadata": {},
   "outputs": [],
   "source": [
    "def example_circ(circ):\n",
    "    circ = trotter_coupling(circ, qr, [0, 1], 1.0, 1.0, further_opt = False)\n",
    "    return circ"
   ]
  },
  {
   "cell_type": "markdown",
   "metadata": {},
   "source": [
    "# Compute the matrix $S$\n",
    "\n",
    "The matrix $S$ is equivalent to the expectation values of measurements of the exact output state $\\Gamma_U(\\rho)=U\\rho U^\\dagger$ in the Pauli basis.\n",
    "\\begin{align}\n",
    "S_{i, k} = \\langle\\langle{k|R_{\\Gamma_U}|\\rho_i}\\rangle\\rangle = \\langle\\langle{k|U\\rho_iU^\\dagger}\\rangle\\rangle = Tr(P_k U\\rho_iU^\\dagger)\n",
    "\\end{align}"
   ]
  },
  {
   "cell_type": "code",
   "execution_count": 587,
   "metadata": {},
   "outputs": [
    {
     "data": {
      "image/png": "[encoded data removed]",
      "text/plain": [
       "<matplotlib.figure.Figure at 0x1b053bf6400>"
      ]
     },
     "metadata": {
      "needs_background": "light"
     },
     "output_type": "display_data"
    }
   ],
   "source": [
    "backend = Aer.get_backend('unitary_simulator')\n",
    "\n",
    "cr = ClassicalRegister(2, 'cr')\n",
    "qr = QuantumRegister(2, 'qr')\n",
    "circ = QuantumCircuit(qr, cr)\n",
    "circ = example_circ(circ)\n",
    "job = execute(circ, backend)\n",
    "U = job.result().get_unitary()\n",
    "plt.matshow(np.abs(U))\n",
    "plt.show()"
   ]
  },
  {
   "cell_type": "code",
   "execution_count": 588,
   "metadata": {
    "scrolled": true
   },
   "outputs": [
    {
     "data": {
      "image/png": "[encoded data removed]",
      "text/plain": [
       "<matplotlib.figure.Figure at 0x1b052e925c0>"
      ]
     },
     "metadata": {
      "needs_background": "light"
     },
     "output_type": "display_data"
    },
    {
     "data": {
      "image/png": "[encoded data removed]",
      "text/plain": [
       "<matplotlib.figure.Figure at 0x1b051d26da0>"
      ]
     },
     "metadata": {
      "needs_background": "light"
     },
     "output_type": "display_data"
    }
   ],
   "source": [
    "# Compute the 1-qubit states that are bases of X, Y, Z\n",
    "ref1 = [\n",
    "    np.array([1/np.sqrt(2), 1/np.sqrt(2)], dtype=complex),\n",
    "    np.array([1/np.sqrt(2), -1/np.sqrt(2)], dtype=complex),\n",
    "    np.array([1/np.sqrt(2), 1j/np.sqrt(2)], dtype=complex),\n",
    "    np.array([1/np.sqrt(2), -1j/np.sqrt(2)], dtype=complex),\n",
    "    np.array([1, 0], dtype=complex),\n",
    "    np.array([0, 1], dtype=complex)\n",
    "]\n",
    "\n",
    "\n",
    "# Compute the 2-qubit reference states\n",
    "ref = []\n",
    "for itr, (i, j) in enumerate([p for p in itertools.product(list(range(6)), repeat=2)]):\n",
    "    state = np.kron(ref1[i], ref1[j])\n",
    "    ref.append(np.outer(np.conjugate(state), state))\n",
    "\n",
    "S = np.zeros((36, 16), complex)\n",
    "for k, (k1, k2) in enumerate([p for p in itertools.product(list(range(4)), repeat=2)]):\n",
    "    for i in range(36):\n",
    "        S[i, k] = np.trace(matmul([np.kron(sig[k1], sig[k2]), U, ref[i], np.conjugate(U).T]))/np.sqrt(4)\n",
    "plt.matshow(np.abs(S))\n",
    "plt.show()\n",
    "S_H = np.conjugate(S).T\n",
    "SS = np.matmul(S_H, S)\n",
    "SS_inv = np.linalg.inv(SS)\n",
    "plt.matshow(np.abs(SS_inv))\n",
    "plt.show()"
   ]
  },
  {
   "cell_type": "markdown",
   "metadata": {},
   "source": [
    "## Compute the PTM of $\\epsilon$\n",
    "\\begin{equation}\n",
    "\\langle\\langle{k|R_\\epsilon|l}\\rangle\\rangle = ((S^\\dagger S)^{-1}S^\\dagger P)^T_{k, l}\n",
    "\\end{equation}"
   ]
  },
  {
   "cell_type": "code",
   "execution_count": 589,
   "metadata": {
    "scrolled": true
   },
   "outputs": [
    {
     "name": "stdout",
     "output_type": "stream",
     "text": [
      "[[ 0.5         0.26953125  0.01171875 -0.01269531  0.23632812  0.43457031\n",
      "  -0.00585938  0.0234375   0.01660156 -0.03320312  0.00878906 -0.35449219\n",
      "   0.01464844  0.01367188 -0.34667969  0.015625  ]\n",
      " [ 0.5        -0.24023438 -0.00390625  0.02441406  0.25097656 -0.4375\n",
      "  -0.0234375  -0.00976562  0.01367188 -0.01757812 -0.04296875  0.37207031\n",
      "   0.00097656 -0.02441406 -0.35742188  0.00390625]\n",
      " [ 0.5        -0.00292969 -0.24316406 -0.22167969  0.24414062  0.00488281\n",
      "  -0.12304688 -0.37109375  0.015625   -0.28222656  0.00585938  0.\n",
      "   0.19824219 -0.01074219 -0.34765625 -0.00976562]\n",
      " [ 0.5         0.00683594  0.23828125  0.20703125  0.22949219  0.00488281\n",
      "   0.11425781  0.35351562  0.0390625   0.29394531  0.015625   -0.00683594\n",
      "  -0.20019531  0.00683594 -0.35253906  0.01269531]\n",
      " [ 0.5         0.01171875 -0.375       0.14746094  0.25683594  0.01367188\n",
      "  -0.20410156  0.23339844  0.01171875  0.21386719 -0.01171875 -0.00390625\n",
      "   0.32714844 -0.00292969 -0.3515625  -0.00292969]\n",
      " [ 0.5         0.02246094  0.39257812 -0.12988281  0.27832031  0.01269531\n",
      "   0.20214844 -0.24316406  0.02050781 -0.20507812  0.         -0.02734375\n",
      "  -0.3046875  -0.01855469 -0.35449219 -0.0078125 ]\n",
      " [ 0.5         0.2265625   0.02832031 -0.00976562 -0.21679688 -0.42089844\n",
      "   0.0234375   0.          0.02734375  0.00195312  0.02441406 -0.35742188\n",
      "   0.02246094 -0.00097656  0.36523438  0.00683594]\n",
      " [ 0.5        -0.25292969  0.00976562  0.01855469 -0.23632812  0.40917969\n",
      "  -0.02441406 -0.01855469  0.015625   -0.01953125  0.00585938  0.34863281\n",
      "   0.00683594  0.0078125   0.35839844  0.02832031]\n",
      " [ 0.5         0.03613281 -0.22070312  0.24121094 -0.23339844  0.02636719\n",
      "   0.08398438 -0.36816406  0.04101562  0.31933594  0.01074219  0.00683594\n",
      "  -0.17285156 -0.01269531  0.33007812 -0.01464844]\n",
      " [ 0.5         0.00292969  0.23242188 -0.19335938 -0.21191406 -0.02734375\n",
      "  -0.10351562  0.35546875  0.03125    -0.30175781  0.00976562  0.00585938\n",
      "   0.20800781  0.00683594  0.37207031  0.02246094]\n",
      " [ 0.5         0.00195312  0.38964844  0.12988281 -0.21875     0.02734375\n",
      "  -0.20605469 -0.21484375 -0.00683594  0.203125    0.02148438 -0.01074219\n",
      "   0.328125   -0.05957031  0.33886719  0.00683594]\n",
      " [ 0.5         0.02246094 -0.3671875  -0.11621094 -0.22265625  0.00976562\n",
      "   0.18066406  0.2265625   0.02246094 -0.15820312 -0.02539062  0.01074219\n",
      "  -0.31347656 -0.0078125   0.35351562 -0.00097656]\n",
      " [ 0.5         0.27148438  0.          0.20214844 -0.00683594  0.03320312\n",
      "  -0.28808594  0.01464844 -0.234375   -0.11523438 -0.01171875 -0.35058594\n",
      "  -0.20019531 -0.36132812  0.01367188  0.01074219]\n",
      " [ 0.5        -0.23925781  0.01464844 -0.1953125   0.01855469  0.00488281\n",
      "   0.31347656 -0.02050781 -0.21777344  0.1015625  -0.01074219  0.34960938\n",
      "   0.19433594 -0.36523438  0.          0.00585938]\n",
      " [ 0.5         0.00683594 -0.22363281  0.02832031  0.02441406  0.0078125\n",
      "   0.00097656 -0.34570312 -0.23730469 -0.00878906  0.40039062 -0.01464844\n",
      "   0.01367188 -0.34277344 -0.00976562  0.01757812]\n",
      " [ 0.5         0.00390625  0.25488281 -0.00976562 -0.015625   -0.00292969\n",
      "  -0.02539062  0.36230469 -0.24511719 -0.04785156 -0.41796875  0.01074219\n",
      "  -0.00195312 -0.34277344 -0.02441406 -0.00585938]\n",
      " [ 0.5        -0.3671875   0.02734375  0.140625   -0.00292969 -0.03222656\n",
      "  -0.17871094  0.00976562 -0.17675781  0.19628906  0.0078125  -0.20898438\n",
      "   0.328125   -0.375       0.02050781 -0.03027344]\n",
      " [ 0.5         0.39648438 -0.01074219 -0.11523438  0.00390625  0.00976562\n",
      "   0.1796875  -0.02246094 -0.22949219 -0.171875   -0.00390625  0.21972656\n",
      "  -0.3046875  -0.33496094 -0.01074219  0.00097656]\n",
      " [ 0.5         0.25390625  0.02050781 -0.20996094  0.01660156  0.0234375\n",
      "   0.29394531 -0.02050781  0.22851562  0.13671875  0.01074219 -0.36621094\n",
      "   0.22753906  0.36425781  0.02148438  0.01171875]\n",
      " [ 0.5        -0.24316406  0.0078125   0.234375    0.01074219 -0.02832031\n",
      "  -0.30664062 -0.00488281  0.24414062 -0.12011719 -0.00878906  0.36816406\n",
      "  -0.19628906  0.359375    0.00488281 -0.02539062]\n",
      " [ 0.5         0.02441406 -0.23925781  0.01269531  0.01074219  0.00195312\n",
      "   0.         -0.37792969  0.24707031 -0.00585938 -0.41601562  0.\n",
      "   0.02148438  0.3515625  -0.01269531  0.03320312]\n",
      " [ 0.5         0.00488281  0.23828125 -0.01367188  0.0234375  -0.01074219\n",
      "   0.01074219  0.35839844  0.25585938 -0.00585938  0.44726562  0.00976562\n",
      "   0.00683594  0.35253906  0.0234375  -0.00683594]\n",
      " [ 0.5         0.39355469  0.0078125   0.12207031  0.04003906 -0.01269531\n",
      "  -0.18652344  0.01757812  0.24121094  0.17480469  0.04296875  0.20898438\n",
      "   0.33105469  0.36816406 -0.02050781  0.02832031]\n",
      " [ 0.5        -0.37988281  0.00976562 -0.14453125  0.015625    0.\n",
      "   0.17089844  0.0078125   0.24902344 -0.18652344  0.00585938 -0.21289062\n",
      "  -0.3125      0.35449219 -0.00488281 -0.00585938]\n",
      " [ 0.5         0.26269531 -0.01367188  0.32519531  0.00195312  0.02636719\n",
      "   0.18847656 -0.00195312 -0.37304688 -0.18164062 -0.00683594 -0.35253906\n",
      "   0.13769531  0.24414062  0.01855469  0.00097656]\n",
      " [ 0.5        -0.24804688 -0.00976562  0.35058594  0.          0.0234375\n",
      "   0.1875     -0.00585938  0.37988281 -0.19921875 -0.00195312  0.36621094\n",
      "   0.15332031 -0.22949219  0.00097656 -0.00195312]\n",
      " [ 0.5         0.         -0.23242188  0.3359375  -0.37109375  0.00195312\n",
      "   0.21289062 -0.34179688  0.00878906 -0.18554688 -0.00390625  0.02636719\n",
      "   0.14355469 -0.00097656 -0.24316406 -0.0078125 ]\n",
      " [ 0.5        -0.01171875  0.25488281  0.35253906  0.37011719  0.00390625\n",
      "   0.20410156  0.36328125 -0.015625   -0.19335938  0.          0.00585938\n",
      "   0.12207031  0.00488281  0.22363281  0.01757812]\n",
      " [ 0.5         0.00488281  0.00195312  0.46582031 -0.01269531  0.01757812\n",
      "   0.00195312  0.00097656  0.02539062  0.00390625 -0.00976562 -0.00976562\n",
      "   0.46972656  0.02148438 -0.00390625  0.45898438]\n",
      " [ 0.5         0.01171875  0.00976562  0.1640625   0.015625    0.01171875\n",
      "   0.37011719  0.00292969  0.02246094 -0.375      -0.01660156 -0.00292969\n",
      "  -0.19238281 -0.0234375   0.0078125  -0.42773438]\n",
      " [ 0.5         0.26367188  0.00390625 -0.31835938  0.00292969 -0.00097656\n",
      "  -0.20117188  0.01464844  0.38476562  0.22070312  0.00683594 -0.37597656\n",
      "  -0.09179688 -0.22265625  0.01171875  0.02050781]\n",
      " [ 0.5        -0.24316406  0.0234375  -0.32519531  0.02539062  0.00488281\n",
      "  -0.17578125 -0.00585938 -0.35644531  0.20117188 -0.01757812  0.32910156\n",
      "  -0.11621094  0.22460938 -0.00488281  0.00195312]\n",
      " [ 0.5         0.02246094 -0.20898438 -0.34082031  0.375      -0.0078125\n",
      "  -0.19042969 -0.34570312  0.01660156  0.18261719 -0.00585938 -0.00683594\n",
      "  -0.10839844 -0.00488281  0.22558594  0.00195312]\n",
      " [ 0.5        -0.01171875  0.26171875 -0.30371094 -0.37207031  0.02539062\n",
      "  -0.19433594  0.3359375  -0.00390625  0.20019531  0.00195312  0.00097656\n",
      "  -0.10839844 -0.00097656 -0.21191406  0.00390625]\n",
      " [ 0.5         0.00585938 -0.00292969 -0.19042969 -0.00292969 -0.00488281\n",
      "  -0.39453125  0.00195312  0.01464844  0.38085938  0.01855469 -0.01367188\n",
      "   0.21191406 -0.00878906 -0.02246094 -0.44140625]\n",
      " [ 0.5         0.01074219  0.03613281 -0.45019531  0.00683594  0.00683594\n",
      "   0.00097656 -0.00585938  0.         -0.00390625 -0.00976562 -0.02050781\n",
      "  -0.44042969  0.00097656 -0.00488281  0.41113281]]\n"
     ]
    }
   ],
   "source": [
    "def expectation(counts, shots):\n",
    "    return counts.get('00', 0)/shots*(1)+counts.get('11', 0)/shots*(1) \\\n",
    "                    +counts.get('01', 0)/shots*(-1)+counts.get('10', 0)/shots*(-1)\n",
    "noise_model = NoiseModel.from_backend(device_backend)\n",
    "shots = 1024\n",
    "backend = Aer.get_backend('qasm_simulator')\n",
    "P_S = np.zeros((36, 16))\n",
    "for i, (i1, i2) in enumerate([p for p in itertools.product(list(range(6)), repeat=2)]): \n",
    "    # the input state rho_i = |i1>|i2> where |i1>, |i2> \\in {|0>, |1>, |+>, |->, |R>, |L>}\n",
    "    for j, (j1, j2) in enumerate([p for p in itertools.product(list(range(4)), repeat=2)]):\n",
    "        if j == 0:\n",
    "            P_S[i, j] = 1.0\n",
    "            continue\n",
    "        else:\n",
    "            cr = ClassicalRegister(2, 'cr')\n",
    "            qr = QuantumRegister(2, 'qr')\n",
    "            circ = QuantumCircuit(qr, cr)\n",
    "            change_basis_input(circ, i1, 1)\n",
    "            change_basis_input(circ, i2, 0)\n",
    "            circ = example_circ(circ)\n",
    "            if j1 == 0:\n",
    "                # Measure only the 0-th  with the basis specified with j\n",
    "                change_basis_measurement(circ, j2, 0)\n",
    "                circ.measure(qr[0], cr[0])\n",
    "            else:\n",
    "                if j2 == 0:\n",
    "                    # Measure only the 1-th qubit with the basis specified with i\n",
    "                    change_basis_measurement(circ, j1, 1)\n",
    "                    circ.measure(qr[1], cr[1])\n",
    "                else:\n",
    "                    # Measure both of the two qubits with the bases specified with i and j\n",
    "                    change_basis_measurement(circ, j1, 1)\n",
    "                    change_basis_measurement(circ, j2, 0)\n",
    "                    circ.measure(qr, cr)\n",
    "            job = execute(circ, backend, \n",
    "                       noise_model=noise_model,\n",
    "                       coupling_map=coupling_map,\n",
    "                       basis_gates=basis_gates,\n",
    "                       shots = shots)\n",
    "            P_S[i, j] =expectation(job.result().get_counts(circ), shots)\n",
    "    \n",
    "P_S /= np.sqrt(4)\n",
    "print(P_S)"
   ]
  },
  {
   "cell_type": "code",
   "execution_count": 590,
   "metadata": {},
   "outputs": [
    {
     "name": "stdout",
     "output_type": "stream",
     "text": [
      "(1.0000000000000002-3.08395284618099e-18j)\n"
     ]
    },
    {
     "data": {
      "image/png": "[encoded data removed]",
      "text/plain": [
       "<matplotlib.figure.Figure at 0x1b052e92550>"
      ]
     },
     "metadata": {
      "needs_background": "light"
     },
     "output_type": "display_data"
    }
   ],
   "source": [
    "ptm_eps = matmul([SS_inv, S_H, P_S]).T\n",
    "print(ptm_eps[0, 0])\n",
    "plt.matshow(np.abs(ptm_eps))\n",
    "plt.show()"
   ]
  },
  {
   "cell_type": "markdown",
   "metadata": {},
   "source": [
    "## The inner product between Paulis and reference states \n",
    "\\begin{align}\n",
    "\\langle\\langle l|\\rho_i \\rangle\\rangle = \\frac{1}{\\sqrt{d}}Tr(P_l \\rho_i)\n",
    "\\end{align}\n",
    "For the reference state $\\rho_i$, which must be some physical states of at least 16, we choose $\\{|0\\rangle, |1\\rangle, |+\\rangle, |-\\rangle, |R\\rangle, |L\\rangle\\}^{\\otimes 2}$.  "
   ]
  },
  {
   "cell_type": "code",
   "execution_count": 399,
   "metadata": {
    "scrolled": true
   },
   "outputs": [
    {
     "data": {
      "image/png": "[encoded data removed]",
      "text/plain": [
       "<matplotlib.figure.Figure at 0x1b05328d518>"
      ]
     },
     "metadata": {
      "needs_background": "light"
     },
     "output_type": "display_data"
    }
   ],
   "source": [
    "inn_mrho = np.zeros((16, 36), dtype=complex)\n",
    "for l, (l1, l2) in enumerate([p for p in itertools.product(list(range(4)), repeat=2)]):\n",
    "    for i in range(36):\n",
    "        inn_mrho[l, i] = np.trace(np.matmul(np.kron(sig[l1], sig[l2]), ref[i]))/np.sqrt(4)\n",
    "plt.matshow(np.abs(inn_mrho))\n",
    "plt.show()"
   ]
  },
  {
   "cell_type": "markdown",
   "metadata": {},
   "source": [
    "## Compute the matrix $T$\n",
    "The matrix $T$ is given as \n",
    "\\begin{align}\n",
    "T_{i, k} = \\sum_l \\langle\\langle{k|R_\\epsilon|l}\\rangle\\rangle\\langle\\langle{l|\\rho_i}\\rangle\\rangle\n",
    "\\end{align}"
   ]
  },
  {
   "cell_type": "code",
   "execution_count": 591,
   "metadata": {},
   "outputs": [
    {
     "data": {
      "image/png": "[encoded data removed]",
      "text/plain": [
       "<matplotlib.figure.Figure at 0x1b052e08748>"
      ]
     },
     "metadata": {
      "needs_background": "light"
     },
     "output_type": "display_data"
    }
   ],
   "source": [
    "T = matmul([ptm_eps, inn_mrho]).T\n",
    "T_H = np.conjugate(T).T\n",
    "TT = np.matmul(T_H, T)\n",
    "TT_inv = np.linalg.inv(TT)#+1e-12*np.eye(16))\n",
    "plt.matshow(np.abs(TT_inv))\n",
    "plt.show()"
   ]
  },
  {
   "cell_type": "markdown",
   "metadata": {},
   "source": [
    "## Compute the PTM of $\\epsilon^{-1}$\n",
    "\\begin{equation}\n",
    "\\langle\\langle{j|R_{\\epsilon^{-1}}|k}\\rangle\\rangle = ((T^\\dagger T)^{-1}T^\\dagger P)^T_{j, k}\n",
    "\\end{equation}"
   ]
  },
  {
   "cell_type": "code",
   "execution_count": 592,
   "metadata": {
    "scrolled": true
   },
   "outputs": [
    {
     "name": "stdout",
     "output_type": "stream",
     "text": [
      "[[ 1.00000000e+00+3.21732582e-18j  1.73472348e-17+7.78731555e-19j\n",
      "   1.73472348e-17+6.53749276e-19j  2.08166817e-16+2.10377118e-19j\n",
      "  -1.50053581e-16-3.70003068e-19j -2.94902991e-17-1.59833430e-17j\n",
      "  -2.12503626e-17+3.93153358e-19j -5.26922256e-17-3.10546785e-19j\n",
      "   7.84149221e-17+2.97755580e-19j  2.02962647e-16+5.99455392e-19j\n",
      "   7.37257477e-18-1.65289045e-17j  1.86482774e-17-3.07566465e-19j\n",
      "   1.80411242e-16+1.39527211e-19j -1.60461922e-17+9.72866729e-20j\n",
      "  -2.77555756e-17-1.77213757e-20j  0.00000000e+00-7.26341392e-20j]\n",
      " [-1.82387211e-02-1.87422829e-20j  1.08982252e+00-2.17071985e-20j\n",
      "   1.44662038e-02-1.95040291e-20j -9.70934367e-03+5.84124556e-20j\n",
      "  -1.54445436e-02+4.77395433e-21j -2.03799374e-02+3.36972603e-19j\n",
      "  -1.34586668e-03+1.02735574e-19j  1.33066414e-02+5.65269373e-21j\n",
      "   3.19837904e-03-5.59210714e-21j -1.74911856e-02-1.22050703e-19j\n",
      "   1.16584894e-02+3.72366890e-19j  1.06125630e-02+1.32191602e-21j\n",
      "   2.19374872e-02-7.30337145e-20j  2.33451872e-03-1.50064934e-21j\n",
      "  -2.80588079e-03-1.47516435e-21j  1.33834642e-03+1.68229331e-19j]\n",
      " [-2.08252266e-02+3.27641219e-21j  2.09620019e-02+7.13309858e-21j\n",
      "   1.11387678e+00+1.67161233e-20j  1.41349449e-02-2.38934123e-20j\n",
      "  -3.14663356e-03-8.34879989e-24j  1.30794560e-03+2.02171714e-19j\n",
      "  -9.81369414e-03-4.45471046e-20j  1.67409720e-02-5.56854580e-22j\n",
      "   9.97212410e-03+1.29093630e-20j -2.79745451e-02+4.18182940e-20j\n",
      "   1.75110717e-03-4.45580791e-19j  1.59635464e-02+3.75619432e-22j\n",
      "   1.08544671e-02+3.33562255e-20j -1.27762045e-03+5.41210392e-21j\n",
      "  -1.53686675e-02+7.49624991e-21j -1.99786778e-02-6.36742239e-20j]\n",
      " [-1.26677706e-02-2.96150018e-18j  7.79757692e-03+7.48503570e-19j\n",
      "   1.74466755e-02+6.28216748e-19j  1.07779832e+00+2.26242611e-19j\n",
      "   1.61748522e-02-3.57675405e-19j  5.30051698e-03-1.53938678e-17j\n",
      "  -5.01589074e-03+4.20322092e-19j -6.98818148e-03-2.99581196e-19j\n",
      "  -1.02728035e-02+2.87566275e-19j -1.04009814e-02+5.36612364e-19j\n",
      "  -7.81581936e-03-1.59307669e-17j -2.78235379e-02-2.98330012e-19j\n",
      "   9.38110342e-03+1.08395592e-19j  1.95236251e-02+9.41214465e-20j\n",
      "  -2.70932683e-03-1.75526152e-20j -2.72451349e-02-7.55559507e-21j]\n",
      " [-2.12172231e-02-6.03098756e-21j -1.21889887e-02-2.92823220e-20j\n",
      "  -9.68806050e-03-2.10059948e-20j  2.50827931e-02-9.47672803e-21j\n",
      "   1.13455855e+00+1.44491356e-20j  2.40497884e-02+7.09525991e-19j\n",
      "  -9.05306878e-03-1.84132092e-20j  1.45584011e-02+1.21258265e-20j\n",
      "   2.80192466e-03-7.35018718e-21j  1.17985205e-02-2.20535764e-20j\n",
      "  -3.60637649e-02+5.09237876e-19j -1.89566479e-02+1.18391335e-20j\n",
      "  -1.10310521e-02-2.06846946e-21j -2.58201708e-02-1.94942947e-21j\n",
      "  -5.66190499e-03+3.09834522e-21j  1.19964603e-02-1.39732933e-23j]\n",
      " [-1.05269091e-02+1.21462450e-17j -2.86932201e-02-8.47145347e-19j\n",
      "  -4.75832568e-03-7.06617290e-19j -1.57066999e-02-5.20709690e-20j\n",
      "   1.64876157e-02+3.88186797e-19j  1.17480519e+00+1.73304389e-17j\n",
      "  -3.32056784e-02-1.16945097e-19j  1.38434406e-02+3.30423547e-19j\n",
      "   9.84784995e-03-3.07541712e-19j -2.02917651e-02-9.46594161e-19j\n",
      "   1.12978491e-03+1.74768576e-17j  1.27555028e-02+3.14863951e-19j\n",
      "   1.14923756e-02-3.38554411e-19j  5.66496634e-03-9.85366052e-20j\n",
      "   1.37875927e-02+1.93008580e-20j -1.08421104e-02+5.39123870e-19j]\n",
      " [ 6.18581468e-03-5.93981032e-18j -3.42929222e-03+1.50097845e-18j\n",
      "  -1.10966510e-02+1.27147031e-18j  1.64965284e-02+5.07090820e-19j\n",
      "   3.04770662e-03-7.20407032e-19j  2.33741335e-02-3.05783719e-17j\n",
      "   1.19630012e+00+9.34243503e-19j  2.35929183e-03-6.01896191e-19j\n",
      "   1.87166461e-02+5.92996487e-19j  3.26072344e-02+9.81061179e-19j\n",
      "  -2.78137497e-02-3.24316216e-17j  8.02771369e-03-6.03917982e-19j\n",
      "  -2.73432242e-02+1.65295112e-19j -5.57690807e-03+1.96008574e-19j\n",
      "   3.83391047e-03-2.82492783e-20j -1.89294163e-02+1.27638536e-19j]\n",
      " [ 3.71690141e-03-1.25927054e-21j  1.62985051e-03-1.65868117e-20j\n",
      "   2.13423809e-03-1.34821471e-20j -2.37904863e-02-1.17436944e-20j\n",
      "  -1.40806651e-02+8.54064165e-21j -9.56616786e-03+3.61602448e-19j\n",
      "   3.20434901e-02-2.12928099e-20j  1.17827794e+00+6.98551173e-21j\n",
      "  -6.34647049e-03-6.31942612e-21j  5.42342624e-03-1.04033332e-21j\n",
      "  -1.94603207e-02+3.52433272e-19j  2.80505450e-02+7.37861986e-21j\n",
      "   6.35772113e-04+4.96628292e-21j  9.56667255e-03-2.06300481e-21j\n",
      "  -7.39032956e-03+8.00240911e-22j  6.27253741e-03-1.71230177e-20j]\n",
      " [-3.09833689e-02+3.95910190e-21j  3.48850949e-02+1.28263321e-20j\n",
      "   1.50169544e-02-2.17160234e-20j -9.73218249e-03+4.85906552e-20j\n",
      "   2.88095670e-03-1.35566545e-20j  4.67140654e-03-1.28257887e-18j\n",
      "  -4.30107751e-03+9.39530781e-20j -1.47675181e-03-1.05669605e-20j\n",
      "   1.13499617e+00-2.80460638e-20j -1.99348358e-02-4.55607546e-20j\n",
      "  -1.00357072e-02+6.85238315e-19j  1.68604296e-02-1.10224090e-20j\n",
      "   6.89701445e-03-5.95497433e-20j  1.35539628e-02-1.30329481e-20j\n",
      "  -1.15146965e-03-2.29121094e-20j  7.17492942e-03+1.03870206e-19j]\n",
      " [-2.25202389e-03+5.74796928e-18j -5.25675528e-03-1.77176970e-18j\n",
      "   4.15566359e-02-1.50230772e-18j -2.26025969e-03+2.77107946e-20j\n",
      "   2.41651466e-02+7.97644447e-19j  2.76398496e-02+3.53664702e-17j\n",
      "   5.75080754e-03+2.33060034e-21j -6.06999056e-03+6.82383392e-19j\n",
      "  -4.79451213e-03-6.61427064e-19j  1.18933619e+00-2.19091765e-18j\n",
      "  -2.79767843e-02+3.70655437e-17j  1.93037702e-02+6.42517109e-19j\n",
      "   1.21821753e-02-8.64184966e-19j -7.21240608e-03-2.14162284e-19j\n",
      "  -5.22959054e-03+2.15738832e-20j  3.11255494e-03+1.47281932e-18j]\n",
      " [ 9.16373449e-04+1.22170161e-17j -2.74203021e-02-7.75253449e-19j\n",
      "  -4.23492743e-02-6.69817673e-19j  5.47430995e-04-2.36687517e-19j\n",
      "   1.01739152e-02+3.68489603e-19j -2.30839410e-02+1.53747877e-17j\n",
      "   4.87599328e-03-4.34862595e-19j  8.53381361e-03+3.08365892e-19j\n",
      "  -3.13034006e-02-3.19124993e-19j -2.29035482e-02-5.40666298e-19j\n",
      "   1.18990330e+00+1.71230009e-17j  9.40699672e-03+3.08731761e-19j\n",
      "  -2.15463707e-02-1.17817857e-19j -1.26752099e-02-1.06941645e-19j\n",
      "  -1.25106330e-02+5.34407928e-21j  1.60759517e-02-5.33658231e-21j]\n",
      " [ 2.61407150e-03+2.30237633e-20j  3.60341574e-02+1.19193632e-20j\n",
      "   2.37329907e-02+1.01233952e-20j -2.55963883e-02-8.38474974e-20j\n",
      "   1.92161881e-02+1.65788005e-21j  1.43393060e-02-1.45891650e-19j\n",
      "   3.87255711e-03-1.47597988e-19j -1.90068982e-02-8.55613866e-22j\n",
      "  -7.68661594e-03-8.95628077e-22j  2.27651935e-02+1.52815884e-19j\n",
      "   1.08499740e-02-8.10582172e-20j  1.20367836e+00+5.07073032e-21j\n",
      "   1.89913421e-03+9.51152717e-20j  3.48067763e-03-9.44804119e-22j\n",
      "   5.60975738e-03+1.30828724e-21j  9.60625334e-03-2.26843223e-19j]\n",
      " [-2.43234665e-02+2.94838385e-18j -1.34386776e-02-7.91444511e-19j\n",
      "   1.22780866e-03-6.65666712e-19j -1.03297888e-04-2.11725286e-19j\n",
      "   1.58876128e-02+3.75727509e-19j  1.11258190e-03+1.62048216e-17j\n",
      "   5.82718570e-03-3.95589642e-19j  1.63840106e-02+3.15391666e-19j\n",
      "  -2.68248719e-02-3.03856334e-19j -3.03731333e-02-6.11955194e-19j\n",
      "  -7.02052594e-04+1.68347144e-17j  8.05124140e-03+3.12319207e-19j\n",
      "   1.12078591e+00-1.44556173e-19j  4.85800472e-03-9.94255379e-20j\n",
      "  -1.26031801e-04+1.71376772e-20j -6.54981729e-03+7.87719528e-20j]\n",
      " [ 4.87079044e-03+3.21374994e-20j -3.38601113e-02+4.81730376e-20j\n",
      "   3.15737116e-02+4.42224266e-20j -5.43037650e-06-9.19928658e-20j\n",
      "  -4.07879704e-03-1.36473102e-20j -3.08832985e-02-7.60964191e-19j\n",
      "  -5.86448352e-03-1.61828330e-19j -3.49122437e-02-1.41247148e-20j\n",
      "   4.05595554e-03+1.58589745e-20j  6.54915501e-03+2.08184877e-19j\n",
      "  -9.85896767e-04-9.32620906e-19j -7.94219293e-03-7.13346656e-21j\n",
      "   1.81388822e-03+1.22301730e-19j  1.17885483e+00+4.86742177e-21j\n",
      "   5.19889861e-03+3.25612827e-21j -3.75600658e-02-2.75395675e-19j]\n",
      " [-5.34931193e-04-1.41124752e-20j  1.82724465e-02-1.79517542e-20j\n",
      "   2.43736244e-03-2.85946484e-21j  1.41686837e-02+2.11468985e-20j\n",
      "   1.33725548e-03+7.72892755e-21j -7.58596324e-04+7.04633428e-19j\n",
      "   3.82515452e-03+3.38342062e-20j -2.49128907e-02+7.29135667e-21j\n",
      "  -1.17464114e-03+8.27681243e-21j  2.82160667e-02-6.38879487e-20j\n",
      "  -3.60673157e-02-6.55964151e-20j  3.40538005e-02+4.50617764e-21j\n",
      "  -1.04951470e-02-2.58196989e-20j -4.49671860e-03+4.48814153e-21j\n",
      "   1.19480245e+00+8.17126094e-21j -4.45898304e-03+7.35777290e-20j]\n",
      " [-6.63525695e-03-3.14873946e-18j -4.09407934e-02-6.94075132e-19j\n",
      "  -5.43201240e-03-5.81913482e-19j  4.61222182e-03-4.12695372e-19j\n",
      "  -8.67804610e-03+3.48767516e-19j -2.24677114e-02+1.45150334e-17j\n",
      "  -1.13810962e-02-7.47831942e-19j -4.02906731e-03+2.86916867e-19j\n",
      "  -1.30242679e-02-2.78978560e-19j  5.36365631e-04-1.63053151e-19j\n",
      "   1.19548101e-02+1.51617589e-17j -1.55818890e-02+2.99433881e-19j\n",
      "  -2.47998634e-02+1.16315502e-19j -1.40003533e-03-9.27781916e-20j\n",
      "  -1.61077367e-02+2.01918530e-20j  1.15032362e+00-5.18915455e-19j]]\n"
     ]
    }
   ],
   "source": [
    "ptm_eps_inv = matmul([TT_inv, T_H, inn_mrho.T]).T\n",
    "print(ptm_eps_inv)"
   ]
  },
  {
   "cell_type": "markdown",
   "metadata": {},
   "source": [
    "## Compute the matrix $\\Sigma = Tr[P_k P_i P_l P_j]$ to recover the process matrix from the PTM\n",
    "One may recover the process matrix by\n",
    "\\begin{align}\n",
    "\\vec{\\chi} = \\Sigma^{-1}\\vec{m}\n",
    "\\end{align}\n",
    "where $\\vec{\\chi}_{i+j(d-1)} = \\chi_{ij}$ and $\\vec{m}_{k+l(d-1)} = \\langle\\langle k|R_{\\epsilon^{-1}}|l \\rangle\\rangle$. "
   ]
  },
  {
   "cell_type": "code",
   "execution_count": 356,
   "metadata": {},
   "outputs": [
    {
     "data": {
      "image/png": "[encoded data removed]",
      "text/plain": [
       "<matplotlib.figure.Figure at 0x1b0532a0c18>"
      ]
     },
     "metadata": {
      "needs_background": "light"
     },
     "output_type": "display_data"
    }
   ],
   "source": [
    "SigMat = np.zeros([256, 256], dtype=complex)\n",
    "for itr1, (i1, i2) in enumerate([p for p in itertools.product(list(range(4)), repeat=2)]):\n",
    "    for itr2, (j1, j2) in enumerate([p for p in itertools.product(list(range(4)), repeat=2)]):\n",
    "        for itr3, (k1, k2) in enumerate([p for p in itertools.product(list(range(4)), repeat=2)]):\n",
    "            for itr4, (l1, l2) in enumerate([p for p in itertools.product(list(range(4)), repeat=2)]):\n",
    "                P_i = np.kron(sig[i1], sig[i2])\n",
    "                P_j = np.kron(sig[j1], sig[j2])\n",
    "                P_k = np.kron(sig[k1], sig[k2])\n",
    "                P_l = np.kron(sig[l1], sig[l2])\n",
    "                SigMat[itr1+itr2*16, itr3+itr4*16] = np.trace(np.matmul(P_k, np.matmul(P_i, np.matmul(P_l, P_j))))/4\n",
    "plt.matshow(np.abs(SigMat))\n",
    "plt.show()"
   ]
  },
  {
   "cell_type": "code",
   "execution_count": 593,
   "metadata": {},
   "outputs": [
    {
     "name": "stdout",
     "output_type": "stream",
     "text": [
      "(0.9999999999999996+3.2173258203587483e-18j)\n",
      "[ 1.14550752e+00+2.24896058e-18j -1.76125951e-02+2.37711848e-20j\n",
      " -9.85460567e-03+3.93702480e-19j -2.04551573e-02-1.90164107e-18j\n",
      " -2.48275901e-02+4.66626211e-19j -3.27076743e-03+2.39576867e-18j\n",
      "  3.58539880e-04-2.06360563e-18j -2.56606775e-03+5.23050440e-20j\n",
      " -2.05810597e-02+4.45000767e-20j -3.77513872e-03-2.07306812e-18j\n",
      " -5.37778676e-03+2.39508606e-18j -3.53085725e-04+4.63328683e-19j\n",
      " -2.97244608e-02-1.90044253e-18j -8.04642580e-04+3.91693232e-19j\n",
      "  1.43783676e-03+3.21937262e-20j -8.10093519e-03+2.24814722e-18j]\n"
     ]
    },
    {
     "data": {
      "image/png": "[encoded data removed]",
      "text/plain": [
       "<matplotlib.figure.Figure at 0x1b052d81e80>"
      ]
     },
     "metadata": {
      "needs_background": "light"
     },
     "output_type": "display_data"
    }
   ],
   "source": [
    "ptm_eps_inv_vec = np.reshape(ptm_eps_inv, [-1, 1])\n",
    "chi_eps_inv_vec = np.dot(np.linalg.inv(SigMat), ptm_eps_inv_vec)\n",
    "chi_eps_inv = np.reshape(chi_eps_inv_vec, [16, 16])\n",
    "print(np.trace(chi_eps_inv))\n",
    "print(np.diagonal(chi_eps_inv))\n",
    "plt.matshow(np.abs(chi_eps_inv))\n",
    "plt.colorbar()\n",
    "plt.show()"
   ]
  },
  {
   "cell_type": "code",
   "execution_count": 594,
   "metadata": {},
   "outputs": [
    {
     "data": {
      "image/png": "[encoded data removed]",
      "text/plain": [
       "<matplotlib.figure.Figure at 0x1b053028470>"
      ]
     },
     "metadata": {
      "needs_background": "light"
     },
     "output_type": "display_data"
    }
   ],
   "source": [
    "plt.bar(range(16), np.real(np.diagonal(chi_eps_inv)))\n",
    "plt.show()"
   ]
  },
  {
   "cell_type": "markdown",
   "metadata": {},
   "source": [
    "## Check if $\\chi_{\\epsilon^{-1}}$ is correct"
   ]
  },
  {
   "cell_type": "code",
   "execution_count": 438,
   "metadata": {},
   "outputs": [
    {
     "name": "stdout",
     "output_type": "stream",
     "text": [
      "[[5.00000000e-01+0.j         2.70151153e-01+0.j\n",
      "  2.57626187e-17+0.42073549j 0.00000000e+00+0.j        ]\n",
      " [2.70151153e-01+0.j         1.45963291e-01+0.j\n",
      "  1.39196023e-17+0.22732436j 0.00000000e+00+0.j        ]\n",
      " [2.57626187e-17-0.42073549j 1.39196023e-17-0.22732436j\n",
      "  3.54036709e-01+0.j         0.00000000e+00-0.j        ]\n",
      " [0.00000000e+00+0.j         0.00000000e+00+0.j\n",
      "  0.00000000e+00+0.j         0.00000000e+00+0.j        ]]\n"
     ]
    }
   ],
   "source": [
    "backend = Aer.get_backend('statevector_simulator')\n",
    "cr = ClassicalRegister(2, 'cr')\n",
    "qr = QuantumRegister(2, 'qr')\n",
    "circ = QuantumCircuit(qr, cr)\n",
    "circ = example_circ(circ)\n",
    "job = execute(circ, backend)\n",
    "state = job.result().get_statevector(circ)\n",
    "exact_rho = DensityMatrix(state).data\n",
    "print(exact_rho)"
   ]
  },
  {
   "cell_type": "markdown",
   "metadata": {},
   "source": [
    "## Tomography the noisy output state"
   ]
  },
  {
   "cell_type": "code",
   "execution_count": 445,
   "metadata": {},
   "outputs": [
    {
     "name": "stdout",
     "output_type": "stream",
     "text": [
      "[[0.48730469+0.j         0.24609375+0.00146484j 0.        +0.37207031j\n",
      "  0.00585938-0.00390625j]\n",
      " [0.24609375-0.00146484j 0.15625   +0.j         0.00292969+0.19824219j\n",
      "  0.015625  +0.00097656j]\n",
      " [0.        -0.37207031j 0.00292969-0.19824219j 0.34472656+0.j\n",
      "  0.00488281+0.00341797j]\n",
      " [0.00585938+0.00390625j 0.015625  -0.00097656j 0.00488281-0.00341797j\n",
      "  0.01171875+0.j        ]]\n",
      "MAE =  0.019082471559673655\n"
     ]
    }
   ],
   "source": [
    "u = np.zeros(4**2)\n",
    "u[0] = 1.0\n",
    "shots = 1024\n",
    "\n",
    "backend = Aer.get_backend('qasm_simulator')\n",
    "for itr, (i, j) in enumerate([p for p in itertools.product(list(range(4)), repeat=2)]):\n",
    "    # Due to the indexing convension of qiskit, i corresponds to 1-th qubit and j corresponds to 0-th qubit\n",
    "    if i == 0 and j == 0:\n",
    "        continue\n",
    "    else:\n",
    "        cr = ClassicalRegister(2, 'cr')\n",
    "        qr = QuantumRegister(2, 'qr')\n",
    "        circ = QuantumCircuit(qr, cr)\n",
    "        circ = example_circ(circ)\n",
    "        if i == 0:\n",
    "            # Measure only the 0-th qubit with the basis specified with j\n",
    "            change_basis_measurement(circ, j, 0)\n",
    "            circ.measure(qr[0], cr[0])\n",
    "        else:\n",
    "            if j == 0:\n",
    "                # Measure only the 1-th qubit with the basis specified with i\n",
    "                change_basis_measurement(circ, i, 1)\n",
    "                circ.measure(qr[1], cr[1])\n",
    "            else:\n",
    "                # Measure both of the two qubits with the bases specified with i and j\n",
    "                change_basis_measurement(circ, i, 1)\n",
    "                change_basis_measurement(circ, j, 0)\n",
    "                circ.measure(qr, cr)\n",
    "        job = execute(circ, backend, \n",
    "                       noise_model=noise_model,\n",
    "                       coupling_map=coupling_map,\n",
    "                       basis_gates=basis_gates,\n",
    "                       shots = shots)\n",
    "        u[itr] =job.result().get_counts(circ).get('00', 0)/shots*(1)+job.result().get_counts(circ).get('11', 0)/shots*(1) \\\n",
    "                        +job.result().get_counts(circ).get('01', 0)/shots*(-1)+job.result().get_counts(circ).get('10', 0)/shots*(-1)\n",
    "noisy_rho = sum([np.kron(sig[i], sig[j])*u[itr] for itr, (i, j) in enumerate([p for p in itertools.product(list(range(4)), repeat=2)])])/2**2\n",
    "print(noisy_rho)\n",
    "print(\"MAE = \", np.mean(np.abs(noisy_rho - exact_rho)))"
   ]
  },
  {
   "cell_type": "code",
   "execution_count": 446,
   "metadata": {},
   "outputs": [
    {
     "name": "stdout",
     "output_type": "stream",
     "text": [
      "[[ 0.49220087+1.33222826e-17j  0.27353946-1.65800677e-03j\n",
      "  -0.02497164+4.23876346e-01j -0.00318432-1.86492549e-03j]\n",
      " [ 0.27353946+1.65800677e-03j  0.16529115+2.16136332e-18j\n",
      "   0.00372331+2.33913830e-01j  0.02122703-1.19835297e-03j]\n",
      " [-0.02497164-4.23876346e-01j  0.00372331-2.33913830e-01j\n",
      "   0.34653495+6.74353455e-18j -0.0194957 -1.08578076e-02j]\n",
      " [-0.00318432+1.86492549e-03j  0.02122703+1.19835297e-03j\n",
      "  -0.0194957 +1.08578076e-02j -0.029928  +3.60985585e-19j]]\n"
     ]
    },
    {
     "data": {
      "image/png": "[encoded data removed]",
      "text/plain": [
       "<matplotlib.figure.Figure at 0x1b051aefb00>"
      ]
     },
     "metadata": {
      "needs_background": "light"
     },
     "output_type": "display_data"
    },
    {
     "name": "stdout",
     "output_type": "stream",
     "text": [
      "MAE =  0.014506750320892095\n"
     ]
    }
   ],
   "source": [
    "mitigated_rho = np.zeros((4, 4), dtype=complex)\n",
    "for i, (i1, i2) in enumerate([p for p in itertools.product(list(range(4)), repeat=2)]):\n",
    "    for j, (j1, j2) in enumerate([p for p in itertools.product(list(range(4)), repeat=2)]):\n",
    "        mitigated_rho += chi_eps_inv[i, j]*np.matmul(np.matmul(np.kron(sig[i1], sig[i2]), noisy_rho), np.kron(sig[j1], sig[j2]))\n",
    "        \n",
    "print(mitigated_rho)\n",
    "plt.matshow(np.abs(mitigated_rho-exact_rho))\n",
    "plt.colorbar()\n",
    "plt.show()\n",
    "print(\"MAE = \", np.mean(np.abs(mitigated_rho - exact_rho)))"
   ]
  },
  {
   "cell_type": "code",
   "execution_count": 579,
   "metadata": {},
   "outputs": [
    {
     "name": "stdout",
     "output_type": "stream",
     "text": [
      "[[ 0.50648209+7.53179804e-19j  0.28104474+1.53598458e-03j\n",
      "  -0.00071838+4.31950266e-01j  0.00693247-2.02426219e-03j]\n",
      " [ 0.28104474-1.53598458e-03j  0.15177948-6.98501755e-19j\n",
      "   0.00347058+2.36429028e-01j  0.01816303-7.36474878e-03j]\n",
      " [-0.00071838-4.31950266e-01j  0.00347058-2.36429028e-01j\n",
      "   0.34935297+2.04423566e-19j -0.00888023+3.87518067e-03j]\n",
      " [ 0.00693247+2.02426219e-03j  0.01816303+7.36474878e-03j\n",
      "  -0.00888023-3.87518067e-03j -0.00761455-1.24891799e-18j]]\n"
     ]
    },
    {
     "data": {
      "image/png": "[encoded data removed]",
      "text/plain": [
       "<matplotlib.figure.Figure at 0x1b052fe1ac8>"
      ]
     },
     "metadata": {
      "needs_background": "light"
     },
     "output_type": "display_data"
    },
    {
     "name": "stdout",
     "output_type": "stream",
     "text": [
      "MAE =  0.010098921099509287\n"
     ]
    }
   ],
   "source": [
    "mitigated_rho_diag = np.zeros((4, 4), dtype=complex)\n",
    "for i, (i1, i2) in enumerate([p for p in itertools.product(list(range(4)), repeat=2)]):\n",
    "    mitigated_rho_diag += chi_eps_inv[i, i]*np.matmul(np.matmul(np.kron(sig[i1], sig[i2]), noisy_rho), np.kron(sig[i1], sig[i2]))\n",
    "        \n",
    "print(mitigated_rho_diag)\n",
    "plt.matshow(np.abs(mitigated_rho_diag-exact_rho))\n",
    "plt.colorbar()\n",
    "plt.show()\n",
    "print(\"MAE = \", np.mean(np.abs(mitigated_rho_diag - exact_rho)))"
   ]
  },
  {
   "cell_type": "code",
   "execution_count": 585,
   "metadata": {},
   "outputs": [
    {
     "name": "stdout",
     "output_type": "stream",
     "text": [
      "[[ 0.51033649-3.79340585e-19j  0.28019489+1.49616696e-03j\n",
      "  -0.00052054+4.29630969e-01j  0.00701144-3.91398444e-03j]\n",
      " [ 0.28019489-1.49616696e-03j  0.15397828-7.90292521e-20j\n",
      "   0.00349876+2.37362180e-01j  0.0179587 -1.12675222e-02j]\n",
      " [-0.00052054-4.29630969e-01j  0.00349876-2.37362180e-01j\n",
      "   0.35221902-1.32773089e-19j -0.00666011+3.81445161e-03j]\n",
      " [ 0.00701144+3.91398444e-03j  0.0179587 +1.12675222e-02j\n",
      "  -0.00666011-3.81445161e-03j -0.00643621+1.71882907e-19j]]\n"
     ]
    },
    {
     "data": {
      "image/png": "[encoded data removed]",
      "text/plain": [
       "<matplotlib.figure.Figure at 0x1b051ae0c88>"
      ]
     },
     "metadata": {
      "needs_background": "light"
     },
     "output_type": "display_data"
    },
    {
     "name": "stdout",
     "output_type": "stream",
     "text": [
      "MAE =  0.00998797644999926\n"
     ]
    }
   ],
   "source": [
    "mitigated_rho_diag = np.zeros((4, 4), dtype=complex)\n",
    "for i, (i1, i2) in enumerate([p for p in itertools.product(list(range(4)), repeat=2)]):\n",
    "    if i in [ 0,  1,  2,  3,  4,  8, 12]:\n",
    "        mitigated_rho_diag += chi_eps_inv[i, i]*np.matmul(np.matmul(np.kron(sig[i1], sig[i2]), noisy_rho), np.kron(sig[i1], sig[i2]))\n",
    "        \n",
    "print(mitigated_rho_diag)\n",
    "plt.matshow(np.abs(mitigated_rho_diag-exact_rho))\n",
    "plt.colorbar()\n",
    "plt.show()\n",
    "print(\"MAE = \", np.mean(np.abs(mitigated_rho_diag - exact_rho)))"
   ]
  },
  {
   "cell_type": "markdown",
   "metadata": {},
   "source": [
    "# Unitary approximation of $\\epsilon^{-1}$\n",
    "## Compute the process matrix of $\\epsilon$"
   ]
  },
  {
   "cell_type": "code",
   "execution_count": 461,
   "metadata": {},
   "outputs": [
    {
     "name": "stdout",
     "output_type": "stream",
     "text": [
      "(0.9999999999999998+1.144113127231952e-18j)\n",
      "[ 8.75163709e-01+1.21966166e-18j  1.32692643e-02-2.17918867e-19j\n",
      "  1.33314507e-02+1.97423614e-19j  1.81762194e-02+1.25374046e-18j\n",
      "  2.07909061e-02+1.05289927e-18j  6.12055929e-03-4.29629539e-19j\n",
      "  1.27276918e-03+1.16049461e-18j -7.35577695e-04+6.91534105e-20j\n",
      "  1.88802993e-02-8.09922544e-19j -1.71764791e-04+7.57990873e-19j\n",
      " -1.35913149e-03+3.54382622e-19j  1.50337871e-03+2.37372742e-21j\n",
      "  2.35694559e-02-1.24156589e-18j  3.06972611e-03-1.17296834e-18j\n",
      " -1.50593198e-03+1.52789558e-18j  8.62466791e-03-2.57989751e-18j]\n"
     ]
    },
    {
     "data": {
      "image/png": "[encoded data removed]",
      "text/plain": [
       "<matplotlib.figure.Figure at 0x1b052e080f0>"
      ]
     },
     "metadata": {
      "needs_background": "light"
     },
     "output_type": "display_data"
    }
   ],
   "source": [
    "ptm_eps_vec = np.reshape(ptm_eps, [-1, 1])\n",
    "chi_eps_vec = np.dot(np.linalg.inv(SigMat), ptm_eps_vec)\n",
    "chi_eps = np.reshape(chi_eps_vec, [16, 16])\n",
    "print(np.trace(chi_eps))\n",
    "print(np.diagonal(chi_eps))\n",
    "plt.matshow(np.abs(chi_eps))\n",
    "plt.colorbar()\n",
    "plt.show()"
   ]
  },
  {
   "cell_type": "markdown",
   "metadata": {},
   "source": [
    "##  Compute $\\epsilon(\\rho_i)$"
   ]
  },
  {
   "cell_type": "code",
   "execution_count": 552,
   "metadata": {},
   "outputs": [],
   "source": [
    "noisy_ref = []\n",
    "for i in range(36):\n",
    "    noisy_ref.append(np.zeros((4, 4), dtype=complex))\n",
    "    for j, (j1, j2) in enumerate([p for p in itertools.product(list(range(4)), repeat=2)]):\n",
    "        noisy_ref[-1] += chi_eps[j, j]*matmul([np.kron(sig[j1], sig[j2]), ref[i], np.kron(sig[j1], sig[j2])])\n"
   ]
  },
  {
   "cell_type": "markdown",
   "metadata": {},
   "source": [
    "## Objective function and its gradient\n",
    "Object function:\n",
    "\\begin{equation}\n",
    "\\min_{\\vec{\\theta}}\\bigg[\\sum_{i, j}\\bigg|Tr[P_j U_{\\epsilon^{-1}}(\\vec{\\theta})\\epsilon(\\rho_i)U^\\dagger_{\\epsilon^{-1}}(\\vec{\\theta})]  - \\langle{P_j}\\rangle_i\\bigg|^2\\bigg]\n",
    "\\end{equation}\n",
    "\n",
    "Gradient:\n",
    "\\begin{equation}\n",
    "(\\nabla f(\\vec{\\theta}))_k = \\sum_{i, j}\n",
    "    \\bigg(\n",
    "    2Tr[P_j U_{\\epsilon^{-1}}(\\vec{\\theta})\\epsilon(\\rho_i)U^\\dagger_{\\epsilon^{-1}}(\\vec{\\theta})]\\frac{\\partial}{\\partial \\theta_k} \\big(Tr[P_j U_{\\epsilon^{-1}}(\\vec{\\theta})\\epsilon(\\rho_i)U^\\dagger_{\\epsilon^{-1}}(\\vec{\\theta})]\\big)\n",
    "    - 2 \\langle{P_j}\\rangle_i \\frac{\\partial}{\\partial \\theta_k} \\big(Tr[P_j U_{\\epsilon^{-1}}(\\vec{\\theta})\\epsilon(\\rho_i)U^\\dagger_{\\epsilon^{-1}}(\\vec{\\theta})]\\big)\\bigg)\n",
    "\\end{equation}\n",
    "where\n",
    "\\begin{equation}\n",
    "\\frac{\\partial}{\\partial \\theta_k} \\big(Tr[P_j U_{\\epsilon^{-1}}(\\vec{\\theta})\\epsilon(\\rho_i)U^\\dagger_{\\epsilon^{-1}}(\\vec{\\theta})]\\big) \n",
    "     =-\\frac{i}{2}Tr\\bigg[P_j \\prod_{m=1}^{k-1} e^{-i\\theta_m  P_m/2}\\bigg[P_k,  \\prod_{m=k}^{3N} e^{-i\\theta_m  P_m/2}\\epsilon(\\rho_i) \\prod_{m=k}^{3N} e^{i\\theta_m  P_m/2}\\bigg]\\prod_{m=1}^{k-1} e^{i\\theta_m  P_m/2} \\bigg]\n",
    "\\end{equation}"
   ]
  },
  {
   "cell_type": "code",
   "execution_count": 572,
   "metadata": {},
   "outputs": [],
   "source": [
    "def u3gate(theta, phi, lam):\n",
    "    return np.array([[\n",
    "                np.cos(theta / 2),\n",
    "                -np.exp(1j * lam) * np.sin(theta / 2)\n",
    "            ],\n",
    "             [\n",
    "                 np.exp(1j * phi) * np.sin(theta / 2),\n",
    "                 np.exp(1j * (phi + lam)) * np.cos(theta / 2)\n",
    "             ]])\n",
    "def least_square(theta):\n",
    "    obj = 0\n",
    "    U = tensor_prod([u3gate(theta[i*3+0], theta[i*3+1], theta[i*3+2]) for i in range(2)])\n",
    "    Udag = np.conjugate(U).T\n",
    "    for i in range(36):\n",
    "        for j, (j1, j2) in enumerate([p for p in itertools.product(list(range(4)), repeat=2)]):\n",
    "            P_j = np.kron(sig[j1], sig[j2])\n",
    "            tr = np.trace(matmul([P_j, U, noisy_ref[i], Udag]))\n",
    "            obj += (tr - inn_mrho[j, i])**2\n",
    "    print(obj.real)\n",
    "    return obj.real\n",
    "\n",
    "def full_sigma(sig_id, trg, n_qubit):\n",
    "    return tensor_prod([sig[0] for i in range(trg)] + [sig[sig_id]] + [sig[0] for i in range(trg+1, n_qubit)])\n",
    "def full_gate(gate, trg, n_qubit):\n",
    "    return tensor_prod([sig[0] for i in range(trg)] + [gate] + [sig[0] for i in range(trg+1, n_qubit)])\n",
    "    \n",
    "def gradient(theta):\n",
    "    grad = np.zeros_like(theta, dtype=complex)\n",
    "    U_list = [full_gate(u3gate(theta[m] if m%3 == 0 else 0, theta[m] if m%3 == 1 else 0, theta[m] if m%3 == 2 else 0), m//3, 2) for m in range(theta.shape[0])]\n",
    "    U = matmul(U_list)\n",
    "    Udag = np.conjugate(U).T\n",
    "    for k in range(theta.shape[0]):\n",
    "        P_k = full_sigma(2 if k%3 == 0 else 3, k//3, 2)\n",
    "        for i in range(36):\n",
    "            for j, (j1, j2) in enumerate([p for p in itertools.product(list(range(4)), repeat=2)]):\n",
    "                P_j = np.kron(sig[j1], sig[j2])\n",
    "                U_outside =matmul(U_list[:k]) if k > 0 else np.eye(4)\n",
    "                U_inside = matmul(U_list[k:3*2])\n",
    "                tr_grad = (-1j/2)*np.trace(matmul([P_j, U_outside, commutator(P_k, matmul([U_inside, noisy_ref[i], np.conjugate(U_inside).T])), np.conjugate(U_outside).T]))\n",
    "                tr = np.trace(matmul([P_j, U, noisy_ref[i], Udag]))\n",
    "                grad[k] += 2*tr*tr_grad - 2*inn_mrho[j, i]*tr_grad\n",
    "    return np.real(grad)"
   ]
  },
  {
   "cell_type": "markdown",
   "metadata": {},
   "source": [
    "## Optimization"
   ]
  },
  {
   "cell_type": "code",
   "execution_count": 573,
   "metadata": {
    "scrolled": false
   },
   "outputs": [
    {
     "name": "stdout",
     "output_type": "stream",
     "text": [
      "125.21741235686225\n",
      "85.69288130576096\n",
      "113.95941827565855\n",
      "76.98272665360214\n",
      "117.46430351601605\n",
      "58.05064353885881\n",
      "89.48976450537236\n",
      "53.30459880927533\n",
      "51.73960220797185\n",
      "48.687236487652605\n",
      "39.076518399360445\n",
      "28.74472913935145\n",
      "25.52076310856215\n",
      "25.058556641028137\n",
      "25.05621984048454\n",
      "25.056121263964048\n",
      "25.05611873194869\n",
      "25.0561186348867\n",
      "25.056118634327447\n",
      "25.056118634308053\n",
      "Optimization terminated successfully.\n",
      "         Current function value: 25.056119\n",
      "         Iterations: 14\n",
      "         Function evaluations: 20\n",
      "         Gradient evaluations: 20\n"
     ]
    },
    {
     "data": {
      "text/plain": [
       "array([6.28318530e+00, 3.78980468e+00, 2.49338068e+00, 5.49335288e-08,\n",
       "       1.04395485e+01, 8.41000745e+00])"
      ]
     },
     "execution_count": 573,
     "metadata": {},
     "output_type": "execute_result"
    }
   ],
   "source": [
    "theta = np.random.rand(6) * 2 * np.pi\n",
    "res = minimize(least_square, theta, method='BFGS', jac=gradient, options={'disp': True})\n",
    "res.x"
   ]
  },
  {
   "cell_type": "code",
   "execution_count": 574,
   "metadata": {},
   "outputs": [
    {
     "name": "stdout",
     "output_type": "stream",
     "text": [
      "[[ 1.00000000e+00+0.00000000e+00j  1.67291805e-09+7.69198297e-10j]\n",
      " [-1.67291801e-09+7.69198379e-10j  1.00000000e+00-4.91795869e-08j]]\n",
      "[[4.87304700e-01+0.00000000e+00j 2.46093742e-01+1.46481806e-03j\n",
      "  2.96306515e-09+3.72070317e-01j 5.85938675e-03-3.90625930e-03j]\n",
      " [2.46093742e-01-1.46481806e-03j 1.56249988e-01+0.00000000e+00j\n",
      "  2.92966876e-03+1.98242177e-01j 1.56250060e-02+9.76557128e-04j]\n",
      " [2.96306515e-09-3.72070317e-01j 2.92966876e-03-1.98242177e-01j\n",
      "  3.44726563e-01+0.00000000e+00j 4.88280403e-03+3.41795792e-03j]\n",
      " [5.85938675e-03+3.90625930e-03j 1.56250060e-02-9.76557128e-04j\n",
      "  4.88280403e-03-3.41795792e-03j 1.17187491e-02-2.06795153e-25j]]\n"
     ]
    },
    {
     "data": {
      "image/png": "[encoded data removed]",
      "text/plain": [
       "<matplotlib.figure.Figure at 0x1b051b4a710>"
      ]
     },
     "metadata": {
      "needs_background": "light"
     },
     "output_type": "display_data"
    },
    {
     "name": "stdout",
     "output_type": "stream",
     "text": [
      "MAE =  0.019082472097711984\n"
     ]
    }
   ],
   "source": [
    "U_eps_inv = np.kron(u3gate(6.28318533, 3.12497828, 3.15820706), u3gate(6.2831854 , 2.15118455,\n",
    "       4.1320008 ))\n",
    "print(u3gate(-3.68256477e-09,  5.85221625e+00,  4.30969008e-01))\n",
    "approx_rho = matmul([U_eps_inv, noisy_rho, np.conjugate(U_eps_inv).T])\n",
    "print(approx_rho)\n",
    "plt.matshow(np.abs(approx_rho-exact_rho))\n",
    "plt.colorbar()\n",
    "plt.show()\n",
    "print(\"MAE = \", np.mean(np.abs(approx_rho - exact_rho)))"
   ]
  },
  {
   "cell_type": "code",
   "execution_count": 555,
   "metadata": {},
   "outputs": [
    {
     "name": "stdout",
     "output_type": "stream",
     "text": [
      "[[0.48730469+0.j         0.24609375+0.00146484j 0.        +0.37207031j\n",
      "  0.00585938-0.00390625j]\n",
      " [0.24609375-0.00146484j 0.15625   +0.j         0.00292969+0.19824219j\n",
      "  0.015625  +0.00097656j]\n",
      " [0.        -0.37207031j 0.00292969-0.19824219j 0.34472656+0.j\n",
      "  0.00488281+0.00341797j]\n",
      " [0.00585938+0.00390625j 0.015625  -0.00097656j 0.00488281-0.00341797j\n",
      "  0.01171875+0.j        ]]\n"
     ]
    }
   ],
   "source": [
    "print(noisy_rho)"
   ]
  },
  {
   "cell_type": "markdown",
   "metadata": {},
   "source": [
    "# Quasi-probability"
   ]
  },
  {
   "cell_type": "code",
   "execution_count": 598,
   "metadata": {},
   "outputs": [
    {
     "data": {
      "image/png": "[encoded data removed]",
      "text/plain": [
       "<matplotlib.figure.Figure at 0x1b051bae550>"
      ]
     },
     "execution_count": 598,
     "metadata": {},
     "output_type": "execute_result"
    }
   ],
   "source": [
    "cr = ClassicalRegister(2, 'cr')\n",
    "qr = QuantumRegister(2, 'qr')\n",
    "circ = QuantumCircuit(qr, cr)\n",
    "example_circ(circ)\n",
    "circ.measure(qr, cr)\n",
    "job = execute(circ, backend, \n",
    "                       noise_model=noise_model,\n",
    "                       coupling_map=coupling_map,\n",
    "                       basis_gates=basis_gates,\n",
    "                       shots = shots)\n",
    "counts = job.result().get_counts(circ)\n",
    "plot_histogram(counts)"
   ]
  },
  {
   "cell_type": "code",
   "execution_count": 597,
   "metadata": {},
   "outputs": [
    {
     "data": {
      "image/png": "[encoded data removed]",
      "text/plain": [
       "<matplotlib.figure.Figure at 0x1b051b677b8>"
      ]
     },
     "execution_count": 597,
     "metadata": {},
     "output_type": "execute_result"
    }
   ],
   "source": [
    "def dec_to_binary_str(dec, n_dig):\n",
    "    s = bin(dec).replace(\"0b\", \"\")\n",
    "    return '0'*(n_dig - len(s)) +s \n",
    "dist = {dec_to_binary_str(i, 2): 0. for i in range(4)}\n",
    "\n",
    "index = np.where(np.real(np.diagonal(chi_eps_inv)) > 1e-2)[0]\n",
    "backend = Aer.get_backend('qasm_simulator')\n",
    "for i in index:\n",
    "    r\n",
    "    i1 = i//4\n",
    "    i2 = i%4\n",
    "    cr = ClassicalRegister(2, 'cr')\n",
    "    qr = QuantumRegister(2, 'qr')\n",
    "    circ = QuantumCircuit(qr, cr)\n",
    "    example_circ(circ)\n",
    "    if i1 == 1:\n",
    "        circ.x(1)\n",
    "    elif i1 == 2:\n",
    "        circ.y(1)\n",
    "    elif i1 == 3:\n",
    "        circ.z(1)\n",
    "    if i2 == 1:\n",
    "        circ.x(0)\n",
    "    elif i2 == 2:\n",
    "        circ.y(0)\n",
    "    elif i2 == 3:\n",
    "        circ.z(0)\n",
    "    \n",
    "    circ.measure(qr, cr)\n",
    "    job = execute(circ, backend, \n",
    "                       noise_model=noise_model,\n",
    "                       coupling_map=coupling_map,\n",
    "                       basis_gates=basis_gates,\n",
    "                       shots = shots)\n",
    "    counts = job.result().get_counts(circ)\n",
    "    for key in counts.keys():\n",
    "        dist[key] += np.real(np.diagonal(chi_eps_inv))[i]*counts[key]\n",
    "        \n",
    "plot_histogram(dist)"
   ]
  },
  {
   "cell_type": "code",
   "execution_count": null,
   "metadata": {},
   "outputs": [],
   "source": []
  }
 ],
 "metadata": {
  "kernelspec": {
   "display_name": "Python 3",
   "language": "python",
   "name": "python3"
  },
  "language_info": {
   "codemirror_mode": {
    "name": "ipython",
    "version": 3
   },
   "file_extension": ".py",
   "mimetype": "text/x-python",
   "name": "python",
   "nbconvert_exporter": "python",
   "pygments_lexer": "ipython3",
   "version": "3.6.3"
  }
 },
 "nbformat": 4,
 "nbformat_minor": 2
}
