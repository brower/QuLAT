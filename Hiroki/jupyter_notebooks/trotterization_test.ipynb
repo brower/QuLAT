{
 "cells": [
  {
   "cell_type": "code",
   "execution_count": 5,
   "metadata": {},
   "outputs": [],
   "source": [
    "import os\n",
    "import sys\n",
    "module_path = os.path.abspath(os.path.join('..'))\n",
    "if module_path not in sys.path:\n",
    "    sys.path.append(module_path)\n",
    "import numpy as np\n",
    "from scipy.linalg import expm, eig, logm\n",
    "from qiskit import QuantumCircuit, QuantumRegister, BasicAer, execute\n",
    "from operators.pauli_hamiltonian import PauliHamiltonian\n",
    "import matplotlib.pyplot as plt"
   ]
  },
  {
   "cell_type": "code",
   "execution_count": 6,
   "metadata": {},
   "outputs": [
    {
     "name": "stdout",
     "output_type": "stream",
     "text": [
      "[[ 3.48123000e-01-0.76996349j  2.77555756e-17+0.349228j\n",
      "  -2.77555756e-17+0.349228j   -1.92179306e-01+0.07150749j]\n",
      " [ 0.00000000e+00+0.349228j    3.48123000e-01+0.76996349j\n",
      "  -1.92179306e-01-0.07150749j -2.77555756e-17+0.349228j  ]\n",
      " [ 0.00000000e+00+0.349228j   -1.92179306e-01-0.07150749j\n",
      "   3.48123000e-01+0.76996349j -2.77555756e-17+0.349228j  ]\n",
      " [-1.92179306e-01+0.07150749j  0.00000000e+00+0.349228j\n",
      "  -2.77555756e-17+0.349228j    3.48123000e-01-0.76996349j]]\n",
      "[0.15594369+0.98776595j 0.54030231-0.84147098j 0.15594369-0.98776595j\n",
      " 0.54030231+0.84147098j]\n"
     ]
    }
   ],
   "source": [
    "# 2-site Heisenberg\n",
    "T = 1\n",
    "H = PauliHamiltonian([1., -0.5, -0.5], [{0: \"Z\", 1: \"Z\"}, {0: \"X\"}, {1: \"X\"}], n_sites=2)\n",
    "exact = expm(-1j*H.matrix_form()*T)\n",
    "spectrum, _ = eig(exact)\n",
    "print(exact)\n",
    "print(spectrum)"
   ]
  },
  {
   "cell_type": "code",
   "execution_count": 3,
   "metadata": {},
   "outputs": [],
   "source": [
    "# Initialize Simulator\n",
    "backend = BasicAer.get_backend('unitary_simulator')"
   ]
  },
  {
   "cell_type": "code",
   "execution_count": 4,
   "metadata": {},
   "outputs": [
    {
     "ename": "NameError",
     "evalue": "name 'trotter_circuit' is not defined",
     "output_type": "error",
     "traceback": [
      "\u001b[1;31m---------------------------------------------------------------------------\u001b[0m",
      "\u001b[1;31mNameError\u001b[0m                                 Traceback (most recent call last)",
      "\u001b[1;32m<ipython-input-4-66a19064f226>\u001b[0m in \u001b[0;36m<module>\u001b[1;34m\u001b[0m\n\u001b[0;32m      2\u001b[0m \u001b[0mqr\u001b[0m \u001b[1;33m=\u001b[0m \u001b[0mQuantumRegister\u001b[0m\u001b[1;33m(\u001b[0m\u001b[1;36m2\u001b[0m\u001b[1;33m,\u001b[0m \u001b[1;34m'qr'\u001b[0m\u001b[1;33m)\u001b[0m\u001b[1;33m\u001b[0m\u001b[0m\n\u001b[0;32m      3\u001b[0m \u001b[0mcirc\u001b[0m \u001b[1;33m=\u001b[0m \u001b[0mQuantumCircuit\u001b[0m\u001b[1;33m(\u001b[0m\u001b[0mqr\u001b[0m\u001b[1;33m)\u001b[0m\u001b[1;33m\u001b[0m\u001b[0m\n\u001b[1;32m----> 4\u001b[1;33m \u001b[0mcirc\u001b[0m \u001b[1;33m=\u001b[0m \u001b[0mtrotter_circuit\u001b[0m\u001b[1;33m(\u001b[0m\u001b[0mcirc\u001b[0m\u001b[1;33m,\u001b[0m \u001b[0mqr\u001b[0m\u001b[1;33m,\u001b[0m \u001b[0mH\u001b[0m\u001b[1;33m,\u001b[0m \u001b[0mT\u001b[0m\u001b[1;33m,\u001b[0m \u001b[1;36m10\u001b[0m\u001b[1;33m)\u001b[0m\u001b[1;33m\u001b[0m\u001b[0m\n\u001b[0m\u001b[0;32m      5\u001b[0m \u001b[0mcirc\u001b[0m\u001b[1;33m.\u001b[0m\u001b[0mdraw\u001b[0m\u001b[1;33m(\u001b[0m\u001b[0moutput\u001b[0m\u001b[1;33m=\u001b[0m\u001b[1;34m'mpl'\u001b[0m\u001b[1;33m)\u001b[0m\u001b[1;33m\u001b[0m\u001b[0m\n",
      "\u001b[1;31mNameError\u001b[0m: name 'trotter_circuit' is not defined"
     ]
    }
   ],
   "source": [
    "# Construct Circuit\n",
    "qr = QuantumRegister(2, 'qr')\n",
    "circ = QuantumCircuit(qr)\n",
    "circ = trotter_circuit(circ, qr, H, T, 10)\n",
    "circ.draw(output='mpl')"
   ]
  },
  {
   "cell_type": "code",
   "execution_count": 5,
   "metadata": {},
   "outputs": [
    {
     "name": "stdout",
     "output_type": "stream",
     "text": [
      "[[ 0.349-0.769j -0.035+0.348j -0.035+0.348j -0.192+0.072j]\n",
      " [ 0.035+0.348j  0.349+0.769j -0.192-0.072j  0.035+0.348j]\n",
      " [ 0.035+0.348j -0.192-0.072j  0.349+0.769j  0.035+0.348j]\n",
      " [-0.192+0.072j -0.035+0.348j -0.035+0.348j  0.349-0.769j]]\n"
     ]
    }
   ],
   "source": [
    "job = execute(circ, backend)\n",
    "trotterized_unitary = job.result().get_unitary(circ, decimals=3)\n",
    "print(trotterized_unitary)"
   ]
  },
  {
   "cell_type": "code",
   "execution_count": 6,
   "metadata": {},
   "outputs": [
    {
     "ename": "NameError",
     "evalue": "name 'trotterized' is not defined",
     "output_type": "error",
     "traceback": [
      "\u001b[1;31m---------------------------------------------------------------------------\u001b[0m",
      "\u001b[1;31mNameError\u001b[0m                                 Traceback (most recent call last)",
      "\u001b[1;32m<ipython-input-6-fc2de3841ec4>\u001b[0m in \u001b[0;36m<module>\u001b[1;34m\u001b[0m\n\u001b[0;32m      1\u001b[0m \u001b[1;31m# Compare the exact unitary and trotterized unitary\u001b[0m\u001b[1;33m\u001b[0m\u001b[1;33m\u001b[0m\u001b[0m\n\u001b[1;32m----> 2\u001b[1;33m \u001b[0mprint\u001b[0m\u001b[1;33m(\u001b[0m\u001b[0mexact\u001b[0m\u001b[1;33m-\u001b[0m\u001b[0mtrotterized\u001b[0m\u001b[1;33m)\u001b[0m\u001b[1;33m\u001b[0m\u001b[0m\n\u001b[0m",
      "\u001b[1;31mNameError\u001b[0m: name 'trotterized' is not defined"
     ]
    }
   ],
   "source": [
    "# Compare the exact unitary and trotterized unitary\n",
    "print(exact-trotterized)"
   ]
  },
  {
   "cell_type": "code",
   "execution_count": null,
   "metadata": {},
   "outputs": [],
   "source": [
    "tr_spectra = []\n",
    "for n_steps in range(10):\n",
    "    # Construct Circuit\n",
    "    qr = QuantumRegister(2, 'qr')\n",
    "    circ = QuantumCircuit(qr)\n",
    "    circ = trotter_circuit(circ, qr, H, T, n_steps)\n",
    "    job = execute(circ, backend)\n",
    "    eigvals, _ = eig(job.result().get_unitary(circ, decimals=3))\n",
    "    tr_spectra.append(eigvals)\n",
    "plt.plot(range(10), tr_spectra, label='Trotterized')\n",
    "plt.plot(range(10), np.tile(np.reshape(spectrum, [1, -1]), [10, 1]), linestyle='--', label='scipy')\n",
    "plt.xlabel(\"# Steps\")\n",
    "plt.ylabel(\"Spectrum\")\n",
    "plt.legend(bbox_to_anchor=(1.3, 1))\n",
    "plt.show()"
   ]
  },
  {
   "cell_type": "code",
   "execution_count": null,
   "metadata": {},
   "outputs": [],
   "source": [
    "print(H.matrix_form())\n",
    "print(logm(trotterized_unitary)/(-1j*T))"
   ]
  },
  {
   "cell_type": "code",
   "execution_count": null,
   "metadata": {},
   "outputs": [],
   "source": []
  }
 ],
 "metadata": {
  "kernelspec": {
   "display_name": "Python 3",
   "language": "python",
   "name": "python3"
  },
  "language_info": {
   "codemirror_mode": {
    "name": "ipython",
    "version": 3
   },
   "file_extension": ".py",
   "mimetype": "text/x-python",
   "name": "python",
   "nbconvert_exporter": "python",
   "pygments_lexer": "ipython3",
   "version": "3.6.3"
  }
 },
 "nbformat": 4,
 "nbformat_minor": 2
}
