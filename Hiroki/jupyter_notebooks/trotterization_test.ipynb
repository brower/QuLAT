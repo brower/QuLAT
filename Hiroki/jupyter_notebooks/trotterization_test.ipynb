{
 "cells": [
  {
   "cell_type": "code",
   "execution_count": 42,
   "metadata": {},
   "outputs": [],
   "source": [
    "import os\n",
    "import sys\n",
    "module_path = os.path.abspath(os.path.join('..'))\n",
    "if module_path not in sys.path:\n",
    "    sys.path.append(module_path)\n",
    "import numpy as np\n",
    "from scipy.linalg import expm, eig, logm\n",
    "from qiskit import QuantumCircuit, QuantumRegister, BasicAer, execute\n",
    "from quantum_circuit.trotterization import trotter_circuit\n",
    "from operators.pauli_hamiltonian import PauliHamiltonian\n",
    "import matplotlib.pyplot as plt"
   ]
  },
  {
   "cell_type": "code",
   "execution_count": 34,
   "metadata": {},
   "outputs": [
    {
     "name": "stdout",
     "output_type": "stream",
     "text": [
      "[[ 3.48123000e-01-0.76996349j  2.77555756e-17+0.349228j\n",
      "  -2.77555756e-17+0.349228j   -1.92179306e-01+0.07150749j]\n",
      " [ 0.00000000e+00+0.349228j    3.48123000e-01+0.76996349j\n",
      "  -1.92179306e-01-0.07150749j -2.77555756e-17+0.349228j  ]\n",
      " [ 0.00000000e+00+0.349228j   -1.92179306e-01-0.07150749j\n",
      "   3.48123000e-01+0.76996349j -2.77555756e-17+0.349228j  ]\n",
      " [-1.92179306e-01+0.07150749j  0.00000000e+00+0.349228j\n",
      "  -2.77555756e-17+0.349228j    3.48123000e-01-0.76996349j]]\n",
      "[0.15594369+0.98776595j 0.54030231-0.84147098j 0.15594369-0.98776595j\n",
      " 0.54030231+0.84147098j]\n"
     ]
    }
   ],
   "source": [
    "# 2-site Heisenberg\n",
    "T = 1\n",
    "H = PauliHamiltonian([1., -0.5, -0.5], [{0: \"Z\", 1: \"Z\"}, {0: \"X\"}, {1: \"X\"}], n_sites=2)\n",
    "exact = expm(-1j*H.matrix_form()*T)\n",
    "spectrum, _ = eig(exact)\n",
    "print(exact)\n",
    "print(spectrum)"
   ]
  },
  {
   "cell_type": "code",
   "execution_count": 27,
   "metadata": {},
   "outputs": [],
   "source": [
    "# Initialize Simulator\n",
    "backend = BasicAer.get_backend('unitary_simulator')"
   ]
  },
  {
   "cell_type": "code",
   "execution_count": 28,
   "metadata": {},
   "outputs": [
    {
     "data": {
      "text/html": [
       "<pre style=\"word-wrap: normal;white-space: pre;line-height: 15px;\">                                                            »\n",
       "qr_0: |0>──■────────────────────────────────────────────────»\n",
       "         ┌─┴─┐┌─────────┐┌─────────────────────┐┌──────────┐»\n",
       "qr_1: |0>┤ X ├┤ U1(0.1) ├┤ U3(3.1416,0,3.1416) ├┤ U1(-0.1) ├»\n",
       "         └───┘└─────────┘└─────────────────────┘└──────────┘»\n",
       "«                                  ┌───┐┌───────────┐┌─────────────────────┐»\n",
       "«qr_0: ─────────────────────────■──┤ H ├┤ U1(-0.05) ├┤ U3(3.1416,0,3.1416) ├»\n",
       "«      ┌─────────────────────┐┌─┴─┐├───┤├───────────┤├─────────────────────┤»\n",
       "«qr_1: ┤ U3(3.1416,0,3.1416) ├┤ X ├┤ H ├┤ U1(-0.05) ├┤ U3(3.1416,0,3.1416) ├»\n",
       "«      └─────────────────────┘└───┘└───┘└───────────┘└─────────────────────┘»\n",
       "«      ┌──────────┐┌─────────────────────┐┌───┐                »\n",
       "«qr_0: ┤ U1(0.05) ├┤ U3(3.1416,0,3.1416) ├┤ H ├──■─────────────»\n",
       "«      ├──────────┤├─────────────────────┤├───┤┌─┴─┐┌─────────┐»\n",
       "«qr_1: ┤ U1(0.05) ├┤ U3(3.1416,0,3.1416) ├┤ H ├┤ X ├┤ U1(0.1) ├»\n",
       "«      └──────────┘└─────────────────────┘└───┘└───┘└─────────┘»\n",
       "«                                                                     ┌───┐»\n",
       "«qr_0: ────────────────────────────────────────────────────────────■──┤ H ├»\n",
       "«      ┌─────────────────────┐┌──────────┐┌─────────────────────┐┌─┴─┐├───┤»\n",
       "«qr_1: ┤ U3(3.1416,0,3.1416) ├┤ U1(-0.1) ├┤ U3(3.1416,0,3.1416) ├┤ X ├┤ H ├»\n",
       "«      └─────────────────────┘└──────────┘└─────────────────────┘└───┘└───┘»\n",
       "«      ┌───────────┐┌─────────────────────┐┌──────────┐┌─────────────────────┐»\n",
       "«qr_0: ┤ U1(-0.05) ├┤ U3(3.1416,0,3.1416) ├┤ U1(0.05) ├┤ U3(3.1416,0,3.1416) ├»\n",
       "«      ├───────────┤├─────────────────────┤├──────────┤├─────────────────────┤»\n",
       "«qr_1: ┤ U1(-0.05) ├┤ U3(3.1416,0,3.1416) ├┤ U1(0.05) ├┤ U3(3.1416,0,3.1416) ├»\n",
       "«      └───────────┘└─────────────────────┘└──────────┘└─────────────────────┘»\n",
       "«      ┌───┐                                                   »\n",
       "«qr_0: ┤ H ├──■────────────────────────────────────────────────»\n",
       "«      ├───┤┌─┴─┐┌─────────┐┌─────────────────────┐┌──────────┐»\n",
       "«qr_1: ┤ H ├┤ X ├┤ U1(0.1) ├┤ U3(3.1416,0,3.1416) ├┤ U1(-0.1) ├»\n",
       "«      └───┘└───┘└─────────┘└─────────────────────┘└──────────┘»\n",
       "«                                  ┌───┐┌───────────┐┌─────────────────────┐»\n",
       "«qr_0: ─────────────────────────■──┤ H ├┤ U1(-0.05) ├┤ U3(3.1416,0,3.1416) ├»\n",
       "«      ┌─────────────────────┐┌─┴─┐├───┤├───────────┤├─────────────────────┤»\n",
       "«qr_1: ┤ U3(3.1416,0,3.1416) ├┤ X ├┤ H ├┤ U1(-0.05) ├┤ U3(3.1416,0,3.1416) ├»\n",
       "«      └─────────────────────┘└───┘└───┘└───────────┘└─────────────────────┘»\n",
       "«      ┌──────────┐┌─────────────────────┐┌───┐                »\n",
       "«qr_0: ┤ U1(0.05) ├┤ U3(3.1416,0,3.1416) ├┤ H ├──■─────────────»\n",
       "«      ├──────────┤├─────────────────────┤├───┤┌─┴─┐┌─────────┐»\n",
       "«qr_1: ┤ U1(0.05) ├┤ U3(3.1416,0,3.1416) ├┤ H ├┤ X ├┤ U1(0.1) ├»\n",
       "«      └──────────┘└─────────────────────┘└───┘└───┘└─────────┘»\n",
       "«                                                                     ┌───┐»\n",
       "«qr_0: ────────────────────────────────────────────────────────────■──┤ H ├»\n",
       "«      ┌─────────────────────┐┌──────────┐┌─────────────────────┐┌─┴─┐├───┤»\n",
       "«qr_1: ┤ U3(3.1416,0,3.1416) ├┤ U1(-0.1) ├┤ U3(3.1416,0,3.1416) ├┤ X ├┤ H ├»\n",
       "«      └─────────────────────┘└──────────┘└─────────────────────┘└───┘└───┘»\n",
       "«      ┌───────────┐┌─────────────────────┐┌──────────┐┌─────────────────────┐»\n",
       "«qr_0: ┤ U1(-0.05) ├┤ U3(3.1416,0,3.1416) ├┤ U1(0.05) ├┤ U3(3.1416,0,3.1416) ├»\n",
       "«      ├───────────┤├─────────────────────┤├──────────┤├─────────────────────┤»\n",
       "«qr_1: ┤ U1(-0.05) ├┤ U3(3.1416,0,3.1416) ├┤ U1(0.05) ├┤ U3(3.1416,0,3.1416) ├»\n",
       "«      └───────────┘└─────────────────────┘└──────────┘└─────────────────────┘»\n",
       "«      ┌───┐                                                   »\n",
       "«qr_0: ┤ H ├──■────────────────────────────────────────────────»\n",
       "«      ├───┤┌─┴─┐┌─────────┐┌─────────────────────┐┌──────────┐»\n",
       "«qr_1: ┤ H ├┤ X ├┤ U1(0.1) ├┤ U3(3.1416,0,3.1416) ├┤ U1(-0.1) ├»\n",
       "«      └───┘└───┘└─────────┘└─────────────────────┘└──────────┘»\n",
       "«                                  ┌───┐┌───────────┐┌─────────────────────┐»\n",
       "«qr_0: ─────────────────────────■──┤ H ├┤ U1(-0.05) ├┤ U3(3.1416,0,3.1416) ├»\n",
       "«      ┌─────────────────────┐┌─┴─┐├───┤├───────────┤├─────────────────────┤»\n",
       "«qr_1: ┤ U3(3.1416,0,3.1416) ├┤ X ├┤ H ├┤ U1(-0.05) ├┤ U3(3.1416,0,3.1416) ├»\n",
       "«      └─────────────────────┘└───┘└───┘└───────────┘└─────────────────────┘»\n",
       "«      ┌──────────┐┌─────────────────────┐┌───┐                »\n",
       "«qr_0: ┤ U1(0.05) ├┤ U3(3.1416,0,3.1416) ├┤ H ├──■─────────────»\n",
       "«      ├──────────┤├─────────────────────┤├───┤┌─┴─┐┌─────────┐»\n",
       "«qr_1: ┤ U1(0.05) ├┤ U3(3.1416,0,3.1416) ├┤ H ├┤ X ├┤ U1(0.1) ├»\n",
       "«      └──────────┘└─────────────────────┘└───┘└───┘└─────────┘»\n",
       "«                                                                     ┌───┐»\n",
       "«qr_0: ────────────────────────────────────────────────────────────■──┤ H ├»\n",
       "«      ┌─────────────────────┐┌──────────┐┌─────────────────────┐┌─┴─┐├───┤»\n",
       "«qr_1: ┤ U3(3.1416,0,3.1416) ├┤ U1(-0.1) ├┤ U3(3.1416,0,3.1416) ├┤ X ├┤ H ├»\n",
       "«      └─────────────────────┘└──────────┘└─────────────────────┘└───┘└───┘»\n",
       "«      ┌───────────┐┌─────────────────────┐┌──────────┐┌─────────────────────┐»\n",
       "«qr_0: ┤ U1(-0.05) ├┤ U3(3.1416,0,3.1416) ├┤ U1(0.05) ├┤ U3(3.1416,0,3.1416) ├»\n",
       "«      ├───────────┤├─────────────────────┤├──────────┤├─────────────────────┤»\n",
       "«qr_1: ┤ U1(-0.05) ├┤ U3(3.1416,0,3.1416) ├┤ U1(0.05) ├┤ U3(3.1416,0,3.1416) ├»\n",
       "«      └───────────┘└─────────────────────┘└──────────┘└─────────────────────┘»\n",
       "«      ┌───┐                                                   »\n",
       "«qr_0: ┤ H ├──■────────────────────────────────────────────────»\n",
       "«      ├───┤┌─┴─┐┌─────────┐┌─────────────────────┐┌──────────┐»\n",
       "«qr_1: ┤ H ├┤ X ├┤ U1(0.1) ├┤ U3(3.1416,0,3.1416) ├┤ U1(-0.1) ├»\n",
       "«      └───┘└───┘└─────────┘└─────────────────────┘└──────────┘»\n",
       "«                                  ┌───┐┌───────────┐┌─────────────────────┐»\n",
       "«qr_0: ─────────────────────────■──┤ H ├┤ U1(-0.05) ├┤ U3(3.1416,0,3.1416) ├»\n",
       "«      ┌─────────────────────┐┌─┴─┐├───┤├───────────┤├─────────────────────┤»\n",
       "«qr_1: ┤ U3(3.1416,0,3.1416) ├┤ X ├┤ H ├┤ U1(-0.05) ├┤ U3(3.1416,0,3.1416) ├»\n",
       "«      └─────────────────────┘└───┘└───┘└───────────┘└─────────────────────┘»\n",
       "«      ┌──────────┐┌─────────────────────┐┌───┐                »\n",
       "«qr_0: ┤ U1(0.05) ├┤ U3(3.1416,0,3.1416) ├┤ H ├──■─────────────»\n",
       "«      ├──────────┤├─────────────────────┤├───┤┌─┴─┐┌─────────┐»\n",
       "«qr_1: ┤ U1(0.05) ├┤ U3(3.1416,0,3.1416) ├┤ H ├┤ X ├┤ U1(0.1) ├»\n",
       "«      └──────────┘└─────────────────────┘└───┘└───┘└─────────┘»\n",
       "«                                                                     ┌───┐»\n",
       "«qr_0: ────────────────────────────────────────────────────────────■──┤ H ├»\n",
       "«      ┌─────────────────────┐┌──────────┐┌─────────────────────┐┌─┴─┐├───┤»\n",
       "«qr_1: ┤ U3(3.1416,0,3.1416) ├┤ U1(-0.1) ├┤ U3(3.1416,0,3.1416) ├┤ X ├┤ H ├»\n",
       "«      └─────────────────────┘└──────────┘└─────────────────────┘└───┘└───┘»\n",
       "«      ┌───────────┐┌─────────────────────┐┌──────────┐┌─────────────────────┐»\n",
       "«qr_0: ┤ U1(-0.05) ├┤ U3(3.1416,0,3.1416) ├┤ U1(0.05) ├┤ U3(3.1416,0,3.1416) ├»\n",
       "«      ├───────────┤├─────────────────────┤├──────────┤├─────────────────────┤»\n",
       "«qr_1: ┤ U1(-0.05) ├┤ U3(3.1416,0,3.1416) ├┤ U1(0.05) ├┤ U3(3.1416,0,3.1416) ├»\n",
       "«      └───────────┘└─────────────────────┘└──────────┘└─────────────────────┘»\n",
       "«      ┌───┐                                                   »\n",
       "«qr_0: ┤ H ├──■────────────────────────────────────────────────»\n",
       "«      ├───┤┌─┴─┐┌─────────┐┌─────────────────────┐┌──────────┐»\n",
       "«qr_1: ┤ H ├┤ X ├┤ U1(0.1) ├┤ U3(3.1416,0,3.1416) ├┤ U1(-0.1) ├»\n",
       "«      └───┘└───┘└─────────┘└─────────────────────┘└──────────┘»\n",
       "«                                  ┌───┐┌───────────┐┌─────────────────────┐»\n",
       "«qr_0: ─────────────────────────■──┤ H ├┤ U1(-0.05) ├┤ U3(3.1416,0,3.1416) ├»\n",
       "«      ┌─────────────────────┐┌─┴─┐├───┤├───────────┤├─────────────────────┤»\n",
       "«qr_1: ┤ U3(3.1416,0,3.1416) ├┤ X ├┤ H ├┤ U1(-0.05) ├┤ U3(3.1416,0,3.1416) ├»\n",
       "«      └─────────────────────┘└───┘└───┘└───────────┘└─────────────────────┘»\n",
       "«      ┌──────────┐┌─────────────────────┐┌───┐                »\n",
       "«qr_0: ┤ U1(0.05) ├┤ U3(3.1416,0,3.1416) ├┤ H ├──■─────────────»\n",
       "«      ├──────────┤├─────────────────────┤├───┤┌─┴─┐┌─────────┐»\n",
       "«qr_1: ┤ U1(0.05) ├┤ U3(3.1416,0,3.1416) ├┤ H ├┤ X ├┤ U1(0.1) ├»\n",
       "«      └──────────┘└─────────────────────┘└───┘└───┘└─────────┘»\n",
       "«                                                                     ┌───┐»\n",
       "«qr_0: ────────────────────────────────────────────────────────────■──┤ H ├»\n",
       "«      ┌─────────────────────┐┌──────────┐┌─────────────────────┐┌─┴─┐├───┤»\n",
       "«qr_1: ┤ U3(3.1416,0,3.1416) ├┤ U1(-0.1) ├┤ U3(3.1416,0,3.1416) ├┤ X ├┤ H ├»\n",
       "«      └─────────────────────┘└──────────┘└─────────────────────┘└───┘└───┘»\n",
       "«      ┌───────────┐┌─────────────────────┐┌──────────┐┌─────────────────────┐»\n",
       "«qr_0: ┤ U1(-0.05) ├┤ U3(3.1416,0,3.1416) ├┤ U1(0.05) ├┤ U3(3.1416,0,3.1416) ├»\n",
       "«      ├───────────┤├─────────────────────┤├──────────┤├─────────────────────┤»\n",
       "«qr_1: ┤ U1(-0.05) ├┤ U3(3.1416,0,3.1416) ├┤ U1(0.05) ├┤ U3(3.1416,0,3.1416) ├»\n",
       "«      └───────────┘└─────────────────────┘└──────────┘└─────────────────────┘»\n",
       "«      ┌───┐\n",
       "«qr_0: ┤ H ├\n",
       "«      ├───┤\n",
       "«qr_1: ┤ H ├\n",
       "«      └───┘</pre>"
      ],
      "text/plain": [
       "<qiskit.visualization.text.TextDrawing at 0x15c3ef17d48>"
      ]
     },
     "execution_count": 28,
     "metadata": {},
     "output_type": "execute_result"
    }
   ],
   "source": [
    "# Construct Circuit\n",
    "qr = QuantumRegister(2, 'qr')\n",
    "circ = QuantumCircuit(qr)\n",
    "circ = trotter_circuit(circ, qr, H, T, 10)\n",
    "circ.draw()\n"
   ]
  },
  {
   "cell_type": "code",
   "execution_count": 44,
   "metadata": {},
   "outputs": [
    {
     "name": "stdout",
     "output_type": "stream",
     "text": [
      "[[ 0.349-0.769j -0.039+0.348j -0.039+0.348j -0.191+0.073j]\n",
      " [ 0.039+0.348j  0.349+0.769j -0.191-0.073j  0.039+0.348j]\n",
      " [ 0.039+0.348j -0.191-0.073j  0.349+0.769j  0.039+0.348j]\n",
      " [-0.191+0.073j -0.039+0.348j -0.039+0.348j  0.349-0.769j]]\n"
     ]
    }
   ],
   "source": [
    "job = execute(circ, backend)\n",
    "trotterized_unitary = job.result().get_unitary(circ, decimals=3)\n",
    "print(trotterized_unitary)"
   ]
  },
  {
   "cell_type": "code",
   "execution_count": 30,
   "metadata": {},
   "outputs": [
    {
     "name": "stdout",
     "output_type": "stream",
     "text": [
      "[[-6.44877000e-01-0.66996349j  2.77555756e-17+0.299228j\n",
      "  -2.77555756e-17+0.299228j   -1.90179306e-01+0.07150749j]\n",
      " [ 0.00000000e+00+0.299228j   -6.44877000e-01+0.66996349j\n",
      "  -1.90179306e-01-0.07150749j -2.77555756e-17+0.299228j  ]\n",
      " [ 0.00000000e+00+0.299228j   -1.90179306e-01-0.07150749j\n",
      "  -6.44877000e-01+0.66996349j -2.77555756e-17+0.299228j  ]\n",
      " [-1.90179306e-01+0.07150749j  0.00000000e+00+0.299228j\n",
      "  -2.77555756e-17+0.299228j   -6.44877000e-01-0.66996349j]]\n"
     ]
    }
   ],
   "source": [
    "# Compare the exact unitary and trotterized unitary\n",
    "print(exact-trotterized)"
   ]
  },
  {
   "cell_type": "code",
   "execution_count": 40,
   "metadata": {},
   "outputs": [
    {
     "data": {
      "image/png": "[encoded data removed]",
      "text/plain": [
       "<Figure size 432x288 with 1 Axes>"
      ]
     },
     "metadata": {
      "needs_background": "light"
     },
     "output_type": "display_data"
    }
   ],
   "source": [
    "tr_spectra = []\n",
    "for n_steps in range(10):\n",
    "    # Construct Circuit\n",
    "    qr = QuantumRegister(2, 'qr')\n",
    "    circ = QuantumCircuit(qr)\n",
    "    circ = trotter_circuit(circ, qr, H, T, n_steps)\n",
    "    job = execute(circ, backend)\n",
    "    eigvals, _ = eig(job.result().get_unitary(circ, decimals=3))\n",
    "    tr_spectra.append(eigvals)\n",
    "plt.plot(range(10), tr_spectra, label='Trotterized')\n",
    "plt.plot(range(10), np.tile(np.reshape(spectrum, [1, -1]), [10, 1]), linestyle='--', label='scipy')\n",
    "plt.xlabel(\"# Steps\")\n",
    "plt.ylabel(\"Spectrum\")\n",
    "plt.legend(bbox_to_anchor=(1.3, 1))\n",
    "plt.show()"
   ]
  },
  {
   "cell_type": "code",
   "execution_count": 45,
   "metadata": {},
   "outputs": [
    {
     "name": "stdout",
     "output_type": "stream",
     "text": [
      "[[ 1.  -0.5 -0.5  0. ]\n",
      " [-0.5 -1.   0.  -0.5]\n",
      " [-0.5  0.  -1.  -0.5]\n",
      " [ 0.  -0.5 -0.5  1. ]]\n",
      "[[ 0.99797023+0.00011096j -0.4977002 -0.05577675j -0.4977002 -0.05577675j\n",
      "  -0.00256983-0.00017096j]\n",
      " [-0.4977002 +0.05577675j -0.99797023+0.00011096j  0.00256983-0.00017096j\n",
      "  -0.4977002 +0.05577675j]\n",
      " [-0.4977002 +0.05577675j  0.00256983-0.00017096j -0.99797023+0.00011096j\n",
      "  -0.4977002 +0.05577675j]\n",
      " [-0.00256983-0.00017096j -0.4977002 -0.05577675j -0.4977002 -0.05577675j\n",
      "   0.99797023+0.00011096j]]\n"
     ]
    }
   ],
   "source": [
    "print(H.matrix_form())\n",
    "print(logm(trotterized_unitary)/(-1j*T))"
   ]
  },
  {
   "cell_type": "code",
   "execution_count": null,
   "metadata": {},
   "outputs": [],
   "source": []
  }
 ],
 "metadata": {
  "kernelspec": {
   "display_name": "Python 3",
   "language": "python",
   "name": "python3"
  },
  "language_info": {
   "codemirror_mode": {
    "name": "ipython",
    "version": 3
   },
   "file_extension": ".py",
   "mimetype": "text/x-python",
   "name": "python",
   "nbconvert_exporter": "python",
   "pygments_lexer": "ipython3",
   "version": "3.7.4"
  }
 },
 "nbformat": 4,
 "nbformat_minor": 2
}
