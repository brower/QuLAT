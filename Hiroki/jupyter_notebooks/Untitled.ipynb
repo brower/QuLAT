{
 "cells": [
  {
   "cell_type": "code",
   "execution_count": 6,
   "metadata": {},
   "outputs": [
    {
     "data": {
      "text/plain": [
       "'0.12.0'"
      ]
     },
     "execution_count": 6,
     "metadata": {},
     "output_type": "execute_result"
    }
   ],
   "source": [
    "import os\n",
    "import sys\n",
    "module_path = os.path.abspath(os.path.join('..'))\n",
    "if module_path not in sys.path:\n",
    "    sys.path.append(module_path)\n",
    "import numpy as np\n",
    "from scipy.linalg import expm, eig\n",
    "import qiskit\n",
    "from qiskit import QuantumCircuit, QuantumRegister, BasicAer, execute\n",
    "from operators.pauli_hamiltonian import PauliHamiltonian\n",
    "import matplotlib.pyplot as plt\n",
    "from utils.circuits import add_crx, add_ccrx\n",
    "from quantum_circuit.trotterization import trotter_electric, trotter_coupling, trotter_plaquette\n",
    "qiskit.__version__"
   ]
  },
  {
   "cell_type": "code",
   "execution_count": 2,
   "metadata": {},
   "outputs": [
    {
     "name": "stdout",
     "output_type": "stream",
     "text": [
      "[[-1. -1. -1.  0.]\n",
      " [-1.  1.  0. -1.]\n",
      " [-1.  0.  1. -1.]\n",
      " [ 0. -1. -1. -1.]]\n"
     ]
    },
    {
     "data": {
      "image/png": "[encoded data removed]",
      "text/plain": [
       "<matplotlib.figure.Figure at 0x2b456b86c88>"
      ]
     },
     "metadata": {
      "needs_background": "light"
     },
     "output_type": "display_data"
    }
   ],
   "source": [
    "Jz = 1.0\n",
    "Jx = 1.0\n",
    "H = PauliHamiltonian([-Jz,-Jx,-Jx],[{0 : \"Z\",1 : \"Z\"},{0 : \"X\"},{1 : \"X\"}],2)\n",
    "print(H.matrix_form())\n",
    "\n",
    "plt.matshow(np.abs(H.matrix_form()))\n",
    "plt.show()"
   ]
  },
  {
   "cell_type": "code",
   "execution_count": 7,
   "metadata": {},
   "outputs": [],
   "source": [
    "# Initialize Simulator\n",
    "backend = BasicAer.get_backend('unitary_simulator')"
   ]
  },
  {
   "cell_type": "code",
   "execution_count": 4,
   "metadata": {},
   "outputs": [
    {
     "data": {
      "text/html": [
       "<pre style=\"word-wrap: normal;white-space: pre;background: #fff0;line-height: 1.1;font-family: &quot;Courier New&quot;,Courier,monospace\">         \n",
       "qr_0: |0>\n",
       "         \n",
       "qr_1: |0>\n",
       "         </pre>"
      ],
      "text/plain": [
       "         \n",
       "qr_0: |0>\n",
       "         \n",
       "qr_1: |0>\n",
       "         "
      ]
     },
     "execution_count": 4,
     "metadata": {},
     "output_type": "execute_result"
    }
   ],
   "source": [
    "# Construct Circuit\n",
    "qr = QuantumRegister(2, 'qr')\n",
    "circ = QuantumCircuit(qr)\n",
    "#circ = trotter_circuit(circ, qr, H, T, 10)\n",
    "circ.draw()\n"
   ]
  },
  {
   "cell_type": "code",
   "execution_count": 5,
   "metadata": {},
   "outputs": [
    {
     "name": "stdout",
     "output_type": "stream",
     "text": [
      "[[1.+0.j 0.+0.j 0.+0.j 0.+0.j]\n",
      " [0.+0.j 1.+0.j 0.+0.j 0.+0.j]\n",
      " [0.+0.j 0.+0.j 1.+0.j 0.+0.j]\n",
      " [0.+0.j 0.+0.j 0.+0.j 1.+0.j]]\n"
     ]
    }
   ],
   "source": [
    "job = execute(circ, backend)\n",
    "trotterized_unitary = job.result().get_unitary(circ, decimals=3)\n",
    "print(trotterized_unitary)"
   ]
  },
  {
   "cell_type": "code",
   "execution_count": 6,
   "metadata": {},
   "outputs": [
    {
     "ename": "NameError",
     "evalue": "name 'exact' is not defined",
     "output_type": "error",
     "traceback": [
      "\u001b[1;31m---------------------------------------------------------------------------\u001b[0m",
      "\u001b[1;31mNameError\u001b[0m                                 Traceback (most recent call last)",
      "\u001b[1;32m<ipython-input-6-fc2de3841ec4>\u001b[0m in \u001b[0;36m<module>\u001b[1;34m\u001b[0m\n\u001b[0;32m      1\u001b[0m \u001b[1;31m# Compare the exact unitary and trotterized unitary\u001b[0m\u001b[1;33m\u001b[0m\u001b[1;33m\u001b[0m\u001b[0m\n\u001b[1;32m----> 2\u001b[1;33m \u001b[0mprint\u001b[0m\u001b[1;33m(\u001b[0m\u001b[0mexact\u001b[0m\u001b[1;33m-\u001b[0m\u001b[0mtrotterized\u001b[0m\u001b[1;33m)\u001b[0m\u001b[1;33m\u001b[0m\u001b[0m\n\u001b[0m",
      "\u001b[1;31mNameError\u001b[0m: name 'exact' is not defined"
     ]
    }
   ],
   "source": [
    "# Compare the exact unitary and trotterized unitary\n",
    "print(exact-trotterized)"
   ]
  },
  {
   "cell_type": "code",
   "execution_count": 8,
   "metadata": {},
   "outputs": [
    {
     "ename": "NameError",
     "evalue": "name 'trotter_circuit' is not defined",
     "output_type": "error",
     "traceback": [
      "\u001b[1;31m---------------------------------------------------------------------------\u001b[0m",
      "\u001b[1;31mNameError\u001b[0m                                 Traceback (most recent call last)",
      "\u001b[1;32m<ipython-input-8-60a3a05bcb3b>\u001b[0m in \u001b[0;36m<module>\u001b[1;34m\u001b[0m\n\u001b[0;32m      4\u001b[0m     \u001b[0mqr\u001b[0m \u001b[1;33m=\u001b[0m \u001b[0mQuantumRegister\u001b[0m\u001b[1;33m(\u001b[0m\u001b[1;36m2\u001b[0m\u001b[1;33m,\u001b[0m \u001b[1;34m'qr'\u001b[0m\u001b[1;33m)\u001b[0m\u001b[1;33m\u001b[0m\u001b[0m\n\u001b[0;32m      5\u001b[0m     \u001b[0mcirc\u001b[0m \u001b[1;33m=\u001b[0m \u001b[0mQuantumCircuit\u001b[0m\u001b[1;33m(\u001b[0m\u001b[0mqr\u001b[0m\u001b[1;33m)\u001b[0m\u001b[1;33m\u001b[0m\u001b[0m\n\u001b[1;32m----> 6\u001b[1;33m     \u001b[0mcirc\u001b[0m \u001b[1;33m=\u001b[0m \u001b[0mtrotter_circuit\u001b[0m\u001b[1;33m(\u001b[0m\u001b[0mcirc\u001b[0m\u001b[1;33m,\u001b[0m \u001b[0mqr\u001b[0m\u001b[1;33m,\u001b[0m \u001b[0mH\u001b[0m\u001b[1;33m,\u001b[0m \u001b[0mT\u001b[0m\u001b[1;33m,\u001b[0m \u001b[0mn_steps\u001b[0m\u001b[1;33m)\u001b[0m\u001b[1;33m\u001b[0m\u001b[0m\n\u001b[0m\u001b[0;32m      7\u001b[0m     \u001b[0mjob\u001b[0m \u001b[1;33m=\u001b[0m \u001b[0mexecute\u001b[0m\u001b[1;33m(\u001b[0m\u001b[0mcirc\u001b[0m\u001b[1;33m,\u001b[0m \u001b[0mbackend\u001b[0m\u001b[1;33m)\u001b[0m\u001b[1;33m\u001b[0m\u001b[0m\n\u001b[0;32m      8\u001b[0m     \u001b[0meigvals\u001b[0m\u001b[1;33m,\u001b[0m \u001b[0m_\u001b[0m \u001b[1;33m=\u001b[0m \u001b[0meig\u001b[0m\u001b[1;33m(\u001b[0m\u001b[0mjob\u001b[0m\u001b[1;33m.\u001b[0m\u001b[0mresult\u001b[0m\u001b[1;33m(\u001b[0m\u001b[1;33m)\u001b[0m\u001b[1;33m.\u001b[0m\u001b[0mget_unitary\u001b[0m\u001b[1;33m(\u001b[0m\u001b[0mcirc\u001b[0m\u001b[1;33m,\u001b[0m \u001b[0mdecimals\u001b[0m\u001b[1;33m=\u001b[0m\u001b[1;36m3\u001b[0m\u001b[1;33m)\u001b[0m\u001b[1;33m)\u001b[0m\u001b[1;33m\u001b[0m\u001b[0m\n",
      "\u001b[1;31mNameError\u001b[0m: name 'trotter_circuit' is not defined"
     ]
    }
   ],
   "source": [
    "tr_spectra = []\n",
    "for n_steps in range(10):\n",
    "    # Construct Circuit\n",
    "    qr = QuantumRegister(2, 'qr')\n",
    "    circ = QuantumCircuit(qr)\n",
    "    circ = trotter_circuit(circ, qr, H, T, n_steps)\n",
    "    job = execute(circ, backend)\n",
    "    eigvals, _ = eig(job.result().get_unitary(circ, decimals=3))\n",
    "    tr_spectra.append(eigvals)\n",
    "plt.plot(range(10), tr_spectra, label='Trotterized')\n",
    "plt.plot(range(10), np.tile(np.reshape(spectrum, [1, -1]), [10, 1]), linestyle='--', label='scipy')\n",
    "plt.xlabel(\"# Steps\")\n",
    "plt.ylabel(\"Spectrum\")\n",
    "plt.legend(bbox_to_anchor=(1.3, 1))\n",
    "plt.show()"
   ]
  },
  {
   "cell_type": "code",
   "execution_count": null,
   "metadata": {},
   "outputs": [],
   "source": [
    "qr = QuantumRegister(2, 'qr')\n",
    "circ = QuantumCircuit(qr)\n",
    "circ.cx(qr[0], qr[1])\n",
    "#circ.cx(qr[1], qr[2])\n",
    "circ.rx(np.pi/2, qr[1])\n",
    "#circ.cx(qr[1], qr[2])\n",
    "circ.cx(qr[0], qr[1])\n",
    "job = execute(circ, backend)\n",
    "trotterized_unitary = job.result().get_unitary(circ, decimals=3)\n",
    "print(trotterized_unitary)"
   ]
  },
  {
   "cell_type": "code",
   "execution_count": null,
   "metadata": {},
   "outputs": [],
   "source": [
    "X = np.array([[0, 1], [1, 0]])\n",
    "eX = expm(1j*np.kron(X, X)*np.pi/4)\n",
    "print(np.around(eX, decimals=3))"
   ]
  },
  {
   "cell_type": "code",
   "execution_count": null,
   "metadata": {},
   "outputs": [],
   "source": [
    "qr = QuantumRegister(1, 'qr')\n",
    "circ = QuantumCircuit(qr)\n",
    "circ.ry(np.pi/4, qr[0])\n",
    "job = execute(circ, backend)\n",
    "trotterized_unitary = job.result().get_unitary(circ, decimals=3)\n",
    "print(trotterized_unitary)"
   ]
  },
  {
   "cell_type": "code",
   "execution_count": null,
   "metadata": {},
   "outputs": [],
   "source": [
    "qr = QuantumRegister(2, 'qr')\n",
    "circ = QuantumCircuit(qr)\n",
    "#circ.cx(qr[1], qr[0])\n",
    "#circ.x(qr[0])\n",
    "#circ.cx(qr[0], qr[1])\n",
    "circ.cu3(-np.pi/2, np.pi/2, -np.pi/2,  qr[0], qr[1])\n",
    "#circ.cx(qr[0], qr[1])\n",
    "#circ.x(qr[0])\n",
    "#circ.cx(qr[1], qr[0])\n",
    "job = execute(circ, backend)\n",
    "trotterized_unitary = job.result().get_unitary(circ, decimals=3)\n",
    "print(trotterized_unitary)"
   ]
  },
  {
   "cell_type": "code",
   "execution_count": null,
   "metadata": {},
   "outputs": [],
   "source": [
    "qr = QuantumRegister(2, 'qr')\n",
    "circ = QuantumCircuit(qr)\n",
    "circ.u1(np.pi/2, qr[1])\n",
    "circ.cx(qr[0], qr[1])\n",
    "circ.u3(-np.pi/4, 0, 0, qr[1])\n",
    "circ.cx(qr[0], qr[1])\n",
    "circ.u3(np.pi/4, 0, 0, qr[1])\n",
    "circ.u1(-np.pi/2, qr[1])\n",
    "job = execute(circ, backend)\n",
    "trotterized_unitary = job.result().get_unitary(circ, decimals=3)\n",
    "print(trotterized_unitary)"
   ]
  },
  {
   "cell_type": "code",
   "execution_count": null,
   "metadata": {},
   "outputs": [],
   "source": [
    "qr = QuantumRegister(2, 'qr')\n",
    "circ = QuantumCircuit(qr)\n",
    "circ.crx(np.pi/4, qr[0], qr[1])\n",
    "job = execute(circ, backend)\n",
    "trotterized_unitary = job.result().get_unitary(circ, decimals=3)\n",
    "print(trotterized_unitary)\n"
   ]
  },
  {
   "cell_type": "code",
   "execution_count": null,
   "metadata": {},
   "outputs": [],
   "source": [
    "qr = QuantumRegister(2, 'qr')\n",
    "circ = QuantumCircuit(qr)\n",
    "circ = add_crx(circ, np.pi/4, qr[0], qr[1])\n",
    "job = execute(circ, backend)\n",
    "trotterized_unitary = job.result().get_unitary(circ, decimals=3)\n",
    "print(trotterized_unitary)"
   ]
  },
  {
   "cell_type": "code",
   "execution_count": null,
   "metadata": {},
   "outputs": [],
   "source": [
    "qr = QuantumRegister(3, 'qr')\n",
    "circ = QuantumCircuit(qr)\n",
    "circ = add_ccrx(circ, np.pi/4, qr[2], qr[1], qr[0])\n",
    "job = execute(circ, backend)\n",
    "trotterized_unitary = job.result().get_unitary(circ, decimals=3)\n",
    "print(trotterized_unitary)"
   ]
  },
  {
   "cell_type": "code",
   "execution_count": 10,
   "metadata": {},
   "outputs": [
    {
     "name": "stdout",
     "output_type": "stream",
     "text": [
      "[[0.878-0.479j 0.   +0.j    0.   +0.j    0.   +0.j   ]\n",
      " [0.   +0.j    0.878+0.479j 0.   +0.j    0.   +0.j   ]\n",
      " [0.   +0.j    0.   +0.j    0.878+0.479j 0.   +0.j   ]\n",
      " [0.   +0.j    0.   +0.j    0.   +0.j    0.878-0.479j]]\n",
      "[[0.87758256-0.47942554j 0.        +0.j         0.        +0.j\n",
      "  0.        +0.j        ]\n",
      " [0.        +0.j         0.87758256+0.47942554j 0.        +0.j\n",
      "  0.        +0.j        ]\n",
      " [0.        +0.j         0.        +0.j         0.87758256+0.47942554j\n",
      "  0.        +0.j        ]\n",
      " [0.        +0.j         0.        +0.j         0.        +0.j\n",
      "  0.87758256-0.47942554j]]\n"
     ]
    }
   ],
   "source": [
    "Sz = np.array([[1, 0], [0, -1]])\n",
    "qr = QuantumRegister(2, 'qr')\n",
    "circ = QuantumCircuit(qr)\n",
    "circ = trotter_electric(circ, qr, [0, 1], 1, 0.5)\n",
    "job = execute(circ, backend)\n",
    "trotterized_unitary = job.result().get_unitary(circ, decimals=3)\n",
    "print(trotterized_unitary)\n",
    "print(expm(-1j*np.kron(Sz, Sz)*1*0.5))"
   ]
  },
  {
   "cell_type": "code",
   "execution_count": 11,
   "metadata": {},
   "outputs": [
    {
     "name": "stdout",
     "output_type": "stream",
     "text": [
      "[[0.707-0.707j 0.   +0.j   ]\n",
      " [0.   +0.j    0.707+0.707j]]\n",
      "[[0.87758256-0.47942554j 0.        +0.j         0.        +0.j\n",
      "  0.        +0.j        ]\n",
      " [0.        +0.j         0.87758256+0.47942554j 0.        +0.j\n",
      "  0.        +0.j        ]\n",
      " [0.        +0.j         0.        +0.j         0.87758256+0.47942554j\n",
      "  0.        +0.j        ]\n",
      " [0.        +0.j         0.        +0.j         0.        +0.j\n",
      "  0.87758256-0.47942554j]]\n"
     ]
    },
    {
     "data": {
      "text/html": [
       "<pre style=\"word-wrap: normal;white-space: pre;background: #fff0;line-height: 1.1;font-family: &quot;Courier New&quot;,Courier,monospace\">         ┌──────────┐┌─────────┐┌───────────┐┌─────────┐\n",
       "qr_0: |0>┤ Rz(pi/4) ├┤ Unitary ├┤ Rz(-pi/4) ├┤ Unitary ├\n",
       "         └──────────┘└─────────┘└───────────┘└─────────┘</pre>"
      ],
      "text/plain": [
       "         ┌──────────┐┌─────────┐┌───────────┐┌─────────┐\n",
       "qr_0: |0>┤ Rz(pi/4) ├┤ Unitary ├┤ Rz(-pi/4) ├┤ Unitary ├\n",
       "         └──────────┘└─────────┘└───────────┘└─────────┘"
      ]
     },
     "execution_count": 11,
     "metadata": {},
     "output_type": "execute_result"
    }
   ],
   "source": [
    "qr = QuantumRegister(1, 'qr')\n",
    "circ = QuantumCircuit(qr)\n",
    "coef = np.pi/8\n",
    "deltaT = 1\n",
    "target_indices = [0, 1]\n",
    "\"\"\"\n",
    "circ.x(qr[0])\n",
    "circ.u3(0, 0, np.pi/8, 0)\n",
    "#circ.u3(-np.pi, 0, -np.pi, 0)\n",
    "circ.x(qr[0])\n",
    "circ.u3(0, 0, -np.pi/8, 0)\n",
    "#circ.u3(-np.pi, 0, -np.pi, 0)\n",
    "\"\"\"\n",
    "from qiskit.quantum_info.operators import Operator\n",
    "circ.rz(np.pi/4,0)\n",
    "circ.unitary(Operator([[0, 1], [1, 0]]), [0])\n",
    "#circ.x(qr[0])\n",
    "#circ.u3(np.pi, 0, np.pi, 0)\n",
    "circ.rz(-np.pi/4,0)\n",
    "circ.unitary(Operator([[0, 1], [1, 0]]), [0])\n",
    "#circ.x(qr[0])\n",
    "job = execute(circ, backend)\n",
    "trotterized_unitary = job.result().get_unitary(circ, decimals=3)\n",
    "print(trotterized_unitary)\n",
    "print(expm(-1j*np.kron(Sz, Sz)*1*0.5))\n",
    "circ.draw()"
   ]
  },
  {
   "cell_type": "code",
   "execution_count": 12,
   "metadata": {},
   "outputs": [
    {
     "name": "stdout",
     "output_type": "stream",
     "text": [
      "[[ 0.54-0.j     0.  +0.j     0.  +0.j     0.  +0.j     0.  +0.j\n",
      "   0.  +0.j     0.  +0.j    -0.  -0.841j]\n",
      " [ 0.  +0.j     1.  -0.j     0.  +0.j     0.  +0.j     0.  +0.j\n",
      "   0.  +0.j     0.  +0.j     0.  +0.j   ]\n",
      " [ 0.  +0.j     0.  +0.j     1.  -0.j     0.  +0.j     0.  +0.j\n",
      "   0.  +0.j     0.  +0.j     0.  +0.j   ]\n",
      " [ 0.  +0.j     0.  +0.j     0.  +0.j     1.  -0.j     0.  +0.j\n",
      "   0.  +0.j     0.  +0.j     0.  +0.j   ]\n",
      " [ 0.  +0.j     0.  +0.j     0.  +0.j     0.  +0.j     1.  -0.j\n",
      "   0.  +0.j     0.  +0.j     0.  +0.j   ]\n",
      " [ 0.  +0.j     0.  +0.j     0.  +0.j     0.  +0.j     0.  +0.j\n",
      "   1.  -0.j     0.  +0.j     0.  +0.j   ]\n",
      " [ 0.  +0.j     0.  +0.j     0.  +0.j     0.  +0.j     0.  +0.j\n",
      "   0.  +0.j     1.  -0.j     0.  +0.j   ]\n",
      " [-0.  -0.841j  0.  +0.j     0.  +0.j     0.  +0.j     0.  +0.j\n",
      "   0.  +0.j     0.  +0.j     0.54-0.j   ]]\n",
      "[[0.54030231+0.j         0.        +0.j         0.        +0.j\n",
      "  0.        +0.j         0.        +0.j         0.        +0.j\n",
      "  0.        +0.j         0.        -0.84147098j]\n",
      " [0.        +0.j         1.        +0.j         0.        +0.j\n",
      "  0.        +0.j         0.        +0.j         0.        +0.j\n",
      "  0.        +0.j         0.        +0.j        ]\n",
      " [0.        +0.j         0.        +0.j         1.        +0.j\n",
      "  0.        +0.j         0.        +0.j         0.        +0.j\n",
      "  0.        +0.j         0.        +0.j        ]\n",
      " [0.        +0.j         0.        +0.j         0.        +0.j\n",
      "  1.        +0.j         0.        +0.j         0.        +0.j\n",
      "  0.        +0.j         0.        +0.j        ]\n",
      " [0.        +0.j         0.        +0.j         0.        +0.j\n",
      "  0.        +0.j         1.        +0.j         0.        +0.j\n",
      "  0.        +0.j         0.        +0.j        ]\n",
      " [0.        +0.j         0.        +0.j         0.        +0.j\n",
      "  0.        +0.j         0.        +0.j         1.        +0.j\n",
      "  0.        +0.j         0.        +0.j        ]\n",
      " [0.        +0.j         0.        +0.j         0.        +0.j\n",
      "  0.        +0.j         0.        +0.j         0.        +0.j\n",
      "  1.        +0.j         0.        +0.j        ]\n",
      " [0.        -0.84147098j 0.        +0.j         0.        +0.j\n",
      "  0.        +0.j         0.        +0.j         0.        +0.j\n",
      "  0.        +0.j         0.54030231+0.j        ]]\n"
     ]
    },
    {
     "data": {
      "image/png": "[encoded data removed]",
      "text/plain": [
       "<matplotlib.figure.Figure at 0x1be6ec69358>"
      ]
     },
     "metadata": {
      "needs_background": "light"
     },
     "output_type": "display_data"
    },
    {
     "data": {
      "image/png": "[encoded data removed]",
      "text/plain": [
       "<matplotlib.figure.Figure at 0x1be7c8fb2b0>"
      ]
     },
     "metadata": {
      "needs_background": "light"
     },
     "output_type": "display_data"
    }
   ],
   "source": [
    "Sp = np.array([[0, 1], [0, 0]])\n",
    "Sm = np.array([[0, 0], [1, 0]])\n",
    "qr = QuantumRegister(3, 'qr')\n",
    "circ = QuantumCircuit(qr)\n",
    "for i in range(10):\n",
    "    circ = trotter_plaquette(circ, qr, [0, 1, 2], 1, 0.1)\n",
    "job = execute(circ, backend)\n",
    "trotterized_unitary = job.result().get_unitary(circ, decimals=3)\n",
    "print(trotterized_unitary)\n",
    "print(expm(-1j*(np.kron(np.kron(Sp, Sp), Sp)+np.kron(np.kron(Sm, Sm), Sm))*1*1))\n",
    "plt.matshow(np.abs(trotterized_unitary))\n",
    "plt.show()\n",
    "plt.matshow(np.abs(expm(-1j*(np.kron(np.kron(Sp, Sp), Sp)+np.kron(np.kron(Sm, Sm), Sm))*1*1)))\n",
    "plt.show()"
   ]
  },
  {
   "cell_type": "code",
   "execution_count": 13,
   "metadata": {},
   "outputs": [
    {
     "name": "stdout",
     "output_type": "stream",
     "text": [
      "[[ 1.  +0.j     0.  +0.j     0.  +0.j     0.  +0.j   ]\n",
      " [ 0.  +0.j     0.54+0.j    -0.  -0.841j  0.  +0.j   ]\n",
      " [ 0.  +0.j     0.  -0.841j  0.54+0.j     0.  +0.j   ]\n",
      " [ 0.  +0.j     0.  +0.j     0.  +0.j     1.  +0.j   ]]\n",
      "[[1.        +0.j         0.        +0.j         0.        +0.j\n",
      "  0.        +0.j        ]\n",
      " [0.        +0.j         0.54030231+0.j         0.        -0.84147098j\n",
      "  0.        +0.j        ]\n",
      " [0.        +0.j         0.        -0.84147098j 0.54030231+0.j\n",
      "  0.        +0.j        ]\n",
      " [0.        +0.j         0.        +0.j         0.        +0.j\n",
      "  1.        +0.j        ]]\n"
     ]
    },
    {
     "data": {
      "image/png": "[encoded data removed]",
      "text/plain": [
       "<matplotlib.figure.Figure at 0x1be7c75bf60>"
      ]
     },
     "metadata": {
      "needs_background": "light"
     },
     "output_type": "display_data"
    },
    {
     "data": {
      "image/png": "[encoded data removed]",
      "text/plain": [
       "<matplotlib.figure.Figure at 0x1be7ca9e550>"
      ]
     },
     "metadata": {
      "needs_background": "light"
     },
     "output_type": "display_data"
    }
   ],
   "source": [
    "qr = QuantumRegister(2, 'qr')\n",
    "circ = QuantumCircuit(qr)\n",
    "for i in range(10):\n",
    "    circ = trotter_coupling(circ, qr, [0, 1], 1, 0.1)\n",
    "job = execute(circ, backend)\n",
    "trotterized_unitary = job.result().get_unitary(circ, decimals=3)\n",
    "print(trotterized_unitary)\n",
    "print(expm(-1j*(np.kron(Sp, Sm)+np.kron(Sm, Sp))*1*1))\n",
    "plt.matshow(np.abs(trotterized_unitary))\n",
    "plt.show()\n",
    "plt.matshow(np.abs(expm(-1j*(np.kron(Sp, Sm)+np.kron(Sm, Sp))*1*1)))\n",
    "plt.show()"
   ]
  },
  {
   "cell_type": "code",
   "execution_count": 32,
   "metadata": {},
   "outputs": [
    {
     "name": "stdout",
     "output_type": "stream",
     "text": [
      "[[0.+0.j 0.+0.j 1.-0.j 0.+0.j 0.+0.j 0.+0.j 0.+0.j 0.+0.j]\n",
      " [0.+0.j 0.+0.j 0.+0.j 0.+0.j 0.+0.j 1.-0.j 0.+0.j 0.+0.j]\n",
      " [0.+0.j 0.+0.j 0.+0.j 0.+0.j 1.-0.j 0.+0.j 0.+0.j 0.+0.j]\n",
      " [0.+0.j 0.+0.j 0.+0.j 1.-0.j 0.+0.j 0.+0.j 0.+0.j 0.+0.j]\n",
      " [0.+0.j 0.+0.j 0.+0.j 0.+0.j 0.+0.j 0.+0.j 1.-0.j 0.+0.j]\n",
      " [0.+0.j 1.-0.j 0.+0.j 0.+0.j 0.+0.j 0.+0.j 0.+0.j 0.+0.j]\n",
      " [1.+0.j 0.+0.j 0.+0.j 0.+0.j 0.+0.j 0.+0.j 0.+0.j 0.+0.j]\n",
      " [0.+0.j 0.+0.j 0.+0.j 0.+0.j 0.+0.j 0.+0.j 0.+0.j 1.+0.j]]\n"
     ]
    },
    {
     "data": {
      "image/png": "[encoded data removed]",
      "text/plain": [
       "<matplotlib.figure.Figure at 0x1be7cc2df60>"
      ]
     },
     "metadata": {
      "needs_background": "light"
     },
     "output_type": "display_data"
    },
    {
     "data": {
      "text/html": [
       "<pre style=\"word-wrap: normal;white-space: pre;background: #fff0;line-height: 1.1;font-family: &quot;Courier New&quot;,Courier,monospace\">                        \n",
       "qr_0: |0>───────■───────\n",
       "              ┌─┴─┐┌───┐\n",
       "qr_1: |0>──■──┤ X ├┤ X ├\n",
       "         ┌─┴─┐├───┤└───┘\n",
       "qr_2: |0>┤ X ├┤ X ├─────\n",
       "         └───┘└───┘     </pre>"
      ],
      "text/plain": [
       "                        \n",
       "qr_0: |0>───────■───────\n",
       "              ┌─┴─┐┌───┐\n",
       "qr_1: |0>──■──┤ X ├┤ X ├\n",
       "         ┌─┴─┐├───┤└───┘\n",
       "qr_2: |0>┤ X ├┤ X ├─────\n",
       "         └───┘└───┘     "
      ]
     },
     "execution_count": 32,
     "metadata": {},
     "output_type": "execute_result"
    }
   ],
   "source": [
    "qr = QuantumRegister(3, 'qr')\n",
    "circ = QuantumCircuit(qr)\n",
    "circ.cx(1, 2)\n",
    "circ.cx(0, 1)\n",
    "circ.x(1)\n",
    "circ.x(2)\n",
    "\"\"\"\n",
    "circ = add_ccrx(circ, np.pi/4, qr[2], qr[1], qr[0])\n",
    "circ.x(1)\n",
    "circ.x(2)\n",
    "circ.cx(0, 1)\n",
    "circ.cx(1, 2)\n",
    "\"\"\"\n",
    "job = execute(circ, backend)\n",
    "trotterized_unitary = job.result().get_unitary(circ, decimals=3)\n",
    "print(trotterized_unitary)\n",
    "plt.matshow(np.abs(trotterized_unitary))\n",
    "plt.show()\n",
    "circ.draw()"
   ]
  },
  {
   "cell_type": "code",
   "execution_count": 31,
   "metadata": {},
   "outputs": [
    {
     "name": "stdout",
     "output_type": "stream",
     "text": [
      "[[0.+0.j 0.+0.j 0.+0.j 0.+0.j 1.-0.j 0.+0.j 0.+0.j 0.+0.j]\n",
      " [0.+0.j 1.-0.j 0.+0.j 0.+0.j 0.+0.j 0.+0.j 0.+0.j 0.+0.j]\n",
      " [0.+0.j 0.+0.j 1.-0.j 0.+0.j 0.+0.j 0.+0.j 0.+0.j 0.+0.j]\n",
      " [0.+0.j 0.+0.j 0.+0.j 1.-0.j 0.+0.j 0.+0.j 0.+0.j 0.+0.j]\n",
      " [0.+0.j 0.+0.j 0.+0.j 0.+0.j 0.+0.j 0.+0.j 1.-0.j 0.+0.j]\n",
      " [0.+0.j 0.+0.j 0.+0.j 0.+0.j 0.+0.j 1.-0.j 0.+0.j 0.+0.j]\n",
      " [1.-0.j 0.+0.j 0.+0.j 0.+0.j 0.+0.j 0.+0.j 0.+0.j 0.+0.j]\n",
      " [0.+0.j 0.+0.j 0.+0.j 0.+0.j 0.+0.j 0.+0.j 0.+0.j 1.-0.j]]\n"
     ]
    },
    {
     "data": {
      "image/png": "[encoded data removed]",
      "text/plain": [
       "<matplotlib.figure.Figure at 0x1be7de78c18>"
      ]
     },
     "metadata": {
      "needs_background": "light"
     },
     "output_type": "display_data"
    },
    {
     "data": {
      "text/html": [
       "<pre style=\"word-wrap: normal;white-space: pre;background: #fff0;line-height: 1.1;font-family: &quot;Courier New&quot;,Courier,monospace\">         ┌───┐     ┌───┐┌───┐     ┌───┐\n",
       "qr_0: |0>┤ X ├──■──┤ X ├┤ X ├──■──┤ X ├\n",
       "         ├───┤  │  ├───┤└───┘┌─┴─┐└───┘\n",
       "qr_1: |0>┤ X ├──■──┤ X ├─────┤ X ├─────\n",
       "         └───┘┌─┴─┐└───┘     └─┬─┘     \n",
       "qr_2: |0>─────┤ X ├────────────■───────\n",
       "              └───┘                    </pre>"
      ],
      "text/plain": [
       "         ┌───┐     ┌───┐┌───┐     ┌───┐\n",
       "qr_0: |0>┤ X ├──■──┤ X ├┤ X ├──■──┤ X ├\n",
       "         ├───┤  │  ├───┤└───┘┌─┴─┐└───┘\n",
       "qr_1: |0>┤ X ├──■──┤ X ├─────┤ X ├─────\n",
       "         └───┘┌─┴─┐└───┘     └─┬─┘     \n",
       "qr_2: |0>─────┤ X ├────────────■───────\n",
       "              └───┘                    "
      ]
     },
     "execution_count": 31,
     "metadata": {},
     "output_type": "execute_result"
    }
   ],
   "source": [
    "qr = QuantumRegister(3, 'qr')\n",
    "circ = QuantumCircuit(qr)\n",
    "# First Level \n",
    "circ.x(0)\n",
    "circ.x(1)\n",
    "circ.ccx(0, 1, 2)\n",
    "circ.x(0)\n",
    "circ.x(1)\n",
    "\n",
    "# Second Level\n",
    "circ.x(0)\n",
    "circ.ccx(0, 2, 1)\n",
    "circ.x(0)\n",
    "\n",
    "\"\"\"\n",
    "# Third Level\n",
    "circ = add_ccrx(circ, np.pi/4, qr[2], qr[1], qr[0])\n",
    "\n",
    "# Fourth Level\n",
    "circ.x(0)\n",
    "circ.ccx(0, 2, 1)\n",
    "circ.x(0)\n",
    "\n",
    "# Fifth Level \n",
    "circ.x(0)\n",
    "circ.x(1)\n",
    "circ.ccx(0, 1, 2)\n",
    "circ.x(0)\n",
    "circ.x(1)\n",
    "\"\"\"\n",
    "\n",
    "job = execute(circ, backend)\n",
    "trotterized_unitary = job.result().get_unitary(circ, decimals=3)\n",
    "print(trotterized_unitary)\n",
    "plt.matshow(np.abs(trotterized_unitary))\n",
    "plt.show()\n",
    "circ.draw()"
   ]
  },
  {
   "cell_type": "code",
   "execution_count": null,
   "metadata": {},
   "outputs": [],
   "source": []
  }
 ],
 "metadata": {
  "kernelspec": {
   "display_name": "Python 3",
   "language": "python",
   "name": "python3"
  },
  "language_info": {
   "codemirror_mode": {
    "name": "ipython",
    "version": 3
   },
   "file_extension": ".py",
   "mimetype": "text/x-python",
   "name": "python",
   "nbconvert_exporter": "python",
   "pygments_lexer": "ipython3",
   "version": "3.6.3"
  }
 },
 "nbformat": 4,
 "nbformat_minor": 2
}
